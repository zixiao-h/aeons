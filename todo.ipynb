{
 "cells": [
  {
   "attachments": {},
   "cell_type": "markdown",
   "metadata": {},
   "source": [
    "**TODO**\n",
    "- Convince myself that global minimum is found when doing covariance fit. Develop tools to do this; check in narrow range of $\\sigma$\n",
    "\n",
    "- Construct new data points from covariance matrix and mean, and see how well it matches the data as well as the inferred plots. Include uncertainty widths\n",
    "\n",
    "- Calculate L_inv (logX - mu), least squares minimisation of new vector\n",
    "\n",
    "- **Look into principle of maximum entropy. Reduce problem to case with few points.**\n",
    "\n",
    "- Figure out termination conditions for gaussian/correlated gaussian samples so that I can check the value of $X_\\text{end}$ I infer is correct. In correlated gaussian samples use condition based on KLD - how does this square with reaching threshold prior mass?\n"
   ]
  },
  {
   "attachments": {},
   "cell_type": "markdown",
   "metadata": {},
   "source": [
    "**Week 3**"
   ]
  },
  {
   "attachments": {},
   "cell_type": "markdown",
   "metadata": {},
   "source": [
    "**Week 2**\n",
    "\n",
    "Create functions for covariance/mean which depend on a general live point distribution\n",
    "\n",
    "Use both dead and live points using above live point distribution\n",
    "\n",
    "- Least-squares seems to fit better than correlated gaussian. Inverse covariance matrix seems to have very large mixing between neighbouring points.\n",
    "\n",
    "Visualise distribution of X in live points used\n",
    "\n",
    "Plot contours in $d$,  $\\sigma$ to show global minimum is found, given some bounds for the parameters\n",
    "\n",
    "Sliders to watch how logPr varies with the fitting"
   ]
  },
  {
   "cell_type": "markdown",
   "metadata": {},
   "source": []
  }
 ],
 "metadata": {
  "kernelspec": {
   "display_name": "Python 3.10.6 ('env')",
   "language": "python",
   "name": "python3"
  },
  "language_info": {
   "codemirror_mode": {
    "name": "ipython",
    "version": 3
   },
   "file_extension": ".py",
   "mimetype": "text/x-python",
   "name": "python",
   "nbconvert_exporter": "python",
   "pygments_lexer": "ipython3",
   "version": "3.10.6"
  },
  "orig_nbformat": 4,
  "vscode": {
   "interpreter": {
    "hash": "2b193e973c487348e53c3041550f70cb697f4f9d1473e92be26f2b6259e7d483"
   }
  }
 },
 "nbformat": 4,
 "nbformat_minor": 2
}
