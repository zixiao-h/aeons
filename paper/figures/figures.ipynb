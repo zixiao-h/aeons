{
 "cells": [
  {
   "cell_type": "code",
   "execution_count": 1,
   "metadata": {},
   "outputs": [],
   "source": [
    "import numpy as np\n",
    "import matplotlib.pyplot as plt\n",
    "from aeons.utils import *\n",
    "from aeons.regress import *\n",
    "from aeons.endpoint import *\n",
    "from aeons.plotting import *\n",
    "from aeons.beta import *\n",
    "figsettings()"
   ]
  },
  {
   "cell_type": "code",
   "execution_count": 8,
   "metadata": {},
   "outputs": [],
   "source": [
    "name, samples = get_samples('gauss_16')\n",
    "model = EndModel(samples)\n",
    "true_endpoint = model.true_endpoint()\n",
    "true_logXf = model.true_logXf()"
   ]
  },
  {
   "cell_type": "markdown",
   "metadata": {},
   "source": [
    "$\\log L = \\log L_\\mathrm{max} - \\frac{1}{2\\sigma^2} \\exp({\\frac{2}{d} \\log X}) $\n",
    "\n",
    "$ P(\\log X) = \\mathrm{const.}$\n",
    "\n",
    "$ P(\\log L) = P(\\log X) \\frac{\\mathrm{d} \\log X}{\\mathrm{d} \\log L} $"
   ]
  },
  {
   "cell_type": "code",
   "execution_count": 59,
   "metadata": {},
   "outputs": [],
   "source": [
    "ndead = 5000\n",
    "points = points_at_iteration(samples, ndead)\n",
    "logXdead = points.logX().iloc[:ndead]\n",
    "\n",
    "beta = 16/2 / (-points.logL.iloc[:ndead])"
   ]
  },
  {
   "cell_type": "code",
   "execution_count": 57,
   "metadata": {},
   "outputs": [
    {
     "data": {
      "text/plain": [
       "[<matplotlib.lines.Line2D at 0x7f8aeb6360b0>]"
      ]
     },
     "execution_count": 57,
     "metadata": {},
     "output_type": "execute_result"
    },
    {
     "data": {
      "image/png": "[encoded data removed]",
      "text/plain": [
       "<Figure size 400x200 with 1 Axes>"
      ]
     },
     "metadata": {},
     "output_type": "display_data"
    }
   ],
   "source": [
    "points.logL.drop_weights().plot.hist(bins=50)\n",
    "plt.plot(points.logL.iloc[:ndead], beta*40000)"
   ]
  },
  {
   "cell_type": "code",
   "execution_count": 69,
   "metadata": {},
   "outputs": [
    {
     "name": "stderr",
     "output_type": "stream",
     "text": [
      "/tmp/ipykernel_54281/2363009991.py:19: RuntimeWarning: divide by zero encountered in log\n",
      "  logpdf = logLall - logLmax + (d/2-1)*np.log(logLmax-logLall)\n",
      "/tmp/ipykernel_54281/2363009991.py:23: RuntimeWarning: divide by zero encountered in log\n",
      "  logpdf_live = (d/2-1) * np.log(logLmax - logLlive)\n"
     ]
    },
    {
     "data": {
      "text/plain": [
       "<matplotlib.collections.PolyCollection at 0x7f8aeb2ffdf0>"
      ]
     },
     "execution_count": 69,
     "metadata": {},
     "output_type": "execute_result"
    },
    {
     "data": {
      "image/png": "[encoded data removed]",
      "text/plain": [
       "<Figure size 400x200 with 1 Axes>"
      ]
     },
     "metadata": {},
     "output_type": "display_data"
    }
   ],
   "source": [
    "import matplotlib.pyplot as plt\n",
    "import numpy as np\n",
    "from matplotlib import rcParams\n",
    "from aeons.utils import figsettings\n",
    "\n",
    "figsettings()\n",
    "fig, ax = plt.subplots()\n",
    "\n",
    "logLmax = 0\n",
    "d = 30\n",
    "n = 1000\n",
    "avlogL = logLmax-d/2\n",
    "\n",
    "logLs = logLmax-d/2/np.e\n",
    "logLdead = np.linspace(logLmax-d/2-np.sqrt(d/2)*3.5, logLs, 1000)\n",
    "logLlive = np.linspace(logLs,0,1000)\n",
    "logLall = np.concatenate([logLdead, logLlive])\n",
    "\n",
    "logpdf = logLall - logLmax + (d/2-1)*np.log(logLmax-logLall)\n",
    "logpdf -= np.max(logpdf)\n",
    "ax.fill(logLall, np.exp(logpdf), color='gray', alpha=.4, label='Posterior')\n",
    "\n",
    "logpdf_live = (d/2-1) * np.log(logLmax - logLlive)\n",
    "logpdf_live -= np.max(logpdf_live)\n",
    "ax.fill_between(logLlive, 0, np.exp(logpdf_live), color='deepskyblue', alpha=0.5, label='Live points')\n",
    "\n",
    "logpdf_dead = d/2 / (-logLdead) \n",
    "logpdf_dead -= np.max(logpdf_dead)\n",
    "ax.fill_between(logLdead, 0, .7*np.exp(logpdf_dead), color='deepskyblue', alpha=0.5, label='Dead points')"
   ]
  },
  {
   "cell_type": "code",
   "execution_count": 71,
   "metadata": {},
   "outputs": [
    {
     "data": {
      "text/plain": [
       "array([-28.55544171, -28.5323814 , -28.50932109, -28.48626078,\n",
       "       -28.46320047, -28.44014016, -28.41707985, -28.39401954,\n",
       "       -28.37095923, -28.34789892, -28.32483861, -28.3017783 ,\n",
       "       -28.27871799, -28.25565768, -28.23259737, -28.20953706,\n",
       "       -28.18647675, -28.16341643, -28.14035612, -28.11729581,\n",
       "       -28.0942355 , -28.07117519, -28.04811488, -28.02505457,\n",
       "       -28.00199426, -27.97893395, -27.95587364, -27.93281333,\n",
       "       -27.90975302, -27.88669271, -27.8636324 , -27.84057209,\n",
       "       -27.81751178, -27.79445147, -27.77139116, -27.74833085,\n",
       "       -27.72527054, -27.70221023, -27.67914992, -27.65608961,\n",
       "       -27.6330293 , -27.60996899, -27.58690867, -27.56384836,\n",
       "       -27.54078805, -27.51772774, -27.49466743, -27.47160712,\n",
       "       -27.44854681, -27.4254865 , -27.40242619, -27.37936588,\n",
       "       -27.35630557, -27.33324526, -27.31018495, -27.28712464,\n",
       "       -27.26406433, -27.24100402, -27.21794371, -27.1948834 ,\n",
       "       -27.17182309, -27.14876278, -27.12570247, -27.10264216,\n",
       "       -27.07958185, -27.05652154, -27.03346123, -27.01040091,\n",
       "       -26.9873406 , -26.96428029, -26.94121998, -26.91815967,\n",
       "       -26.89509936, -26.87203905, -26.84897874, -26.82591843,\n",
       "       -26.80285812, -26.77979781, -26.7567375 , -26.73367719,\n",
       "       -26.71061688, -26.68755657, -26.66449626, -26.64143595,\n",
       "       -26.61837564, -26.59531533, -26.57225502, -26.54919471,\n",
       "       -26.5261344 , -26.50307409, -26.48001378, -26.45695346,\n",
       "       -26.43389315, -26.41083284, -26.38777253, -26.36471222,\n",
       "       -26.34165191, -26.3185916 , -26.29553129, -26.27247098,\n",
       "       -26.24941067, -26.22635036, -26.20329005, -26.18022974,\n",
       "       -26.15716943, -26.13410912, -26.11104881, -26.0879885 ,\n",
       "       -26.06492819, -26.04186788, -26.01880757, -25.99574726,\n",
       "       -25.97268695, -25.94962664, -25.92656633, -25.90350602,\n",
       "       -25.8804457 , -25.85738539, -25.83432508, -25.81126477,\n",
       "       -25.78820446, -25.76514415, -25.74208384, -25.71902353,\n",
       "       -25.69596322, -25.67290291, -25.6498426 , -25.62678229,\n",
       "       -25.60372198, -25.58066167, -25.55760136, -25.53454105,\n",
       "       -25.51148074, -25.48842043, -25.46536012, -25.44229981,\n",
       "       -25.4192395 , -25.39617919, -25.37311888, -25.35005857,\n",
       "       -25.32699826, -25.30393794, -25.28087763, -25.25781732,\n",
       "       -25.23475701, -25.2116967 , -25.18863639, -25.16557608,\n",
       "       -25.14251577, -25.11945546, -25.09639515, -25.07333484,\n",
       "       -25.05027453, -25.02721422, -25.00415391, -24.9810936 ,\n",
       "       -24.95803329, -24.93497298, -24.91191267, -24.88885236,\n",
       "       -24.86579205, -24.84273174, -24.81967143, -24.79661112,\n",
       "       -24.77355081, -24.75049049, -24.72743018, -24.70436987,\n",
       "       -24.68130956, -24.65824925, -24.63518894, -24.61212863,\n",
       "       -24.58906832, -24.56600801, -24.5429477 , -24.51988739,\n",
       "       -24.49682708, -24.47376677, -24.45070646, -24.42764615,\n",
       "       -24.40458584, -24.38152553, -24.35846522, -24.33540491,\n",
       "       -24.3123446 , -24.28928429, -24.26622398, -24.24316367,\n",
       "       -24.22010336, -24.19704305, -24.17398273, -24.15092242,\n",
       "       -24.12786211, -24.1048018 , -24.08174149, -24.05868118,\n",
       "       -24.03562087, -24.01256056, -23.98950025, -23.96643994,\n",
       "       -23.94337963, -23.92031932, -23.89725901, -23.8741987 ,\n",
       "       -23.85113839, -23.82807808, -23.80501777, -23.78195746,\n",
       "       -23.75889715, -23.73583684, -23.71277653, -23.68971622,\n",
       "       -23.66665591, -23.6435956 , -23.62053529, -23.59747497,\n",
       "       -23.57441466, -23.55135435, -23.52829404, -23.50523373,\n",
       "       -23.48217342, -23.45911311, -23.4360528 , -23.41299249,\n",
       "       -23.38993218, -23.36687187, -23.34381156, -23.32075125,\n",
       "       -23.29769094, -23.27463063, -23.25157032, -23.22851001,\n",
       "       -23.2054497 , -23.18238939, -23.15932908, -23.13626877,\n",
       "       -23.11320846, -23.09014815, -23.06708784, -23.04402753,\n",
       "       -23.02096721, -22.9979069 , -22.97484659, -22.95178628,\n",
       "       -22.92872597, -22.90566566, -22.88260535, -22.85954504,\n",
       "       -22.83648473, -22.81342442, -22.79036411, -22.7673038 ,\n",
       "       -22.74424349, -22.72118318, -22.69812287, -22.67506256,\n",
       "       -22.65200225, -22.62894194, -22.60588163, -22.58282132,\n",
       "       -22.55976101, -22.5367007 , -22.51364039, -22.49058008,\n",
       "       -22.46751976, -22.44445945, -22.42139914, -22.39833883,\n",
       "       -22.37527852, -22.35221821, -22.3291579 , -22.30609759,\n",
       "       -22.28303728, -22.25997697, -22.23691666, -22.21385635,\n",
       "       -22.19079604, -22.16773573, -22.14467542, -22.12161511,\n",
       "       -22.0985548 , -22.07549449, -22.05243418, -22.02937387,\n",
       "       -22.00631356, -21.98325325, -21.96019294, -21.93713263,\n",
       "       -21.91407232, -21.891012  , -21.86795169, -21.84489138,\n",
       "       -21.82183107, -21.79877076, -21.77571045, -21.75265014,\n",
       "       -21.72958983, -21.70652952, -21.68346921, -21.6604089 ,\n",
       "       -21.63734859, -21.61428828, -21.59122797, -21.56816766,\n",
       "       -21.54510735, -21.52204704, -21.49898673, -21.47592642,\n",
       "       -21.45286611, -21.4298058 , -21.40674549, -21.38368518,\n",
       "       -21.36062487, -21.33756456, -21.31450424, -21.29144393,\n",
       "       -21.26838362, -21.24532331, -21.222263  , -21.19920269,\n",
       "       -21.17614238, -21.15308207, -21.13002176, -21.10696145,\n",
       "       -21.08390114, -21.06084083, -21.03778052, -21.01472021,\n",
       "       -20.9916599 , -20.96859959, -20.94553928, -20.92247897,\n",
       "       -20.89941866, -20.87635835, -20.85329804, -20.83023773,\n",
       "       -20.80717742, -20.78411711, -20.76105679, -20.73799648,\n",
       "       -20.71493617, -20.69187586, -20.66881555, -20.64575524,\n",
       "       -20.62269493, -20.59963462, -20.57657431, -20.553514  ,\n",
       "       -20.53045369, -20.50739338, -20.48433307, -20.46127276,\n",
       "       -20.43821245, -20.41515214, -20.39209183, -20.36903152,\n",
       "       -20.34597121, -20.3229109 , -20.29985059, -20.27679028,\n",
       "       -20.25372997, -20.23066966, -20.20760935, -20.18454903,\n",
       "       -20.16148872, -20.13842841, -20.1153681 , -20.09230779,\n",
       "       -20.06924748, -20.04618717, -20.02312686, -20.00006655,\n",
       "       -19.97700624, -19.95394593, -19.93088562, -19.90782531,\n",
       "       -19.884765  , -19.86170469, -19.83864438, -19.81558407,\n",
       "       -19.79252376, -19.76946345, -19.74640314, -19.72334283,\n",
       "       -19.70028252, -19.67722221, -19.6541619 , -19.63110159,\n",
       "       -19.60804127, -19.58498096, -19.56192065, -19.53886034,\n",
       "       -19.51580003, -19.49273972, -19.46967941, -19.4466191 ,\n",
       "       -19.42355879, -19.40049848, -19.37743817, -19.35437786,\n",
       "       -19.33131755, -19.30825724, -19.28519693, -19.26213662,\n",
       "       -19.23907631, -19.216016  , -19.19295569, -19.16989538,\n",
       "       -19.14683507, -19.12377476, -19.10071445, -19.07765414,\n",
       "       -19.05459383, -19.03153351, -19.0084732 , -18.98541289,\n",
       "       -18.96235258, -18.93929227, -18.91623196, -18.89317165,\n",
       "       -18.87011134, -18.84705103, -18.82399072, -18.80093041,\n",
       "       -18.7778701 , -18.75480979, -18.73174948, -18.70868917,\n",
       "       -18.68562886, -18.66256855, -18.63950824, -18.61644793,\n",
       "       -18.59338762, -18.57032731, -18.547267  , -18.52420669,\n",
       "       -18.50114638, -18.47808606, -18.45502575, -18.43196544,\n",
       "       -18.40890513, -18.38584482, -18.36278451, -18.3397242 ,\n",
       "       -18.31666389, -18.29360358, -18.27054327, -18.24748296,\n",
       "       -18.22442265, -18.20136234, -18.17830203, -18.15524172,\n",
       "       -18.13218141, -18.1091211 , -18.08606079, -18.06300048,\n",
       "       -18.03994017, -18.01687986, -17.99381955, -17.97075924,\n",
       "       -17.94769893, -17.92463862, -17.9015783 , -17.87851799,\n",
       "       -17.85545768, -17.83239737, -17.80933706, -17.78627675,\n",
       "       -17.76321644, -17.74015613, -17.71709582, -17.69403551,\n",
       "       -17.6709752 , -17.64791489, -17.62485458, -17.60179427,\n",
       "       -17.57873396, -17.55567365, -17.53261334, -17.50955303,\n",
       "       -17.48649272, -17.46343241, -17.4403721 , -17.41731179,\n",
       "       -17.39425148, -17.37119117, -17.34813086, -17.32507054,\n",
       "       -17.30201023, -17.27894992, -17.25588961, -17.2328293 ,\n",
       "       -17.20976899, -17.18670868, -17.16364837, -17.14058806,\n",
       "       -17.11752775, -17.09446744, -17.07140713, -17.04834682,\n",
       "       -17.02528651, -17.0022262 , -16.97916589, -16.95610558,\n",
       "       -16.93304527, -16.90998496, -16.88692465, -16.86386434,\n",
       "       -16.84080403, -16.81774372, -16.79468341, -16.77162309,\n",
       "       -16.74856278, -16.72550247, -16.70244216, -16.67938185,\n",
       "       -16.65632154, -16.63326123, -16.61020092, -16.58714061,\n",
       "       -16.5640803 , -16.54101999, -16.51795968, -16.49489937,\n",
       "       -16.47183906, -16.44877875, -16.42571844, -16.40265813,\n",
       "       -16.37959782, -16.35653751, -16.3334772 , -16.31041689,\n",
       "       -16.28735658, -16.26429627, -16.24123596, -16.21817565,\n",
       "       -16.19511533, -16.17205502, -16.14899471, -16.1259344 ,\n",
       "       -16.10287409, -16.07981378, -16.05675347, -16.03369316,\n",
       "       -16.01063285, -15.98757254, -15.96451223, -15.94145192,\n",
       "       -15.91839161, -15.8953313 , -15.87227099, -15.84921068,\n",
       "       -15.82615037, -15.80309006, -15.78002975, -15.75696944,\n",
       "       -15.73390913, -15.71084882, -15.68778851, -15.6647282 ,\n",
       "       -15.64166789, -15.61860757, -15.59554726, -15.57248695,\n",
       "       -15.54942664, -15.52636633, -15.50330602, -15.48024571,\n",
       "       -15.4571854 , -15.43412509, -15.41106478, -15.38800447,\n",
       "       -15.36494416, -15.34188385, -15.31882354, -15.29576323,\n",
       "       -15.27270292, -15.24964261, -15.2265823 , -15.20352199,\n",
       "       -15.18046168, -15.15740137, -15.13434106, -15.11128075,\n",
       "       -15.08822044, -15.06516013, -15.04209981, -15.0190395 ,\n",
       "       -14.99597919, -14.97291888, -14.94985857, -14.92679826,\n",
       "       -14.90373795, -14.88067764, -14.85761733, -14.83455702,\n",
       "       -14.81149671, -14.7884364 , -14.76537609, -14.74231578,\n",
       "       -14.71925547, -14.69619516, -14.67313485, -14.65007454,\n",
       "       -14.62701423, -14.60395392, -14.58089361, -14.5578333 ,\n",
       "       -14.53477299, -14.51171268, -14.48865236, -14.46559205,\n",
       "       -14.44253174, -14.41947143, -14.39641112, -14.37335081,\n",
       "       -14.3502905 , -14.32723019, -14.30416988, -14.28110957,\n",
       "       -14.25804926, -14.23498895, -14.21192864, -14.18886833,\n",
       "       -14.16580802, -14.14274771, -14.1196874 , -14.09662709,\n",
       "       -14.07356678, -14.05050647, -14.02744616, -14.00438585,\n",
       "       -13.98132554, -13.95826523, -13.93520492, -13.9121446 ,\n",
       "       -13.88908429, -13.86602398, -13.84296367, -13.81990336,\n",
       "       -13.79684305, -13.77378274, -13.75072243, -13.72766212,\n",
       "       -13.70460181, -13.6815415 , -13.65848119, -13.63542088,\n",
       "       -13.61236057, -13.58930026, -13.56623995, -13.54317964,\n",
       "       -13.52011933, -13.49705902, -13.47399871, -13.4509384 ,\n",
       "       -13.42787809, -13.40481778, -13.38175747, -13.35869716,\n",
       "       -13.33563684, -13.31257653, -13.28951622, -13.26645591,\n",
       "       -13.2433956 , -13.22033529, -13.19727498, -13.17421467,\n",
       "       -13.15115436, -13.12809405, -13.10503374, -13.08197343,\n",
       "       -13.05891312, -13.03585281, -13.0127925 , -12.98973219,\n",
       "       -12.96667188, -12.94361157, -12.92055126, -12.89749095,\n",
       "       -12.87443064, -12.85137033, -12.82831002, -12.80524971,\n",
       "       -12.7821894 , -12.75912908, -12.73606877, -12.71300846,\n",
       "       -12.68994815, -12.66688784, -12.64382753, -12.62076722,\n",
       "       -12.59770691, -12.5746466 , -12.55158629, -12.52852598,\n",
       "       -12.50546567, -12.48240536, -12.45934505, -12.43628474,\n",
       "       -12.41322443, -12.39016412, -12.36710381, -12.3440435 ,\n",
       "       -12.32098319, -12.29792288, -12.27486257, -12.25180226,\n",
       "       -12.22874195, -12.20568163, -12.18262132, -12.15956101,\n",
       "       -12.1365007 , -12.11344039, -12.09038008, -12.06731977,\n",
       "       -12.04425946, -12.02119915, -11.99813884, -11.97507853,\n",
       "       -11.95201822, -11.92895791, -11.9058976 , -11.88283729,\n",
       "       -11.85977698, -11.83671667, -11.81365636, -11.79059605,\n",
       "       -11.76753574, -11.74447543, -11.72141512, -11.69835481,\n",
       "       -11.6752945 , -11.65223419, -11.62917387, -11.60611356,\n",
       "       -11.58305325, -11.55999294, -11.53693263, -11.51387232,\n",
       "       -11.49081201, -11.4677517 , -11.44469139, -11.42163108,\n",
       "       -11.39857077, -11.37551046, -11.35245015, -11.32938984,\n",
       "       -11.30632953, -11.28326922, -11.26020891, -11.2371486 ,\n",
       "       -11.21408829, -11.19102798, -11.16796767, -11.14490736,\n",
       "       -11.12184705, -11.09878674, -11.07572643, -11.05266611,\n",
       "       -11.0296058 , -11.00654549, -10.98348518, -10.96042487,\n",
       "       -10.93736456, -10.91430425, -10.89124394, -10.86818363,\n",
       "       -10.84512332, -10.82206301, -10.7990027 , -10.77594239,\n",
       "       -10.75288208, -10.72982177, -10.70676146, -10.68370115,\n",
       "       -10.66064084, -10.63758053, -10.61452022, -10.59145991,\n",
       "       -10.5683996 , -10.54533929, -10.52227898, -10.49921866,\n",
       "       -10.47615835, -10.45309804, -10.43003773, -10.40697742,\n",
       "       -10.38391711, -10.3608568 , -10.33779649, -10.31473618,\n",
       "       -10.29167587, -10.26861556, -10.24555525, -10.22249494,\n",
       "       -10.19943463, -10.17637432, -10.15331401, -10.1302537 ,\n",
       "       -10.10719339, -10.08413308, -10.06107277, -10.03801246,\n",
       "       -10.01495215,  -9.99189184,  -9.96883153,  -9.94577122,\n",
       "        -9.9227109 ,  -9.89965059,  -9.87659028,  -9.85352997,\n",
       "        -9.83046966,  -9.80740935,  -9.78434904,  -9.76128873,\n",
       "        -9.73822842,  -9.71516811,  -9.6921078 ,  -9.66904749,\n",
       "        -9.64598718,  -9.62292687,  -9.59986656,  -9.57680625,\n",
       "        -9.55374594,  -9.53068563,  -9.50762532,  -9.48456501,\n",
       "        -9.4615047 ,  -9.43844439,  -9.41538408,  -9.39232377,\n",
       "        -9.36926346,  -9.34620314,  -9.32314283,  -9.30008252,\n",
       "        -9.27702221,  -9.2539619 ,  -9.23090159,  -9.20784128,\n",
       "        -9.18478097,  -9.16172066,  -9.13866035,  -9.11560004,\n",
       "        -9.09253973,  -9.06947942,  -9.04641911,  -9.0233588 ,\n",
       "        -9.00029849,  -8.97723818,  -8.95417787,  -8.93111756,\n",
       "        -8.90805725,  -8.88499694,  -8.86193663,  -8.83887632,\n",
       "        -8.81581601,  -8.7927557 ,  -8.76969538,  -8.74663507,\n",
       "        -8.72357476,  -8.70051445,  -8.67745414,  -8.65439383,\n",
       "        -8.63133352,  -8.60827321,  -8.5852129 ,  -8.56215259,\n",
       "        -8.53909228,  -8.51603197,  -8.49297166,  -8.46991135,\n",
       "        -8.44685104,  -8.42379073,  -8.40073042,  -8.37767011,\n",
       "        -8.3546098 ,  -8.33154949,  -8.30848918,  -8.28542887,\n",
       "        -8.26236856,  -8.23930825,  -8.21624793,  -8.19318762,\n",
       "        -8.17012731,  -8.147067  ,  -8.12400669,  -8.10094638,\n",
       "        -8.07788607,  -8.05482576,  -8.03176545,  -8.00870514,\n",
       "        -7.98564483,  -7.96258452,  -7.93952421,  -7.9164639 ,\n",
       "        -7.89340359,  -7.87034328,  -7.84728297,  -7.82422266,\n",
       "        -7.80116235,  -7.77810204,  -7.75504173,  -7.73198142,\n",
       "        -7.70892111,  -7.6858608 ,  -7.66280049,  -7.63974017,\n",
       "        -7.61667986,  -7.59361955,  -7.57055924,  -7.54749893,\n",
       "        -7.52443862,  -7.50137831,  -7.478318  ,  -7.45525769,\n",
       "        -7.43219738,  -7.40913707,  -7.38607676,  -7.36301645,\n",
       "        -7.33995614,  -7.31689583,  -7.29383552,  -7.27077521,\n",
       "        -7.2477149 ,  -7.22465459,  -7.20159428,  -7.17853397,\n",
       "        -7.15547366,  -7.13241335,  -7.10935304,  -7.08629273,\n",
       "        -7.06323241,  -7.0401721 ,  -7.01711179,  -6.99405148,\n",
       "        -6.97099117,  -6.94793086,  -6.92487055,  -6.90181024,\n",
       "        -6.87874993,  -6.85568962,  -6.83262931,  -6.809569  ,\n",
       "        -6.78650869,  -6.76344838,  -6.74038807,  -6.71732776,\n",
       "        -6.69426745,  -6.67120714,  -6.64814683,  -6.62508652,\n",
       "        -6.60202621,  -6.5789659 ,  -6.55590559,  -6.53284528,\n",
       "        -6.50978496,  -6.48672465,  -6.46366434,  -6.44060403,\n",
       "        -6.41754372,  -6.39448341,  -6.3714231 ,  -6.34836279,\n",
       "        -6.32530248,  -6.30224217,  -6.27918186,  -6.25612155,\n",
       "        -6.23306124,  -6.21000093,  -6.18694062,  -6.16388031,\n",
       "        -6.14082   ,  -6.11775969,  -6.09469938,  -6.07163907,\n",
       "        -6.04857876,  -6.02551845,  -6.00245814,  -5.97939783,\n",
       "        -5.95633752,  -5.9332772 ,  -5.91021689,  -5.88715658,\n",
       "        -5.86409627,  -5.84103596,  -5.81797565,  -5.79491534,\n",
       "        -5.77185503,  -5.74879472,  -5.72573441,  -5.7026741 ,\n",
       "        -5.67961379,  -5.65655348,  -5.63349317,  -5.61043286,\n",
       "        -5.58737255,  -5.56431224,  -5.54125193,  -5.51819162])"
      ]
     },
     "execution_count": 71,
     "metadata": {},
     "output_type": "execute_result"
    }
   ],
   "source": [
    "logLdead"
   ]
  },
  {
   "cell_type": "code",
   "execution_count": 2,
   "metadata": {},
   "outputs": [],
   "source": [
    "from aeons.toy_samples import gaussian_samples\n",
    "samples = gaussian_samples(1000, 16, 0.01)"
   ]
  },
  {
   "cell_type": "code",
   "execution_count": 153,
   "metadata": {},
   "outputs": [],
   "source": [
    "name, samples = get_samples('correlated_3d')"
   ]
  },
  {
   "cell_type": "code",
   "execution_count": 154,
   "metadata": {},
   "outputs": [],
   "source": [
    "iterations, *logXfs = read_from_txt(f'{data_dir}/logXfs/post/{name}.txt')\n",
    "logXfs = np.array(logXfs)\n",
    "true_endpoint = endpoints[name]\n",
    "true_logXf = samples.logX().iloc[true_endpoint]"
   ]
  },
  {
   "cell_type": "code",
   "execution_count": null,
   "metadata": {},
   "outputs": [],
   "source": [
    "nlive = 100\n",
    "samples = planck_gaussian(nlive)"
   ]
  },
  {
   "cell_type": "code",
   "execution_count": 64,
   "metadata": {},
   "outputs": [
    {
     "data": {
      "image/png": "[encoded data removed]",
      "text/plain": [
       "<Figure size 700x200 with 5 Axes>"
      ]
     },
     "metadata": {},
     "output_type": "display_data"
    }
   ],
   "source": [
    "# import lecture_style\n",
    "from anesthetic.examples.perfect_ns import planck_gaussian\n",
    "import matplotlib.pyplot as plt\n",
    "from matplotlib.patches import Rectangle\n",
    "from matplotlib.lines import Line2D\n",
    "import numpy as np\n",
    "from matplotlib import patheffects, rcParams\n",
    "rcParams['path.effects'] = [patheffects.withStroke(linewidth=1, foreground='white')]\n",
    "\n",
    "x = 'omegabh2'\n",
    "y = 'omegach2'\n",
    "\n",
    "fig, axes = plt.subplots(1,4, figsize=(7,2))\n",
    "\n",
    "for ax in axes:\n",
    "    ax.set_xticks([])\n",
    "    ax.set_yticks([])\n",
    "    ax.set_box_aspect(1)\n",
    "    ax.scatter(samples[x], samples[y], s=.2)\n",
    "    # ax.set_rasterization_zorder(2)\n",
    "\n",
    "axes[0].get_children()[-1].get_zorder()\n",
    "axes[0].set_zorder(10)\n",
    "axes[0].get_children()[-1].get_zorder()\n",
    "\n",
    "def get_box(i):\n",
    "    live = samples.live_points(i)\n",
    "    xmin = live[x].min()\n",
    "    xmax = live[x].max()\n",
    "    ymin = live[y].min()\n",
    "    ymax = live[y].max()\n",
    "    return xmin, xmax, ymin, ymax\n",
    "\n",
    "def inter_axis_line(fig, ax0, ax1, x, y, *args, **kwargs):\n",
    "    coord0 = fig.transFigure.inverted().transform(ax0.transData.transform([x, y]))\n",
    "    coord1 = fig.transFigure.inverted().transform(ax1.transData.transform([x, y]))\n",
    "    return Line2D([coord0[0], coord1[0]], [coord0[1], coord1[1]], transform=fig.transFigure,*args, **kwargs)\n",
    "\n",
    "def draw_zoom_lines(ax0, ax1, xmin, xmax, ymin, ymax):\n",
    "    ax1.set_xlim(xmin, xmax)\n",
    "    ax1.set_ylim(ymin, ymax)\n",
    "    zorder = max([child.get_zorder() for child in ax0.get_children()] +\n",
    "                 [ax0.get_zorder()])\n",
    "    ax1.set_zorder(zorder+2)\n",
    "    lines = list(fig.lines)\n",
    "    for x_ in [xmin, xmax]:\n",
    "        for y_ in [ymin, ymax]:\n",
    "            lines.append(inter_axis_line(fig, ax0, ax1, x_, y_, color='k',\n",
    "                                         zorder=zorder+1,\n",
    "                                         lw=rcParams['axes.linewidth']))\n",
    "    rect = Rectangle((xmin, ymin), xmax-xmin, ymax-ymin, fill=False, color='k',\n",
    "                     zorder=zorder+1, lw=rcParams['axes.linewidth'])\n",
    "    ax0.add_patch(rect)\n",
    "    fig.lines = lines\n",
    "\n",
    "\n",
    "fig.tight_layout()\n",
    "fig.canvas.draw()\n",
    "fig.canvas.flush_events()\n",
    "shift = 0.065\n",
    "\n",
    "pos = axes[1].get_position()\n",
    "pos.x0 -= shift\n",
    "pos.x1 -= shift\n",
    "pos.y0 -= shift\n",
    "pos.y1 -= shift\n",
    "axes[1].set_position(pos)\n",
    "\n",
    "pos = axes[2].get_position()\n",
    "pos.x0 -= shift*2\n",
    "pos.x1 -= shift*2\n",
    "axes[2].set_position(pos)\n",
    "\n",
    "pos = axes[3].get_position()\n",
    "pos.x0 -= shift*3\n",
    "pos.x1 -= shift*3\n",
    "pos.y0 -= shift\n",
    "pos.y1 -= shift\n",
    "axes[3].set_position(pos)\n",
    "\n",
    "ax = fig.add_subplot(1,4,4)\n",
    "ax.set_box_aspect(1)\n",
    "ax.set_xticks([])\n",
    "ax.set_yticks([])\n",
    "ax.scatter(samples[x], samples[y], s=0.2)\n",
    "axes = np.concatenate([axes, [ax]])\n",
    "\n",
    "fig.canvas.draw()\n",
    "fig.canvas.flush_events()\n",
    "plot_live_points = False\n",
    "\n",
    "for k, (i, ax0, ax1) in enumerate(zip(range(nlive*20, nlive*100, nlive*20), axes[:-1], axes[1:])):\n",
    "    draw_zoom_lines(ax0, ax1, *get_box(i))\n",
    "\n",
    "fig.canvas.draw()\n",
    "fig.canvas.flush_events()"
   ]
  },
  {
   "cell_type": "code",
   "execution_count": 65,
   "metadata": {},
   "outputs": [],
   "source": [
    "from anesthetic.examples.perfect_ns import planck_gaussian\n",
    "samples = planck_gaussian(100)"
   ]
  },
  {
   "cell_type": "code",
   "execution_count": 66,
   "metadata": {},
   "outputs": [],
   "source": [
    "save_samples('planck_gaussian_100', samples)"
   ]
  },
  {
   "cell_type": "code",
   "execution_count": 62,
   "metadata": {},
   "outputs": [
    {
     "data": {
      "image/png": "[encoded data removed]",
      "text/plain": [
       "<Figure size 300x300 with 1 Axes>"
      ]
     },
     "metadata": {},
     "output_type": "display_data"
    }
   ],
   "source": [
    "fig, ax = plt.subplots(1,1, figsize=(3,3))\n",
    "ax.set_box_aspect(1)\n",
    "ax.set_xticks([])\n",
    "ax.set_yticks([])\n",
    "ax.scatter(samples[x], samples[y], s=.5)\n",
    "ax.set_rasterization_zorder(2)"
   ]
  },
  {
   "cell_type": "code",
   "execution_count": 37,
   "metadata": {},
   "outputs": [
    {
     "data": {
      "text/plain": [
       "<matplotlib.lines.Line2D at 0x7f2e8b321480>"
      ]
     },
     "execution_count": 37,
     "metadata": {},
     "output_type": "execute_result"
    }
   ],
   "source": [
    "ax.get_children()[0]"
   ]
  },
  {
   "cell_type": "code",
   "execution_count": 29,
   "metadata": {},
   "outputs": [
    {
     "data": {
      "text/plain": [
       "2"
      ]
     },
     "execution_count": 29,
     "metadata": {},
     "output_type": "execute_result"
    }
   ],
   "source": [
    "axes[0].get_children()[0]"
   ]
  },
  {
   "cell_type": "code",
   "execution_count": 14,
   "metadata": {},
   "outputs": [
    {
     "data": {
      "text/plain": [
       "<Axes: xlabel='omegabh2', ylabel='omegach2'>"
      ]
     },
     "execution_count": 14,
     "metadata": {},
     "output_type": "execute_result"
    },
    {
     "data": {
      "image/png": "[encoded data removed]",
      "text/plain": [
       "<Figure size 700x200 with 5 Axes>"
      ]
     },
     "metadata": {},
     "output_type": "display_data"
    }
   ],
   "source": [
    "fig, axes = plt.subplots(1,4, figsize=(7,2))\n",
    "for ax in axes:\n",
    "    ax.set_xticks([])\n",
    "    ax.set_yticks([])\n",
    "    ax.set_box_aspect(1)\n",
    "\n",
    "axes[0].get_children()[-1].get_zorder()\n",
    "axes[0].set_zorder(10)\n",
    "axes[0].get_children()[-1].get_zorder()\n",
    "\n",
    "fig.tight_layout()\n",
    "fig.canvas.draw()\n",
    "fig.canvas.flush_events()\n",
    "shift = 0.065\n",
    "\n",
    "pos = axes[1].get_position()\n",
    "pos.x0 -= shift\n",
    "pos.x1 -= shift\n",
    "pos.y0 -= shift\n",
    "pos.y1 -= shift\n",
    "axes[1].set_position(pos)\n",
    "\n",
    "pos = axes[2].get_position()\n",
    "pos.x0 -= shift*2\n",
    "pos.x1 -= shift*2\n",
    "axes[2].set_position(pos)\n",
    "\n",
    "pos = axes[3].get_position()\n",
    "pos.x0 -= shift*3\n",
    "pos.x1 -= shift*3\n",
    "pos.y0 -= shift\n",
    "pos.y1 -= shift\n",
    "axes[3].set_position(pos)\n",
    "\n",
    "ax = fig.add_subplot(1,4,4)\n",
    "ax.set_box_aspect(1)\n",
    "ax.set_xticks([])\n",
    "ax.set_yticks([])\n",
    "axes = np.concatenate([axes, [ax]])\n",
    "\n"
   ]
  }
 ],
 "metadata": {
  "kernelspec": {
   "display_name": "env",
   "language": "python",
   "name": "python3"
  },
  "language_info": {
   "codemirror_mode": {
    "name": "ipython",
    "version": 3
   },
   "file_extension": ".py",
   "mimetype": "text/x-python",
   "name": "python",
   "nbconvert_exporter": "python",
   "pygments_lexer": "ipython3",
   "version": "3.10.12"
  },
  "orig_nbformat": 4
 },
 "nbformat": 4,
 "nbformat_minor": 2
}
