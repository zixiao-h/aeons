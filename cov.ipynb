{
 "cells": [
  {
   "cell_type": "code",
   "execution_count": 1,
   "metadata": {},
   "outputs": [],
   "source": [
    "import numpy as np\n",
    "import matplotlib.pyplot as plt\n",
    "from tools import pickle_in\n",
    "import warnings\n",
    "warnings.filterwarnings(\"ignore\", category=FutureWarning)\n",
    "\n",
    "# Load test samples\n",
    "samples_g_1, samples_c_1, samples_w_1 = pickle_in(\"test_samples/samples_1.pickle\")\n",
    "samples_g_2, samples_c_2, samples_w_2 = pickle_in(\"test_samples/samples_low_var.pickle\")\n",
    "samples_g_3, samples_c_3, samples_w_3 = pickle_in(\"test_samples/samples_high_dim.pickle\")\n",
    "\n",
    "from covariance import logPr, logX_cov, logX_mean, logX_model"
   ]
  },
  {
   "attachments": {},
   "cell_type": "markdown",
   "metadata": {},
   "source": [
    "`covariance.py` contains the necessary functions for this approach  \n",
    "`logX_mean(samples, iteration)`\n",
    "returns vector $\\bm{\\mu}$ at iteration $k$\\, where $\\bm{\\mu}$ is the expected value of $X$ at the $n_{live}$ iterations\n",
    "$$\\bm{\\mu}=(E[\\log X_\\text{live}^{(1)}],  \\cdots, E[\\log X_\\text{live}^{(n_{\\text{live}})}])$$\n",
    "`logX_cov(samples, iteration)` likewise returns the covariance matrix between the areas of the $n_\\text{live}$ points;\n",
    "$$\\bm{\\Sigma}(\\log X_i, \\log X_j)$$\n",
    "\n",
    "**TODO** Really want $\\Sigma^{-1}$, implent this using Cholesky\n",
    "\n",
    "`logPr(logX, mean, cov_inv)` returns probability of getting $\\log X$, given their expected values and covariance - this is what we want to optimise"
   ]
  },
  {
   "cell_type": "code",
   "execution_count": 2,
   "metadata": {},
   "outputs": [],
   "source": [
    "import numba as nb\n",
    "@nb.jit(nopython=True)\n",
    "def choleskyL_inv(nlive_list):\n",
    "    \"\"\"\n",
    "    Input: list of birth nlive associated with the live points at an iteration\n",
    "    Output: inverse of covariance matrix between the areas of the nlive points\n",
    "    \"\"\"\n",
    "    nlive = len(nlive_list)\n",
    "    L_ij_inv = np.zeros((nlive, nlive))\n",
    "    for i in range(nlive):\n",
    "        for j in range(nlive):\n",
    "            if i == j:\n",
    "                L_ij_inv[i][j] = nlive_list[j]\n",
    "            elif i == j + 1:\n",
    "                L_ij_inv[i][j] = -nlive_list[j+1]\n",
    "    return L_ij_inv"
   ]
  },
  {
   "cell_type": "code",
   "execution_count": 20,
   "metadata": {},
   "outputs": [
    {
     "name": "stdout",
     "output_type": "stream",
     "text": [
      "951 µs ± 55.7 µs per loop (mean ± std. dev. of 7 runs, 1,000 loops each)\n"
     ]
    }
   ],
   "source": [
    "nlive_list = np.arange(100)\n",
    "%timeit cholesky_inv(nlive_list)"
   ]
  },
  {
   "cell_type": "code",
   "execution_count": 43,
   "metadata": {},
   "outputs": [],
   "source": [
    "from scipy.optimize import minimize\n",
    "def optimise_pr(logL, mean, cov_inv, x0):\n",
    "    def func(theta):\n",
    "        logX = logX_model(logL, *theta)\n",
    "        return - logPr(logX, mean, cov_inv) # want to maximise probability <-> minimise negative\n",
    "    solution = minimize(func, x0, method=\"SLSQP\")\n",
    "    return solution"
   ]
  },
  {
   "cell_type": "code",
   "execution_count": 31,
   "metadata": {},
   "outputs": [],
   "source": [
    "def cg_params(samples, iteration):\n",
    "    \"\"\"Returns estimated parameters for a given iteration of the samples, using the correlated gaussian\n",
    "    model of the logX\"\"\"\n",
    "    live_points = samples.live_points(iteration)\n",
    "    logL = live_points.logL\n",
    "    mean = logX_mean(samples, iteration)\n",
    "    cov = logX_cov(samples, iteration)\n",
    "    cov_inv = np.linalg.inv(cov)\n",
    "    from analytic_lm import analytic_lm_params\n",
    "    x0 = analytic_lm_params(samples_g_1, iteration)\n",
    "    estimated_params = optimise_pr(logL, mean, cov_inv, x0).x\n",
    "    return estimated_params"
   ]
  },
  {
   "cell_type": "code",
   "execution_count": 32,
   "metadata": {},
   "outputs": [],
   "source": [
    "# Least squares implementation\n",
    "def optimise_pr_ls(logL, mean, x0):\n",
    "    def chisquared(theta):\n",
    "        logX = logX_model(logL, *theta)\n",
    "        chisquared = np.sum((logX - mean)**2)\n",
    "        return chisquared\n",
    "    solution = minimize(chisquared, x0, method=\"BFGS\")\n",
    "    return solution\n",
    "\n",
    "def chisquared(logL, mean, theta):\n",
    "    logX = logX_model(logL, *theta)\n",
    "    diff_squared = (logX - mean)**2\n",
    "    chisquared = np.sum(diff_squared)\n",
    "    return chisquared"
   ]
  },
  {
   "cell_type": "code",
   "execution_count": 49,
   "metadata": {},
   "outputs": [
    {
     "data": {
      "text/plain": [
       "array([[5001., 5001., 5001., ..., 5001., 5001., 5001.],\n",
       "       [5001., 5002., 5002., ..., 5002., 5002., 5002.],\n",
       "       [5001., 5002., 5003., ..., 5003., 5003., 5003.],\n",
       "       ...,\n",
       "       [5001., 5002., 5003., ..., 9245., 9245., 9245.],\n",
       "       [5001., 5002., 5003., ..., 9245., 9330., 9330.],\n",
       "       [5001., 5002., 5003., ..., 9245., 9330., 9979.]])"
      ]
     },
     "execution_count": 49,
     "metadata": {},
     "output_type": "execute_result"
    }
   ],
   "source": [
    "logX_cov(samples_c_1, 5000)"
   ]
  },
  {
   "cell_type": "code",
   "execution_count": 48,
   "metadata": {},
   "outputs": [
    {
     "data": {
      "text/plain": [
       "array([-0.19994646,  9.64136877,  0.09835947])"
      ]
     },
     "execution_count": 48,
     "metadata": {},
     "output_type": "execute_result"
    }
   ],
   "source": [
    "cg_params(samples_g_1, 5000)"
   ]
  },
  {
   "cell_type": "code",
   "execution_count": 33,
   "metadata": {},
   "outputs": [
    {
     "name": "stderr",
     "output_type": "stream",
     "text": [
      "/home/zixiao/Documents/III/aeons/venv/lib/python3.10/site-packages/anesthetic-2.0.0b12-py3.10.egg/anesthetic/labelled_pandas.py:21: UserWarning: Boolean Series key will be reindexed to match DataFrame index.\n",
      "/home/zixiao/Documents/III/aeons/venv/lib/python3.10/site-packages/pandas/core/arraylike.py:402: RuntimeWarning: invalid value encountered in log\n",
      "  result = getattr(ufunc, method)(*inputs, **kwargs)\n"
     ]
    },
    {
     "name": "stdout",
     "output_type": "stream",
     "text": [
      "Iteration 1000 complete\n",
      "Iteration 2000 complete\n",
      "Iteration 3000 complete\n",
      "Iteration 4000 complete\n",
      "Iteration 5000 complete\n",
      "Iteration 6000 complete\n",
      "Iteration 7000 complete\n",
      "Iteration 8000 complete\n",
      "Iteration 9000 complete\n",
      "Iteration 10000 complete\n",
      "Iteration 11000 complete\n",
      "Iteration 12000 complete\n",
      "Iteration 13000 complete\n",
      "Iteration 14000 complete\n",
      "Iteration 15000 complete\n"
     ]
    },
    {
     "ename": "KeyboardInterrupt",
     "evalue": "",
     "output_type": "error",
     "traceback": [
      "\u001b[0;31m---------------------------------------------------------------------------\u001b[0m",
      "\u001b[0;31mKeyboardInterrupt\u001b[0m                         Traceback (most recent call last)",
      "Cell \u001b[0;32mIn [33], line 3\u001b[0m\n\u001b[1;32m      1\u001b[0m \u001b[39mfrom\u001b[39;00m \u001b[39mtools\u001b[39;00m \u001b[39mimport\u001b[39;00m params_at_iterations\n\u001b[1;32m      2\u001b[0m iterations \u001b[39m=\u001b[39m np\u001b[39m.\u001b[39marange(\u001b[39m1000\u001b[39m, \u001b[39m20000\u001b[39m, \u001b[39m1000\u001b[39m)\n\u001b[0;32m----> 3\u001b[0m params_estimates \u001b[39m=\u001b[39m params_at_iterations(samples_c_1, iterations, cg_params)\n",
      "File \u001b[0;32m~/Documents/III/aeons/anesthetic/aeons/tools.py:24\u001b[0m, in \u001b[0;36mparams_at_iterations\u001b[0;34m(samples, iterations_array, estimation_method)\u001b[0m\n\u001b[1;32m     22\u001b[0m params_estimates \u001b[39m=\u001b[39m []\n\u001b[1;32m     23\u001b[0m \u001b[39mfor\u001b[39;00m iteration \u001b[39min\u001b[39;00m iterations_array:\n\u001b[0;32m---> 24\u001b[0m     params_i \u001b[39m=\u001b[39m estimation_method(samples, iteration)\n\u001b[1;32m     25\u001b[0m     params_estimates\u001b[39m.\u001b[39mappend(params_i)\n\u001b[1;32m     26\u001b[0m     \u001b[39mprint\u001b[39m(\u001b[39mf\u001b[39m\u001b[39m\"\u001b[39m\u001b[39mIteration \u001b[39m\u001b[39m{\u001b[39;00miteration\u001b[39m}\u001b[39;00m\u001b[39m complete\u001b[39m\u001b[39m\"\u001b[39m)\n",
      "Cell \u001b[0;32mIn [31], line 8\u001b[0m, in \u001b[0;36mcg_params\u001b[0;34m(samples, iteration)\u001b[0m\n\u001b[1;32m      6\u001b[0m mean \u001b[39m=\u001b[39m logX_mean(samples, iteration)\n\u001b[1;32m      7\u001b[0m cov \u001b[39m=\u001b[39m logX_cov(samples, iteration)\n\u001b[0;32m----> 8\u001b[0m cov_inv \u001b[39m=\u001b[39m np\u001b[39m.\u001b[39;49mlinalg\u001b[39m.\u001b[39;49minv(cov)\n\u001b[1;32m      9\u001b[0m \u001b[39mfrom\u001b[39;00m \u001b[39manalytic_lm\u001b[39;00m \u001b[39mimport\u001b[39;00m analytic_lm_params\n\u001b[1;32m     10\u001b[0m x0 \u001b[39m=\u001b[39m analytic_lm_params(samples_g_1, iteration)\n",
      "File \u001b[0;32m<__array_function__ internals>:180\u001b[0m, in \u001b[0;36minv\u001b[0;34m(*args, **kwargs)\u001b[0m\n",
      "File \u001b[0;32m~/Documents/III/aeons/venv/lib/python3.10/site-packages/numpy/linalg/linalg.py:552\u001b[0m, in \u001b[0;36minv\u001b[0;34m(a)\u001b[0m\n\u001b[1;32m    550\u001b[0m signature \u001b[39m=\u001b[39m \u001b[39m'\u001b[39m\u001b[39mD->D\u001b[39m\u001b[39m'\u001b[39m \u001b[39mif\u001b[39;00m isComplexType(t) \u001b[39melse\u001b[39;00m \u001b[39m'\u001b[39m\u001b[39md->d\u001b[39m\u001b[39m'\u001b[39m\n\u001b[1;32m    551\u001b[0m extobj \u001b[39m=\u001b[39m get_linalg_error_extobj(_raise_linalgerror_singular)\n\u001b[0;32m--> 552\u001b[0m ainv \u001b[39m=\u001b[39m _umath_linalg\u001b[39m.\u001b[39;49minv(a, signature\u001b[39m=\u001b[39;49msignature, extobj\u001b[39m=\u001b[39;49mextobj)\n\u001b[1;32m    553\u001b[0m \u001b[39mreturn\u001b[39;00m wrap(ainv\u001b[39m.\u001b[39mastype(result_t, copy\u001b[39m=\u001b[39m\u001b[39mFalse\u001b[39;00m))\n",
      "\u001b[0;31mKeyboardInterrupt\u001b[0m: "
     ]
    }
   ],
   "source": [
    "from tools import params_at_iterations\n",
    "iterations = np.arange(1000, 20000, 1000)\n",
    "params_estimates = params_at_iterations(samples_c_1, iterations, cg_params)"
   ]
  },
  {
   "cell_type": "code",
   "execution_count": 29,
   "metadata": {},
   "outputs": [
    {
     "data": {
      "image/png": "[encoded data removed]",
      "text/plain": [
       "<Figure size 1200x600 with 2 Axes>"
      ]
     },
     "metadata": {},
     "output_type": "display_data"
    }
   ],
   "source": [
    "from tools import plot_params\n",
    "plot_params(iterations, params_estimates, fontsize=3, figsize=(3,1.5))"
   ]
  },
  {
   "cell_type": "code",
   "execution_count": null,
   "metadata": {},
   "outputs": [],
   "source": []
  }
 ],
 "metadata": {
  "kernelspec": {
   "display_name": "env",
   "language": "python",
   "name": "python3"
  },
  "language_info": {
   "codemirror_mode": {
    "name": "ipython",
    "version": 3
   },
   "file_extension": ".py",
   "mimetype": "text/x-python",
   "name": "python",
   "nbconvert_exporter": "python",
   "pygments_lexer": "ipython3",
   "version": "3.10.6"
  },
  "orig_nbformat": 4,
  "vscode": {
   "interpreter": {
    "hash": "2b193e973c487348e53c3041550f70cb697f4f9d1473e92be26f2b6259e7d483"
   }
  }
 },
 "nbformat": 4,
 "nbformat_minor": 2
}
