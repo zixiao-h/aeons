{
 "cells": [
  {
   "cell_type": "code",
   "execution_count": 1,
   "metadata": {},
   "outputs": [],
   "source": [
    "import numpy as np\n",
    "import matplotlib.pyplot as plt\n",
    "\n",
    "from aeons.utils import *\n",
    "from aeons.endpoint import *\n",
    "from aeons.regress import *\n",
    "from aeons.likelihoods import full\n",
    "from aeons.plotting import *\n",
    "# Set default matplotlib figure size to (4,2)\n",
    "plt.rcParams['figure.figsize'] = (4,2)"
   ]
  },
  {
   "cell_type": "code",
   "execution_count": 2,
   "metadata": {},
   "outputs": [],
   "source": [
    "from anesthetic import read_chains\n",
    "samples = read_chains(\"HighCLCDM\")\n",
    "model = EndModel(samples)\n",
    "true_endpoint = model.true_endpoint()\n",
    "true_logXf = samples.logX().iloc[true_endpoint]"
   ]
  },
  {
   "cell_type": "code",
   "execution_count": 3,
   "metadata": {},
   "outputs": [
    {
     "data": {
      "image/png": "[encoded data removed]",
      "text/plain": [
       "<Figure size 670x200 with 2 Axes>"
      ]
     },
     "metadata": {},
     "output_type": "display_data"
    }
   ],
   "source": [
    "plot_lx(samples)"
   ]
  },
  {
   "cell_type": "code",
   "execution_count": 4,
   "metadata": {},
   "outputs": [
    {
     "name": "stderr",
     "output_type": "stream",
     "text": [
      "/home/zixiao/Documents/III/project/env/lib/python3.10/site-packages/anesthetic/labelled_pandas.py:22: UserWarning: Boolean Series key will be reindexed to match DataFrame index.\n",
      "  results.append((f(*args), l))\n"
     ]
    },
    {
     "name": "stdout",
     "output_type": "stream",
     "text": [
      "Iteration 1945 complete, 22 samples\n"
     ]
    },
    {
     "name": "stderr",
     "output_type": "stream",
     "text": [
      "/home/zixiao/Documents/III/project/env/lib/python3.10/site-packages/anesthetic/labelled_pandas.py:22: UserWarning: Boolean Series key will be reindexed to match DataFrame index.\n",
      "  results.append((f(*args), l))\n"
     ]
    },
    {
     "name": "stdout",
     "output_type": "stream",
     "text": [
      "Iteration 3424 complete, 17 samples\n"
     ]
    },
    {
     "name": "stderr",
     "output_type": "stream",
     "text": [
      "/home/zixiao/Documents/III/project/env/lib/python3.10/site-packages/anesthetic/labelled_pandas.py:22: UserWarning: Boolean Series key will be reindexed to match DataFrame index.\n",
      "  results.append((f(*args), l))\n"
     ]
    },
    {
     "name": "stdout",
     "output_type": "stream",
     "text": [
      "Iteration 4903 complete, 14 samples\n"
     ]
    },
    {
     "name": "stderr",
     "output_type": "stream",
     "text": [
      "/home/zixiao/Documents/III/project/env/lib/python3.10/site-packages/anesthetic/labelled_pandas.py:22: UserWarning: Boolean Series key will be reindexed to match DataFrame index.\n",
      "  results.append((f(*args), l))\n"
     ]
    },
    {
     "name": "stdout",
     "output_type": "stream",
     "text": [
      "Iteration 6382 complete, 19 samples\n"
     ]
    },
    {
     "name": "stderr",
     "output_type": "stream",
     "text": [
      "/home/zixiao/Documents/III/project/env/lib/python3.10/site-packages/anesthetic/labelled_pandas.py:22: UserWarning: Boolean Series key will be reindexed to match DataFrame index.\n",
      "  results.append((f(*args), l))\n"
     ]
    },
    {
     "name": "stdout",
     "output_type": "stream",
     "text": [
      "Iteration 7861 complete, 20 samples\n"
     ]
    },
    {
     "name": "stderr",
     "output_type": "stream",
     "text": [
      "/home/zixiao/Documents/III/project/env/lib/python3.10/site-packages/anesthetic/labelled_pandas.py:22: UserWarning: Boolean Series key will be reindexed to match DataFrame index.\n",
      "  results.append((f(*args), l))\n"
     ]
    },
    {
     "name": "stdout",
     "output_type": "stream",
     "text": [
      "Iteration 9339 complete, 19 samples\n"
     ]
    },
    {
     "name": "stderr",
     "output_type": "stream",
     "text": [
      "/home/zixiao/Documents/III/project/env/lib/python3.10/site-packages/anesthetic/labelled_pandas.py:22: UserWarning: Boolean Series key will be reindexed to match DataFrame index.\n",
      "  results.append((f(*args), l))\n"
     ]
    },
    {
     "name": "stdout",
     "output_type": "stream",
     "text": [
      "Iteration 10818 complete, 19 samples\n"
     ]
    },
    {
     "name": "stderr",
     "output_type": "stream",
     "text": [
      "/home/zixiao/Documents/III/project/env/lib/python3.10/site-packages/anesthetic/labelled_pandas.py:22: UserWarning: Boolean Series key will be reindexed to match DataFrame index.\n",
      "  results.append((f(*args), l))\n"
     ]
    },
    {
     "name": "stdout",
     "output_type": "stream",
     "text": [
      "Iteration 12297 complete, 20 samples\n"
     ]
    },
    {
     "name": "stderr",
     "output_type": "stream",
     "text": [
      "/home/zixiao/Documents/III/project/env/lib/python3.10/site-packages/anesthetic/labelled_pandas.py:22: UserWarning: Boolean Series key will be reindexed to match DataFrame index.\n",
      "  results.append((f(*args), l))\n"
     ]
    },
    {
     "name": "stdout",
     "output_type": "stream",
     "text": [
      "Iteration 13776 complete, 18 samples\n"
     ]
    },
    {
     "name": "stderr",
     "output_type": "stream",
     "text": [
      "/home/zixiao/Documents/III/project/env/lib/python3.10/site-packages/anesthetic/labelled_pandas.py:22: UserWarning: Boolean Series key will be reindexed to match DataFrame index.\n",
      "  results.append((f(*args), l))\n"
     ]
    },
    {
     "name": "stdout",
     "output_type": "stream",
     "text": [
      "Iteration 15255 complete, 21 samples\n"
     ]
    },
    {
     "name": "stderr",
     "output_type": "stream",
     "text": [
      "/home/zixiao/Documents/III/project/env/lib/python3.10/site-packages/anesthetic/labelled_pandas.py:22: UserWarning: Boolean Series key will be reindexed to match DataFrame index.\n",
      "  results.append((f(*args), l))\n"
     ]
    },
    {
     "name": "stdout",
     "output_type": "stream",
     "text": [
      "Iteration 16733 complete, 19 samples\n"
     ]
    },
    {
     "name": "stderr",
     "output_type": "stream",
     "text": [
      "/home/zixiao/Documents/III/project/env/lib/python3.10/site-packages/anesthetic/labelled_pandas.py:22: UserWarning: Boolean Series key will be reindexed to match DataFrame index.\n",
      "  results.append((f(*args), l))\n"
     ]
    },
    {
     "name": "stdout",
     "output_type": "stream",
     "text": [
      "Iteration 18212 complete, 17 samples\n"
     ]
    },
    {
     "name": "stderr",
     "output_type": "stream",
     "text": [
      "/home/zixiao/Documents/III/project/env/lib/python3.10/site-packages/anesthetic/labelled_pandas.py:22: UserWarning: Boolean Series key will be reindexed to match DataFrame index.\n",
      "  results.append((f(*args), l))\n"
     ]
    },
    {
     "name": "stdout",
     "output_type": "stream",
     "text": [
      "Iteration 19691 complete, 21 samples\n"
     ]
    },
    {
     "name": "stderr",
     "output_type": "stream",
     "text": [
      "/home/zixiao/Documents/III/project/env/lib/python3.10/site-packages/anesthetic/labelled_pandas.py:22: UserWarning: Boolean Series key will be reindexed to match DataFrame index.\n",
      "  results.append((f(*args), l))\n"
     ]
    },
    {
     "name": "stdout",
     "output_type": "stream",
     "text": [
      "Iteration 21170 complete, 23 samples\n"
     ]
    },
    {
     "name": "stderr",
     "output_type": "stream",
     "text": [
      "/home/zixiao/Documents/III/project/env/lib/python3.10/site-packages/anesthetic/labelled_pandas.py:22: UserWarning: Boolean Series key will be reindexed to match DataFrame index.\n",
      "  results.append((f(*args), l))\n"
     ]
    },
    {
     "name": "stdout",
     "output_type": "stream",
     "text": [
      "Iteration 22649 complete, 22 samples\n"
     ]
    },
    {
     "name": "stderr",
     "output_type": "stream",
     "text": [
      "/home/zixiao/Documents/III/project/env/lib/python3.10/site-packages/anesthetic/labelled_pandas.py:22: UserWarning: Boolean Series key will be reindexed to match DataFrame index.\n",
      "  results.append((f(*args), l))\n"
     ]
    },
    {
     "name": "stdout",
     "output_type": "stream",
     "text": [
      "Iteration 24127 complete, 19 samples\n"
     ]
    },
    {
     "name": "stderr",
     "output_type": "stream",
     "text": [
      "/home/zixiao/Documents/III/project/env/lib/python3.10/site-packages/anesthetic/labelled_pandas.py:22: UserWarning: Boolean Series key will be reindexed to match DataFrame index.\n",
      "  results.append((f(*args), l))\n"
     ]
    },
    {
     "name": "stdout",
     "output_type": "stream",
     "text": [
      "Iteration 25606 complete, 19 samples\n"
     ]
    },
    {
     "name": "stderr",
     "output_type": "stream",
     "text": [
      "/home/zixiao/Documents/III/project/env/lib/python3.10/site-packages/anesthetic/labelled_pandas.py:22: UserWarning: Boolean Series key will be reindexed to match DataFrame index.\n",
      "  results.append((f(*args), l))\n"
     ]
    },
    {
     "name": "stdout",
     "output_type": "stream",
     "text": [
      "Iteration 27085 complete, 17 samples\n"
     ]
    },
    {
     "name": "stderr",
     "output_type": "stream",
     "text": [
      "/home/zixiao/Documents/III/project/env/lib/python3.10/site-packages/anesthetic/labelled_pandas.py:22: UserWarning: Boolean Series key will be reindexed to match DataFrame index.\n",
      "  results.append((f(*args), l))\n"
     ]
    },
    {
     "name": "stdout",
     "output_type": "stream",
     "text": [
      "Iteration 28564 complete, 22 samples\n"
     ]
    },
    {
     "name": "stderr",
     "output_type": "stream",
     "text": [
      "/home/zixiao/Documents/III/project/env/lib/python3.10/site-packages/anesthetic/labelled_pandas.py:22: UserWarning: Boolean Series key will be reindexed to match DataFrame index.\n",
      "  results.append((f(*args), l))\n"
     ]
    },
    {
     "name": "stdout",
     "output_type": "stream",
     "text": [
      "Iteration 30043 complete, 22 samples\n"
     ]
    },
    {
     "name": "stderr",
     "output_type": "stream",
     "text": [
      "/home/zixiao/Documents/III/project/env/lib/python3.10/site-packages/anesthetic/labelled_pandas.py:22: UserWarning: Boolean Series key will be reindexed to match DataFrame index.\n",
      "  results.append((f(*args), l))\n"
     ]
    },
    {
     "name": "stdout",
     "output_type": "stream",
     "text": [
      "Iteration 31521 complete, 23 samples\n"
     ]
    },
    {
     "name": "stderr",
     "output_type": "stream",
     "text": [
      "/home/zixiao/Documents/III/project/env/lib/python3.10/site-packages/anesthetic/labelled_pandas.py:22: UserWarning: Boolean Series key will be reindexed to match DataFrame index.\n",
      "  results.append((f(*args), l))\n"
     ]
    },
    {
     "name": "stdout",
     "output_type": "stream",
     "text": [
      "Iteration 33000 complete, 22 samples\n"
     ]
    },
    {
     "name": "stderr",
     "output_type": "stream",
     "text": [
      "/home/zixiao/Documents/III/project/env/lib/python3.10/site-packages/anesthetic/labelled_pandas.py:22: UserWarning: Boolean Series key will be reindexed to match DataFrame index.\n",
      "  results.append((f(*args), l))\n"
     ]
    },
    {
     "name": "stdout",
     "output_type": "stream",
     "text": [
      "Iteration 34479 complete, 23 samples\n"
     ]
    },
    {
     "name": "stderr",
     "output_type": "stream",
     "text": [
      "/home/zixiao/Documents/III/project/env/lib/python3.10/site-packages/anesthetic/labelled_pandas.py:22: UserWarning: Boolean Series key will be reindexed to match DataFrame index.\n",
      "  results.append((f(*args), l))\n"
     ]
    },
    {
     "name": "stdout",
     "output_type": "stream",
     "text": [
      "Iteration 35958 complete, 22 samples\n"
     ]
    },
    {
     "name": "stderr",
     "output_type": "stream",
     "text": [
      "/home/zixiao/Documents/III/project/env/lib/python3.10/site-packages/anesthetic/labelled_pandas.py:22: UserWarning: Boolean Series key will be reindexed to match DataFrame index.\n",
      "  results.append((f(*args), l))\n"
     ]
    },
    {
     "name": "stdout",
     "output_type": "stream",
     "text": [
      "Iteration 37437 complete, 18 samples\n"
     ]
    }
   ],
   "source": [
    "iterations = np.linspace(0.05*true_endpoint, true_endpoint, 25, endpoint=False, dtype=int)\n",
    "logXfs, logXfs_std = model.logXfs(theta_basic, iterations, Nset=25)"
   ]
  },
  {
   "cell_type": "code",
   "execution_count": 15,
   "metadata": {},
   "outputs": [
    {
     "data": {
      "image/png": "[encoded data removed]",
      "text/plain": [
       "<Figure size 400x200 with 1 Axes>"
      ]
     },
     "metadata": {},
     "output_type": "display_data"
    }
   ],
   "source": [
    "logXs = samples.logX().iloc[iterations]\n",
    "endpoints, endpoints_std = calc_endpoints(iterations, logXs, logXfs, logXfs_std, nlive=2000)\n",
    "plot_std(iterations, endpoints, endpoints_std, true_endpoint, ylim=(0, 1.05))\n",
    "# plt.xlim(iterations[np.argmin(logXs > np.log(1e-1))], iterations[-1])"
   ]
  },
  {
   "cell_type": "markdown",
   "metadata": {},
   "source": [
    "### Wedding cake bandwidth algorithm"
   ]
  },
  {
   "cell_type": "code",
   "execution_count": 77,
   "metadata": {},
   "outputs": [],
   "source": [
    "# Get wedding cake samples\n",
    "name, samples = get_samples('toy', 'wedding_20_001')\n",
    "model = EndModel(samples)\n",
    "true_endpoint = model.true_endpoint()\n",
    "true_logXf = samples.logX().iloc[true_endpoint]"
   ]
  },
  {
   "cell_type": "code",
   "execution_count": 78,
   "metadata": {},
   "outputs": [
    {
     "name": "stderr",
     "output_type": "stream",
     "text": [
      "/home/zixiao/Documents/III/project/env/lib/python3.10/site-packages/anesthetic/labelled_pandas.py:22: UserWarning: Boolean Series key will be reindexed to match DataFrame index.\n",
      "  results.append((f(*args), l))\n"
     ]
    }
   ],
   "source": [
    "ndead = 10000\n",
    "logL, X_mean, nk, logZdead = model.data(ndead)\n",
    "window = np.arange(ndead - 500, len(logL))\n",
    "logLd, Xd = logL[window], X_mean[window]"
   ]
  },
  {
   "cell_type": "code",
   "execution_count": 82,
   "metadata": {},
   "outputs": [],
   "source": [
    "# Calculate evidence for different starting points of window\n",
    "starts = np.arange(0, ndead, 250)\n",
    "logZs = np.zeros_like(starts, dtype=float)\n",
    "logZs_penalty = np.zeros_like(starts, dtype=float)\n",
    "logXfs = np.zeros_like(starts, dtype=float)\n",
    "endpoints = np.zeros_like(starts, dtype=float)\n",
    "for i, start in enumerate(starts):\n",
    "    window = np.arange(start, len(logL))\n",
    "    logLd, Xd = logL[window], X_mean[window]\n",
    "    reg = GaussianRegress(logLd, Xd)\n",
    "    logZs[i] = reg.logZ()\n",
    "    logZs_penalty[i] = logZs[i] - start * np.log((logLd.max() - logLd.min()))\n",
    "    logXfs[i] = logXf_formula(reg.theta, logZdead, X_mean[ndead])\n",
    "    endpoints[i] = calc_endpoints([ndead], np.log(X_mean[ndead]), logXfs[i], 0, nlive=400)[0][0]"
   ]
  },
  {
   "cell_type": "code",
   "execution_count": 84,
   "metadata": {},
   "outputs": [
    {
     "data": {
      "image/png": "[encoded data removed]",
      "text/plain": [
       "<Figure size 800x200 with 3 Axes>"
      ]
     },
     "metadata": {},
     "output_type": "display_data"
    }
   ],
   "source": [
    "# Plot logZs and logZs_penalty vs. starting point on two twin axes, endpoints on second axes\n",
    "fig, (ax1, ax2) = plt.subplots(1, 2, figsize=(8, 2))\n",
    "ax1.plot(starts, logZs, 'k-', label='logZ')\n",
    "ax1a = ax1.twinx()\n",
    "ax1a.plot(starts, logZs_penalty, 'r-', label='logZ_penalty')\n",
    "ax1.set_xlabel('start')\n",
    "ax1.set_ylabel('logZ')\n",
    "ax1.legend()\n",
    "ax1a.legend()\n",
    "ax2.plot(starts, endpoints, 'k-')\n",
    "ax2.set_xlabel('start')\n",
    "ax2.set_ylabel('endpoint')\n",
    "ax2.axhline(true_endpoint, color='r', linestyle='--')\n",
    "ax2.set_ylim(0, true_endpoint*2)\n",
    "plt.tight_layout()"
   ]
  },
  {
   "cell_type": "markdown",
   "metadata": {},
   "source": [
    "### Planck"
   ]
  },
  {
   "cell_type": "code",
   "execution_count": 73,
   "metadata": {},
   "outputs": [],
   "source": [
    "# Get samples\n",
    "name, samples = get_samples(\"lcdm\", \"planck\")\n",
    "model = EndModel(samples)\n",
    "true_endpoint = model.true_endpoint()\n",
    "true_logXf = samples.logX().iloc[true_endpoint]"
   ]
  },
  {
   "cell_type": "code",
   "execution_count": 74,
   "metadata": {},
   "outputs": [
    {
     "name": "stderr",
     "output_type": "stream",
     "text": [
      "/home/zixiao/Documents/III/project/env/lib/python3.10/site-packages/anesthetic/labelled_pandas.py:22: UserWarning: Boolean Series key will be reindexed to match DataFrame index.\n",
      "  results.append((f(*args), l))\n"
     ]
    }
   ],
   "source": [
    "ndead = 25000\n",
    "logL, X_mean, nk, logZdead = model.data(ndead)\n",
    "window = np.arange(ndead, len(logL))\n",
    "logLd, Xd = logL[window], X_mean[window]"
   ]
  },
  {
   "cell_type": "code",
   "execution_count": 75,
   "metadata": {},
   "outputs": [
    {
     "name": "stderr",
     "output_type": "stream",
     "text": [
      "/home/zixiao/Documents/III/project/aeons/aeons/utils.py:119: RuntimeWarning: overflow encountered in exp\n",
      "  xf_reg = gammaincinv(d/2, np.exp(logend)/gamma(d/2))\n"
     ]
    }
   ],
   "source": [
    "# Calculate evidence for different starting points of window\n",
    "starts = np.arange(0, ndead, 500)\n",
    "logZs = np.zeros_like(starts, dtype=float)\n",
    "logZs_penalty = np.zeros_like(starts, dtype=float)\n",
    "logXfs = np.zeros_like(starts, dtype=float)\n",
    "endpoints = np.zeros_like(starts, dtype=float)\n",
    "for i, start in enumerate(starts):\n",
    "    window = np.arange(start, len(logL))\n",
    "    logLd, Xd = logL[window], X_mean[window]\n",
    "    reg = GaussianRegress(logLd, Xd)\n",
    "    logZs[i] = reg.logZ()\n",
    "    logZs_penalty[i] = logZs[i] - start * np.log((logLd.max() - logLd.min()))\n",
    "    logXfs[i] = logXf_formula(reg.theta, logZdead, X_mean[ndead])\n",
    "    endpoints[i] = calc_endpoints([ndead], np.log(X_mean[ndead]), logXfs[i], 0, nlive=1000)[0][0]"
   ]
  },
  {
   "cell_type": "code",
   "execution_count": 76,
   "metadata": {},
   "outputs": [
    {
     "data": {
      "image/png": "[encoded data removed]",
      "text/plain": [
       "<Figure size 800x200 with 3 Axes>"
      ]
     },
     "metadata": {},
     "output_type": "display_data"
    }
   ],
   "source": [
    "# Plot logZs and logZs_penalty vs. starting point on two twin axes, logXfs on second axes\n",
    "fig, (ax1, ax2) = plt.subplots(1, 2, figsize=(8, 2))\n",
    "ax1.plot(starts, logZs, 'k-', label='logZ')\n",
    "ax1a = ax1.twinx()\n",
    "ax1a.plot(starts, logZs_penalty, 'r-', label='logZ_penalty')\n",
    "ax1.set_xlabel('start')\n",
    "ax1.set_ylabel('logZ')\n",
    "ax1.legend()\n",
    "ax1a.legend()\n",
    "ax2.plot(starts, endpoints, 'k-')\n",
    "ax2.set_xlabel('start')\n",
    "ax2.set_ylabel('endpoint')\n",
    "ax2.set_ylim(0, true_endpoint * 1.2)\n",
    "ax2.axhline(true_endpoint, color='r', linestyle='--')\n",
    "plt.tight_layout()"
   ]
  },
  {
   "cell_type": "markdown",
   "metadata": {},
   "source": [
    "#### Iteration prediction"
   ]
  },
  {
   "cell_type": "code",
   "execution_count": 206,
   "metadata": {},
   "outputs": [
    {
     "name": "stderr",
     "output_type": "stream",
     "text": [
      "/home/zixiao/Documents/III/project/env/lib/python3.10/site-packages/anesthetic/labelled_pandas.py:22: UserWarning: Boolean Series key will be reindexed to match DataFrame index.\n",
      "  results.append((f(*args), l))\n"
     ]
    },
    {
     "name": "stdout",
     "output_type": "stream",
     "text": [
      "Iteration 2868 complete, 19 samples\n"
     ]
    },
    {
     "name": "stderr",
     "output_type": "stream",
     "text": [
      "/home/zixiao/Documents/III/project/env/lib/python3.10/site-packages/anesthetic/labelled_pandas.py:22: UserWarning: Boolean Series key will be reindexed to match DataFrame index.\n",
      "  results.append((f(*args), l))\n"
     ]
    },
    {
     "name": "stdout",
     "output_type": "stream",
     "text": [
      "Iteration 5139 complete, 22 samples\n"
     ]
    },
    {
     "name": "stderr",
     "output_type": "stream",
     "text": [
      "/home/zixiao/Documents/III/project/env/lib/python3.10/site-packages/anesthetic/labelled_pandas.py:22: UserWarning: Boolean Series key will be reindexed to match DataFrame index.\n",
      "  results.append((f(*args), l))\n"
     ]
    },
    {
     "name": "stdout",
     "output_type": "stream",
     "text": [
      "Iteration 7410 complete, 19 samples\n"
     ]
    },
    {
     "name": "stderr",
     "output_type": "stream",
     "text": [
      "/home/zixiao/Documents/III/project/env/lib/python3.10/site-packages/anesthetic/labelled_pandas.py:22: UserWarning: Boolean Series key will be reindexed to match DataFrame index.\n",
      "  results.append((f(*args), l))\n"
     ]
    },
    {
     "name": "stdout",
     "output_type": "stream",
     "text": [
      "Iteration 9681 complete, 21 samples\n"
     ]
    },
    {
     "name": "stderr",
     "output_type": "stream",
     "text": [
      "/home/zixiao/Documents/III/project/env/lib/python3.10/site-packages/anesthetic/labelled_pandas.py:22: UserWarning: Boolean Series key will be reindexed to match DataFrame index.\n",
      "  results.append((f(*args), l))\n"
     ]
    },
    {
     "name": "stdout",
     "output_type": "stream",
     "text": [
      "Iteration 11952 complete, 23 samples\n"
     ]
    },
    {
     "name": "stderr",
     "output_type": "stream",
     "text": [
      "/home/zixiao/Documents/III/project/env/lib/python3.10/site-packages/anesthetic/labelled_pandas.py:22: UserWarning: Boolean Series key will be reindexed to match DataFrame index.\n",
      "  results.append((f(*args), l))\n"
     ]
    },
    {
     "name": "stdout",
     "output_type": "stream",
     "text": [
      "Iteration 14223 complete, 20 samples\n"
     ]
    },
    {
     "name": "stderr",
     "output_type": "stream",
     "text": [
      "/home/zixiao/Documents/III/project/env/lib/python3.10/site-packages/anesthetic/labelled_pandas.py:22: UserWarning: Boolean Series key will be reindexed to match DataFrame index.\n",
      "  results.append((f(*args), l))\n"
     ]
    },
    {
     "name": "stdout",
     "output_type": "stream",
     "text": [
      "Iteration 16494 complete, 21 samples\n"
     ]
    },
    {
     "name": "stderr",
     "output_type": "stream",
     "text": [
      "/home/zixiao/Documents/III/project/env/lib/python3.10/site-packages/anesthetic/labelled_pandas.py:22: UserWarning: Boolean Series key will be reindexed to match DataFrame index.\n",
      "  results.append((f(*args), l))\n"
     ]
    },
    {
     "name": "stdout",
     "output_type": "stream",
     "text": [
      "Iteration 18765 complete, 22 samples\n"
     ]
    },
    {
     "name": "stderr",
     "output_type": "stream",
     "text": [
      "/home/zixiao/Documents/III/project/env/lib/python3.10/site-packages/anesthetic/labelled_pandas.py:22: UserWarning: Boolean Series key will be reindexed to match DataFrame index.\n",
      "  results.append((f(*args), l))\n",
      "/home/zixiao/Documents/III/project/aeons/aeons/utils.py:119: RuntimeWarning: invalid value encountered in scalar divide\n",
      "  xf_reg = gammaincinv(d/2, np.exp(logend)/gamma(d/2))\n"
     ]
    },
    {
     "name": "stdout",
     "output_type": "stream",
     "text": [
      "Iteration 21036 complete, 17 samples\n"
     ]
    },
    {
     "name": "stderr",
     "output_type": "stream",
     "text": [
      "/home/zixiao/Documents/III/project/env/lib/python3.10/site-packages/anesthetic/labelled_pandas.py:22: UserWarning: Boolean Series key will be reindexed to match DataFrame index.\n",
      "  results.append((f(*args), l))\n",
      "/home/zixiao/Documents/III/project/aeons/aeons/utils.py:119: RuntimeWarning: invalid value encountered in scalar divide\n",
      "  xf_reg = gammaincinv(d/2, np.exp(logend)/gamma(d/2))\n"
     ]
    },
    {
     "name": "stdout",
     "output_type": "stream",
     "text": [
      "Iteration 23307 complete, 17 samples\n"
     ]
    },
    {
     "name": "stderr",
     "output_type": "stream",
     "text": [
      "/home/zixiao/Documents/III/project/env/lib/python3.10/site-packages/anesthetic/labelled_pandas.py:22: UserWarning: Boolean Series key will be reindexed to match DataFrame index.\n",
      "  results.append((f(*args), l))\n",
      "/home/zixiao/Documents/III/project/aeons/aeons/utils.py:119: RuntimeWarning: invalid value encountered in scalar divide\n",
      "  xf_reg = gammaincinv(d/2, np.exp(logend)/gamma(d/2))\n"
     ]
    },
    {
     "name": "stdout",
     "output_type": "stream",
     "text": [
      "Iteration 25578 complete, 16 samples\n"
     ]
    },
    {
     "name": "stderr",
     "output_type": "stream",
     "text": [
      "/home/zixiao/Documents/III/project/env/lib/python3.10/site-packages/anesthetic/labelled_pandas.py:22: UserWarning: Boolean Series key will be reindexed to match DataFrame index.\n",
      "  results.append((f(*args), l))\n"
     ]
    },
    {
     "name": "stdout",
     "output_type": "stream",
     "text": [
      "Iteration 27849 complete, 21 samples\n"
     ]
    },
    {
     "name": "stderr",
     "output_type": "stream",
     "text": [
      "/home/zixiao/Documents/III/project/env/lib/python3.10/site-packages/anesthetic/labelled_pandas.py:22: UserWarning: Boolean Series key will be reindexed to match DataFrame index.\n",
      "  results.append((f(*args), l))\n",
      "/home/zixiao/Documents/III/project/env/lib/python3.10/site-packages/scipy/special/_logsumexp.py:111: RuntimeWarning: overflow encountered in exp\n",
      "  tmp = np.exp(a - a_max)\n",
      "/home/zixiao/Documents/III/project/aeons/aeons/utils.py:119: RuntimeWarning: invalid value encountered in scalar divide\n",
      "  xf_reg = gammaincinv(d/2, np.exp(logend)/gamma(d/2))\n"
     ]
    },
    {
     "name": "stdout",
     "output_type": "stream",
     "text": [
      "Iteration 30120 complete, 16 samples\n"
     ]
    },
    {
     "name": "stderr",
     "output_type": "stream",
     "text": [
      "/home/zixiao/Documents/III/project/env/lib/python3.10/site-packages/anesthetic/labelled_pandas.py:22: UserWarning: Boolean Series key will be reindexed to match DataFrame index.\n",
      "  results.append((f(*args), l))\n",
      "/home/zixiao/Documents/III/project/env/lib/python3.10/site-packages/scipy/special/_logsumexp.py:111: RuntimeWarning: overflow encountered in exp\n",
      "  tmp = np.exp(a - a_max)\n",
      "/home/zixiao/Documents/III/project/aeons/aeons/utils.py:119: RuntimeWarning: invalid value encountered in scalar divide\n",
      "  xf_reg = gammaincinv(d/2, np.exp(logend)/gamma(d/2))\n"
     ]
    },
    {
     "name": "stdout",
     "output_type": "stream",
     "text": [
      "Iteration 32391 complete, 20 samples\n"
     ]
    },
    {
     "name": "stderr",
     "output_type": "stream",
     "text": [
      "/home/zixiao/Documents/III/project/env/lib/python3.10/site-packages/anesthetic/labelled_pandas.py:22: UserWarning: Boolean Series key will be reindexed to match DataFrame index.\n",
      "  results.append((f(*args), l))\n"
     ]
    },
    {
     "name": "stdout",
     "output_type": "stream",
     "text": [
      "Iteration 34662 complete, 21 samples\n"
     ]
    },
    {
     "name": "stderr",
     "output_type": "stream",
     "text": [
      "/home/zixiao/Documents/III/project/env/lib/python3.10/site-packages/anesthetic/labelled_pandas.py:22: UserWarning: Boolean Series key will be reindexed to match DataFrame index.\n",
      "  results.append((f(*args), l))\n"
     ]
    },
    {
     "name": "stdout",
     "output_type": "stream",
     "text": [
      "Iteration 36933 complete, 20 samples\n"
     ]
    },
    {
     "name": "stderr",
     "output_type": "stream",
     "text": [
      "/home/zixiao/Documents/III/project/env/lib/python3.10/site-packages/anesthetic/labelled_pandas.py:22: UserWarning: Boolean Series key will be reindexed to match DataFrame index.\n",
      "  results.append((f(*args), l))\n"
     ]
    },
    {
     "name": "stdout",
     "output_type": "stream",
     "text": [
      "Iteration 39204 complete, 20 samples\n"
     ]
    },
    {
     "name": "stderr",
     "output_type": "stream",
     "text": [
      "/home/zixiao/Documents/III/project/env/lib/python3.10/site-packages/anesthetic/labelled_pandas.py:22: UserWarning: Boolean Series key will be reindexed to match DataFrame index.\n",
      "  results.append((f(*args), l))\n"
     ]
    },
    {
     "name": "stdout",
     "output_type": "stream",
     "text": [
      "Iteration 41475 complete, 22 samples\n"
     ]
    },
    {
     "name": "stderr",
     "output_type": "stream",
     "text": [
      "/home/zixiao/Documents/III/project/env/lib/python3.10/site-packages/anesthetic/labelled_pandas.py:22: UserWarning: Boolean Series key will be reindexed to match DataFrame index.\n",
      "  results.append((f(*args), l))\n"
     ]
    },
    {
     "name": "stdout",
     "output_type": "stream",
     "text": [
      "Iteration 43746 complete, 18 samples\n"
     ]
    },
    {
     "name": "stderr",
     "output_type": "stream",
     "text": [
      "/home/zixiao/Documents/III/project/env/lib/python3.10/site-packages/anesthetic/labelled_pandas.py:22: UserWarning: Boolean Series key will be reindexed to match DataFrame index.\n",
      "  results.append((f(*args), l))\n",
      "/home/zixiao/Documents/III/project/env/lib/python3.10/site-packages/scipy/special/_logsumexp.py:111: RuntimeWarning: overflow encountered in exp\n",
      "  tmp = np.exp(a - a_max)\n",
      "/home/zixiao/Documents/III/project/aeons/aeons/utils.py:119: RuntimeWarning: invalid value encountered in scalar divide\n",
      "  xf_reg = gammaincinv(d/2, np.exp(logend)/gamma(d/2))\n"
     ]
    },
    {
     "name": "stdout",
     "output_type": "stream",
     "text": [
      "Iteration 46017 complete, 21 samples\n"
     ]
    },
    {
     "name": "stderr",
     "output_type": "stream",
     "text": [
      "/home/zixiao/Documents/III/project/env/lib/python3.10/site-packages/anesthetic/labelled_pandas.py:22: UserWarning: Boolean Series key will be reindexed to match DataFrame index.\n",
      "  results.append((f(*args), l))\n",
      "/home/zixiao/Documents/III/project/env/lib/python3.10/site-packages/scipy/special/_logsumexp.py:111: RuntimeWarning: overflow encountered in exp\n",
      "  tmp = np.exp(a - a_max)\n",
      "/home/zixiao/Documents/III/project/aeons/aeons/utils.py:119: RuntimeWarning: invalid value encountered in scalar divide\n",
      "  xf_reg = gammaincinv(d/2, np.exp(logend)/gamma(d/2))\n"
     ]
    },
    {
     "name": "stdout",
     "output_type": "stream",
     "text": [
      "Iteration 48288 complete, 19 samples\n"
     ]
    },
    {
     "name": "stderr",
     "output_type": "stream",
     "text": [
      "/home/zixiao/Documents/III/project/env/lib/python3.10/site-packages/anesthetic/labelled_pandas.py:22: UserWarning: Boolean Series key will be reindexed to match DataFrame index.\n",
      "  results.append((f(*args), l))\n"
     ]
    },
    {
     "name": "stdout",
     "output_type": "stream",
     "text": [
      "Iteration 50559 complete, 20 samples\n"
     ]
    },
    {
     "name": "stderr",
     "output_type": "stream",
     "text": [
      "/home/zixiao/Documents/III/project/env/lib/python3.10/site-packages/anesthetic/labelled_pandas.py:22: UserWarning: Boolean Series key will be reindexed to match DataFrame index.\n",
      "  results.append((f(*args), l))\n"
     ]
    },
    {
     "name": "stdout",
     "output_type": "stream",
     "text": [
      "Iteration 52830 complete, 20 samples\n"
     ]
    },
    {
     "name": "stderr",
     "output_type": "stream",
     "text": [
      "/home/zixiao/Documents/III/project/env/lib/python3.10/site-packages/anesthetic/labelled_pandas.py:22: UserWarning: Boolean Series key will be reindexed to match DataFrame index.\n",
      "  results.append((f(*args), l))\n",
      "/home/zixiao/Documents/III/project/aeons/aeons/utils.py:116: RuntimeWarning: invalid value encountered in scalar multiply\n",
      "  loglive = np.log( gamma(d/2) * gammainc(d/2, Xi**(2/d)/(2*sigma**2)) )\n",
      "/home/zixiao/Documents/III/project/env/lib/python3.10/site-packages/scipy/special/_logsumexp.py:111: RuntimeWarning: overflow encountered in exp\n",
      "  tmp = np.exp(a - a_max)\n"
     ]
    },
    {
     "name": "stdout",
     "output_type": "stream",
     "text": [
      "Iteration 55101 complete, 18 samples\n"
     ]
    },
    {
     "name": "stderr",
     "output_type": "stream",
     "text": [
      "/home/zixiao/Documents/III/project/env/lib/python3.10/site-packages/anesthetic/labelled_pandas.py:22: UserWarning: Boolean Series key will be reindexed to match DataFrame index.\n",
      "  results.append((f(*args), l))\n"
     ]
    },
    {
     "name": "stdout",
     "output_type": "stream",
     "text": [
      "Iteration 57372 complete, 21 samples\n"
     ]
    },
    {
     "name": "stderr",
     "output_type": "stream",
     "text": [
      "/home/zixiao/Documents/III/project/env/lib/python3.10/site-packages/scipy/special/_logsumexp.py:111: RuntimeWarning: overflow encountered in exp\n",
      "  tmp = np.exp(a - a_max)\n",
      "/home/zixiao/Documents/III/project/aeons/aeons/utils.py:119: RuntimeWarning: invalid value encountered in scalar divide\n",
      "  xf_reg = gammaincinv(d/2, np.exp(logend)/gamma(d/2))\n"
     ]
    }
   ],
   "source": [
    "iterations = np.linspace(0.05*true_endpoint, true_endpoint, 25).astype(int)\n",
    "logXfs, logXfs_std = model.logXfs(theta_bandwidth, iterations, Nset=25, splits=4)"
   ]
  },
  {
   "cell_type": "code",
   "execution_count": 242,
   "metadata": {},
   "outputs": [
    {
     "data": {
      "text/plain": [
       "(14223.0, 57372.0)"
      ]
     },
     "execution_count": 242,
     "metadata": {},
     "output_type": "execute_result"
    },
    {
     "data": {
      "image/png": "[encoded data removed]",
      "text/plain": [
       "<Figure size 400x200 with 1 Axes>"
      ]
     },
     "metadata": {},
     "output_type": "display_data"
    }
   ],
   "source": [
    "logXs = samples.logX().iloc[iterations]\n",
    "endpoints, endpoints_std = calc_endpoints(iterations, logXs, logXfs, logXfs_std, nlive=1000)\n",
    "plot_std(iterations, endpoints, endpoints_std, true_endpoint, ylim=1.4)\n",
    "plt.xlim(iterations[np.argmin(logXs > np.log(1e-3))], iterations[-1])"
   ]
  },
  {
   "cell_type": "markdown",
   "metadata": {},
   "source": [
    "### Gaussian"
   ]
  },
  {
   "cell_type": "code",
   "execution_count": 65,
   "metadata": {},
   "outputs": [],
   "source": [
    "# Get gaussian samples\n",
    "name, samples = get_samples('toy', 'gauss_30_01')\n",
    "model = EndModel(samples)\n",
    "true_endpoint = model.true_endpoint()\n",
    "true_logXf = samples.logX().iloc[true_endpoint]"
   ]
  },
  {
   "cell_type": "code",
   "execution_count": 66,
   "metadata": {},
   "outputs": [
    {
     "name": "stderr",
     "output_type": "stream",
     "text": [
      "/home/zixiao/Documents/III/project/env/lib/python3.10/site-packages/anesthetic/labelled_pandas.py:22: UserWarning: Boolean Series key will be reindexed to match DataFrame index.\n",
      "  results.append((f(*args), l))\n"
     ]
    }
   ],
   "source": [
    "ndead = 10000\n",
    "logL, X_mean, nk, logZdead = model.data(ndead)\n",
    "window = np.arange(ndead - 500, len(logL))\n",
    "logLd, Xd = logL[window], X_mean[window]"
   ]
  },
  {
   "cell_type": "code",
   "execution_count": 71,
   "metadata": {},
   "outputs": [],
   "source": [
    "# Calculate evidence for different starting points of window\n",
    "starts = np.arange(0, ndead, 500)\n",
    "logZs = np.zeros_like(starts, dtype=float)\n",
    "logZs_penalty = np.zeros_like(starts, dtype=float)\n",
    "logXfs = np.zeros_like(starts, dtype=float)\n",
    "endpoints = np.zeros_like(starts, dtype=float)\n",
    "for i, start in enumerate(starts):\n",
    "    window = np.arange(start, len(logL))\n",
    "    logLd, Xd = logL[window], X_mean[window]\n",
    "    reg = GaussianRegress(logLd, Xd)\n",
    "    logZs[i] = reg.logZ()\n",
    "    # logZs_penalty[i] = logZs[i] - start * np.log(start) #start * np.log((logLd.max() - logLd.min()))\n",
    "    logZs_penalty[i] = logZs[i] - start * np.log((logLd.max() - logLd.min()))\n",
    "    logXfs[i] = logXf_formula(reg.theta, logZdead, X_mean[ndead])\n",
    "    endpoints[i] = calc_endpoints([ndead], np.log(X_mean[ndead]), logXfs[i], 0, nlive=500)[0][0]"
   ]
  },
  {
   "cell_type": "code",
   "execution_count": 72,
   "metadata": {},
   "outputs": [
    {
     "data": {
      "image/png": "[encoded data removed]",
      "text/plain": [
       "<Figure size 800x200 with 3 Axes>"
      ]
     },
     "metadata": {},
     "output_type": "display_data"
    }
   ],
   "source": [
    "# Plot logZs and logZs_penalty vs. starting point on two twin axes, logXfs on second axes\n",
    "fig, (ax1, ax2) = plt.subplots(1, 2, figsize=(8, 2))\n",
    "ax1.plot(starts, logZs, 'k-', label='logZ')\n",
    "ax1a = ax1.twinx()\n",
    "ax1a.plot(starts, logZs_penalty, 'r-', label='logZ_penalty')\n",
    "ax1.set_xlabel('start')\n",
    "ax1.set_ylabel('logZ')\n",
    "ax1.legend()\n",
    "ax1a.legend()\n",
    "ax2.plot(starts, endpoints, 'k-')\n",
    "ax2.set_xlabel('start')\n",
    "ax2.set_ylabel('endpoint')\n",
    "ax2.set_ylim(0, true_endpoint * 2)\n",
    "ax2.axhline(true_endpoint, color='r', linestyle='--')\n",
    "plt.tight_layout()"
   ]
  }
 ],
 "metadata": {
  "kernelspec": {
   "display_name": "env",
   "language": "python",
   "name": "python3"
  },
  "language_info": {
   "codemirror_mode": {
    "name": "ipython",
    "version": 3
   },
   "file_extension": ".py",
   "mimetype": "text/x-python",
   "name": "python",
   "nbconvert_exporter": "python",
   "pygments_lexer": "ipython3",
   "version": "3.10.6"
  },
  "orig_nbformat": 4
 },
 "nbformat": 4,
 "nbformat_minor": 2
}
