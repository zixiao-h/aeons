{
 "cells": [
  {
   "cell_type": "code",
   "execution_count": 32,
   "metadata": {},
   "outputs": [],
   "source": [
    "import numpy as np\n",
    "import matplotlib.pyplot as plt\n",
    "from aeons.utils import *\n",
    "from aeons.endpoint import *\n",
    "from aeons.regress import analytic_lm_params\n",
    "from anesthetic import read_chains"
   ]
  },
  {
   "cell_type": "code",
   "execution_count": 33,
   "metadata": {},
   "outputs": [
    {
     "data": {
      "text/plain": [
       "1522"
      ]
     },
     "execution_count": 33,
     "metadata": {},
     "output_type": "execute_result"
    }
   ],
   "source": [
    "samples = read_chains('chains/gaussian')\n",
    "model = EndModel(samples)\n",
    "true_endpoint = model.true_endpoint()\n",
    "true_logXf = samples.logX().iloc[true_endpoint]\n",
    "true_endpoint"
   ]
  },
  {
   "cell_type": "code",
   "execution_count": 26,
   "metadata": {},
   "outputs": [
    {
     "data": {
      "text/plain": [
       "            labels                         \n",
       "0                                                0.029170\n",
       "1                                               -0.003110\n",
       "2                                               -0.006286\n",
       "3                                                0.017034\n",
       "4                                                0.001190\n",
       "logL        $\\ln\\mathcal{L}$                     5.475075\n",
       "logL_birth  $\\ln\\mathcal{L}_\\mathrm{birth}$      5.464786\n",
       "nlive       $n_\\mathrm{live}$                  100.000000\n",
       "Name: (1406, 0.010581013414596099), dtype: float64"
      ]
     },
     "execution_count": 26,
     "metadata": {},
     "output_type": "execute_result"
    }
   ],
   "source": [
    "samples.iloc[1406]"
   ]
  },
  {
   "cell_type": "code",
   "execution_count": 17,
   "metadata": {},
   "outputs": [],
   "source": [
    "nDims = 4\n",
    "nDerived = 1\n",
    "sigma = 0.1\n",
    "\n",
    "def likelihood(theta):\n",
    "    nDims = len(theta)\n",
    "    r2 = sum(theta**2)\n",
    "    logL = -np.log(2*np.pi*sigma*sigma)*nDims/2.0\n",
    "    logL += -r2/2/sigma/sigma\n",
    "    return logL, [r2]"
   ]
  },
  {
   "cell_type": "code",
   "execution_count": 19,
   "metadata": {},
   "outputs": [
    {
     "data": {
      "text/html": [
       "<div>\n",
       "<style scoped>\n",
       "    .dataframe tbody tr th:only-of-type {\n",
       "        vertical-align: middle;\n",
       "    }\n",
       "\n",
       "    .dataframe tbody tr th {\n",
       "        vertical-align: top;\n",
       "    }\n",
       "\n",
       "    .dataframe thead tr th {\n",
       "        text-align: left;\n",
       "    }\n",
       "\n",
       "    .dataframe thead tr:last-of-type th {\n",
       "        text-align: right;\n",
       "    }\n",
       "</style>\n",
       "<table border=\"1\" class=\"dataframe\">\n",
       "  <thead>\n",
       "    <tr>\n",
       "      <th></th>\n",
       "      <th></th>\n",
       "      <th>0</th>\n",
       "      <th>1</th>\n",
       "      <th>2</th>\n",
       "      <th>3</th>\n",
       "      <th>4</th>\n",
       "      <th>logL</th>\n",
       "    </tr>\n",
       "    <tr>\n",
       "      <th></th>\n",
       "      <th>labels</th>\n",
       "      <th></th>\n",
       "      <th></th>\n",
       "      <th></th>\n",
       "      <th></th>\n",
       "      <th></th>\n",
       "      <th>$\\ln\\mathcal{L}$</th>\n",
       "    </tr>\n",
       "    <tr>\n",
       "      <th></th>\n",
       "      <th>weights</th>\n",
       "      <th></th>\n",
       "      <th></th>\n",
       "      <th></th>\n",
       "      <th></th>\n",
       "      <th></th>\n",
       "      <th></th>\n",
       "    </tr>\n",
       "  </thead>\n",
       "  <tbody>\n",
       "    <tr>\n",
       "      <th>0</th>\n",
       "      <th>5.222541e-59</th>\n",
       "      <td>-0.882097</td>\n",
       "      <td>-0.430561</td>\n",
       "      <td>-0.953572</td>\n",
       "      <td>0.998048</td>\n",
       "      <td>2.868877</td>\n",
       "      <td>-275.818559</td>\n",
       "    </tr>\n",
       "    <tr>\n",
       "      <th>1</th>\n",
       "      <th>1.431912e-53</th>\n",
       "      <td>0.821672</td>\n",
       "      <td>-0.945556</td>\n",
       "      <td>-0.981415</td>\n",
       "      <td>-0.293004</td>\n",
       "      <td>2.618248</td>\n",
       "      <td>-250.755584</td>\n",
       "    </tr>\n",
       "    <tr>\n",
       "      <th>2</th>\n",
       "      <th>7.906553e-47</th>\n",
       "      <td>-0.665883</td>\n",
       "      <td>0.874264</td>\n",
       "      <td>0.610029</td>\n",
       "      <td>-0.853048</td>\n",
       "      <td>2.307565</td>\n",
       "      <td>-219.687299</td>\n",
       "    </tr>\n",
       "    <tr>\n",
       "      <th>3</th>\n",
       "      <th>4.190417e-45</th>\n",
       "      <td>0.437212</td>\n",
       "      <td>0.999212</td>\n",
       "      <td>-0.764279</td>\n",
       "      <td>0.673987</td>\n",
       "      <td>2.227960</td>\n",
       "      <td>-211.726842</td>\n",
       "    </tr>\n",
       "    <tr>\n",
       "      <th>4</th>\n",
       "      <th>1.069197e-44</th>\n",
       "      <td>-0.949351</td>\n",
       "      <td>-0.877672</td>\n",
       "      <td>-0.660285</td>\n",
       "      <td>-0.318551</td>\n",
       "      <td>2.209027</td>\n",
       "      <td>-209.833555</td>\n",
       "    </tr>\n",
       "    <tr>\n",
       "      <th>...</th>\n",
       "      <th>...</th>\n",
       "      <td>...</td>\n",
       "      <td>...</td>\n",
       "      <td>...</td>\n",
       "      <td>...</td>\n",
       "      <td>...</td>\n",
       "      <td>...</td>\n",
       "    </tr>\n",
       "    <tr>\n",
       "      <th>1586</th>\n",
       "      <th>3.691834e-03</th>\n",
       "      <td>0.009196</td>\n",
       "      <td>-0.007120</td>\n",
       "      <td>0.008019</td>\n",
       "      <td>0.000889</td>\n",
       "      <td>0.000200</td>\n",
       "      <td>11.049137</td>\n",
       "    </tr>\n",
       "    <tr>\n",
       "      <th>1587</th>\n",
       "      <th>3.691922e-03</th>\n",
       "      <td>0.011081</td>\n",
       "      <td>0.003176</td>\n",
       "      <td>0.002416</td>\n",
       "      <td>-0.007820</td>\n",
       "      <td>0.000200</td>\n",
       "      <td>11.049185</td>\n",
       "    </tr>\n",
       "    <tr>\n",
       "      <th>1588</th>\n",
       "      <th>3.694208e-03</th>\n",
       "      <td>-0.000353</td>\n",
       "      <td>-0.007694</td>\n",
       "      <td>0.011311</td>\n",
       "      <td>-0.000497</td>\n",
       "      <td>0.000187</td>\n",
       "      <td>11.050423</td>\n",
       "    </tr>\n",
       "    <tr>\n",
       "      <th>1589</th>\n",
       "      <th>3.695580e-03</th>\n",
       "      <td>-0.012248</td>\n",
       "      <td>0.003779</td>\n",
       "      <td>0.001581</td>\n",
       "      <td>-0.003645</td>\n",
       "      <td>0.000180</td>\n",
       "      <td>11.051165</td>\n",
       "    </tr>\n",
       "    <tr>\n",
       "      <th>1590</th>\n",
       "      <th>3.712521e-03</th>\n",
       "      <td>-0.007910</td>\n",
       "      <td>0.004886</td>\n",
       "      <td>0.001465</td>\n",
       "      <td>0.000138</td>\n",
       "      <td>0.000089</td>\n",
       "      <td>11.060313</td>\n",
       "    </tr>\n",
       "  </tbody>\n",
       "</table>\n",
       "<p>1591 rows × 6 columns</p>\n",
       "</div>"
      ],
      "text/plain": [
       "                          0         1  ...         4           logL\n",
       "labels                                 ...           $\\ln\\mathca...\n",
       "     weights                           ...                         \n",
       "0    5.222541e-59 -0.882097 -0.430561  ...  2.868877    -275.818559\n",
       "1    1.431912e-53  0.821672 -0.945556  ...  2.618248    -250.755584\n",
       "2    7.906553e-47 -0.665883  0.874264  ...  2.307565    -219.687299\n",
       "3    4.190417e-45  0.437212  0.999212  ...  2.227960    -211.726842\n",
       "4    1.069197e-44 -0.949351 -0.877672  ...  2.209027    -209.833555\n",
       "...                     ...       ...  ...       ...            ...\n",
       "1586 3.691834e-03  0.009196 -0.007120  ...  0.000200      11.049137\n",
       "1587 3.691922e-03  0.011081  0.003176  ...  0.000200      11.049185\n",
       "1588 3.694208e-03 -0.000353 -0.007694  ...  0.000187      11.050423\n",
       "1589 3.695580e-03 -0.012248  0.003779  ...  0.000180      11.051165\n",
       "1590 3.712521e-03 -0.007910  0.004886  ...  0.000089      11.060313\n",
       "\n",
       "[1591 rows x 6 columns]"
      ]
     },
     "execution_count": 19,
     "metadata": {},
     "output_type": "execute_result"
    }
   ],
   "source": [
    "samples"
   ]
  },
  {
   "cell_type": "code",
   "execution_count": 20,
   "metadata": {},
   "outputs": [
    {
     "data": {
      "text/plain": [
       "      labels          \n",
       "0                          0.028916\n",
       "1                          0.021470\n",
       "2                         -0.000604\n",
       "3                         -0.012633\n",
       "4                          0.001457\n",
       "logL  $\\ln\\mathcal{L}$    10.923469\n",
       "Name: (1407, 0.00799740478789765), dtype: float64"
      ]
     },
     "execution_count": 20,
     "metadata": {},
     "output_type": "execute_result"
    }
   ],
   "source": [
    "samples.iloc[1407]"
   ]
  },
  {
   "cell_type": "code",
   "execution_count": 18,
   "metadata": {},
   "outputs": [
    {
     "data": {
      "text/plain": [
       "-90.9510396007143"
      ]
     },
     "execution_count": 18,
     "metadata": {},
     "output_type": "execute_result"
    }
   ],
   "source": [
    "theta = samples.iloc[100][:nDims]\n",
    "likelihood(theta)[0] * 2"
   ]
  }
 ],
 "metadata": {
  "kernelspec": {
   "display_name": "env",
   "language": "python",
   "name": "python3"
  },
  "language_info": {
   "codemirror_mode": {
    "name": "ipython",
    "version": 3
   },
   "file_extension": ".py",
   "mimetype": "text/x-python",
   "name": "python",
   "nbconvert_exporter": "python",
   "pygments_lexer": "ipython3",
   "version": "3.10.6"
  },
  "orig_nbformat": 4
 },
 "nbformat": 4,
 "nbformat_minor": 2
}
