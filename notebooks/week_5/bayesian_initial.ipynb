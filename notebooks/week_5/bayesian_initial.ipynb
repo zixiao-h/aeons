{
 "cells": [
  {
   "cell_type": "code",
   "execution_count": 1,
   "metadata": {},
   "outputs": [],
   "source": [
    "import numpy as np\n",
    "import matplotlib.pyplot as plt\n",
    "import warnings\n",
    "warnings.filterwarnings(\"ignore\", category=FutureWarning)\n",
    "warnings.filterwarnings(\"ignore\", category=UserWarning)\n",
    "from scipy.optimize import minimize\n",
    "\n",
    "# Load test samples\n",
    "from aeons.tools import pickle_in\n",
    "samples_g_1, samples_c_1, samples_w_1 = pickle_in(\"../test_samples/samples_1.pickle\")\n",
    "\n",
    "from aeons.covariance import logX_mu, logX_covinv_chol, points_at_iteration, X_mu, X_Sigmainv, data_at_iteration\n",
    "from aeons.true_distribution import generate_Xs"
   ]
  },
  {
   "attachments": {},
   "cell_type": "markdown",
   "metadata": {},
   "source": [
    "#### **Derive marginalised probability**\n",
    "Ultimately want to maximise $P(\\theta | \\log \\bm{L})$. Bayes' rule to invert in terms of known quantities \n",
    "\n",
    "$$P(\\theta | \\log \\bm{L}) = \\int P(\\bm{X}, \\theta | \\log \\bm{L})\\ d\\bm{X} = \\int \\frac{P(\\bm{X}, \\theta, \\log \\bm{L})}{P(\\log \\bm{L})}$$\n",
    "\n",
    "$$ = \\int \\frac{P(\\log \\bm{L}|\\bm{X}, \\theta) P(\\theta | \\bm{X}) P(\\bm{X})}{P(\\log \\bm{L})}\\ \\propto \\int P(\\bm{X}) P(\\log \\bm{L} | \\bm{X}, \\theta)\\ d\\bm{X}$$\n",
    "\n",
    "where we assumed $P(\\log \\bm{L})$ and $P (\\theta|\\bm{X})$ to be constant. Last two quantities can be calculated:\n",
    "$$ P(\\bm{X}) = \\frac{1}{2\\pi |\\Sigma|} \\exp\\left[- \\frac{1}{2} (\\bm{X} - \\bm{\\mu})^T \\Sigma^{-1} (\\bm{X} - \\bm{\\mu})\\right] $$ \n",
    "\n",
    "$$ P(\\log \\bm{L} | \\bm{X}, \\theta) = \\prod_{i} \\delta(\\log L_i - f(X_i, \\theta)) $$\n",
    "\n",
    "$$\\therefore\n",
    "P(\\theta | \\log \\bm{L}) = \\int \\frac{1}{2\\pi |\\Sigma|} \\exp\\left[- \\frac{1}{2} (\\bm{X} - \\bm{\\mu})^T \\Sigma^{-1} (\\bm{X} - \\bm{\\mu})\\right] \\left(\\prod_{i} \\delta(\\log L_i - f(X_i, \\theta))\\right)\\ d\\bm{X}\n",
    "$$"
   ]
  },
  {
   "attachments": {},
   "cell_type": "markdown",
   "metadata": {},
   "source": [
    "#### **Evaluate integral**\n",
    "\n",
    "Consider the identity\n",
    "\n",
    "$$ \\delta(g(x)) = \\sum_{\\text{roots}\\ j} \\frac{\\delta(x - x_j)}{|g'(x_j)|}$$ \n",
    "\n",
    "For the above case we expect only one root for each $X_i$, namely at $\\log L_i = f(X_i^*, \\theta)$. The product reduces to \n",
    "\n",
    "$$\\prod_{i} \\frac{\\delta(X_i - X_i^*)}{|f'(X_i^*, \\theta)|} $$\n",
    "\n",
    "Putting this together, the integral evaluates to \n",
    "\n",
    "$$ P(\\theta | \\log \\bm{L}) = \\frac{1}{2\\pi |\\Sigma|} \\left(\\prod_i \\frac{1}{|f'(X_i^*, \\theta)|}\\right) \\exp[- \\frac{1}{2} (\\bm{X^*} - \\bm{\\mu})^T \\Sigma^{-1} (\\bm{X^*} - \\bm{\\mu})]$$\n",
    "\n",
    "where the $\\bm{X^*}$ are given by the inverse of $f$. Discard normalising term:\n",
    "\n",
    "$$ \\log P(\\theta | \\log \\bm{L}) = - \\sum_i |f'(X_i^*, \\theta)| - \\frac{1}{2} (\\bm{X^*} - \\bm{\\mu})^T \\Sigma^{-1} (\\bm{X^*} - \\bm{\\mu})$$"
   ]
  },
  {
   "attachments": {},
   "cell_type": "markdown",
   "metadata": {},
   "source": [
    "#### **Substitute specific form of $f$**\n",
    "\n",
    "Invert $f$ to find $X_i^*$ and $|f'(X_i^*)|$\n",
    "\n",
    "$$ f(X_i, \\theta) = f(X_i, d) = - X_i^{2/d} $$\n",
    "$$ X_i^* = (-\\log L_i)^{d/2} $$\n",
    "\n",
    "$$ f'(X_i, d) = - \\frac{2}{d} X_i^{2/d - 1} $$\n",
    "\n",
    "$$ \\therefore \\log P(\\theta | \\log \\bm{L}) = - \\sum_i \\left|\\frac{2}{d} X_i^*{^{2/d - 1}}\\right| - \\frac{1}{2} (\\bm{X^*} - \\bm{\\mu})^T \\Sigma^{-1} (\\bm{X^*} - \\bm{\\mu})$$\n",
    "\n",
    "Maximisation of final expression implemented below"
   ]
  },
  {
   "attachments": {},
   "cell_type": "markdown",
   "metadata": {},
   "source": [
    "### Try on $X^{2/d}$"
   ]
  },
  {
   "cell_type": "code",
   "execution_count": 45,
   "metadata": {},
   "outputs": [],
   "source": [
    "def simple_logL_X(X, d):\n",
    "    return -X**(2/d)\n",
    "\n",
    "def simple_X_logL(logL, d):\n",
    "    return (-logL)**(d/2)\n",
    "\n",
    "def simple_logLprime(X, d):\n",
    "    return - (2/d) * X**(2/d - 1)\n",
    "\n",
    "def logPr(logL, mean, covinv, d):\n",
    "    Xstar = simple_X_logL(logL, d)\n",
    "    return - 1/2 * (Xstar - mean).T @ covinv @ (Xstar - mean) \n",
    "\n",
    "def logPr_bayes(logL, mean, covinv, d):\n",
    "    Xstar = simple_X_logL(logL, d)\n",
    "    abs_fprimes = abs(simple_logLprime(Xstar, d))\n",
    "    return - np.sum(abs_fprimes) - 1/2 * (Xstar - mean).T @ covinv @ (Xstar - mean)"
   ]
  },
  {
   "cell_type": "code",
   "execution_count": 71,
   "metadata": {},
   "outputs": [],
   "source": [
    "def simple_logL_logX(logX, d):\n",
    "    X = np.exp(logX)\n",
    "    return -X**(2/d)\n",
    "\n",
    "\n",
    "def simple_logX_logL(logL, d):\n",
    "    return np.log((-logL)**(d/2))\n",
    "\n",
    "def simple_logLprime_logX(logX, d):\n",
    "    X = np.exp(logX)\n",
    "    return - 2/d * X**(2/d - 1)\n",
    "\n",
    "def logPr_bayes_logX(logL, mean, covinv, d):\n",
    "    logXstar = simple_logX_logL(logL, d)\n",
    "    abs_fprimes = abs(simple_logLprime_logX(logXstar, d))\n",
    "    return - np.sum(abs_fprimes) - 1/2 * (logXstar - mean).T @ covinv @ (logXstar - mean)"
   ]
  },
  {
   "cell_type": "code",
   "execution_count": 68,
   "metadata": {},
   "outputs": [],
   "source": [
    "nk = 500 * np.ones(1000)\n",
    "mean_X = X_mu(nk)\n",
    "covinv_X = X_Sigmainv(nk)\n",
    "covinv_ls = np.eye(len(mean_X))\n",
    "\n",
    "mean_logX = logX_mu(nk)\n",
    "covinv_logX = logX_covinv_chol(nk)"
   ]
  },
  {
   "cell_type": "code",
   "execution_count": 69,
   "metadata": {},
   "outputs": [],
   "source": [
    "Xs = generate_Xs(nk)\n",
    "logLs = simple_logL_X(Xs, d=20)\n",
    "ds = np.linspace(1, 40, 200)"
   ]
  },
  {
   "cell_type": "code",
   "execution_count": 63,
   "metadata": {},
   "outputs": [
    {
     "name": "stdout",
     "output_type": "stream",
     "text": [
      "19.030150753768844\n",
      "17.85427135678392\n"
     ]
    },
    {
     "data": {
      "image/png": "[encoded data removed]",
      "text/plain": [
       "<Figure size 640x480 with 1 Axes>"
      ]
     },
     "metadata": {},
     "output_type": "display_data"
    }
   ],
   "source": [
    "# Least squares\n",
    "prs = np.zeros_like(ds)\n",
    "for i, d in enumerate(ds):\n",
    "    prs[i] = logPr(logLs, mean_X, covinv_ls, d)\n",
    "plt.plot(ds, prs)\n",
    "print(ds[np.argmax(prs)])\n",
    "\n",
    "# Bayesian gaussian\n",
    "logprs = np.zeros_like(ds)\n",
    "for i, d in enumerate(ds):\n",
    "    logprs[i] = logPr_bayes(logLs, mean_X, covinv_X, d)\n",
    "plt.plot(ds, logprs)\n",
    "print(ds[np.argmax(logprs)])"
   ]
  },
  {
   "attachments": {},
   "cell_type": "markdown",
   "metadata": {},
   "source": [
    "### Try on simpler functions"
   ]
  },
  {
   "cell_type": "code",
   "execution_count": 72,
   "metadata": {},
   "outputs": [],
   "source": [
    "def minimise_d(inverse, logL, mean, cov_inv, x0):\n",
    "    def func(theta):\n",
    "        Xstar = inverse(logL, theta)\n",
    "        abs_fprimes = abs(d * np.ones_like(Xstar))\n",
    "        return - np.sum(abs_fprimes) - 1/2 * (Xstar - mean).T @ cov_inv @ (Xstar - mean)\n",
    "    solution = minimize(func, x0)\n",
    "    return solution\n",
    "\n",
    "def minimise_model(func, inverse, nk, mean, covinv, x0, dtrue=10):\n",
    "    Xs = generate_Xs(nk)\n",
    "    y = func(Xs, dtrue)\n",
    "    dbest = minimise_d(inverse, y, mean, covinv, x0).x\n",
    "    return dbest"
   ]
  },
  {
   "cell_type": "code",
   "execution_count": 2,
   "metadata": {},
   "outputs": [],
   "source": [
    "def linear(X, theta):\n",
    "    return theta * X\n",
    "\n",
    "def linear_inverse(y, theta):\n",
    "    return y/theta\n",
    "\n",
    "def quad(X, theta):\n",
    "    return theta * X**2\n",
    "\n",
    "def quad_inverse(y, theta):\n",
    "    return (y/theta)**(1/2)\n",
    "\n",
    "def log(X, theta):\n",
    "    return theta * np.log(X)\n",
    "\n",
    "def log_inverse(y, theta):\n",
    "    return np.exp(y/theta)"
   ]
  },
  {
   "cell_type": "code",
   "execution_count": 3,
   "metadata": {},
   "outputs": [],
   "source": [
    "def minimise_linear(y, mean, covinv, x0):\n",
    "    def func(theta):\n",
    "        Xstar = y / theta\n",
    "        return 1/2 * (Xstar - mean).T @ covinv @ (Xstar - mean)\n",
    "    solution = minimize(func, x0)\n",
    "    return solution\n",
    "\n",
    "def minimise_linear_bayes(y, mean, covinv, x0):\n",
    "    def func(theta):\n",
    "        Xstar = y / theta\n",
    "        abs_fprimes = abs(theta * np.ones_like(Xstar))\n",
    "        return np.sum(abs_fprimes) + 1/2 * (Xstar - mean).T @ covinv @ (Xstar - mean)\n",
    "    solution = minimize(func, x0)\n",
    "    return solution"
   ]
  },
  {
   "cell_type": "code",
   "execution_count": 35,
   "metadata": {},
   "outputs": [],
   "source": [
    "nk = 500 * np.ones(100)\n",
    "mean_X = X_mu(nk)\n",
    "covinv_X = X_Sigmainv(nk)\n",
    "covinv_ls = np.eye(len(mean_X))"
   ]
  },
  {
   "cell_type": "code",
   "execution_count": 42,
   "metadata": {},
   "outputs": [
    {
     "name": "stdout",
     "output_type": "stream",
     "text": [
      "Bayes: 9.967 +/- 0.012\n",
      "Gaussian: 10.006 +/- 0.013\n",
      "LS: 10.020 +/- 0.139\n"
     ]
    }
   ],
   "source": [
    "dtrue = 10\n",
    "repeats = 20\n",
    "bs = np.zeros(repeats)\n",
    "cs = np.zeros(repeats)\n",
    "ls = np.zeros(repeats)\n",
    "for i in range(repeats):\n",
    "    Xs = generate_Xs(nk)\n",
    "    y = linear(Xs, dtrue)\n",
    "    bs[i] = minimise_linear_bayes(y, mean_X, covinv_X, 10).x\n",
    "    cs[i] = minimise_linear(y, mean_X, covinv_X, 10).x\n",
    "    ls[i] = minimise_linear(y, mean_X, covinv_ls, 10).x\n",
    "\n",
    "print(f\"Bayes: {bs.mean():.3f} +/- {bs.std():.3f}\")\n",
    "print(f\"Gaussian: {cs.mean():.3f} +/- {cs.std():.3f}\")\n",
    "print(f\"LS: {ls.mean():.3f} +/- {ls.std():.3f}\")"
   ]
  },
  {
   "cell_type": "code",
   "execution_count": 29,
   "metadata": {},
   "outputs": [],
   "source": [
    "Xs = generate_Xs(nk)\n",
    "y = linear(Xs, dtrue)"
   ]
  },
  {
   "cell_type": "code",
   "execution_count": 30,
   "metadata": {},
   "outputs": [
    {
     "data": {
      "text/plain": [
       "array([10.04561819])"
      ]
     },
     "execution_count": 30,
     "metadata": {},
     "output_type": "execute_result"
    }
   ],
   "source": [
    "minimise_linear(y, mean_X, covinv_X, 10).x"
   ]
  },
  {
   "cell_type": "code",
   "execution_count": 31,
   "metadata": {},
   "outputs": [
    {
     "data": {
      "text/plain": [
       "array([9.6838039])"
      ]
     },
     "execution_count": 31,
     "metadata": {},
     "output_type": "execute_result"
    }
   ],
   "source": [
    "minimise_linear_bayes(y, mean_X, covinv_X, 10).x"
   ]
  }
 ],
 "metadata": {
  "kernelspec": {
   "display_name": "Python 3.10.6 ('env')",
   "language": "python",
   "name": "python3"
  },
  "language_info": {
   "codemirror_mode": {
    "name": "ipython",
    "version": 3
   },
   "file_extension": ".py",
   "mimetype": "text/x-python",
   "name": "python",
   "nbconvert_exporter": "python",
   "pygments_lexer": "ipython3",
   "version": "3.10.6"
  },
  "orig_nbformat": 4,
  "vscode": {
   "interpreter": {
    "hash": "f04b3df41c937fb946d36e0c914ccce305e67d8dbbe371762424715e8a219369"
   }
  }
 },
 "nbformat": 4,
 "nbformat_minor": 2
}
