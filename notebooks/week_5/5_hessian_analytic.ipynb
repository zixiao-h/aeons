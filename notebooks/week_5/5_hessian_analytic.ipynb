{
 "cells": [
  {
   "cell_type": "code",
   "execution_count": 67,
   "metadata": {},
   "outputs": [],
   "source": [
    "import sympy as sp\n",
    "import numpy as np"
   ]
  },
  {
   "cell_type": "code",
   "execution_count": 68,
   "metadata": {},
   "outputs": [],
   "source": [
    "logLmax, d, sigma = sp.symbols('\\log{L_\\mathrm{max}} d \\sigma')\n",
    "X_i, logL_i, logL_j = sp.symbols('X_i \\log{L_i} \\log{L_j}')\n",
    "mu = sp.symbols('\\mu')"
   ]
  },
  {
   "cell_type": "code",
   "execution_count": 72,
   "metadata": {},
   "outputs": [],
   "source": [
    "def f(X_i, logLmax, d, sigma):\n",
    "    return logLmax - X_i**(2/d)/(2*sigma**2)\n",
    "\n",
    "def fprime(X_i, logLmax, d, sigma):\n",
    "    return sp.diff(f(X_i, logLmax, d, sigma), X_i)\n",
    "\n",
    "def abs_fprime(X_i, logLmax, d, sigma):\n",
    "    return - fprime(X_i, logLmax, d, sigma)\n",
    "\n",
    "def X_logLi(logL_i, logLmax, d, sigma):\n",
    "    return (2*sigma**2 * (logLmax - logL_i))**(d/2)\n",
    "\n",
    "def abs_fprime_Xstar(logL_i, logLmax, d, sigma):\n",
    "    Xstar_i = X_logLi(logL_i, logLmax, d, sigma)\n",
    "    return abs_fprime(X_i, logLmax, d, sigma).subs(X_i, Xstar_i)"
   ]
  },
  {
   "cell_type": "code",
   "execution_count": 78,
   "metadata": {},
   "outputs": [
    {
     "data": {
      "text/latex": [
       "$\\displaystyle \\frac{\\left(2 \\sigma^{2} \\left(\\log{L_\\mathrm{max}} - \\log{L_i}\\right)\\right)^{- \\frac{d}{2}} \\left(\\frac{d^{3} \\log{\\left(2 \\sigma^{2} \\left(\\log{L_\\mathrm{max}} - \\log{L_i}\\right) \\right)}}{4} - \\frac{d^{2} \\log{\\left(2 \\sigma^{2} \\left(\\log{L_\\mathrm{max}} - \\log{L_i}\\right) \\right)}}{2} - \\frac{d \\left(d \\log{\\left(2 \\sigma^{2} \\left(\\log{L_\\mathrm{max}} - \\log{L_i}\\right) \\right)} - 2 \\log{\\left(\\left(2 \\sigma^{2} \\left(\\log{L_\\mathrm{max}} - \\log{L_i}\\right)\\right)^{\\frac{d}{2}} \\right)} + 2\\right)}{2} + d \\log{\\left(2 \\sigma^{2} \\left(\\log{L_\\mathrm{max}} - \\log{L_i}\\right) \\right)} - 2 \\log{\\left(\\left(2 \\sigma^{2} \\left(\\log{L_\\mathrm{max}} - \\log{L_i}\\right)\\right)^{\\frac{d}{2}} \\right)}\\right) \\left(\\left(2 \\sigma^{2} \\left(\\log{L_\\mathrm{max}} - \\log{L_i}\\right)\\right)^{\\frac{d}{2}}\\right)^{\\frac{2}{d}}}{\\sigma^{2} d^{3} \\left(\\log{L_\\mathrm{max}} - \\log{L_i}\\right)}$"
      ],
      "text/plain": [
       "(d**3*log(2*\\sigma**2*(\\log{L_\\mathrm{max}} - \\log{L_i}))/4 - d**2*log(2*\\sigma**2*(\\log{L_\\mathrm{max}} - \\log{L_i}))/2 - d*(d*log(2*\\sigma**2*(\\log{L_\\mathrm{max}} - \\log{L_i})) - 2*log((2*\\sigma**2*(\\log{L_\\mathrm{max}} - \\log{L_i}))**(d/2)) + 2)/2 + d*log(2*\\sigma**2*(\\log{L_\\mathrm{max}} - \\log{L_i})) - 2*log((2*\\sigma**2*(\\log{L_\\mathrm{max}} - \\log{L_i}))**(d/2)))*((2*\\sigma**2*(\\log{L_\\mathrm{max}} - \\log{L_i}))**(d/2))**(2/d)/(\\sigma**2*d**3*(2*\\sigma**2*(\\log{L_\\mathrm{max}} - \\log{L_i}))**(d/2)*(\\log{L_\\mathrm{max}} - \\log{L_i}))"
      ]
     },
     "execution_count": 78,
     "metadata": {},
     "output_type": "execute_result"
    }
   ],
   "source": [
    "sp.simplify(sp.diff(abs_fprime_Xstar(logL_i, logLmax, d, sigma), d, logLmax))"
   ]
  },
  {
   "cell_type": "code",
   "execution_count": 92,
   "metadata": {},
   "outputs": [],
   "source": [
    "def cross_terms(logL_i, logL_j, logLmax, d, sigma):\n",
    "    return (X_logLi(logL_i, logLmax, d, sigma) - mu) * (X_logLi(logL_j, logLmax, d, sigma) - mu)"
   ]
  },
  {
   "cell_type": "code",
   "execution_count": 97,
   "metadata": {},
   "outputs": [
    {
     "data": {
      "text/latex": [
       "$\\displaystyle \\frac{d^{2} \\left(\\frac{\\left(2 \\sigma^{2} \\left(\\log{L_\\mathrm{max}} - \\log{L_i}\\right)\\right)^{\\frac{d}{2}} \\left(2 \\sigma^{2} \\left(\\log{L_\\mathrm{max}} - \\log{L_j}\\right)\\right)^{\\frac{d}{2}}}{\\log{L_\\mathrm{max}} - \\log{L_j}} + \\frac{\\left(2 \\sigma^{2} \\left(\\log{L_\\mathrm{max}} - \\log{L_i}\\right)\\right)^{\\frac{d}{2}} \\left(2 \\sigma^{2} \\left(\\log{L_\\mathrm{max}} - \\log{L_j}\\right)\\right)^{\\frac{d}{2}}}{\\log{L_\\mathrm{max}} - \\log{L_i}} - \\frac{\\left(2 \\sigma^{2} \\left(\\log{L_\\mathrm{max}} - \\log{L_i}\\right)\\right)^{\\frac{d}{2}} \\left(\\mu - \\left(2 \\sigma^{2} \\left(\\log{L_\\mathrm{max}} - \\log{L_j}\\right)\\right)^{\\frac{d}{2}}\\right)}{\\log{L_\\mathrm{max}} - \\log{L_i}} - \\frac{\\left(2 \\sigma^{2} \\left(\\log{L_\\mathrm{max}} - \\log{L_j}\\right)\\right)^{\\frac{d}{2}} \\left(\\mu - \\left(2 \\sigma^{2} \\left(\\log{L_\\mathrm{max}} - \\log{L_i}\\right)\\right)^{\\frac{d}{2}}\\right)}{\\log{L_\\mathrm{max}} - \\log{L_j}}\\right)}{2 \\sigma}$"
      ],
      "text/plain": [
       "d**2*((2*\\sigma**2*(\\log{L_\\mathrm{max}} - \\log{L_i}))**(d/2)*(2*\\sigma**2*(\\log{L_\\mathrm{max}} - \\log{L_j}))**(d/2)/(\\log{L_\\mathrm{max}} - \\log{L_j}) + (2*\\sigma**2*(\\log{L_\\mathrm{max}} - \\log{L_i}))**(d/2)*(2*\\sigma**2*(\\log{L_\\mathrm{max}} - \\log{L_j}))**(d/2)/(\\log{L_\\mathrm{max}} - \\log{L_i}) - (2*\\sigma**2*(\\log{L_\\mathrm{max}} - \\log{L_i}))**(d/2)*(\\mu - (2*\\sigma**2*(\\log{L_\\mathrm{max}} - \\log{L_j}))**(d/2))/(\\log{L_\\mathrm{max}} - \\log{L_i}) - (2*\\sigma**2*(\\log{L_\\mathrm{max}} - \\log{L_j}))**(d/2)*(\\mu - (2*\\sigma**2*(\\log{L_\\mathrm{max}} - \\log{L_i}))**(d/2))/(\\log{L_\\mathrm{max}} - \\log{L_j}))/(2*\\sigma)"
      ]
     },
     "execution_count": 97,
     "metadata": {},
     "output_type": "execute_result"
    }
   ],
   "source": [
    "sp.diff(cross_terms(logL_i, logL_j, logLmax, d, sigma), logLmax, sigma)"
   ]
  },
  {
   "cell_type": "code",
   "execution_count": null,
   "metadata": {},
   "outputs": [],
   "source": []
  }
 ],
 "metadata": {
  "kernelspec": {
   "display_name": "Python 3.10.6 ('env')",
   "language": "python",
   "name": "python3"
  },
  "language_info": {
   "codemirror_mode": {
    "name": "ipython",
    "version": 3
   },
   "file_extension": ".py",
   "mimetype": "text/x-python",
   "name": "python",
   "nbconvert_exporter": "python",
   "pygments_lexer": "ipython3",
   "version": "3.10.6"
  },
  "orig_nbformat": 4,
  "vscode": {
   "interpreter": {
    "hash": "f04b3df41c937fb946d36e0c914ccce305e67d8dbbe371762424715e8a219369"
   }
  }
 },
 "nbformat": 4,
 "nbformat_minor": 2
}
