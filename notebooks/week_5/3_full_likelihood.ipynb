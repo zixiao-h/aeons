{
 "cells": [
  {
   "cell_type": "code",
   "execution_count": 3,
   "metadata": {},
   "outputs": [],
   "source": [
    "import numpy as np\n",
    "import matplotlib.pyplot as plt\n",
    "import warnings\n",
    "warnings.filterwarnings(\"ignore\", category=FutureWarning)\n",
    "warnings.filterwarnings(\"ignore\", category=UserWarning)\n",
    "from scipy.optimize import minimize\n",
    "\n",
    "# Load test samples\n",
    "from aeons.tools import pickle_in\n",
    "samples_g_1, samples_c_1, samples_w_1 = pickle_in(\"../test_samples/samples_1.pickle\")\n",
    "\n",
    "from aeons.covariance import logX_mu, logX_covinv_chol, points_at_iteration, X_mu, X_Sigmainv, data_at_iteration\n",
    "from aeons.true_distribution import generate_Xs\n",
    "from aeons.lm_partial import analytic_lm_params\n",
    "from bayes import logPr_bayes, logPr_gaussian, minimise_ls, minimise_bayes, minimise_gaussian\n",
    "from likelihoods import likelihood"
   ]
  },
  {
   "cell_type": "markdown",
   "metadata": {},
   "source": [
    "### Try on real likelihood model"
   ]
  },
  {
   "cell_type": "code",
   "execution_count": 2,
   "metadata": {},
   "outputs": [],
   "source": [
    "def full_like():\n",
    "    def func(X, theta):\n",
    "        logLmax, d, sigma = theta\n",
    "        return logLmax - X**(2/d)/(2*sigma**2)\n",
    "\n",
    "    def inverse(logL, theta):\n",
    "        logLmax, d, sigma = theta\n",
    "        return (2*sigma**2 * (logLmax - logL))**(d/2)\n",
    "\n",
    "    def prime(X, theta):\n",
    "        logLmax, d, sigma = theta\n",
    "        return - 1/(d*sigma**2) * X**(2/d - 1)\n",
    "\n",
    "    return likelihood(func, inverse, prime)\n",
    "\n",
    "full = full_like()"
   ]
  },
  {
   "attachments": {},
   "cell_type": "markdown",
   "metadata": {},
   "source": [
    "Check if the loss function diagnostic meets the eye test"
   ]
  },
  {
   "cell_type": "code",
   "execution_count": 4,
   "metadata": {},
   "outputs": [],
   "source": [
    "def loss_theta(theta_true, theta_predicted):\n",
    "    frac_diffs = (theta_true - theta_predicted)/theta_true\n",
    "    return np.sum(frac_diffs**2)"
   ]
  },
  {
   "cell_type": "code",
   "execution_count": 6,
   "metadata": {},
   "outputs": [],
   "source": [
    "nk, logL = data_at_iteration(samples_g_1, 100)\n",
    "mean_X = X_mu(nk)\n",
    "covinv_X = X_Sigmainv(nk)\n",
    "covinv_ls = np.eye(len(mean_X))"
   ]
  },
  {
   "cell_type": "code",
   "execution_count": 9,
   "metadata": {},
   "outputs": [
    {
     "name": "stdout",
     "output_type": "stream",
     "text": [
      "b 22\n",
      "l 28\n"
     ]
    }
   ],
   "source": [
    "b = 0\n",
    "l = 0\n",
    "theta_true = np.array([1, 10, 0.1])\n",
    "for i in range(50):\n",
    "    Xs = generate_Xs(nk)\n",
    "    y = full.func(Xs, theta_true)\n",
    "    theta_b =  minimise_bayes(y, full, mean_X, covinv_X, theta_true).x\n",
    "    theta_l = minimise_ls(y, full, mean_X, theta_true).x\n",
    "    if loss_theta(theta_true, theta_b) < loss_theta(theta_true, theta_l):\n",
    "        b += 1\n",
    "    else:\n",
    "        l += 1\n",
    "print('b', b)\n",
    "print('l', l)"
   ]
  },
  {
   "cell_type": "code",
   "execution_count": null,
   "metadata": {},
   "outputs": [
    {
     "name": "stdout",
     "output_type": "stream",
     "text": [
      "[-0.19023726  9.76205936  0.10020569] [-0.3088430612631896, 9.72222790754946, 0.10080065717795862]\n"
     ]
    }
   ],
   "source": [
    "theta_l = analytic_lm_params(logL, mean_X, 10)\n",
    "theta_b = minimise_bayes_full(logL, mean_X, covinv_X, theta_l).x\n",
    "print(theta_b, theta_l)"
   ]
  },
  {
   "cell_type": "code",
   "execution_count": null,
   "metadata": {},
   "outputs": [
    {
     "data": {
      "text/plain": [
       "-6243.92316118433"
      ]
     },
     "metadata": {},
     "output_type": "display_data"
    }
   ],
   "source": [
    "logPr_bayes_full(logL, mean_X, covinv_X, theta_b)"
   ]
  }
 ],
 "metadata": {
  "kernelspec": {
   "display_name": "Python 3.10.6 ('env')",
   "language": "python",
   "name": "python3"
  },
  "language_info": {
   "codemirror_mode": {
    "name": "ipython",
    "version": 3
   },
   "file_extension": ".py",
   "mimetype": "text/x-python",
   "name": "python",
   "nbconvert_exporter": "python",
   "pygments_lexer": "ipython3",
   "version": "3.10.6"
  },
  "orig_nbformat": 4,
  "vscode": {
   "interpreter": {
    "hash": "f04b3df41c937fb946d36e0c914ccce305e67d8dbbe371762424715e8a219369"
   }
  }
 },
 "nbformat": 4,
 "nbformat_minor": 2
}
