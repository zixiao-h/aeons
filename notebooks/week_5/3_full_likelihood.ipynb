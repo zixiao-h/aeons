{
 "cells": [
  {
   "cell_type": "code",
   "execution_count": 1,
   "metadata": {},
   "outputs": [],
   "source": [
    "import numpy as np\n",
    "import matplotlib.pyplot as plt\n",
    "import warnings\n",
    "warnings.filterwarnings(\"ignore\", category=FutureWarning)\n",
    "warnings.filterwarnings(\"ignore\", category=UserWarning)\n",
    "from scipy.optimize import minimize\n",
    "\n",
    "# Load test samples\n",
    "from aeons.tools import pickle_in\n",
    "samples_g_1, samples_c_1, samples_w_1 = pickle_in(\"../test_samples/samples_1.pickle\")\n",
    "\n",
    "from aeons.covariance import logX_mu, logX_covinv_chol, points_at_iteration, X_mu, X_Sigmainv, data_at_iteration\n",
    "from aeons.true_distribution import generate_Xs\n",
    "from aeons.lm_partial import analytic_lm_params"
   ]
  },
  {
   "cell_type": "markdown",
   "metadata": {},
   "source": [
    "### Try on real likelihood model"
   ]
  },
  {
   "cell_type": "code",
   "execution_count": null,
   "metadata": {},
   "outputs": [],
   "source": [
    "def full_logL_X(X, theta):\n",
    "    logLmax, d, sigma = theta\n",
    "    return logLmax - X**(2/d)/(2*sigma**2)\n",
    "\n",
    "def full_X_logL(logL, theta):\n",
    "    logLmax, d, sigma = theta\n",
    "    return (2*sigma**2 * (logLmax - logL))**(d/2)\n",
    "\n",
    "def full_logL_prime(X, theta):\n",
    "    logLmax, d, sigma = theta\n",
    "    return - 1/(d*sigma**2) * X**(2/d - 1)\n",
    "\n",
    "def logPr_full(logL, mean, covinv, theta):\n",
    "    Xstar = full_X_logL(logL, theta)\n",
    "    return - 1/2 * (Xstar - mean).T @ covinv @ (Xstar - mean) \n",
    "\n",
    "def logPr_bayes_full(logL, mean, covinv, theta):\n",
    "    Xstar = full_X_logL(logL, theta)\n",
    "    log_abs_fprimes = np.log(abs(full_logL_prime(Xstar, theta)))\n",
    "    return - np.sum(log_abs_fprimes) - 1/2 * (Xstar - mean).T @ covinv @ (Xstar - mean)\n",
    "\n",
    "def minimise_bayes_full(logL, mean, covinv, x0):\n",
    "    def func(theta):\n",
    "        return - logPr_bayes_full(logL, mean, covinv, theta)\n",
    "    solution = minimize(func, x0, bounds=((logL.max(), np.inf), (0, np.inf), (0, np.inf)))\n",
    "    return solution\n",
    "\n",
    "def minimise_gaussian_full(logL, mean, covinv, x0):\n",
    "    def func(theta):\n",
    "        return - logPr_full(logL, mean, covinv, theta)\n",
    "    solution = minimize(func, x0)\n",
    "    return solution"
   ]
  },
  {
   "cell_type": "code",
   "execution_count": null,
   "metadata": {},
   "outputs": [],
   "source": [
    "nk, logL = data_at_iteration(samples_g_1, 8000)\n",
    "mean_X = X_mu(nk)\n",
    "covinv_X = X_Sigmainv(nk)\n",
    "covinv_ls = np.eye(len(mean_X))"
   ]
  },
  {
   "cell_type": "code",
   "execution_count": null,
   "metadata": {},
   "outputs": [
    {
     "name": "stdout",
     "output_type": "stream",
     "text": [
      "[-0.19023726  9.76205936  0.10020569] [-0.3088430612631896, 9.72222790754946, 0.10080065717795862]\n"
     ]
    }
   ],
   "source": [
    "theta_l = analytic_lm_params(logL, mean_X, 10)\n",
    "theta_b = minimise_bayes_full(logL, mean_X, covinv_X, theta_l).x\n",
    "print(theta_b, theta_l)"
   ]
  },
  {
   "cell_type": "code",
   "execution_count": null,
   "metadata": {},
   "outputs": [
    {
     "data": {
      "text/plain": [
       "-6243.92316118433"
      ]
     },
     "metadata": {},
     "output_type": "display_data"
    }
   ],
   "source": [
    "logPr_bayes_full(logL, mean_X, covinv_X, theta_b)"
   ]
  }
 ],
 "metadata": {
  "kernelspec": {
   "display_name": "Python 3.10.6 ('env')",
   "language": "python",
   "name": "python3"
  },
  "language_info": {
   "codemirror_mode": {
    "name": "ipython",
    "version": 3
   },
   "file_extension": ".py",
   "mimetype": "text/x-python",
   "name": "python",
   "nbconvert_exporter": "python",
   "pygments_lexer": "ipython3",
   "version": "3.10.6"
  },
  "orig_nbformat": 4,
  "vscode": {
   "interpreter": {
    "hash": "f04b3df41c937fb946d36e0c914ccce305e67d8dbbe371762424715e8a219369"
   }
  }
 },
 "nbformat": 4,
 "nbformat_minor": 2
}
