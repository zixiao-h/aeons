{
 "cells": [
  {
   "cell_type": "code",
   "execution_count": 2,
   "metadata": {},
   "outputs": [],
   "source": [
    "import numpy as np\n",
    "import matplotlib.pyplot as plt\n",
    "import warnings\n",
    "warnings.filterwarnings(\"ignore\", category=FutureWarning)\n",
    "warnings.filterwarnings(\"ignore\", category=UserWarning)\n",
    "from scipy.optimize import minimize, least_squares\n",
    "\n",
    "# Load test samples\n",
    "from aeons.tools import pickle_in\n",
    "samples_g_1, samples_c_1, samples_w_1 = pickle_in(\"../test_samples/samples_1.pickle\")\n",
    "\n",
    "from aeons.covariance import logX_mu, logX_covinv_chol, points_at_iteration, X_mu, X_Sigma, X_Sigmainv, data_at_iteration\n",
    "from aeons.true_distribution import generate_Xs\n",
    "from aeons.lm_partial import analytic_lm_params\n",
    "from bayes import logPr_bayes, logPr_gaussian, minimise_ls, minimise_bayes, minimise_gaussian\n",
    "from likelihoods import linear_like, quad_like, log_like, simple_like, middle_like, full_like\n",
    "linear, quad, log = linear_like(), quad_like(), log_like()\n",
    "simple, middle, full = simple_like(), middle_like(), full_like()"
   ]
  },
  {
   "cell_type": "markdown",
   "metadata": {},
   "source": [
    "### Try on real likelihood model"
   ]
  },
  {
   "cell_type": "code",
   "execution_count": 24,
   "metadata": {},
   "outputs": [],
   "source": [
    "nk, logL = data_at_iteration(samples_g_1, 100)\n",
    "mean_X = X_mu(nk)\n",
    "covinv_X = X_Sigmainv(nk)\n",
    "covinv_ls = np.eye(len(mean_X))"
   ]
  },
  {
   "cell_type": "code",
   "execution_count": 3,
   "metadata": {},
   "outputs": [
    {
     "data": {
      "text/plain": [
       "array([-1.30379911,  9.37857891,  0.10133042])"
      ]
     },
     "execution_count": 3,
     "metadata": {},
     "output_type": "execute_result"
    }
   ],
   "source": [
    "minimise_bayes(logL, full, mean_X, covinv_X, [1, 10, 0.1]).x"
   ]
  },
  {
   "cell_type": "code",
   "execution_count": 4,
   "metadata": {},
   "outputs": [
    {
     "data": {
      "text/plain": [
       "array([-2.48426033,  9.0305156 ,  0.10273865])"
      ]
     },
     "execution_count": 4,
     "metadata": {},
     "output_type": "execute_result"
    }
   ],
   "source": [
    "minimise_ls(logL, full, mean_X, [1, 10, 0.1]).x"
   ]
  },
  {
   "cell_type": "code",
   "execution_count": 7,
   "metadata": {},
   "outputs": [
    {
     "data": {
      "text/plain": [
       "array([-34.36053544,   1.5287517 ,   0.04044445])"
      ]
     },
     "execution_count": 7,
     "metadata": {},
     "output_type": "execute_result"
    }
   ],
   "source": [
    "nk, logL = data_at_iteration(samples_c_1, 100)\n",
    "mean_X = X_mu(nk)\n",
    "covinv_X = X_Sigmainv(nk)\n",
    "minimise_bayes(logL, full, mean_X, covinv_X, [1, 10, 0.1], bounds=((logL.max(), np.inf), (0.1, np.inf), (0.01, np.inf))).x"
   ]
  },
  {
   "attachments": {},
   "cell_type": "markdown",
   "metadata": {},
   "source": [
    "### **Parameter loss function**\n",
    "Compare accuracy of Bayes vs LS predictions by defining a loss function for the predicted parameters $\\theta$ relative to the true parameters $\\theta_0$\n",
    "\n",
    "$$ L_2(\\theta) = \\sum_i (\\theta_i - \\theta_{0i})^2$$\n",
    "\n",
    "Lower loss gives 'better' prediction. Eye test shows that sometimes the 'better' prediction as determined above seems to match the curve less well.\n",
    "\n",
    "What we really want is for $\\theta$ to make the target volume $X_0 = 2^{d/2} \\sigma^d \\Gamma(1+\\frac{d}{2}) f$ as close to the true value as possible. So we should calculate and compare $X_0$ to see which $\\theta$ is more accurate.\n"
   ]
  },
  {
   "cell_type": "code",
   "execution_count": 5,
   "metadata": {},
   "outputs": [],
   "source": [
    "def L2_theta(theta_true, theta_predicted):\n",
    "    frac_diffs = (theta_true - theta_predicted)/theta_true\n",
    "    return np.sum(frac_diffs**2)\n",
    "\n",
    "def target_X(theta):\n",
    "    from scipy.special import gamma\n",
    "    _, d, sigma = theta\n",
    "    return 2**(d/2) * sigma**d * gamma(1 + d/2)\n",
    "\n",
    "def Ltarget_theta(theta_true, theta_predicted):\n",
    "    return abs(target_X(theta_true) - target_X(theta_predicted))"
   ]
  },
  {
   "cell_type": "code",
   "execution_count": 6,
   "metadata": {},
   "outputs": [],
   "source": [
    "nk, logL = data_at_iteration(samples_g_1, 100)\n",
    "mean_X = X_mu(nk)\n",
    "covinv_X = X_Sigmainv(nk)\n",
    "covinv_ls = np.eye(len(mean_X))"
   ]
  },
  {
   "cell_type": "code",
   "execution_count": 8,
   "metadata": {},
   "outputs": [
    {
     "name": "stdout",
     "output_type": "stream",
     "text": [
      "0: bayes 0, ls 1\n",
      "5: bayes 1, ls 5\n",
      "10: bayes 1, ls 10\n",
      "15: bayes 1, ls 15\n",
      "20: bayes 5, ls 16\n",
      "25: bayes 9, ls 17\n",
      "30: bayes 10, ls 21\n",
      "35: bayes 13, ls 23\n",
      "40: bayes 18, ls 23\n",
      "45: bayes 21, ls 25\n",
      "50: bayes 24, ls 27\n",
      "55: bayes 25, ls 31\n",
      "60: bayes 28, ls 33\n",
      "65: bayes 31, ls 35\n",
      "70: bayes 33, ls 38\n",
      "75: bayes 36, ls 40\n",
      "80: bayes 37, ls 44\n",
      "85: bayes 37, ls 49\n",
      "90: bayes 41, ls 50\n",
      "95: bayes 43, ls 53\n",
      "99: bayes 43, ls 57\n"
     ]
    }
   ],
   "source": [
    "b = 0\n",
    "l = 0\n",
    "theta_true = np.array([1, 10, 0.1])\n",
    "for i in range(100):\n",
    "    Xs = generate_Xs(nk)\n",
    "    y = full.func(Xs, theta_true)\n",
    "    theta_b =  minimise_bayes(y, full, mean_X, covinv_X, theta_true).x\n",
    "    theta_l = minimise_ls(y, full, mean_X, theta_true).x\n",
    "    if Ltarget_theta(theta_true, theta_b) < Ltarget_theta(theta_true, theta_l):\n",
    "        b += 1\n",
    "    else:\n",
    "        l += 1\n",
    "    if (i % 5) == 0:\n",
    "        print(f'{i}: bayes {b}, ls {l}')\n",
    "print(f'{i}: bayes {b}, ls {l}')"
   ]
  },
  {
   "attachments": {},
   "cell_type": "markdown",
   "metadata": {},
   "source": [
    "### **Different comparison methods**"
   ]
  },
  {
   "cell_type": "code",
   "execution_count": 16,
   "metadata": {},
   "outputs": [],
   "source": [
    "Xs = generate_Xs(nk)\n",
    "theta_true = np.array([1, 10, 0.1])\n",
    "y = full.func(Xs, theta_true)"
   ]
  },
  {
   "cell_type": "code",
   "execution_count": 19,
   "metadata": {},
   "outputs": [
    {
     "name": "stdout",
     "output_type": "stream",
     "text": [
      "[ 1.43380311 10.5185452   0.099552  ] [ 2.00592622 10.37999936  0.09897407]\n",
      "L2 loss: bayes better\n",
      "target X: ls better\n"
     ]
    }
   ],
   "source": [
    "theta_b =  minimise_bayes(y, full, mean_X, covinv_X, theta_true).x\n",
    "theta_l = minimise_ls(y, full, mean_X, theta_true).x\n",
    "print(theta_b, theta_l)\n",
    "if L2_theta(theta_true, theta_b) < L2_theta(theta_true, theta_l):\n",
    "    print('L2 loss: bayes better')\n",
    "else:\n",
    "    print('L2 loss: ls better')\n",
    "\n",
    "if Ltarget_theta(theta_true, theta_b) < Ltarget_theta(theta_true, theta_l):\n",
    "    print('target X: bayes better')\n",
    "else:\n",
    "    print('target X: ls better')"
   ]
  },
  {
   "cell_type": "code",
   "execution_count": 18,
   "metadata": {},
   "outputs": [
    {
     "data": {
      "image/png": "[encoded data removed]",
      "text/plain": [
       "<Figure size 1000x1000 with 1 Axes>"
      ]
     },
     "metadata": {},
     "output_type": "display_data"
    }
   ],
   "source": [
    "X_b = full.inverse(y, theta_b)\n",
    "X_l = full.inverse(y, theta_l)\n",
    "\n",
    "plt.figure(figsize=(10, 10))\n",
    "plt.plot(X_l, y, label='ls')\n",
    "plt.plot(X_b, y, label='bayes')\n",
    "plt.plot(Xs, y, 'x', ms=1)\n",
    "# plt.xlim(0.2, 0.4)\n",
    "# plt.ylim(-40, -32)\n",
    "plt.legend();"
   ]
  },
  {
   "cell_type": "code",
   "execution_count": null,
   "metadata": {},
   "outputs": [],
   "source": []
  }
 ],
 "metadata": {
  "kernelspec": {
   "display_name": "Python 3.10.6 ('env')",
   "language": "python",
   "name": "python3"
  },
  "language_info": {
   "codemirror_mode": {
    "name": "ipython",
    "version": 3
   },
   "file_extension": ".py",
   "mimetype": "text/x-python",
   "name": "python",
   "nbconvert_exporter": "python",
   "pygments_lexer": "ipython3",
   "version": "3.10.6"
  },
  "orig_nbformat": 4,
  "vscode": {
   "interpreter": {
    "hash": "f04b3df41c937fb946d36e0c914ccce305e67d8dbbe371762424715e8a219369"
   }
  }
 },
 "nbformat": 4,
 "nbformat_minor": 2
}
