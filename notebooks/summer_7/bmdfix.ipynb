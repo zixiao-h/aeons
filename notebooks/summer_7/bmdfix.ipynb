{
 "cells": [
  {
   "cell_type": "code",
   "execution_count": 1,
   "metadata": {},
   "outputs": [],
   "source": [
    "import numpy as np\n",
    "import matplotlib.pyplot as plt\n",
    "from aeons.utils import *\n",
    "from aeons.regress import *\n",
    "from aeons.endpoint import *\n",
    "from aeons.plotting import *\n",
    "figsettings()"
   ]
  },
  {
   "cell_type": "code",
   "execution_count": 149,
   "metadata": {},
   "outputs": [],
   "source": [
    "def get_beta(points, ndead):\n",
    "    logX = points.logX().iloc[ndead]\n",
    "    if logX < -points.D_KL():\n",
    "        return 1\n",
    "    def func(beta):\n",
    "        return logX + points.set_beta(beta).D_KL()\n",
    "    from scipy import optimize\n",
    "    res = optimize.root_scalar(func, bracket=[0, 1])\n",
    "    return res.root\n",
    "\n",
    "def find_betadone(points, ndead, epsilon=1e-3):\n",
    "    from scipy.special import logsumexp\n",
    "    def func(beta):\n",
    "        points_beta = points.set_beta(beta)\n",
    "        logZdead = logsumexp(points_beta.logw().iloc[:ndead])\n",
    "        logZlive = logsumexp(points_beta.logw().iloc[ndead:])\n",
    "        return np.square(-np.log(epsilon) - np.log(1 + np.exp(logZdead - logZlive)))\n",
    "    N = 100\n",
    "    funcs = np.zeros(N)\n",
    "    logbetas = np.linspace(-15, 0, 100)\n",
    "    betas = np.exp(logbetas)\n",
    "    for i, beta in enumerate(betas):\n",
    "        funcs[i] = func(beta)\n",
    "    grad = np.gradient(funcs)\n",
    "    index = ((grad[1:] * grad[:-1]) < 0).nonzero()\n",
    "    beta_done = betas[index]\n",
    "    return beta_done\n",
    "\n",
    "def get_dGs(samples, iterations, Nset=10):\n",
    "    \"\"\"Get the dG of the samples at each iteration\"\"\"\n",
    "    iterations = iterations.astype(int)\n",
    "    d_Gs = np.zeros(len(iterations))\n",
    "    d_Gs_std = np.zeros(len(iterations))\n",
    "    for i, iteration in enumerate(iterations):\n",
    "        points = points_at_iteration(samples, iteration)\n",
    "        beta = get_beta(points, iteration)\n",
    "        points = points.set_beta(beta)\n",
    "        d_Gs_i = points.d_G(Nset)\n",
    "        d_Gs[i] = d_Gs_i.mean()\n",
    "        d_Gs_std[i] = d_Gs_i.std()\n",
    "        # Print progress bar\n",
    "        print('\\r', f'Iteration {iteration} of {iterations[-1]}, {d_Gs[i]}', end='')\n",
    "    return d_Gs, d_Gs_std\n",
    "\n",
    "def get_logXfs(model, method, iterations, Nset=25, epsilon=1e-3, **kwargs):\n",
    "    \"\"\"Method takes in arguments (ndead, logL, nk, logZdead, Nset, **kwargs) and returns logXfs_set\"\"\"\n",
    "    N = len(iterations)\n",
    "    logXfs = np.zeros(N)\n",
    "    logXfs_std = np.zeros(N)\n",
    "    for i, ndead in enumerate(iterations):\n",
    "        logL, X_mean, nk, logZdead = model.data(ndead)\n",
    "        try:\n",
    "            logXfs_set, message = method(ndead, logL, nk, logZdead, Nset, **kwargs)\n",
    "            logXfs[i] = np.mean(logXfs_set)\n",
    "            logXfs_std[i] = np.std(logXfs_set)\n",
    "            print('\\r', f\"Iteration {ndead} of {iterations[-1]}, {len(logXfs_set)} samples\", end='')\n",
    "        except:\n",
    "            logXfs[i] = np.nan\n",
    "            logXfs_std[i] = np.nan\n",
    "            print('\\r', f\"Iteration {ndead} of {iterations[-1]}, model bad\", end='')\n",
    "    return logXfs, logXfs_std"
   ]
  },
  {
   "cell_type": "code",
   "execution_count": 2,
   "metadata": {},
   "outputs": [],
   "source": [
    "name, samples = get_samples('toy', 'planck_gaussian')\n",
    "model = EndModel(samples)\n",
    "true_endpoint = model.true_endpoint()"
   ]
  },
  {
   "cell_type": "code",
   "execution_count": 5,
   "metadata": {},
   "outputs": [
    {
     "data": {
      "text/plain": [
       "(0.0, 9.638743381308995e-08)"
      ]
     },
     "execution_count": 5,
     "metadata": {},
     "output_type": "execute_result"
    },
    {
     "data": {
      "image/png": "[encoded data removed]",
      "text/plain": [
       "<Figure size 400x200 with 1 Axes>"
      ]
     },
     "metadata": {},
     "output_type": "display_data"
    }
   ],
   "source": [
    "ndead = 10000\n",
    "logL, X_mean, nk, logZdead = model.data(ndead)\n",
    "points = points_at_iteration(samples, ndead)\n",
    "beta = get_beta(points, ndead)\n",
    "# beta = find_betadone(points, ndead)[0]\n",
    "points = points.set_beta(beta)\n",
    "d_Gs = points.d_G(25).values\n",
    "Nset = 25\n",
    "for j in range(Nset):\n",
    "    X = generate_Xs(nk)\n",
    "    # Pick a random element from the array of d_G\n",
    "    d_G = d_Gs[np.random.randint(len(d_Gs))]\n",
    "    theta = params_from_d(logL[ndead:], X[ndead:], d_G)\n",
    "    plt.plot(X_mean[ndead:], full.func(X_mean[ndead:], theta), lw=1, color='deepskyblue')\n",
    "    plt.plot(X[ndead:], logL[ndead:], lw=1, color='orange')\n",
    "plt.plot(X_mean[ndead:], logL[ndead:], lw=1, color='black')\n",
    "plt.xlim(0, X_mean[ndead])"
   ]
  },
  {
   "cell_type": "markdown",
   "metadata": {},
   "source": [
    "## Model dimensionalities for different choices of $\\beta^*$"
   ]
  },
  {
   "cell_type": "code",
   "execution_count": 29,
   "metadata": {},
   "outputs": [],
   "source": [
    "def get_betastar(points, ndead, epsilon=1e-3):\n",
    "    logX = points.logX()\n",
    "    logL = points.logL\n",
    "    def func(beta):\n",
    "        logw = beta * logL + logX\n",
    "        w = np.exp(logw - logw.max())\n",
    "        Zdead = np.sum(w[:ndead])\n",
    "        Zlive = np.sum(w[ndead:])\n",
    "        return Zlive/Zdead - epsilon\n",
    "    from scipy import optimize\n",
    "    try:\n",
    "        res = optimize.root_scalar(func, bracket=[0, 1])\n",
    "        return res.root\n",
    "    except:\n",
    "        return 0"
   ]
  },
  {
   "cell_type": "code",
   "execution_count": 30,
   "metadata": {},
   "outputs": [],
   "source": [
    "name, samples = get_samples('toy', 'gauss_16')\n",
    "model = EndModel(samples)\n",
    "true_endpoint = model.true_endpoint()\n",
    "true_logXf = samples.logX().iloc[true_endpoint]"
   ]
  },
  {
   "cell_type": "code",
   "execution_count": 48,
   "metadata": {},
   "outputs": [],
   "source": [
    "ndead = 10000\n",
    "logL, X_mean, nk, logZdead = model.data(ndead)\n",
    "points = points_at_iteration(samples, ndead).recompute()\n",
    "logX = np.log(X_mean)"
   ]
  },
  {
   "cell_type": "code",
   "execution_count": 49,
   "metadata": {},
   "outputs": [
    {
     "data": {
      "text/plain": [
       "<matplotlib.lines.Line2D at 0x7f3c6e4b4c40>"
      ]
     },
     "execution_count": 49,
     "metadata": {},
     "output_type": "execute_result"
    },
    {
     "data": {
      "image/png": "[encoded data removed]",
      "text/plain": [
       "<Figure size 400x200 with 1 Axes>"
      ]
     },
     "metadata": {},
     "output_type": "display_data"
    }
   ],
   "source": [
    "betastar = get_betastar(points, ndead)\n",
    "logw = get_logw(logL, logX, betastar)\n",
    "plt.plot(-logX, np.exp(logw - logw.max()))\n",
    "plt.axvline(-logX[ndead], lw=1, ls='--')"
   ]
  },
  {
   "cell_type": "code",
   "execution_count": 50,
   "metadata": {},
   "outputs": [
    {
     "name": "stderr",
     "output_type": "stream",
     "text": [
      "/tmp/ipykernel_10640/3675075547.py:9: RuntimeWarning: divide by zero encountered in scalar divide\n",
      "  return Zlive/Zdead - epsilon\n"
     ]
    },
    {
     "name": "stdout",
     "output_type": "stream",
     "text": [
      " Iteration 5147 of 30196"
     ]
    },
    {
     "name": "stderr",
     "output_type": "stream",
     "text": [
      "/tmp/ipykernel_10640/3675075547.py:9: RuntimeWarning: overflow encountered in scalar divide\n",
      "  return Zlive/Zdead - epsilon\n"
     ]
    },
    {
     "name": "stdout",
     "output_type": "stream",
     "text": [
      " Iteration 30196 of 30196"
     ]
    }
   ],
   "source": [
    "iterations = make_iterations(true_endpoint, 25)\n",
    "d_Gs = np.zeros(len(iterations))\n",
    "d_Gs_std = np.zeros(len(iterations))\n",
    "for i, ndead in enumerate(iterations):\n",
    "    points = points_at_iteration(samples, ndead)\n",
    "    # beta = get_beta(points, ndead)\n",
    "    betastar = get_betastar(points, ndead)\n",
    "    points = points.set_beta(betastar)\n",
    "    d_G = points.d_G(25).values\n",
    "    d_Gs[i] = np.mean(d_G)\n",
    "    d_Gs_std[i] = np.std(d_G)\n",
    "    print('\\r', f\"Iteration {ndead} of {iterations[-1]}\", end='')"
   ]
  },
  {
   "cell_type": "code",
   "execution_count": 51,
   "metadata": {},
   "outputs": [
    {
     "data": {
      "image/png": "[encoded data removed]",
      "text/plain": [
       "<Figure size 400x200 with 1 Axes>"
      ]
     },
     "metadata": {},
     "output_type": "display_data"
    }
   ],
   "source": [
    "logXs = samples.logX().iloc[iterations]\n",
    "plot_std(-logXs, d_Gs, d_Gs_std, d_Gs[-1], (0, 1.5))"
   ]
  },
  {
   "cell_type": "code",
   "execution_count": 63,
   "metadata": {},
   "outputs": [
    {
     "data": {
      "text/plain": [
       "13.82037743928887"
      ]
     },
     "execution_count": 63,
     "metadata": {},
     "output_type": "execute_result"
    }
   ],
   "source": [
    "points.set_beta(betastar).d_G()"
   ]
  },
  {
   "cell_type": "markdown",
   "metadata": {},
   "source": [
    "## $\\sigma(\\beta)$\n",
    "Requires a good estimate of true $\\mathcal{D}_\\mathrm{KL}$, which is not available (amounts to finding endpoint)"
   ]
  },
  {
   "cell_type": "code",
   "execution_count": 6,
   "metadata": {},
   "outputs": [],
   "source": [
    "def logLmax_beta(d, sigma, X_i, logL_i):\n",
    "    \"\"\"Returns logLmax as a function of d and the live points at a certain iteration i\"\"\"\n",
    "    n = len(X_i)\n",
    "    logsum = np.sum(logL_i)\n",
    "    sum_X_2d = np.sum(X_i**(2/d))\n",
    "    return 1/n * logsum + 1/(2*n*sigma**2) * sum_X_2d"
   ]
  },
  {
   "cell_type": "code",
   "execution_count": 20,
   "metadata": {},
   "outputs": [],
   "source": [
    "from aeons.toy_samples import gaussian_samples\n",
    "samples = gaussian_samples(nlive=500, ndims=10, sigma=0.01, seed=0)"
   ]
  },
  {
   "cell_type": "code",
   "execution_count": 22,
   "metadata": {},
   "outputs": [],
   "source": [
    "model = EndModel(samples)\n",
    "true_endpoint = model.true_endpoint()\n",
    "true_logXf = samples.logX().iloc[true_endpoint]"
   ]
  },
  {
   "cell_type": "code",
   "execution_count": 27,
   "metadata": {},
   "outputs": [
    {
     "data": {
      "text/plain": [
       "[-551.6611206408813, 10.365544886820137, 0.09228237841367827]"
      ]
     },
     "execution_count": 27,
     "metadata": {},
     "output_type": "execute_result"
    }
   ],
   "source": [
    "ndead = 5000\n",
    "logL, X_mean, nk, logZdead = model.data(ndead)\n",
    "points = points_at_iteration(samples, ndead)\n",
    "beta = get_beta(points, ndead)\n",
    "points = points.set_beta(beta)\n",
    "\n",
    "DKL = points.D_KL()\n",
    "d_G = points.d_G()\n",
    "sigma_beta = np.sqrt(1/(2*np.pi*np.e) * np.exp(-2*DKL/d_G))\n",
    "logLmax = logLmax_beta(d_G, sigma_beta, X_mean[ndead:], logL[ndead:])\n",
    "theta_dG = params_from_d(logL[ndead:], X_mean[ndead:], d_G)\n",
    "theta_beta = [logLmax, d_G, sigma_beta]\n",
    "theta_beta"
   ]
  },
  {
   "cell_type": "code",
   "execution_count": 28,
   "metadata": {},
   "outputs": [
    {
     "data": {
      "text/plain": [
       "(-22.346618716906562, -45.086918928965275, -44.46554925779976)"
      ]
     },
     "execution_count": 28,
     "metadata": {},
     "output_type": "execute_result"
    }
   ],
   "source": [
    "logXf_formula(theta_beta, logZdead, X_mean[ndead]), logXf_formula(theta_dG, logZdead, X_mean[ndead]), true_logXf"
   ]
  },
  {
   "cell_type": "markdown",
   "metadata": {},
   "source": [
    "## LCDM $\\tilde{d}$"
   ]
  },
  {
   "cell_type": "code",
   "execution_count": 198,
   "metadata": {},
   "outputs": [],
   "source": [
    "name, samples = get_samples('toy', 'cauchy_84')\n",
    "model = EndModel(samples)\n",
    "true_endpoint = model.true_endpoint()"
   ]
  },
  {
   "cell_type": "code",
   "execution_count": 199,
   "metadata": {},
   "outputs": [],
   "source": [
    "ndead = 30000\n",
    "logL, X_mean, nk, logZdead = model.data(ndead)\n",
    "reg = GaussianRegress(logL[ndead:], X_mean[ndead:])"
   ]
  },
  {
   "cell_type": "code",
   "execution_count": 206,
   "metadata": {},
   "outputs": [],
   "source": [
    "points = points_at_iteration(samples, ndead)\n",
    "beta = get_beta(points, ndead)\n",
    "d_G = points.set_beta(beta).d_G()"
   ]
  },
  {
   "cell_type": "code",
   "execution_count": 209,
   "metadata": {},
   "outputs": [],
   "source": [
    "theta_dG = params_from_d(logL[ndead:], X_mean[ndead:], d_G)\n",
    "theta = reg.theta"
   ]
  },
  {
   "cell_type": "markdown",
   "metadata": {},
   "source": [
    "Gaussian prior for d\n",
    "\n",
    "**Likelihood for d**"
   ]
  },
  {
   "cell_type": "code",
   "execution_count": 218,
   "metadata": {},
   "outputs": [],
   "source": [
    "name, samples = get_samples('toy', 'gauss_16')\n",
    "model = EndModel(samples)\n",
    "ndead = 10000\n",
    "points = points_at_iteration(samples, ndead)\n",
    "logL, X_mean, nk, logZdead = model.data(ndead)\n",
    "logLd, Xd = logL[ndead:], X_mean[ndead:]\n",
    "N = len(logLd)\n",
    "beta = get_beta(points, ndead)\n",
    "dG = points.set_beta(beta).d_G(25).values\n",
    "dG_mean = dG.mean()\n",
    "dG_std = dG.std()"
   ]
  },
  {
   "cell_type": "code",
   "execution_count": 261,
   "metadata": {},
   "outputs": [],
   "source": [
    "name, samples = get_samples('toy', 'gauss_16')\n",
    "model = EndModel(samples)\n",
    "true_endpoint = model.true_endpoint()"
   ]
  },
  {
   "cell_type": "code",
   "execution_count": 263,
   "metadata": {},
   "outputs": [],
   "source": [
    "ndead = 25000\n",
    "points = points_at_iteration(samples, ndead)\n",
    "logL, X_mean, nk, logZdead = model.data(ndead)\n",
    "logLd, Xd = logL[ndead:], X_mean[ndead:]\n",
    "N = len(logLd)\n",
    "beta = get_beta(points, ndead)\n",
    "dG = points.set_beta(beta).d_G(25).values\n",
    "dG_mean = dG.mean()\n",
    "dG_std = dG.std()"
   ]
  },
  {
   "cell_type": "code",
   "execution_count": 264,
   "metadata": {},
   "outputs": [],
   "source": [
    "def logprior(x, mu, sig):\n",
    "    return -0.5*np.log(2*np.pi*sig**2) - np.power((x - mu)/sig, 2)/2\n",
    "\n",
    "def loglike(d):\n",
    "    \"\"\" Simple Gaussian Likelihood\"\"\"\n",
    "    theta = params_from_d(logLd, Xd, d)\n",
    "    loss = logLd - full.func(Xd, theta)\n",
    "    L_sq = np.sum(loss**2)\n",
    "    s = np.sqrt(L_sq/N)\n",
    "    logPr = -1/2 * N * np.log(2*np.pi*s**2) - L_sq/(2*s**2)\n",
    "    return logPr"
   ]
  },
  {
   "cell_type": "code",
   "execution_count": 265,
   "metadata": {},
   "outputs": [],
   "source": [
    "ds = np.linspace(1, 70, 1000)\n",
    "likes = np.zeros(len(ds))\n",
    "for i, d in enumerate(ds):\n",
    "    likes[i] = loglike(d)"
   ]
  },
  {
   "cell_type": "code",
   "execution_count": 266,
   "metadata": {},
   "outputs": [
    {
     "data": {
      "text/plain": [
       "[<matplotlib.lines.Line2D at 0x7fbe3810a6b0>]"
      ]
     },
     "execution_count": 266,
     "metadata": {},
     "output_type": "execute_result"
    },
    {
     "data": {
      "image/png": "[encoded data removed]",
      "text/plain": [
       "<Figure size 400x200 with 1 Axes>"
      ]
     },
     "metadata": {},
     "output_type": "display_data"
    }
   ],
   "source": [
    "logpost = logprior(ds, dG_mean, dG_std) + likes\n",
    "plt.plot(ds, np.exp(logpost - logpost.max()))"
   ]
  }
 ],
 "metadata": {
  "kernelspec": {
   "display_name": "env",
   "language": "python",
   "name": "python3"
  },
  "language_info": {
   "codemirror_mode": {
    "name": "ipython",
    "version": 3
   },
   "file_extension": ".py",
   "mimetype": "text/x-python",
   "name": "python",
   "nbconvert_exporter": "python",
   "pygments_lexer": "ipython3",
   "version": "3.10.6"
  },
  "orig_nbformat": 4
 },
 "nbformat": 4,
 "nbformat_minor": 2
}
