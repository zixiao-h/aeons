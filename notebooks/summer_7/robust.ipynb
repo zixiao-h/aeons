{
 "cells": [
  {
   "cell_type": "code",
   "execution_count": 1,
   "metadata": {},
   "outputs": [],
   "source": [
    "import numpy as np\n",
    "import matplotlib.pyplot as plt\n",
    "from aeons.utils import *\n",
    "from aeons.plotting import *\n",
    "from aeons.endpoint import *\n",
    "from aeons.regress import analytic_lm_params"
   ]
  },
  {
   "cell_type": "code",
   "execution_count": 128,
   "metadata": {},
   "outputs": [],
   "source": [
    "def get_logXfs(model, method, iterations, Nset=25, epsilon=1e-3, **kwargs):\n",
    "    \"\"\"Method takes in arguments (ndead, logL, nk, logZdead, Nset, **kwargs) and returns logXfs_set\"\"\"\n",
    "    N = len(iterations)\n",
    "    logXfs = np.zeros(N)\n",
    "    logXfs_std = np.zeros(N)\n",
    "    for i, ndead in enumerate(iterations):\n",
    "        logL, X_mean, nk, logZdead = model.data(ndead)\n",
    "        try:\n",
    "            logXfs_set, message = method(ndead, logL, nk, logZdead, Nset, **kwargs)\n",
    "            logXfs[i] = np.mean(logXfs_set)\n",
    "            logXfs_std[i] = np.std(logXfs_set)\n",
    "            print('\\r', f\"Iteration {ndead} of {iterations[-1]}, {len(logXfs_set)} samples\", end='')\n",
    "        except:\n",
    "            logXfs[i] = np.nan\n",
    "            logXfs_std[i] = np.nan\n",
    "            print('\\r', f\"Iteration {ndead} of {iterations[-1]}, model bad\", end='')\n",
    "    return logXfs, logXfs_std"
   ]
  },
  {
   "cell_type": "code",
   "execution_count": 79,
   "metadata": {},
   "outputs": [],
   "source": [
    "def get_best_window(ndead, logL, X_mean, logZdead):\n",
    "    nlive = len(logL) - ndead\n",
    "    N_range = 8\n",
    "    min_range = nlive//N_range\n",
    "    max_range = nlive * N_range\n",
    "    windows = np.logspace(np.log10(min_range), np.log10(max_range), 2*N_range + 1, dtype=int)\n",
    "    logZs = np.zeros(len(windows))\n",
    "    for i, window in enumerate(windows):\n",
    "        logLd = logL[-window:]\n",
    "        Xd = X_mean[-window:]\n",
    "        reg = GaussianRegress(logLd, Xd)\n",
    "        logZ = reg.logZ() - (len(logL) - window) * np.log(logLd.max() - logLd.min())\n",
    "        logXf = logXf_formula(reg.theta, logZdead, X_mean[ndead])\n",
    "        if np.isnan(logXf):\n",
    "            logZ = -np.inf\n",
    "        logZs[i] = logZ\n",
    "    return windows[np.argmax(logZs)]\n",
    "\n",
    "def window_fitter(ndead, logL, nk, logZdead, Nset):\n",
    "    X_mean = X_mu(nk)\n",
    "    window = get_best_window(ndead, logL, X_mean, logZdead)\n",
    "    logXf_set = np.zeros(Nset)\n",
    "    logLd = logL[-window:]\n",
    "    for i in range(Nset):\n",
    "        X = generate_Xs(nk)\n",
    "        Xd = X[-window:]\n",
    "        reg = GaussianRegress(logLd, Xd)\n",
    "        logXf_set[i] = logXf_formula(reg.theta, logZdead, X_mean[ndead])\n",
    "    logXf_set = logXf_set[~np.isnan(logXf_set)]\n",
    "    logXf_set = reject_outliers(logXf_set, 3)\n",
    "    return logXf_set"
   ]
  },
  {
   "cell_type": "code",
   "execution_count": 121,
   "metadata": {},
   "outputs": [],
   "source": [
    "def get_start(ndead, logL, X_mean):\n",
    "    nlive = len(logL) - ndead\n",
    "    start = ndead\n",
    "    min_start = ndead - 5*nlive\n",
    "    while start > min_start:\n",
    "        logLd = logL[start:]\n",
    "        Xd = X_mean[start:]\n",
    "        reg = GaussianRegress(logLd, Xd)\n",
    "        if reg.theta[1]/2 > 180:\n",
    "            start -= 2 * nlive\n",
    "        else:\n",
    "            return start\n",
    "    raise ValueError(\"Could not find a good start point\")\n",
    "\n",
    "def extender(ndead, logL, nk, logZdead, Nset, message=False):\n",
    "    X_mean = X_mu(nk)\n",
    "    start = get_start(ndead, logL, X_mean)\n",
    "    logLd = logL[start:]\n",
    "    logXf_set = np.zeros(Nset)\n",
    "    for i in range(Nset):\n",
    "        X = generate_Xs(nk)\n",
    "        Xd = X[start:]\n",
    "        theta = analytic_lm_params(logLd, Xd, d0=1)\n",
    "        logXf_set[i] = logXf_formula(theta, logZdead, X_mean[ndead])\n",
    "    logXf_set = logXf_set[~np.isnan(logXf_set)]\n",
    "    logXf_set = reject_outliers(logXf_set, 3)\n",
    "    message = f\"{len(logXf_set)}\"\n",
    "    if message:\n",
    "        return logXf_set, message\n",
    "    return logXf_set"
   ]
  },
  {
   "cell_type": "code",
   "execution_count": 147,
   "metadata": {},
   "outputs": [
    {
     "data": {
      "text/plain": [
       "27474"
      ]
     },
     "execution_count": 147,
     "metadata": {},
     "output_type": "execute_result"
    }
   ],
   "source": [
    "name, samples = get_samples('toy', 'planck_gaussian')\n",
    "# name, samples = get_samples('lcdm', 'BAO')\n",
    "model = EndModel(samples)\n",
    "true_endpoint = model.true_endpoint()\n",
    "true_logXf = samples.logX().iloc[true_endpoint]\n",
    "true_endpoint"
   ]
  },
  {
   "cell_type": "code",
   "execution_count": 156,
   "metadata": {},
   "outputs": [
    {
     "data": {
      "text/plain": [
       "[<matplotlib.lines.Line2D at 0x7fade5df6f50>]"
      ]
     },
     "execution_count": 156,
     "metadata": {},
     "output_type": "execute_result"
    },
    {
     "data": {
      "image/png": "[encoded data removed]",
      "text/plain": [
       "<Figure size 640x480 with 1 Axes>"
      ]
     },
     "metadata": {},
     "output_type": "display_data"
    }
   ],
   "source": [
    "ndead = 5000\n",
    "logL, X_mean, nk, logZdead = model.data(ndead)\n",
    "reg = GaussianRegress(logL[ndead:], X_mean[ndead:])\n",
    "theta, cov = reg.theta, reg.covtheta()\n",
    "for i in range(10):\n",
    "    t = np.random.multivariate_normal(theta, cov)\n",
    "    plt.plot(X_mean[ndead:], full.func(X_mean[ndead:], t), lw=1, color='deepskyblue')\n",
    "plt.plot(X_mean[ndead:], logL[ndead:])\n",
    "# plt.ylim(logL[ndead:].min(), logL[ndead:].max())"
   ]
  },
  {
   "cell_type": "code",
   "execution_count": 137,
   "metadata": {},
   "outputs": [
    {
     "name": "stderr",
     "output_type": "stream",
     "text": [
      "/tmp/ipykernel_41261/2717691675.py:1: RuntimeWarning: invalid value encountered in sqrt\n",
      "  np.sqrt(cov)\n"
     ]
    },
    {
     "data": {
      "text/plain": [
       "array([[3.20957494e+04, 1.78193384e+04,            nan],\n",
       "       [1.78193384e+04, 9.89326980e+03,            nan],\n",
       "       [           nan,            nan, 1.79585780e-03]])"
      ]
     },
     "execution_count": 137,
     "metadata": {},
     "output_type": "execute_result"
    }
   ],
   "source": [
    "np.sqrt(cov)"
   ]
  },
  {
   "cell_type": "code",
   "execution_count": 125,
   "metadata": {},
   "outputs": [
    {
     "name": "stderr",
     "output_type": "stream",
     "text": [
      "/home/zixiao/Documents/III/project/env/lib/python3.10/site-packages/scipy/special/_logsumexp.py:111: RuntimeWarning: overflow encountered in exp\n",
      "  tmp = np.exp(a - a_max)\n",
      "/home/zixiao/Documents/III/project/aeons/aeons/utils.py:113: RuntimeWarning: invalid value encountered in scalar divide\n",
      "  xf_reg = gammaincinv(d/2, np.exp(logend)/gamma(d/2))\n"
     ]
    },
    {
     "data": {
      "text/plain": [
       "array([-118.67484747,  -87.03633826, -129.34573377, -114.57010751,\n",
       "        -98.35572553, -104.89109357,  -94.33868563,  -86.89482834,\n",
       "        -87.41501839, -113.48250235,  -98.10834846,  -97.72172387,\n",
       "       -102.20909276,  -79.44846337, -110.76697512, -123.49223296,\n",
       "       -102.63755302, -125.75735995, -115.45581348,  -90.44145601,\n",
       "       -113.59671594,  -91.07390399])"
      ]
     },
     "execution_count": 125,
     "metadata": {},
     "output_type": "execute_result"
    }
   ],
   "source": [
    "ndead = 30000\n",
    "logL, X_mean, nk, logZdead = model.data(ndead)\n",
    "extender(ndead, logL, nk, logZdead, Nset=25)"
   ]
  },
  {
   "cell_type": "code",
   "execution_count": 129,
   "metadata": {},
   "outputs": [
    {
     "name": "stdout",
     "output_type": "stream",
     "text": [
      " Iteration 8071 of 88235, 22 samples"
     ]
    },
    {
     "name": "stderr",
     "output_type": "stream",
     "text": [
      "/home/zixiao/Documents/III/project/aeons/aeons/utils.py:113: RuntimeWarning: invalid value encountered in scalar divide\n",
      "  xf_reg = gammaincinv(d/2, np.exp(logend)/gamma(d/2))\n"
     ]
    },
    {
     "name": "stdout",
     "output_type": "stream",
     "text": [
      " Iteration 15042 of 88235, 19 samples"
     ]
    },
    {
     "name": "stderr",
     "output_type": "stream",
     "text": [
      "/home/zixiao/Documents/III/project/aeons/aeons/utils.py:113: RuntimeWarning: invalid value encountered in scalar divide\n",
      "  xf_reg = gammaincinv(d/2, np.exp(logend)/gamma(d/2))\n"
     ]
    },
    {
     "name": "stdout",
     "output_type": "stream",
     "text": [
      " Iteration 22013 of 88235, 24 samples"
     ]
    },
    {
     "name": "stderr",
     "output_type": "stream",
     "text": [
      "/home/zixiao/Documents/III/project/aeons/aeons/utils.py:113: RuntimeWarning: invalid value encountered in scalar divide\n",
      "  xf_reg = gammaincinv(d/2, np.exp(logend)/gamma(d/2))\n"
     ]
    },
    {
     "name": "stdout",
     "output_type": "stream",
     "text": [
      " Iteration 25498 of 88235, 21 samples"
     ]
    },
    {
     "name": "stderr",
     "output_type": "stream",
     "text": [
      "/home/zixiao/Documents/III/project/env/lib/python3.10/site-packages/scipy/special/_logsumexp.py:111: RuntimeWarning: overflow encountered in exp\n",
      "  tmp = np.exp(a - a_max)\n",
      "/home/zixiao/Documents/III/project/aeons/aeons/utils.py:113: RuntimeWarning: invalid value encountered in scalar divide\n",
      "  xf_reg = gammaincinv(d/2, np.exp(logend)/gamma(d/2))\n"
     ]
    },
    {
     "name": "stdout",
     "output_type": "stream",
     "text": [
      " Iteration 32469 of 88235, model bads"
     ]
    },
    {
     "name": "stderr",
     "output_type": "stream",
     "text": [
      "/home/zixiao/Documents/III/project/aeons/aeons/utils.py:113: RuntimeWarning: invalid value encountered in scalar divide\n",
      "  xf_reg = gammaincinv(d/2, np.exp(logend)/gamma(d/2))\n",
      "/home/zixiao/Documents/III/project/env/lib/python3.10/site-packages/scipy/special/_logsumexp.py:111: RuntimeWarning: overflow encountered in exp\n",
      "  tmp = np.exp(a - a_max)\n"
     ]
    },
    {
     "name": "stdout",
     "output_type": "stream",
     "text": [
      " Iteration 39440 of 88235, model bad"
     ]
    },
    {
     "name": "stderr",
     "output_type": "stream",
     "text": [
      "/home/zixiao/Documents/III/project/env/lib/python3.10/site-packages/scipy/special/_logsumexp.py:111: RuntimeWarning: overflow encountered in exp\n",
      "  tmp = np.exp(a - a_max)\n",
      "/home/zixiao/Documents/III/project/aeons/aeons/utils.py:113: RuntimeWarning: invalid value encountered in scalar divide\n",
      "  xf_reg = gammaincinv(d/2, np.exp(logend)/gamma(d/2))\n"
     ]
    },
    {
     "name": "stdout",
     "output_type": "stream",
     "text": [
      " Iteration 42925 of 88235, 22 samples"
     ]
    },
    {
     "name": "stderr",
     "output_type": "stream",
     "text": [
      "/home/zixiao/Documents/III/project/env/lib/python3.10/site-packages/scipy/special/_logsumexp.py:111: RuntimeWarning: overflow encountered in exp\n",
      "  tmp = np.exp(a - a_max)\n",
      "/home/zixiao/Documents/III/project/aeons/aeons/utils.py:113: RuntimeWarning: invalid value encountered in scalar divide\n",
      "  xf_reg = gammaincinv(d/2, np.exp(logend)/gamma(d/2))\n"
     ]
    },
    {
     "name": "stdout",
     "output_type": "stream",
     "text": [
      " Iteration 46410 of 88235, 15 samples"
     ]
    },
    {
     "name": "stderr",
     "output_type": "stream",
     "text": [
      "/home/zixiao/Documents/III/project/env/lib/python3.10/site-packages/scipy/special/_logsumexp.py:111: RuntimeWarning: overflow encountered in exp\n",
      "  tmp = np.exp(a - a_max)\n",
      "/home/zixiao/Documents/III/project/aeons/aeons/utils.py:113: RuntimeWarning: invalid value encountered in scalar divide\n",
      "  xf_reg = gammaincinv(d/2, np.exp(logend)/gamma(d/2))\n"
     ]
    },
    {
     "name": "stdout",
     "output_type": "stream",
     "text": [
      " Iteration 53381 of 88235, 23 samples"
     ]
    },
    {
     "name": "stderr",
     "output_type": "stream",
     "text": [
      "/home/zixiao/Documents/III/project/env/lib/python3.10/site-packages/scipy/special/_logsumexp.py:111: RuntimeWarning: overflow encountered in exp\n",
      "  tmp = np.exp(a - a_max)\n",
      "/home/zixiao/Documents/III/project/aeons/aeons/utils.py:113: RuntimeWarning: invalid value encountered in scalar divide\n",
      "  xf_reg = gammaincinv(d/2, np.exp(logend)/gamma(d/2))\n"
     ]
    },
    {
     "name": "stdout",
     "output_type": "stream",
     "text": [
      " Iteration 56867 of 88235, 18 samples"
     ]
    },
    {
     "name": "stderr",
     "output_type": "stream",
     "text": [
      "/home/zixiao/Documents/III/project/env/lib/python3.10/site-packages/scipy/special/_logsumexp.py:111: RuntimeWarning: overflow encountered in exp\n",
      "  tmp = np.exp(a - a_max)\n",
      "/home/zixiao/Documents/III/project/aeons/aeons/utils.py:113: RuntimeWarning: invalid value encountered in scalar divide\n",
      "  xf_reg = gammaincinv(d/2, np.exp(logend)/gamma(d/2))\n"
     ]
    },
    {
     "name": "stdout",
     "output_type": "stream",
     "text": [
      " Iteration 63837 of 88235, model bads"
     ]
    },
    {
     "name": "stderr",
     "output_type": "stream",
     "text": [
      "/home/zixiao/Documents/III/project/env/lib/python3.10/site-packages/scipy/special/_logsumexp.py:111: RuntimeWarning: overflow encountered in exp\n",
      "  tmp = np.exp(a - a_max)\n",
      "/home/zixiao/Documents/III/project/aeons/aeons/utils.py:113: RuntimeWarning: invalid value encountered in scalar divide\n",
      "  xf_reg = gammaincinv(d/2, np.exp(logend)/gamma(d/2))\n"
     ]
    },
    {
     "name": "stdout",
     "output_type": "stream",
     "text": [
      " Iteration 70808 of 88235, model bads"
     ]
    },
    {
     "name": "stderr",
     "output_type": "stream",
     "text": [
      "/home/zixiao/Documents/III/project/env/lib/python3.10/site-packages/scipy/special/_logsumexp.py:111: RuntimeWarning: overflow encountered in exp\n",
      "  tmp = np.exp(a - a_max)\n",
      "/home/zixiao/Documents/III/project/aeons/aeons/utils.py:113: RuntimeWarning: invalid value encountered in scalar divide\n",
      "  xf_reg = gammaincinv(d/2, np.exp(logend)/gamma(d/2))\n"
     ]
    },
    {
     "name": "stdout",
     "output_type": "stream",
     "text": [
      " Iteration 74294 of 88235, 17 samples"
     ]
    },
    {
     "name": "stderr",
     "output_type": "stream",
     "text": [
      "/home/zixiao/Documents/III/project/env/lib/python3.10/site-packages/scipy/special/_logsumexp.py:111: RuntimeWarning: overflow encountered in exp\n",
      "  tmp = np.exp(a - a_max)\n",
      "/home/zixiao/Documents/III/project/aeons/aeons/utils.py:113: RuntimeWarning: invalid value encountered in scalar divide\n",
      "  xf_reg = gammaincinv(d/2, np.exp(logend)/gamma(d/2))\n"
     ]
    },
    {
     "name": "stdout",
     "output_type": "stream",
     "text": [
      " Iteration 77779 of 88235, 20 samples"
     ]
    },
    {
     "name": "stderr",
     "output_type": "stream",
     "text": [
      "/home/zixiao/Documents/III/project/env/lib/python3.10/site-packages/scipy/special/_logsumexp.py:111: RuntimeWarning: overflow encountered in exp\n",
      "  tmp = np.exp(a - a_max)\n",
      "/home/zixiao/Documents/III/project/aeons/aeons/utils.py:113: RuntimeWarning: invalid value encountered in scalar divide\n",
      "  xf_reg = gammaincinv(d/2, np.exp(logend)/gamma(d/2))\n"
     ]
    },
    {
     "name": "stdout",
     "output_type": "stream",
     "text": [
      " Iteration 81264 of 88235, 22 samples"
     ]
    },
    {
     "name": "stderr",
     "output_type": "stream",
     "text": [
      "/home/zixiao/Documents/III/project/env/lib/python3.10/site-packages/scipy/special/_logsumexp.py:111: RuntimeWarning: overflow encountered in exp\n",
      "  tmp = np.exp(a - a_max)\n",
      "/home/zixiao/Documents/III/project/aeons/aeons/utils.py:113: RuntimeWarning: invalid value encountered in scalar divide\n",
      "  xf_reg = gammaincinv(d/2, np.exp(logend)/gamma(d/2))\n"
     ]
    },
    {
     "name": "stdout",
     "output_type": "stream",
     "text": [
      " Iteration 88235 of 88235, 24 samples"
     ]
    }
   ],
   "source": [
    "iterations = make_iterations(true_endpoint, 25)\n",
    "logXfs, logXfs_std = get_logXfs(model, extender, iterations, Nset=25)"
   ]
  },
  {
   "cell_type": "code",
   "execution_count": 130,
   "metadata": {},
   "outputs": [
    {
     "data": {
      "image/png": "[encoded data removed]",
      "text/plain": [
       "<Figure size 400x200 with 1 Axes>"
      ]
     },
     "metadata": {},
     "output_type": "display_data"
    }
   ],
   "source": [
    "logXs = samples.logX().iloc[iterations]\n",
    "endpoints, endpoints_std = calc_endpoints(iterations, logXs, logXfs, logXfs_std, nlive=500)\n",
    "plot_std(iterations, endpoints, endpoints_std, true_endpoint, ylim=(0, 2))"
   ]
  },
  {
   "cell_type": "code",
   "execution_count": 23,
   "metadata": {},
   "outputs": [
    {
     "data": {
      "text/plain": [
       "(array([-164.26128395, -144.80609513, -106.6935678 , -113.19701862,\n",
       "        -141.70358521, -125.49048841, -152.79795889, -118.79497041,\n",
       "        -109.09422084, -127.97023581, -121.90109039, -213.16270435,\n",
       "        -149.94313987, -130.98886607, -177.29662883, -113.28803484,\n",
       "        -201.6088542 , -206.12069617, -118.97575971, -141.50472214,\n",
       "        -133.68612121, -181.71715738, -192.38287705, -149.00250957,\n",
       "        -131.21667182]),\n",
       " 25)"
      ]
     },
     "execution_count": 23,
     "metadata": {},
     "output_type": "execute_result"
    }
   ],
   "source": [
    "x = window_fitter(ndead, logL, nk, logZdead, Nset=50)\n",
    "x, len(x)"
   ]
  },
  {
   "cell_type": "code",
   "execution_count": 123,
   "metadata": {},
   "outputs": [
    {
     "data": {
      "text/plain": [
       "array([6.52039376, 5.7900605 , 5.56952513, 5.14853143, 5.2385781 ,\n",
       "       5.42278988, 5.64507816, 5.75399995, 5.69874224, 5.63750138,\n",
       "       5.57909592, 5.60922627, 5.72720885, 5.78987403, 5.84453563,\n",
       "       5.89954786, 5.94323598, 5.91974932, 5.85253484, 5.80335735,\n",
       "       5.76637362, 5.6941195 , 5.66348635, 5.63348696, 5.60481695])"
      ]
     },
     "execution_count": 123,
     "metadata": {},
     "output_type": "execute_result"
    },
    {
     "data": {
      "image/png": "[encoded data removed]",
      "text/plain": [
       "<Figure size 400x200 with 1 Axes>"
      ]
     },
     "metadata": {},
     "output_type": "display_data"
    }
   ],
   "source": [
    "nlive = len(logL) - ndead\n",
    "min_range = nlive//5\n",
    "max_range = nlive * 5\n",
    "windows = np.arange(min_range, max_range, min_range)\n",
    "logZs = np.zeros(len(windows))\n",
    "ds = np.zeros(len(windows))\n",
    "for i, window in enumerate(windows):\n",
    "    logLd = logL[-window:]\n",
    "    Xd = X_mean[-window:]\n",
    "    reg = GaussianRegress(logLd, Xd)\n",
    "    logZ = reg.logZ() - (len(logL) - window) * np.log(logLd.max() - logLd.min())\n",
    "    logXf = logXf_formula(reg.theta, logZdead, X_mean[ndead])\n",
    "    if np.isnan(logXf):\n",
    "        logZ = -np.inf\n",
    "    logZs[i] = logZ\n",
    "    ds[i] = reg.theta[1]\n",
    "plt.plot(windows, logZs)\n",
    "ds"
   ]
  },
  {
   "cell_type": "code",
   "execution_count": 9,
   "metadata": {},
   "outputs": [
    {
     "name": "stdout",
     "output_type": "stream",
     "text": [
      " Iteration 930 of 17904, 21 samples2 attempts\n",
      "2 attempts\n",
      "2 attempts\n",
      " Iteration 1637 of 17904, 21 samples2 attempts\n",
      "2 attempts\n",
      "2 attempts\n",
      "2 attempts\n",
      "2 attempts\n",
      " Iteration 3759 of 17904, 22 samples2 attempts\n",
      " Iteration 5174 of 17904, 20 samples2 attempts\n",
      "2 attempts\n",
      "2 attempts\n",
      "2 attempts\n",
      " Iteration 5881 of 17904, 18 samples2 attempts\n",
      " Iteration 6588 of 17904, 19 samples2 attempts\n",
      "2 attempts\n",
      " Iteration 7295 of 17904, 19 samples2 attempts\n",
      " Iteration 8003 of 17904, 19 samples2 attempts\n",
      "2 attempts\n",
      "2 attempts\n",
      "2 attempts\n",
      " Iteration 17904 of 17904, 19 samples"
     ]
    },
    {
     "data": {
      "text/plain": [
       "Text(0.5, 1.0, 'DKL = 26.66')"
      ]
     },
     "execution_count": 9,
     "metadata": {},
     "output_type": "execute_result"
    },
    {
     "data": {
      "image/png": "[encoded data removed]",
      "text/plain": [
       "<Figure size 400x200 with 1 Axes>"
      ]
     },
     "metadata": {},
     "output_type": "display_data"
    }
   ],
   "source": [
    "from aeons.toy_samples import gaussian_samples\n",
    "samples = gaussian_samples(500, 8, 0.01, seed=1)\n",
    "\n",
    "model = EndModel(samples)\n",
    "true_endpoint = model.true_endpoint()\n",
    "iterations = make_iterations(true_endpoint, 25)\n",
    "logXfs, logXfs_std = model.logXfs(theta_bandwidth_trunc, iterations, Nset=25, splits=1)\n",
    "\n",
    "logXs = samples.logX().iloc[iterations]\n",
    "endpoints, endpoints_std = calc_endpoints(iterations, logXs, logXfs, logXfs_std, nlive=500)\n",
    "plot_std(iterations, endpoints, endpoints_std, true_endpoint, ylim=(0, 1.6))\n",
    "plt.title(f\"DKL = {samples.D_KL():.2f}\")"
   ]
  }
 ],
 "metadata": {
  "kernelspec": {
   "display_name": "env",
   "language": "python",
   "name": "python3"
  },
  "language_info": {
   "codemirror_mode": {
    "name": "ipython",
    "version": 3
   },
   "file_extension": ".py",
   "mimetype": "text/x-python",
   "name": "python",
   "nbconvert_exporter": "python",
   "pygments_lexer": "ipython3",
   "version": "3.10.6"
  },
  "orig_nbformat": 4
 },
 "nbformat": 4,
 "nbformat_minor": 2
}
