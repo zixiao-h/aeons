{
 "cells": [
  {
   "cell_type": "code",
   "execution_count": 2,
   "metadata": {},
   "outputs": [],
   "source": [
    "import numpy as np\n",
    "import matplotlib.pyplot as plt\n",
    "from aeons.utils import *\n",
    "from aeons.regress import *\n",
    "from aeons.endpoint import *\n",
    "from aeons.plotting import *\n",
    "figsettings()"
   ]
  },
  {
   "cell_type": "code",
   "execution_count": 100,
   "metadata": {},
   "outputs": [],
   "source": [
    "def logXf_beta_DKL_boot(points, ndead, Nset=25, Nresample=50):\n",
    "    logL, X_mean, nk, logZdead = data(points)\n",
    "    beta_DKL = get_beta(points, ndead)\n",
    "    dG = points.set_beta(beta_DKL).d_G(Nset).values\n",
    "    logXf_set = np.zeros(Nset)\n",
    "    for i in range(Nset):\n",
    "        window = np.sort(np.random.choice(np.arange(ndead, len(logL)), Nresample))\n",
    "        X = generate_Xs(nk)\n",
    "        logLd = logL[window]\n",
    "        Xd = X[window]\n",
    "        d = np.random.choice(dG)\n",
    "        theta = params_from_d(logLd, Xd, d)\n",
    "        logXf_set[i] = logXf_formula(theta, logZdead, X_mean[ndead])\n",
    "    logXf_set = logXf_set[~np.isnan(logXf_set)]\n",
    "    # logXf_set = reject_outliers(logXf_set)\n",
    "    return logXf_set, f\"{len(logXf_set)} samples, {dG.mean():.1f}\"\n",
    "\n",
    "def logXf_combined(points, ndead, Nset=25):\n",
    "    logL, X_mean, nk, logZdead = data(points)\n",
    "    beta_DKL = get_beta(points, ndead)\n",
    "    dG = points.set_beta(beta_DKL).d_G(Nset).values\n",
    "    ds = np.zeros(Nset)\n",
    "    for i in range(Nset):\n",
    "        X = generate_Xs(nk)\n",
    "        ds[i] = analytic_lm_params(logL[ndead:], X[ndead:], d0=1)[1]\n",
    "    dG_mean, dG_std = dG.mean(), 5*dG.std()\n",
    "    d_mean, d_std = ds.mean(), ds.std()\n",
    "    dcomb = (dG_mean*d_std**2 + d_mean*dG_std**2)/(d_std**2 + dG_std**2)\n",
    "    dcomb_std = np.sqrt((d_std**2 * dG_std**2)/(d_std**2 + dG_std**2))\n",
    "    \n",
    "    logXf_set = np.zeros(Nset)\n",
    "    for j in range(Nset):\n",
    "        d = np.random.normal(dcomb, dcomb_std)\n",
    "        theta = params_from_d(logL[ndead:], X_mean[ndead:], d)\n",
    "        logXf_set[j] = logXf_formula(theta, logZdead, X_mean[ndead])\n",
    "    logXf_set = logXf_set[~np.isnan(logXf_set)]\n",
    "    # logXf_set = reject_outliers(logXf_set)\n",
    "    return logXf_set, f\"{len(logXf_set)} samples, {dcomb:.1f} +/- {dcomb_std:.1f}\""
   ]
  },
  {
   "cell_type": "code",
   "execution_count": 66,
   "metadata": {},
   "outputs": [],
   "source": [
    "dim = 32\n",
    "name, samples = get_samples('toy', f'gauss_{dim}')\n",
    "model = EndModel(samples)\n",
    "true_endpoint = model.true_endpoint()\n",
    "true_logXf = model.true_logXf()"
   ]
  },
  {
   "cell_type": "code",
   "execution_count": 108,
   "metadata": {},
   "outputs": [
    {
     "data": {
      "text/plain": [
       "(-100.0, -80.0)"
      ]
     },
     "execution_count": 108,
     "metadata": {},
     "output_type": "execute_result"
    },
    {
     "data": {
      "image/png": "[encoded data removed]",
      "text/plain": [
       "<Figure size 670x200 with 2 Axes>"
      ]
     },
     "metadata": {},
     "output_type": "display_data"
    }
   ],
   "source": [
    "plot_lx(samples)\n",
    "d, sigma = dim, 0.01\n",
    "ElogX = d/2 * (np.log(sigma**2) + np.log(d) - 1/d)\n",
    "plt.axvline(ElogX, color='k', ls='--', label='E[logX]')\n",
    "plt.axvline(samples.logX().mean(), color='red')\n",
    "plt.axvline(samples.logX().mean() + 1/2 * np.log(d/2) + 1)\n",
    "plt.axvline(-samples.D_KL(), color='orange')\n",
    "plt.xlim(-100, -80)"
   ]
  },
  {
   "cell_type": "code",
   "execution_count": 93,
   "metadata": {},
   "outputs": [
    {
     "data": {
      "text/plain": [
       "samples\n",
       "0    89.166565\n",
       "1    90.348295\n",
       "2    89.248478\n",
       "3    89.186351\n",
       "4    88.907246\n",
       "5    89.428528\n",
       "6    89.663707\n",
       "7    89.990875\n",
       "8    89.472679\n",
       "9    90.037108\n",
       "Name: D_KL, dtype: float64"
      ]
     },
     "execution_count": 93,
     "metadata": {},
     "output_type": "execute_result"
    }
   ],
   "source": [
    "samples.D_KL(10)"
   ]
  },
  {
   "cell_type": "code",
   "execution_count": 70,
   "metadata": {},
   "outputs": [
    {
     "data": {
      "text/plain": [
       "-89.60323095657911"
      ]
     },
     "execution_count": 70,
     "metadata": {},
     "output_type": "execute_result"
    }
   ],
   "source": [
    "from scipy.special import loggamma\n",
    "d/2 * (np.log(sigma**2) + np.log(2*np.e)) + loggamma(1 + d/2) "
   ]
  },
  {
   "cell_type": "code",
   "execution_count": 84,
   "metadata": {},
   "outputs": [
    {
     "data": {
      "text/plain": [
       "(-90.52737714570338, -89.34724298606726)"
      ]
     },
     "execution_count": 84,
     "metadata": {},
     "output_type": "execute_result"
    }
   ],
   "source": [
    "d/2 * (np.log(sigma**2) + np.log(d)) + 0.5*np.log(d/2), -samples.D_KL()"
   ]
  },
  {
   "cell_type": "code",
   "execution_count": 71,
   "metadata": {},
   "outputs": [
    {
     "data": {
      "text/plain": [
       "0.9189385332046727"
      ]
     },
     "execution_count": 71,
     "metadata": {},
     "output_type": "execute_result"
    }
   ],
   "source": [
    "0.5*np.log(2*np.pi)"
   ]
  },
  {
   "cell_type": "code",
   "execution_count": 27,
   "metadata": {},
   "outputs": [],
   "source": [
    "name, samples = get_samples('toy', 'cauchy_83')\n",
    "model = EndModel(samples)\n",
    "true_endpoint = model.true_endpoint()\n",
    "true_logXf = model.true_logXf()"
   ]
  },
  {
   "cell_type": "code",
   "execution_count": 30,
   "metadata": {},
   "outputs": [
    {
     "data": {
      "text/plain": [
       "<matplotlib.lines.Line2D at 0x7fe1e363db40>"
      ]
     },
     "execution_count": 30,
     "metadata": {},
     "output_type": "execute_result"
    },
    {
     "data": {
      "image/png": "[encoded data removed]",
      "text/plain": [
       "<Figure size 670x200 with 2 Axes>"
      ]
     },
     "metadata": {},
     "output_type": "display_data"
    }
   ],
   "source": [
    "plot_lx(samples)\n",
    "plt.axvline(samples.logX().mean(), color='red')\n",
    "plt.axvline(-samples.D_KL())"
   ]
  },
  {
   "cell_type": "code",
   "execution_count": 79,
   "metadata": {},
   "outputs": [],
   "source": [
    "ndead = 10000\n",
    "points = model.points(ndead)\n",
    "logL, X_mean, nk, logZdead = data(points)\n",
    "beta_DKL = get_beta(points, ndead)\n",
    "dG = points.set_beta(beta_DKL).d_G(25).values\n",
    "Nset = 25\n",
    "ds = np.zeros(Nset)\n",
    "for i in range(Nset):\n",
    "    X = generate_Xs(nk)\n",
    "    theta = analytic_lm_params(logL[ndead:], X[ndead:], d0=1)\n",
    "    ds[i] = theta[1]"
   ]
  },
  {
   "cell_type": "code",
   "execution_count": 102,
   "metadata": {},
   "outputs": [
    {
     "data": {
      "text/plain": [
       "(array([-9.04290593, -8.85116022, -8.88593412, -9.03185001, -9.03395118,\n",
       "        -8.87814199, -9.11021   , -9.0083727 , -8.96616095, -9.11099868,\n",
       "        -8.97000754, -9.00641949, -9.11403775, -9.10838665, -8.9438996 ,\n",
       "        -8.89404097, -9.18811414, -8.82375264, -8.99392716, -8.93790565,\n",
       "        -9.08972622, -9.08265021, -8.85874488, -9.13416375]),\n",
       " '24 samples')"
      ]
     },
     "execution_count": 102,
     "metadata": {},
     "output_type": "execute_result"
    }
   ],
   "source": [
    "ndead = 5000\n",
    "points = model.points(ndead)\n",
    "logXf_basic(points, ndead)"
   ]
  },
  {
   "cell_type": "code",
   "execution_count": 104,
   "metadata": {},
   "outputs": [
    {
     "data": {
      "text/plain": [
       "(array([-7.31679636, -7.11995673, -7.28269796, -7.27660946, -7.38662504,\n",
       "        -7.35509772, -7.33662897, -7.46898954, -7.69489328, -7.46950624,\n",
       "        -7.66636386, -7.22886836, -7.32214631, -7.26676443, -7.55206276,\n",
       "        -7.26279039, -7.63443417, -7.25120565, -7.29741051, -7.55675063,\n",
       "        -7.23641371, -7.3790725 , -7.44867603, -7.3691826 , -7.40116551]),\n",
       " '25 samples, 1.1')"
      ]
     },
     "execution_count": 104,
     "metadata": {},
     "output_type": "execute_result"
    }
   ],
   "source": [
    "ndead = 5000\n",
    "points = model.points(ndead)\n",
    "logXf_beta_DKL(points, ndead)"
   ]
  },
  {
   "cell_type": "code",
   "execution_count": 105,
   "metadata": {},
   "outputs": [
    {
     "data": {
      "text/plain": [
       "(array([-8.7783488 , -8.7873626 , -8.41956501, -8.7817414 , -8.40342252,\n",
       "        -8.59185208, -8.75124441, -8.50298105, -8.92073978, -8.66558817,\n",
       "        -8.76219274, -8.38911391, -8.59339724, -8.53318829, -8.73474704,\n",
       "        -9.04245563, -8.79419245, -8.61649214, -8.60048333, -8.68237673,\n",
       "        -8.76271855, -8.58280925, -9.09223661, -8.83591612, -8.97483575]),\n",
       " '25 samples, 1.4 +/- 0.0')"
      ]
     },
     "execution_count": 105,
     "metadata": {},
     "output_type": "execute_result"
    }
   ],
   "source": [
    "ndead = 5000\n",
    "points = model.points(ndead)\n",
    "logXf_combined(points, ndead)"
   ]
  },
  {
   "cell_type": "code",
   "execution_count": 115,
   "metadata": {},
   "outputs": [
    {
     "name": "stdout",
     "output_type": "stream",
     "text": [
      " Iteration 39155 of 51318, 25 samples, 36.9 +/- 12.8"
     ]
    },
    {
     "name": "stderr",
     "output_type": "stream",
     "text": [
      "/home/zixiao/Documents/III/project/aeons/aeons/regress.py:29: RuntimeWarning: invalid value encountered in sqrt\n",
      "  sigma = np.sqrt(sigma_squared_analytic(d, Xdata, logLdata))\n",
      "/tmp/ipykernel_65878/2698236031.py:7: RuntimeWarning: invalid value encountered in log\n",
      "  logdead = logZdead - logLmax - (d/2)*np.log(2) - d*np.log(sigma) + np.log(2/d)\n"
     ]
    },
    {
     "name": "stdout",
     "output_type": "stream",
     "text": [
      " Iteration 51318 of 51318, 25 samples, 32.2 +/- 5.48"
     ]
    }
   ],
   "source": [
    "iterations = make_iterations(true_endpoint, 25)\n",
    "logXfs, logXfs_std = model.logXfs(logXf_combined, iterations, Nset=25)"
   ]
  },
  {
   "cell_type": "code",
   "execution_count": 116,
   "metadata": {},
   "outputs": [
    {
     "data": {
      "image/png": "[encoded data removed]",
      "text/plain": [
       "<Figure size 400x200 with 1 Axes>"
      ]
     },
     "metadata": {},
     "output_type": "display_data"
    }
   ],
   "source": [
    "logXs = get_logXs(samples, iterations)\n",
    "plot_std(-logXs, -logXfs, logXfs_std, -true_logXf, ylim=(0, 1.5))"
   ]
  },
  {
   "cell_type": "code",
   "execution_count": 16,
   "metadata": {},
   "outputs": [
    {
     "name": "stdout",
     "output_type": "stream",
     "text": [
      " Iteration 17440 of 17440, 25 samples, 2.2 BAO done, 1/11\n",
      " Iteration 18310 of 18310, 25 samples, 1.8 lensing done, 2/11\n",
      " Iteration 21267 of 21267, 25 samples, 3.2 lensing_BAO done, 3/11\n",
      " Iteration 19886 of 19886, 25 samples, 2.7 lensing_SH0ES done, 4/11\n",
      " Iteration 14522 of 14522, 25 samples, 0.9 SH0ES done, 5/11\n",
      " Iteration 55191 of 55191, 25 samples, 17.3 planck done, 6/11\n",
      " Iteration 56003 of 56003, 25 samples, 17.7 planck_BAO done, 7/11\n",
      " Iteration 55892 of 55892, 25 samples, 17.3 planck_lensing done, 8/11\n",
      " Iteration 55241 of 55241, 25 samples, 17.0 planck_SH0ES done, 9/11\n",
      " Iteration 55653 of 55653, 25 samples, 16.8 planck_lensing_BAO done, 10/11\n",
      " Iteration 55826 of 55826, 25 samples, 17.1 planck_lensing_SH0ES done, 11/11\n"
     ]
    }
   ],
   "source": [
    "# for i, chain in enumerate(lcdm_chains):\n",
    "#     name, samples = get_samples('lcdm', chain)\n",
    "#     model = EndModel(samples)\n",
    "#     true_endpoint = model.true_endpoint()\n",
    "#     iterations = make_iterations(true_endpoint, 25)\n",
    "#     logXfs, logXfs_std = model.logXfs(logXf_beta_DKL, iterations, Nset=25)\n",
    "#     write_to_txt(f'{aeons_dir}/data/predictions/lcdm/logXfs_dG_DKL/{chain}.txt', [iterations, logXfs, logXfs_std, true_endpoint])\n",
    "#     print(f' {chain} done, {i+1}/{len(lcdm_chains)}')"
   ]
  }
 ],
 "metadata": {
  "kernelspec": {
   "display_name": "env",
   "language": "python",
   "name": "python3"
  },
  "language_info": {
   "codemirror_mode": {
    "name": "ipython",
    "version": 3
   },
   "file_extension": ".py",
   "mimetype": "text/x-python",
   "name": "python",
   "nbconvert_exporter": "python",
   "pygments_lexer": "ipython3",
   "version": "3.10.6"
  },
  "orig_nbformat": 4
 },
 "nbformat": 4,
 "nbformat_minor": 2
}
