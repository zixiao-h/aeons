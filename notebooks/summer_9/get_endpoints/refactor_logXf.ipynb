{
 "cells": [
  {
   "cell_type": "code",
   "execution_count": 1,
   "metadata": {},
   "outputs": [],
   "source": [
    "import numpy as np\n",
    "import matplotlib.pyplot as plt\n",
    "from aeons.utils import *\n",
    "from aeons.regress import *\n",
    "from aeons.endpoint import *\n",
    "from aeons.plotting import *\n",
    "figsettings()"
   ]
  },
  {
   "cell_type": "code",
   "execution_count": 41,
   "metadata": {},
   "outputs": [],
   "source": [
    "def get_logXfs(model, method, iterations, **kwargs):\n",
    "    \"\"\"Method takes in arguments (ndead, logL, nk, logZdead, **kwargs) and returns logXfs_set\"\"\"\n",
    "    clear = kwargs.pop('clear', True)\n",
    "    N = len(iterations)\n",
    "    logXfs = np.zeros(N)\n",
    "    logXfs_std = np.zeros(N)\n",
    "    for i, ndead in enumerate(iterations):\n",
    "        points = model.points(ndead)\n",
    "        try:\n",
    "            logXfs_set, message = method(points, ndead, **kwargs)\n",
    "            logXfs[i] = np.mean(logXfs_set)\n",
    "            logXfs_std[i] = np.std(logXfs_set)\n",
    "            if clear:\n",
    "                print('\\r', f\"Iteration {ndead} of {iterations[-1]}, {message}\", end='')\n",
    "            else:\n",
    "                print(f\"Iteration {ndead} of {iterations[-1]}, {message}\")\n",
    "        except:\n",
    "            logXfs[i] = np.nan\n",
    "            logXfs_std[i] = np.nan\n",
    "            print(f\"Iteration {ndead} of {iterations[-1]}, NaN\")\n",
    "    return logXfs, logXfs_std"
   ]
  },
  {
   "cell_type": "code",
   "execution_count": 18,
   "metadata": {},
   "outputs": [],
   "source": [
    "def data(points):\n",
    "    logL = points.logL.to_numpy()\n",
    "    nk = points.nlive.to_numpy()\n",
    "    X_mean = X_mu(nk)\n",
    "    logZdead = points.logZ()\n",
    "    return logL, X_mean, nk, logZdead "
   ]
  },
  {
   "cell_type": "code",
   "execution_count": 73,
   "metadata": {},
   "outputs": [],
   "source": [
    "def logXf_basic(points, ndead, Nset=25):\n",
    "    logL, X_mean, nk, logZdead = data(points)\n",
    "    logLd = logL[ndead:]\n",
    "    logXf_set = np.zeros(Nset)\n",
    "    for i in range(Nset):\n",
    "        X = generate_Xs(nk)\n",
    "        Xd = X[ndead:]\n",
    "        theta = analytic_lm_params(logLd, Xd, d0=1)\n",
    "        logXf_set[i] = logXf_formula(theta, logZdead, X_mean[ndead])\n",
    "    logXf_set = logXf_set[~np.isnan(logXf_set)]\n",
    "    logXf_set = reject_outliers(logXf_set)\n",
    "    return logXf_set, f'{len(logXf_set)} samples'\n",
    "\n",
    "def logXf_beta_DKL(points, ndead, Nset=25):\n",
    "    logL, X_mean, nk, logZdead = data(points)\n",
    "    beta_DKL = get_beta(points, ndead)\n",
    "    dG = points.set_beta(beta_DKL).d_G(Nset).values\n",
    "    logLd = logL[ndead:]\n",
    "    logXf_set = np.zeros(Nset)\n",
    "    for i in range(Nset):\n",
    "        X = generate_Xs(nk)\n",
    "        Xd = X[ndead:]\n",
    "        d = np.random.choice(dG)\n",
    "        theta = params_from_d(logLd, Xd, d)\n",
    "        logXf_set[i] = logXf_formula(theta, logZdead, X_mean[ndead])\n",
    "    logXf_set = logXf_set[~np.isnan(logXf_set)]\n",
    "    # logXf_set = reject_outliers(logXf_set)\n",
    "    return logXf_set, f\"{len(logXf_set)} samples, {dG.mean():.1f}\"\n",
    "\n",
    "def logXf_beta_DKL_boot(points, ndead, Nset=25, Nresample=50):\n",
    "    logL, X_mean, nk, logZdead = data(points)\n",
    "    beta_DKL = get_beta(points, ndead)\n",
    "    dG = points.set_beta(beta_DKL).d_G(Nset).values\n",
    "    logXf_set = np.zeros(Nset)\n",
    "    for i in range(Nset):\n",
    "        window = np.sort(np.random.choice(np.arange(ndead, len(logL)), Nresample))\n",
    "        X = generate_Xs(nk)\n",
    "        logLd = logL[window]\n",
    "        Xd = X[window]\n",
    "        d = np.random.choice(dG)\n",
    "        theta = params_from_d(logLd, Xd, d)\n",
    "        logXf_set[i] = logXf_formula(theta, logZdead, X_mean[ndead])\n",
    "    logXf_set = logXf_set[~np.isnan(logXf_set)]\n",
    "    # logXf_set = reject_outliers(logXf_set)\n",
    "    return logXf_set, f\"{len(logXf_set)} samples, {dG.mean():.1f}\""
   ]
  },
  {
   "cell_type": "code",
   "execution_count": 93,
   "metadata": {},
   "outputs": [],
   "source": [
    "name, samples = get_samples('other', 'gp')\n",
    "model = EndModel(samples)\n",
    "true_endpoint = model.true_endpoint()\n",
    "true_logXf = model.true_logXf()"
   ]
  },
  {
   "cell_type": "code",
   "execution_count": 94,
   "metadata": {},
   "outputs": [
    {
     "name": "stdout",
     "output_type": "stream",
     "text": [
      " Iteration 88235 of 88235, 25 samples, 20.65"
     ]
    }
   ],
   "source": [
    "iterations = make_iterations(true_endpoint, 25)\n",
    "logXfs, logXfs_std = get_logXfs(model, logXf_beta_DKL, iterations, Nset=25)"
   ]
  },
  {
   "cell_type": "code",
   "execution_count": null,
   "metadata": {},
   "outputs": [],
   "source": []
  }
 ],
 "metadata": {
  "kernelspec": {
   "display_name": "env",
   "language": "python",
   "name": "python3"
  },
  "language_info": {
   "codemirror_mode": {
    "name": "ipython",
    "version": 3
   },
   "file_extension": ".py",
   "mimetype": "text/x-python",
   "name": "python",
   "nbconvert_exporter": "python",
   "pygments_lexer": "ipython3",
   "version": "3.10.12"
  },
  "orig_nbformat": 4
 },
 "nbformat": 4,
 "nbformat_minor": 2
}
