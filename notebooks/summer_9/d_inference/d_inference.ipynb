{
 "cells": [
  {
   "cell_type": "code",
   "execution_count": 1,
   "metadata": {},
   "outputs": [],
   "source": [
    "import numpy as np\n",
    "import matplotlib.pyplot as plt\n",
    "from aeons.utils import *\n",
    "from aeons.regress import *\n",
    "from aeons.endpoint import *\n",
    "from aeons.plotting import *\n",
    "figsettings()"
   ]
  },
  {
   "cell_type": "code",
   "execution_count": 70,
   "metadata": {},
   "outputs": [],
   "source": [
    "def get_beta_DKL(points, ndead):\n",
    "    logX = points.logX().iloc[ndead]\n",
    "    if logX < -points.D_KL():\n",
    "        return 1\n",
    "    def func(beta):\n",
    "        return logX + points.set_beta(beta).D_KL()\n",
    "    from scipy import optimize\n",
    "    res = optimize.root_scalar(func, bracket=[0, 1])\n",
    "    return res.root\n",
    "\n",
    "def get_beta_end(points, ndead, epsilon=1e-3):\n",
    "    logX = points.logX()\n",
    "    logL = points.logL\n",
    "    # Check if already terminated\n",
    "    logw = logL + logX\n",
    "    w = np.exp(logw - logw.max())\n",
    "    Zdead = np.sum(w[:ndead])\n",
    "    Zlive = np.sum(w[ndead:])\n",
    "    if Zlive/Zdead < epsilon:\n",
    "        return 1\n",
    "    # Otherwise, find beta\n",
    "    def func(beta):\n",
    "        logw = beta * logL + logX\n",
    "        w = np.exp(logw - logw.max())\n",
    "        Zdead = np.sum(w[:ndead])\n",
    "        Zlive = np.sum(w[ndead:])\n",
    "        return Zlive/Zdead - epsilon\n",
    "    from scipy import optimize\n",
    "    try:\n",
    "        res = optimize.root_scalar(func, bracket=[0, 100])\n",
    "        return res.root\n",
    "    except:\n",
    "        return 0\n",
    "    \n",
    "def get_beta_start(points, ndead, epsilon=1e-3):\n",
    "    logX = points.logX()\n",
    "    logL = points.logL\n",
    "    # Check if already terminated\n",
    "    logw = logL + logX\n",
    "    w = np.exp(logw - logw.max())\n",
    "    Zdead = np.sum(w[:ndead])\n",
    "    Zlive = np.sum(w[ndead:])\n",
    "    if Zlive/Zdead < epsilon:\n",
    "        return 1\n",
    "    # Otherwise, find beta\n",
    "    def func(beta):\n",
    "        logw = beta * logL + logX\n",
    "        w = np.exp(logw - logw.max())\n",
    "        Zdead = np.sum(w[:ndead])\n",
    "        Zlive = np.sum(w[ndead:])\n",
    "        return Zlive/Zdead - 1/epsilon\n",
    "    from scipy import optimize\n",
    "    try:\n",
    "        res = optimize.root_scalar(func, bracket=[0, 100])\n",
    "        return res.rootd\n",
    "    except:\n",
    "        return 0\n",
    "\n",
    "\n",
    "def logprior(x, mu, sig):\n",
    "    return -0.5*np.log(2*np.pi*sig**2) - np.power((x - mu)/sig, 2)/2"
   ]
  },
  {
   "cell_type": "code",
   "execution_count": 98,
   "metadata": {},
   "outputs": [],
   "source": [
    "def logXf_dG_range(points, ndead, Nset=25):\n",
    "    logL, X_mean, nk, logZdead = data(points)\n",
    "    beta_start = get_beta_start(points, ndead)\n",
    "    beta_end = get_beta_end(points, ndead)\n",
    "    beta_DKL = get_beta_DKL(points, ndead)\n",
    "    logbeta_start, logbeta_end, logbeta_DKL = np.log([beta_start, beta_end, beta_DKL])\n",
    "    betas = np.exp(np.linspace(logbeta_end, logbeta_DKL, 10))\n",
    "    dG_range = points.d_G(nsamples=25, beta=betas)\n",
    "    d_mean, d_std = dG_range.mean(), dG_range.std()\n",
    "    \n",
    "    logXf_set = np.zeros(Nset)\n",
    "    for i in range(Nset):\n",
    "        X = generate_Xs(nk)\n",
    "        d = np.random.normal(d_mean, d_std)\n",
    "        theta = params_from_d(logL[ndead:], X[ndead:], d)\n",
    "        logXf_set[i] = logXf_formula(theta, logZdead, X_mean[ndead])\n",
    "    logXf_set = logXf_set[~np.isnan(logXf_set)]\n",
    "    logXf_set = reject_outliers(logXf_set)\n",
    "    return logXf_set, f\"\""
   ]
  },
  {
   "cell_type": "code",
   "execution_count": 91,
   "metadata": {},
   "outputs": [],
   "source": [
    "name, samples = get_samples('toy', 'cauchy_83')\n",
    "model = EndModel(samples)\n",
    "true_endpoint = model.true_endpoint()\n",
    "true_logXf = model.true_logXf()"
   ]
  },
  {
   "cell_type": "code",
   "execution_count": 77,
   "metadata": {},
   "outputs": [
    {
     "data": {
      "text/plain": [
       "-106.58744804566055"
      ]
     },
     "execution_count": 77,
     "metadata": {},
     "output_type": "execute_result"
    }
   ],
   "source": [
    "true_logXf"
   ]
  },
  {
   "cell_type": "code",
   "execution_count": 99,
   "metadata": {},
   "outputs": [
    {
     "name": "stderr",
     "output_type": "stream",
     "text": [
      "/tmp/ipykernel_28227/4122241688.py:6: RuntimeWarning: divide by zero encountered in log\n",
      "  logbeta_start, logbeta_end, logbeta_DKL = np.log([beta_start, beta_end, beta_DKL])\n"
     ]
    },
    {
     "data": {
      "text/plain": [
       "(array([-71.57215829, -80.81632581, -66.03064577, -78.13460031,\n",
       "        -72.88889281, -81.94882328, -79.66668747, -73.28765881,\n",
       "        -76.59114208, -64.60140886, -70.93773738, -91.09766464,\n",
       "        -63.71635026, -85.83590409, -86.40488338, -76.39666809,\n",
       "        -76.16400677, -88.15892714, -82.75456992]),\n",
       " '')"
      ]
     },
     "execution_count": 99,
     "metadata": {},
     "output_type": "execute_result"
    }
   ],
   "source": [
    "ndead = 20000\n",
    "points = model.points(ndead)\n",
    "logL, X_mean, nk, logZdead = data(points)\n",
    "logXf_dG_range(points, ndead, Nset=25)"
   ]
  },
  {
   "cell_type": "code",
   "execution_count": 100,
   "metadata": {},
   "outputs": [
    {
     "name": "stderr",
     "output_type": "stream",
     "text": [
      "/tmp/ipykernel_28227/4122241688.py:6: RuntimeWarning: divide by zero encountered in log\n",
      "  logbeta_start, logbeta_end, logbeta_DKL = np.log([beta_start, beta_end, beta_DKL])\n",
      "/home/zixiao/Documents/III/project/env/lib/python3.10/site-packages/numpy/core/function_base.py:157: RuntimeWarning: invalid value encountered in multiply\n",
      "  y *= step\n",
      "/home/zixiao/Documents/III/project/env/lib/python3.10/site-packages/numpy/core/function_base.py:167: RuntimeWarning: invalid value encountered in add\n",
      "  y += start\n"
     ]
    },
    {
     "name": "stdout",
     "output_type": "stream",
     "text": [
      "Iteration 2988 of 28812, NaN\n"
     ]
    },
    {
     "name": "stderr",
     "output_type": "stream",
     "text": [
      "/home/zixiao/Documents/III/project/aeons/aeons/regress.py:29: RuntimeWarning: invalid value encountered in sqrt\n",
      "  sigma = np.sqrt(sigma_squared_analytic(d, Xdata, logLdata))\n",
      "/home/zixiao/Documents/III/project/aeons/aeons/utils.py:140: RuntimeWarning: invalid value encountered in log\n",
      "  logdead = logZdead - logLmax - (d/2)*np.log(2) - d*np.log(sigma) + np.log(2/d)\n",
      "/tmp/ipykernel_28227/3153407468.py:51: RuntimeWarning: overflow encountered in scalar divide\n",
      "  return Zlive/Zdead - 1/epsilon\n",
      "/tmp/ipykernel_28227/3153407468.py:27: RuntimeWarning: overflow encountered in scalar divide\n",
      "  return Zlive/Zdead - epsilon\n"
     ]
    },
    {
     "name": "stdout",
     "output_type": "stream",
     "text": [
      " Iteration 4064 of 28812, "
     ]
    },
    {
     "name": "stderr",
     "output_type": "stream",
     "text": [
      "/home/zixiao/Documents/III/project/aeons/aeons/regress.py:11: RuntimeWarning: overflow encountered in power\n",
      "  sum_X_4d = np.sum(X_i**(4/d))\n",
      "/home/zixiao/Documents/III/project/aeons/aeons/regress.py:14: RuntimeWarning: overflow encountered in scalar power\n",
      "  numerator = n * sum_X_4d - sum_X_2d**2\n",
      "/home/zixiao/Documents/III/project/aeons/aeons/regress.py:14: RuntimeWarning: invalid value encountered in scalar subtract\n",
      "  numerator = n * sum_X_4d - sum_X_2d**2\n"
     ]
    },
    {
     "name": "stdout",
     "output_type": "stream",
     "text": [
      " Iteration 5140 of 28812, "
     ]
    },
    {
     "name": "stderr",
     "output_type": "stream",
     "text": [
      "/home/zixiao/Documents/III/project/aeons/aeons/regress.py:16: RuntimeWarning: invalid value encountered in scalar divide\n",
      "  return numerator/denominator\n",
      "/tmp/ipykernel_28227/3153407468.py:51: RuntimeWarning: divide by zero encountered in scalar divide\n",
      "  return Zlive/Zdead - 1/epsilon\n"
     ]
    },
    {
     "name": "stdout",
     "output_type": "stream",
     "text": [
      " Iteration 6216 of 28812, "
     ]
    },
    {
     "name": "stderr",
     "output_type": "stream",
     "text": [
      "/tmp/ipykernel_28227/3153407468.py:27: RuntimeWarning: divide by zero encountered in scalar divide\n",
      "  return Zlive/Zdead - epsilon\n"
     ]
    },
    {
     "name": "stdout",
     "output_type": "stream",
     "text": [
      " Iteration 28812 of 28812, "
     ]
    }
   ],
   "source": [
    "iterations = make_iterations(true_endpoint, 25, start=0.1)\n",
    "logXfs, logXfs_set = model.logXfs(logXf_dG_range, iterations, Nset=25)"
   ]
  },
  {
   "cell_type": "code",
   "execution_count": 102,
   "metadata": {},
   "outputs": [
    {
     "data": {
      "image/png": "[encoded data removed]",
      "text/plain": [
       "<Figure size 400x200 with 1 Axes>"
      ]
     },
     "metadata": {},
     "output_type": "display_data"
    }
   ],
   "source": [
    "logXs = samples.logX().iloc[iterations]\n",
    "plot_std(-logXs, -logXfs, logXfs_set, -true_logXf, (0, 2))"
   ]
  },
  {
   "cell_type": "code",
   "execution_count": 39,
   "metadata": {},
   "outputs": [],
   "source": [
    "beta_start = get_beta_start(points, ndead)\n",
    "beta_end = get_beta_end(points, ndead)\n",
    "beta_DKL = get_beta_DKL(points, ndead)\n",
    "logbeta_start, logbeta_end, logbeta_DKL = np.log([beta_start, beta_end, beta_DKL])\n",
    "betas = np.exp(np.linspace(logbeta_end, logbeta_start, 10))"
   ]
  },
  {
   "cell_type": "code",
   "execution_count": 52,
   "metadata": {},
   "outputs": [
    {
     "data": {
      "text/plain": [
       "(25.363230160896507, 1.5362586756281038)"
      ]
     },
     "execution_count": 52,
     "metadata": {},
     "output_type": "execute_result"
    }
   ],
   "source": [
    "dG = points.d_G(nsamples=10, beta=beta_DKL)\n",
    "dG.mean(), dG.std()"
   ]
  },
  {
   "cell_type": "code",
   "execution_count": 51,
   "metadata": {},
   "outputs": [
    {
     "data": {
      "text/plain": [
       "(19.94478587965569, 11.623746909592148)"
      ]
     },
     "execution_count": 51,
     "metadata": {},
     "output_type": "execute_result"
    }
   ],
   "source": [
    "dG_range = points.d_G(nsamples=25, beta=betas)\n",
    "dG_range.mean(), dG_range.std()"
   ]
  },
  {
   "cell_type": "code",
   "execution_count": 167,
   "metadata": {},
   "outputs": [],
   "source": [
    "ndead = 17000\n",
    "logL, X_mean, nk, logZdead = model.data(ndead)\n",
    "points = points_at_iteration(samples, ndead)\n",
    "beta = beta_DKL(points, ndead)\n",
    "dG = points.set_beta(beta).d_G(25).values\n",
    "dG_mean = np.mean(dG)\n",
    "dG_std = np.std(dG)\n",
    "\n",
    "logLd, Xd = logL[ndead:], X_mean[ndead:]\n",
    "N = len(logLd)"
   ]
  },
  {
   "cell_type": "code",
   "execution_count": 168,
   "metadata": {},
   "outputs": [],
   "source": [
    "Nset = 100\n",
    "theta_ds = np.zeros(Nset)\n",
    "for i, d in enumerate(theta_ds):\n",
    "    X = generate_Xs(nk)\n",
    "    theta_ds[i] = analytic_lm_params(logLd, X[ndead:], d0=1)[1]\n",
    "theta_ds = theta_ds[~np.isnan(theta_ds)]"
   ]
  },
  {
   "cell_type": "code",
   "execution_count": 169,
   "metadata": {},
   "outputs": [
    {
     "data": {
      "text/plain": [
       "<matplotlib.lines.Line2D at 0x7f6f1b7cc3a0>"
      ]
     },
     "execution_count": 169,
     "metadata": {},
     "output_type": "execute_result"
    },
    {
     "data": {
      "image/png": "[encoded data removed]",
      "text/plain": [
       "<Figure size 400x200 with 1 Axes>"
      ]
     },
     "metadata": {},
     "output_type": "display_data"
    }
   ],
   "source": [
    "# Kernel density estimate of theta_ds\n",
    "from scipy.stats import gaussian_kde\n",
    "kde = gaussian_kde(theta_ds)\n",
    "ds = np.linspace(0, theta_ds.max(), 1000)\n",
    "def logkde(ds):\n",
    "    return np.log(kde(ds))\n",
    "theta_ds_kde = kde(ds)\n",
    "plt.plot(ds, theta_ds_kde)\n",
    "plt.axvline(x=np.median(theta_ds), color='k', ls='--')"
   ]
  },
  {
   "cell_type": "code",
   "execution_count": 172,
   "metadata": {},
   "outputs": [
    {
     "data": {
      "text/plain": [
       "(11664.132272491675, 1030.6565752118854)"
      ]
     },
     "execution_count": 172,
     "metadata": {},
     "output_type": "execute_result"
    }
   ],
   "source": [
    "theta_ds_filtered = theta_ds[abs(theta_ds - np.median(theta_ds)) < d_std]\n",
    "theta_ds_filtered.mean(), theta_ds_filtered.std()"
   ]
  },
  {
   "cell_type": "code",
   "execution_count": 173,
   "metadata": {},
   "outputs": [
    {
     "data": {
      "text/plain": [
       "0.12642869244575736"
      ]
     },
     "execution_count": 173,
     "metadata": {},
     "output_type": "execute_result"
    },
    {
     "data": {
      "image/png": "[encoded data removed]",
      "text/plain": [
       "<Figure size 400x200 with 1 Axes>"
      ]
     },
     "metadata": {},
     "output_type": "display_data"
    }
   ],
   "source": [
    "ds = np.linspace(5, 200, 100)\n",
    "logp_dG = logprior(ds, dG_mean, dG_std)\n",
    "logp_d = logprior(ds, theta_ds_filtered.mean(), theta_ds_filtered.std())\n",
    "\n",
    "d_weight = dG_mean/theta_ds_filtered.std()\n",
    "logpost = (logp_dG + d_weight*logp_d)/(1 + d_weight)\n",
    "plt.plot(ds, np.exp(logp_dG - logp_dG.max()), lw=1, color='gray')\n",
    "plt.plot(ds, np.exp(logp_d - logp_d.max()), lw=1, color='deepskyblue')\n",
    "\n",
    "plt.plot(ds, np.exp(logpost - logpost.max()), color='black')\n",
    "d_weight"
   ]
  },
  {
   "cell_type": "code",
   "execution_count": 174,
   "metadata": {},
   "outputs": [],
   "source": [
    "d_infer = (np.exp(logpost - logpost.max()) * ds).sum() / np.exp(logpost - logpost.max()).sum()\n",
    "d_infer_std = np.sqrt((np.exp(logpost - logpost.max()) * (ds - d_infer)**2).sum() / np.exp(logpost - logpost.max()).sum())\n",
    "theta_infer_plus = params_from_d(logLd, Xd, d_infer + 2*d_infer_std)\n",
    "theta_infer_minus = params_from_d(logLd, Xd, d_infer - 2*d_infer_std)"
   ]
  },
  {
   "cell_type": "code",
   "execution_count": 175,
   "metadata": {},
   "outputs": [
    {
     "data": {
      "text/plain": [
       "(-63.92203662365601, -79.20712933920545)"
      ]
     },
     "execution_count": 175,
     "metadata": {},
     "output_type": "execute_result"
    }
   ],
   "source": [
    "logL, X_mean, nk, logZdead = model.data(ndead)\n",
    "plus = logXf_formula(theta_infer_plus, logZdead, X_mean[ndead])\n",
    "minus = logXf_formula(theta_infer_minus, logZdead, X_mean[ndead])\n",
    "minus, plus"
   ]
  }
 ],
 "metadata": {
  "kernelspec": {
   "display_name": "env",
   "language": "python",
   "name": "python3"
  },
  "language_info": {
   "codemirror_mode": {
    "name": "ipython",
    "version": 3
   },
   "file_extension": ".py",
   "mimetype": "text/x-python",
   "name": "python",
   "nbconvert_exporter": "python",
   "pygments_lexer": "ipython3",
   "version": "3.10.12"
  },
  "orig_nbformat": 4
 },
 "nbformat": 4,
 "nbformat_minor": 2
}
