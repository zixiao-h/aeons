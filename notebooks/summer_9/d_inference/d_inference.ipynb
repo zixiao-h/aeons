{
 "cells": [
  {
   "cell_type": "code",
   "execution_count": 1,
   "metadata": {},
   "outputs": [],
   "source": [
    "import numpy as np\n",
    "import matplotlib.pyplot as plt\n",
    "from aeons.utils import *\n",
    "from aeons.regress import *\n",
    "from aeons.endpoint import *\n",
    "from aeons.plotting import *\n",
    "figsettings()"
   ]
  },
  {
   "cell_type": "code",
   "execution_count": 218,
   "metadata": {},
   "outputs": [],
   "source": [
    "def beta_DKL(points, ndead):\n",
    "    logX = points.logX().iloc[ndead]\n",
    "    if logX < -points.D_KL():\n",
    "        return 1\n",
    "    def func(beta):\n",
    "        return logX + points.set_beta(beta).D_KL()\n",
    "    from scipy import optimize\n",
    "    res = optimize.root_scalar(func, bracket=[0, 1])\n",
    "    return res.root\n",
    "\n",
    "\n",
    "def logprior(x, mu, sig):\n",
    "    return -0.5*np.log(2*np.pi*sig**2) - np.power((x - mu)/sig, 2)/2"
   ]
  },
  {
   "cell_type": "code",
   "execution_count": 333,
   "metadata": {},
   "outputs": [],
   "source": [
    "name, samples = get_samples('toy', 'cauchy_83')\n",
    "model = EndModel(samples)\n",
    "true_endpoint = model.true_endpoint()"
   ]
  },
  {
   "cell_type": "code",
   "execution_count": 334,
   "metadata": {},
   "outputs": [
    {
     "data": {
      "text/plain": [
       "29961"
      ]
     },
     "execution_count": 334,
     "metadata": {},
     "output_type": "execute_result"
    }
   ],
   "source": [
    "true_endpoint"
   ]
  },
  {
   "cell_type": "code",
   "execution_count": 378,
   "metadata": {},
   "outputs": [],
   "source": [
    "ndead = 20000\n",
    "logL, X_mean, nk, logZdead = model.data(ndead)\n",
    "points = points_at_iteration(samples, ndead)\n",
    "beta = beta_DKL(points, ndead)\n",
    "dG = points.set_beta(beta).d_G(25).values\n",
    "dG_mean = np.mean(dG)\n",
    "dG_std = np.std(dG)\n",
    "\n",
    "logLd, Xd = logL[ndead:], X_mean[ndead:]\n",
    "N = len(logLd)"
   ]
  },
  {
   "cell_type": "code",
   "execution_count": 379,
   "metadata": {},
   "outputs": [
    {
     "data": {
      "text/plain": [
       "(50.10615199285429, 39.00043819408374)"
      ]
     },
     "execution_count": 379,
     "metadata": {},
     "output_type": "execute_result"
    }
   ],
   "source": [
    "Nset = 25\n",
    "theta_ds = np.zeros(Nset)\n",
    "for i, d in enumerate(theta_ds):\n",
    "    X = generate_Xs(nk)\n",
    "    theta_ds[i] = analytic_lm_params(logLd, X[ndead:], d0=1)[1]\n",
    "theta_ds = theta_ds[~np.isnan(theta_ds)]\n",
    "theta_ds = reject_outliers(theta_ds, 2)\n",
    "theta_ds.mean(), theta_ds.std()"
   ]
  },
  {
   "cell_type": "code",
   "execution_count": 380,
   "metadata": {},
   "outputs": [
    {
     "data": {
      "text/plain": [
       "3.906308025431654"
      ]
     },
     "execution_count": 380,
     "metadata": {},
     "output_type": "execute_result"
    },
    {
     "data": {
      "image/png": "[encoded data removed]",
      "text/plain": [
       "<Figure size 400x200 with 1 Axes>"
      ]
     },
     "metadata": {},
     "output_type": "display_data"
    }
   ],
   "source": [
    "ds = np.linspace(5, 200, 100)\n",
    "logp_dG = logprior(ds, dG_mean, dG_std)\n",
    "logp_d = logprior(ds, theta_ds.mean(), theta_ds.std())\n",
    "\n",
    "d_weight = dG_mean/theta_ds.std()\n",
    "logpost = (logp_dG + d_weight*logp_d)/(1 + d_weight)\n",
    "plt.plot(ds, np.exp(logp_dG - logp_dG.max()), lw=1, color='gray')\n",
    "plt.plot(ds, np.exp(logp_d - logp_d.max()), lw=1, color='deepskyblue')\n",
    "\n",
    "plt.plot(ds, np.exp(logpost - logpost.max()), color='black')\n",
    "d_weight"
   ]
  },
  {
   "cell_type": "code",
   "execution_count": 387,
   "metadata": {},
   "outputs": [],
   "source": [
    "d_infer = (np.exp(logpost - logpost.max()) * ds).sum() / np.exp(logpost - logpost.max()).sum()\n",
    "d_infer_std = np.sqrt((np.exp(logpost - logpost.max()) * (ds - d_infer)**2).sum() / np.exp(logpost - logpost.max()).sum())\n",
    "theta_infer = params_from_d(logLd, Xd, 60)\n",
    "theta_infer_plus = params_from_d(logLd, Xd, 125)"
   ]
  },
  {
   "cell_type": "code",
   "execution_count": 388,
   "metadata": {},
   "outputs": [
    {
     "data": {
      "text/plain": [
       "(-63.342827754256874, -74.215362424584)"
      ]
     },
     "execution_count": 388,
     "metadata": {},
     "output_type": "execute_result"
    }
   ],
   "source": [
    "logL, X_mean, nk, logZdead = model.data(ndead)\n",
    "logXf_formula(theta_infer, logZdead, X_mean[ndead]), logXf_formula(theta_infer_plus, logZdead, X_mean[ndead])"
   ]
  },
  {
   "cell_type": "code",
   "execution_count": 383,
   "metadata": {},
   "outputs": [
    {
     "data": {
      "text/plain": [
       "-59.86415577902847"
      ]
     },
     "execution_count": 383,
     "metadata": {},
     "output_type": "execute_result"
    }
   ],
   "source": [
    "samples.logX().iloc[true_endpoint]"
   ]
  }
 ],
 "metadata": {
  "kernelspec": {
   "display_name": "env",
   "language": "python",
   "name": "python3"
  },
  "language_info": {
   "codemirror_mode": {
    "name": "ipython",
    "version": 3
   },
   "file_extension": ".py",
   "mimetype": "text/x-python",
   "name": "python",
   "nbconvert_exporter": "python",
   "pygments_lexer": "ipython3",
   "version": "3.10.12"
  },
  "orig_nbformat": 4
 },
 "nbformat": 4,
 "nbformat_minor": 2
}
