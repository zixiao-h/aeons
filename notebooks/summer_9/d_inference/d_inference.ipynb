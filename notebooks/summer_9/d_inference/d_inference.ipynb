{
 "cells": [
  {
   "cell_type": "code",
   "execution_count": 1,
   "metadata": {},
   "outputs": [],
   "source": [
    "import numpy as np\n",
    "import matplotlib.pyplot as plt\n",
    "from aeons.utils import *\n",
    "from aeons.regress import *\n",
    "from aeons.endpoint import *\n",
    "from aeons.plotting import *\n",
    "figsettings()"
   ]
  },
  {
   "cell_type": "code",
   "execution_count": 131,
   "metadata": {},
   "outputs": [],
   "source": [
    "def get_beta_DKL(points, ndead):\n",
    "    logX = points.logX().iloc[ndead]\n",
    "    if logX < -points.D_KL():\n",
    "        return 1\n",
    "    def func(beta):\n",
    "        return logX + points.set_beta(beta).D_KL()\n",
    "    from scipy import optimize\n",
    "    res = optimize.root_scalar(func, bracket=[0, 1])\n",
    "    return res.root\n",
    "\n",
    "def get_beta_end(points, ndead, epsilon=1e-3):\n",
    "    logX = points.logX()\n",
    "    logL = points.logL\n",
    "    # Check if already terminated\n",
    "    logw = logL + logX\n",
    "    w = np.exp(logw - logw.max())\n",
    "    Zdead = np.sum(w[:ndead])\n",
    "    Zlive = np.sum(w[ndead:])\n",
    "    if (Zdead != 0):\n",
    "        if (Zlive/Zdead < epsilon):\n",
    "            return 1\n",
    "    # Otherwise, find beta\n",
    "    def func(beta):\n",
    "        logw = beta * logL + logX\n",
    "        w = np.exp(logw - logw.max())\n",
    "        Zdead = np.sum(w[:ndead])\n",
    "        Zlive = np.sum(w[ndead:])\n",
    "        if (Zdead == 0):\n",
    "            return np.inf\n",
    "        return Zlive/Zdead - epsilon\n",
    "    from scipy import optimize\n",
    "    try:\n",
    "        res = optimize.root_scalar(func, bracket=[0, 1])\n",
    "        return res.root\n",
    "    except:\n",
    "        return 0\n",
    "    \n",
    "def get_beta_start(points, ndead, epsilon=1e-3):\n",
    "    logX = points.logX()\n",
    "    logL = points.logL\n",
    "    # Check if already terminated\n",
    "    logw = logL + logX\n",
    "    w = np.exp(logw - logw.max())\n",
    "    Zdead = np.sum(w[:ndead])\n",
    "    Zlive = np.sum(w[ndead:])\n",
    "    if Zlive/Zdead < epsilon:\n",
    "        return 1\n",
    "    # Otherwise, find beta\n",
    "    def func(beta):\n",
    "        logw = beta * logL + logX\n",
    "        w = np.exp(logw - logw.max())\n",
    "        Zdead = np.sum(w[:ndead])\n",
    "        Zlive = np.sum(w[ndead:])\n",
    "        return Zlive/Zdead - 1/epsilon\n",
    "    from scipy import optimize\n",
    "    try:\n",
    "        res = optimize.root_scalar(func, bracket=[0, 1])\n",
    "        return res.rootd\n",
    "    except:\n",
    "        return 0"
   ]
  },
  {
   "cell_type": "code",
   "execution_count": 171,
   "metadata": {},
   "outputs": [],
   "source": [
    "def logXf_dG_range_comb(points, ndead, Nset=25):\n",
    "    logL, X_mean, nk, logZdead = data(points)\n",
    "    beta_end = get_beta_end(points, ndead)\n",
    "    beta_DKL = get_beta_DKL(points, ndead)\n",
    "    if beta_end == 0:\n",
    "        betas = np.linspace(0, beta_DKL, 10)\n",
    "    else:\n",
    "        betas = np.exp(np.linspace(np.log(beta_end), np.log(beta_DKL), 10))\n",
    "    dG = points.d_G(nsamples=25, beta=betas)\n",
    "    dG_mean, dG_std = dG.mean(), dG.std()\n",
    "    ds = np.zeros(Nset)\n",
    "    for i in range(Nset):\n",
    "        X = generate_Xs(nk)\n",
    "        ds[i] = analytic_lm_params(logL[ndead:], X[ndead:], d0=1)[1]\n",
    "    d_mean, d_std = ds.mean(), ds.std()\n",
    "    dcomb = (dG_mean*d_std**2 + d_mean*dG_std**2)/(d_std**2 + dG_std**2)\n",
    "    dcomb_std = np.sqrt((d_std**2 * dG_std**2)/(d_std**2 + dG_std**2))\n",
    "    \n",
    "    logXf_set = np.zeros(Nset)\n",
    "    for i in range(Nset):\n",
    "        X = generate_Xs(nk)\n",
    "        d = np.random.normal(dcomb, dcomb_std)\n",
    "        if d < 0:\n",
    "            logXf_set[i] = np.nan\n",
    "            continue\n",
    "        theta = params_from_d(logL[ndead:], X[ndead:], d)\n",
    "        logXf_set[i] = logXf_formula(theta, logZdead, X_mean[ndead])\n",
    "    logXf_set = logXf_set[~np.isnan(logXf_set)]\n",
    "    logXf_set = reject_outliers(logXf_set, 3)\n",
    "    return logXf_set, f\"{beta_DKL:.2e}, {beta_end:.2e}\"\n",
    "\n",
    "def logXf_dG_range(points, ndead, Nset=25):\n",
    "    logL, X_mean, nk, logZdead = data(points)\n",
    "    beta_end = get_beta_end(points, ndead)\n",
    "    beta_DKL = get_beta_DKL(points, ndead)\n",
    "    if beta_end == 0:\n",
    "        betas = np.linspace(0, beta_DKL, 10)\n",
    "    elif (beta_end*beta_DKL == 1):\n",
    "        betas = 1\n",
    "    else:\n",
    "        betas = np.exp(np.linspace(np.log(beta_end), np.log(beta_DKL), 10))\n",
    "    dG = points.d_G(nsamples=25, beta=betas)\n",
    "    dG_mean, dG_std = dG.mean(), dG.std()\n",
    "    \n",
    "    logXf_set = np.zeros(Nset)\n",
    "    for i in range(Nset):\n",
    "        X = generate_Xs(nk)\n",
    "        d = np.random.normal(dG_mean, dG_std)\n",
    "        while d < 0:\n",
    "            d = np.random.normal(dG_mean, dG_std)\n",
    "        theta = params_from_d(logL[ndead:], X[ndead:], d)\n",
    "        logXf_set[i] = logXf_formula(theta, logZdead, X_mean[ndead])\n",
    "    logXf_set = logXf_set[~np.isnan(logXf_set)]\n",
    "    logXf_set = reject_outliers(logXf_set, 3)\n",
    "    return logXf_set, f\"{beta_DKL:.2e}, {beta_end:.2e}\"\n",
    "\n",
    "def logXf_short(points, ndead, Nset=25):\n",
    "    logL, X_mean, nk, logZdead = data(points)\n",
    "    nlive = len(logL) - ndead\n",
    "    start = ndead + int(0.75*nlive)\n",
    "    logLd = logL[start:]\n",
    "    logXf_set = np.zeros(Nset)\n",
    "    for i in range(Nset):\n",
    "        X = generate_Xs(nk)\n",
    "        Xd = X[start:]\n",
    "        theta = analytic_lm_params(logLd, Xd, d0=1)\n",
    "        logXf_set[i] = logXf_formula(theta, logZdead, X_mean[ndead])\n",
    "        if theta[1] > 360:\n",
    "            theta = analytic_lm_params(logLd[:-100], Xd[:-100], d0=1)\n",
    "            logXf_set[i] = logXf_formula(theta, logZdead, X_mean[ndead])\n",
    "    logXf_set = logXf_set[~np.isnan(logXf_set)]\n",
    "    logXf_set = reject_outliers(logXf_set)\n",
    "    return logXf_set, f'{len(logXf_set)} samples'\n",
    "\n",
    "def logXf_dG_logL(points, ndead, Nset=25):\n",
    "    logL, X_mean, nk, logZdead = data(points)\n",
    "    beta_logL = points.beta_s.iloc[ndead]\n",
    "    dG = points.d_G(nsamples=25, beta=beta_logL)\n",
    "    \n",
    "    logXf_set = np.zeros(Nset)\n",
    "    for i in range(Nset):\n",
    "        X = generate_Xs(nk)\n",
    "        d = np.random.choice(dG)\n",
    "        theta = params_from_d(logL[ndead:], X[ndead:], d)\n",
    "        logXf_set[i] = logXf_formula(theta, logZdead, X_mean[ndead])\n",
    "    logXf_set = logXf_set[~np.isnan(logXf_set)]\n",
    "    return logXf_set, f\"{beta_logL:.2e}, {len(logXf_set)} samples\""
   ]
  },
  {
   "cell_type": "code",
   "execution_count": null,
   "metadata": {},
   "outputs": [],
   "source": [
    "test_chains = ['gauss_32', 'cauchy_83', 'BAO', 'planck']\n",
    "ylims = [(0, 1.4), (0, 2), (0, 1.2), (0, 1.3)]\n",
    "fig, axs = plt.subplots(2, 2, figsize=(8, 4))\n",
    "axs = axs.flatten()\n",
    "for i, chain in enumerate(test_chains):\n",
    "    name, samples = get_samples(chain)\n",
    "    iterations, logXfs, logXfs_std, true_endpoint = read_from_txt(f\"data/dG_logL_{name}.txt\")\n",
    "    logXf_true = samples.logX().iloc[int(true_endpoint)]\n",
    "    logXs = samples.logX().iloc[iterations]\n",
    "    plot_std(-logXs, -logXfs, logXfs_std, -logXf_true, ax=axs[i], color='slateblue', ylim=ylims[i])\n",
    "    axs[i].set_title(name)\n",
    "fig.suptitle(\"$d_\\\\mathrm{G}$ fit with $\\\\beta(\\\\log\\\\mathcal{L}^* = \\\\langle \\\\log \\\\mathcal{L}\\\\rangle_\\\\mathcal{P})$\")\n",
    "fig.tight_layout()"
   ]
  },
  {
   "cell_type": "code",
   "execution_count": 4,
   "metadata": {},
   "outputs": [],
   "source": [
    "def beta_s(samples):\n",
    "    from scipy.interpolate import interp1d\n",
    "    beta = np.logspace(-14, 14, 1000)\n",
    "    logL = samples.logL_P(beta=beta)/beta\n",
    "    i = np.argmin(logL < samples.logL.max())\n",
    "    beta = np.concatenate([[0],beta[:i+1]])\n",
    "    logL = np.concatenate([[samples.logL.min()],logL.iloc[:i+1]])\n",
    "    f = interp1d(logL, beta)\n",
    "    samples['beta_s'] = f(samples.logL)"
   ]
  },
  {
   "cell_type": "code",
   "execution_count": null,
   "metadata": {},
   "outputs": [],
   "source": [
    "from anesthetic import NestedSamples\n",
    "from pandas import concat\n",
    "\n",
    "name, samples = get_samples('planck_gaussian')\n",
    "beta_s(samples)\n",
    "plt.plot(samples.logX(), samples.beta_s)\n",
    "plt.yscale('log')\n",
    "plt.xlabel('$\\\\log X$')\n",
    "plt.ylabel(r'$\\beta_*$')\n",
    "\n",
    "i= 10000\n",
    "points = NestedSamples(concat([samples[:i], samples.live_points(i)])).recompute()\n",
    "beta_s(points)\n",
    "plt.plot(points.logX(), points.beta_s)\n",
    "plt.axvline(samples.logX()[i], color='k', linestyle='--')"
   ]
  },
  {
   "cell_type": "code",
   "execution_count": 156,
   "metadata": {},
   "outputs": [],
   "source": [
    "def logXf_formula(theta, logZdead, Xi, epsilon=1e-3):\n",
    "    logLmax, d, sigma = theta\n",
    "    loglive = loggamma(d/2) + np.log(gammainc(d/2, Xi**(2/d)/(2*sigma**2)) )\n",
    "    logdead = logZdead - logLmax - (d/2)*np.log(2) - d*np.log(sigma) + np.log(2/d)\n",
    "    logend = logsumexp([loglive, logdead]) + np.log(epsilon)\n",
    "    # if (gammainc(d/2, Xi**(2/d)/(2*sigma**2)) > 1 - epsilon):\n",
    "    if logend > loggamma(d/2):\n",
    "        return d/2 * np.log(2) + d*np.log(sigma) + loggamma(1 + d/2) + np.log(epsilon)\n",
    "    xf_reg = gammaincinv(d/2, np.exp(logend - loggamma(d/2)))\n",
    "    return d/2 * np.log(2*sigma**2 * xf_reg)"
   ]
  },
  {
   "cell_type": "code",
   "execution_count": 213,
   "metadata": {},
   "outputs": [],
   "source": [
    "name, samples = get_samples('gauss_32')\n",
    "# beta_s(samples)\n",
    "model = EndModel(samples)\n",
    "true_endpoint = model.true_endpoint()\n",
    "true_logXf = model.true_logXf()"
   ]
  },
  {
   "cell_type": "code",
   "execution_count": 218,
   "metadata": {},
   "outputs": [
    {
     "data": {
      "text/plain": [
       "array([ 2667,  4694,  6721,  8748, 10775, 12803, 14830, 16857, 18884,\n",
       "       20911, 22938, 24965, 26993, 29020, 31047, 33074, 35101, 37128,\n",
       "       39155, 41183, 43210, 45237, 47264, 49291, 51318])"
      ]
     },
     "execution_count": 218,
     "metadata": {},
     "output_type": "execute_result"
    }
   ],
   "source": [
    "iterations"
   ]
  },
  {
   "cell_type": "code",
   "execution_count": 237,
   "metadata": {},
   "outputs": [
    {
     "data": {
      "text/plain": [
       "(array([-104.24924363,  -93.10576151,  -96.79630767, -113.39541883,\n",
       "         -99.2742925 ,  -98.17234109,  -93.37766029, -103.08457134,\n",
       "        -106.92873938, -100.89952978,  -94.50130765, -100.0989394 ,\n",
       "         -86.64046429, -102.06009177,  -86.56077642,  -95.01518719,\n",
       "         -88.89323156, -101.7845564 ,  -85.695394  , -112.03382645]),\n",
       " '3.40e-02, 1.14e-02')"
      ]
     },
     "execution_count": 237,
     "metadata": {},
     "output_type": "execute_result"
    }
   ],
   "source": [
    "ndead = 16857\n",
    "points = model.points(ndead)\n",
    "logXf_dG_range(points, ndead)"
   ]
  },
  {
   "cell_type": "code",
   "execution_count": 214,
   "metadata": {},
   "outputs": [
    {
     "name": "stdout",
     "output_type": "stream",
     "text": [
      " Iteration 2667 of 51318, 5.39e-03, 0.00e+00"
     ]
    },
    {
     "name": "stderr",
     "output_type": "stream",
     "text": [
      "/home/zixiao/Documents/III/project/aeons/aeons/regress.py:24: RuntimeWarning: divide by zero encountered in scalar divide\n",
      "  return 1/n * logsum + 1/(2*n*sigma_squared_analytic(d, X_i, logL_i)) * sum_X_2d\n",
      "/tmp/ipykernel_154484/3777107321.py:3: RuntimeWarning: divide by zero encountered in scalar divide\n",
      "  loglive = loggamma(d/2) + np.log(gammainc(d/2, Xi**(2/d)/(2*sigma**2)) )\n",
      "/tmp/ipykernel_154484/3777107321.py:4: RuntimeWarning: divide by zero encountered in log\n",
      "  logdead = logZdead - logLmax - (d/2)*np.log(2) - d*np.log(sigma) + np.log(2/d)\n",
      "/tmp/ipykernel_154484/3777107321.py:4: RuntimeWarning: invalid value encountered in scalar subtract\n",
      "  logdead = logZdead - logLmax - (d/2)*np.log(2) - d*np.log(sigma) + np.log(2/d)\n"
     ]
    },
    {
     "name": "stdout",
     "output_type": "stream",
     "text": [
      " Iteration 6721 of 51318, 9.43e-03, 3.02e-03"
     ]
    },
    {
     "name": "stderr",
     "output_type": "stream",
     "text": [
      "/tmp/ipykernel_154484/1036989968.py:20: RuntimeWarning: overflow encountered in scalar divide\n",
      "  if (Zlive/Zdead < epsilon):\n",
      "/tmp/ipykernel_154484/1036989968.py:30: RuntimeWarning: overflow encountered in scalar divide\n",
      "  return Zlive/Zdead - epsilon\n"
     ]
    },
    {
     "name": "stdout",
     "output_type": "stream",
     "text": [
      " Iteration 51318 of 51318, 1.00e+00, 8.65e-01"
     ]
    }
   ],
   "source": [
    "iterations = make_iterations(true_endpoint, 25)\n",
    "logXfs, logXfs_std = model.logXfs(logXf_dG_range, iterations, Nset=25)"
   ]
  },
  {
   "cell_type": "code",
   "execution_count": 216,
   "metadata": {},
   "outputs": [],
   "source": [
    "write_to_txt(f\"data/dG_range_{name}.txt\", [iterations, logXfs, logXfs_std, true_endpoint])"
   ]
  },
  {
   "cell_type": "code",
   "execution_count": 217,
   "metadata": {},
   "outputs": [
    {
     "data": {
      "image/png": "[encoded data removed]",
      "text/plain": [
       "<Figure size 400x200 with 1 Axes>"
      ]
     },
     "metadata": {},
     "output_type": "display_data"
    }
   ],
   "source": [
    "fig, ax = plt.subplots()\n",
    "# iterations, logXfs, logXfs_std, true_endpoint = read_from_txt(f\"data/dG_DKL_{name}.txt\")\n",
    "logXs = samples.logX().iloc[iterations]\n",
    "logXf_true = samples.logX().iloc[int(true_endpoint)]\n",
    "plot_std(-logXs, -logXfs, logXfs_std, -logXf_true, color='purple', ax=ax, ylim=(0, 2))"
   ]
  },
  {
   "cell_type": "code",
   "execution_count": 30,
   "metadata": {},
   "outputs": [],
   "source": [
    "ndead = 9000\n",
    "points = model.points(ndead)\n",
    "\n",
    "from scipy.interpolate import interp1d\n",
    "beta = np.logspace(-14, 14, 1000)\n",
    "logX = -samples.D_KL(beta=beta)\n",
    "beta = np.concatenate([[0],beta])\n",
    "logX = np.concatenate([[0],logX])\n",
    "beta_DKL_func = interp1d(logX, beta)\n",
    "beta_DKL_func(samples.logX())[ndead]"
   ]
  },
  {
   "cell_type": "code",
   "execution_count": 62,
   "metadata": {},
   "outputs": [
    {
     "data": {
      "image/png": "[encoded data removed]",
      "text/plain": [
       "<Figure size 400x200 with 1 Axes>"
      ]
     },
     "metadata": {},
     "output_type": "display_data"
    }
   ],
   "source": [
    "fig, ax = plt.subplots()\n",
    "iterations, logXfs, logXfs_std, true_endpoint = read_from_txt(f\"data/dG_logL_{name}.txt\")\n",
    "logXs = samples.logX().iloc[iterations]\n",
    "logXf_true = samples.logX().iloc[int(true_endpoint)]\n",
    "plot_std(-logXs, -logXfs, logXfs_std, -logXf_true, color='purple', ax=ax)\n",
    "\n",
    "iterations, logXfs, logXfs_std, true_endpoint = read_from_txt(f\"data/dG_DKL_{name}.txt\")\n",
    "logXs = samples.logX().iloc[iterations]\n",
    "plot_std(-logXs, -logXfs, logXfs_std, -logXf_true, color='orange', ax=ax, ylim=(0, 1.2))"
   ]
  },
  {
   "cell_type": "code",
   "execution_count": 42,
   "metadata": {},
   "outputs": [
    {
     "data": {
      "text/plain": [
       "(array([-40.15166146, -38.99148832, -40.13699961, -39.98069818,\n",
       "        -40.55096751, -40.55647852, -40.01752856, -39.54928351,\n",
       "        -38.93942458, -40.83512885, -41.06141084, -40.42114829,\n",
       "        -40.37811923, -39.96091784, -41.84053695, -39.24759674,\n",
       "        -40.69301044, -40.69639449, -40.25745447, -40.44037344,\n",
       "        -40.86321912, -39.82662807, -41.21308338, -40.45387587,\n",
       "        -40.85198547]),\n",
       " '3.48e-03, 25 samples')"
      ]
     },
     "execution_count": 42,
     "metadata": {},
     "output_type": "execute_result"
    }
   ],
   "source": [
    "ndead = 10000\n",
    "points = model.points(ndead)\n",
    "logXf_dG_logL(points, ndead, Nset=25)"
   ]
  },
  {
   "cell_type": "code",
   "execution_count": 27,
   "metadata": {},
   "outputs": [],
   "source": [
    "beta = np.logspace(-14, 14, 1000)\n",
    "logL = samples.logL_P(beta=beta)/beta\n",
    "i = np.argmin(logL < samples.logL.max())\n",
    "logL = np.concatenate([[samples.logL.min()],logL.iloc[:i+1]])"
   ]
  },
  {
   "cell_type": "code",
   "execution_count": null,
   "metadata": {},
   "outputs": [],
   "source": [
    "beta = np.logspace(-14, 14, 1000)\n",
    "logL = samples.logL_P(beta=beta)/beta\n",
    "i = np.argmin(logL < samples.logL.max())\n",
    "beta = np.concatenate([[0],beta[:i+1]])\n",
    "logL = np.concatenate([[samples.logL.min()],logL.iloc[:i+1]])\n",
    "f = interp1d(logL, beta)"
   ]
  }
 ],
 "metadata": {
  "kernelspec": {
   "display_name": "env",
   "language": "python",
   "name": "python3"
  },
  "language_info": {
   "codemirror_mode": {
    "name": "ipython",
    "version": 3
   },
   "file_extension": ".py",
   "mimetype": "text/x-python",
   "name": "python",
   "nbconvert_exporter": "python",
   "pygments_lexer": "ipython3",
   "version": "3.10.12"
  },
  "orig_nbformat": 4
 },
 "nbformat": 4,
 "nbformat_minor": 2
}
