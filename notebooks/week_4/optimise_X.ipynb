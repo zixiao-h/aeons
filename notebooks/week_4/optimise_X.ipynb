{
 "cells": [
  {
   "cell_type": "code",
   "execution_count": 1,
   "metadata": {},
   "outputs": [],
   "source": [
    "import numpy as np\n",
    "import matplotlib.pyplot as plt\n",
    "import seaborn as sns\n",
    "import numba as nb\n",
    "import warnings\n",
    "warnings.filterwarnings(\"ignore\", category=FutureWarning)\n",
    "warnings.filterwarnings(\"ignore\", category=UserWarning)\n",
    "from scipy.optimize import minimize\n",
    "\n",
    "from toy_samples import gaussian_samples\n",
    "from aeons.covariance import logX_mu, logX_covinv_chol, points_at_iteration, logPr\n",
    "\n",
    "# Load test samples\n",
    "from aeons.tools import pickle_in\n",
    "samples_g_1, samples_c_1, samples_w_1 = pickle_in(\"test_samples/samples_1.pickle\")"
   ]
  },
  {
   "cell_type": "code",
   "execution_count": 2,
   "metadata": {},
   "outputs": [],
   "source": [
    "def logt_sample(n):\n",
    "    p = np.random.rand()\n",
    "    return 1/n * np.log(p)\n",
    "logt_sample = np.vectorize(logt_sample)\n",
    "\n",
    "def X_sample(nk):\n",
    "    logt_samples = logt_sample(nk)\n",
    "    logX = np.sum(logt_samples)\n",
    "    X = np.exp(logX)\n",
    "    return X\n",
    "\n",
    "def generate_Xs(nk, iterations=None):\n",
    "    logt_samples = logt_sample(nk)\n",
    "    logXs = np.cumsum(logt_samples)\n",
    "    Xs = np.exp(logXs)\n",
    "    if iterations is not None:\n",
    "        return np.take(Xs, iterations)\n",
    "    return Xs"
   ]
  },
  {
   "cell_type": "code",
   "execution_count": 45,
   "metadata": {},
   "outputs": [],
   "source": [
    "def logL_X(X, theta):\n",
    "    d, sigma = theta\n",
    "    return - X**(2/d)/(2*sigma**2)\n",
    "\n",
    "def X_logL(logL, theta):\n",
    "    d, sigma = theta\n",
    "    return np.exp(d/2 * np.log(-2*sigma**2*logL))\n",
    "\n",
    "def minimize_theta(logL, mean, cov_inv, x0):\n",
    "    def func(theta):\n",
    "        X = X_logL(logL, theta)\n",
    "        return (X - mean).T @ cov_inv @ (X - mean) # want to maximise probability <-> minimise negative\n",
    "    solution = minimize(func, x0)\n",
    "    return solution"
   ]
  },
  {
   "cell_type": "code",
   "execution_count": 101,
   "metadata": {},
   "outputs": [],
   "source": [
    "nk = 500 * np.ones(1000)\n",
    "iterations = np.arange(5, 1000, 5)\n",
    "repeats = 1000\n",
    "X_samples = np.zeros((repeats, len(iterations)))\n",
    "for i in range(repeats):\n",
    "    X_samples[i] = generate_Xs(nk, iterations)\n",
    "mean_X = np.mean(X_samples, axis=0)\n",
    "cov_X = np.cov(X_samples.T)\n",
    "covinv_X = np.linalg.inv(cov_X)"
   ]
  },
  {
   "cell_type": "code",
   "execution_count": 40,
   "metadata": {},
   "outputs": [],
   "source": [
    "def generate_Xstats(nk, iterations=None):\n",
    "    if iterations is None:\n",
    "        N_iterations = len(nk)\n",
    "    else:\n",
    "        N_iterations = len(iterations)\n",
    "    repeats = 5000\n",
    "    X_samples = np.zeros((repeats, N_iterations))\n",
    "    for i in range(repeats):\n",
    "        X_samples[i] = generate_Xs(nk, iterations)\n",
    "    mean_X = np.mean(X_samples, axis=0)\n",
    "    cov_X = np.cov(X_samples.T)\n",
    "    covinv_X = np.linalg.inv(cov_X)\n",
    "    return mean_X, covinv_X"
   ]
  },
  {
   "cell_type": "code",
   "execution_count": 5,
   "metadata": {},
   "outputs": [
    {
     "ename": "NameError",
     "evalue": "name 'nk' is not defined",
     "output_type": "error",
     "traceback": [
      "\u001b[0;31m---------------------------------------------------------------------------\u001b[0m",
      "\u001b[0;31mNameError\u001b[0m                                 Traceback (most recent call last)",
      "Cell \u001b[0;32mIn[5], line 1\u001b[0m\n\u001b[0;32m----> 1\u001b[0m X_sample \u001b[39m=\u001b[39m generate_Xs(nk, iterations)\n\u001b[1;32m      2\u001b[0m logL \u001b[39m=\u001b[39m logL_X(X_sample, [\u001b[39m10\u001b[39m, \u001b[39m0.1\u001b[39m])\n\u001b[1;32m      3\u001b[0m minimize_theta(logL, mean_X, covinv_X, [\u001b[39m10\u001b[39m,\u001b[39m0.1\u001b[39m])\u001b[39m.\u001b[39mx\n",
      "\u001b[0;31mNameError\u001b[0m: name 'nk' is not defined"
     ]
    }
   ],
   "source": [
    "X_sample = generate_Xs(nk, iterations)\n",
    "logL = logL_X(X_sample, [10, 0.1])\n",
    "minimize_theta(logL, mean_X, covinv_X, [10,0.1]).x"
   ]
  },
  {
   "cell_type": "code",
   "execution_count": 54,
   "metadata": {},
   "outputs": [],
   "source": [
    "points = points_at_iteration(samples_g_1, 500)\n",
    "nk = np.array(points.nlive)\n",
    "mean_X, covinv_X = generate_Xstats(nk)"
   ]
  },
  {
   "cell_type": "code",
   "execution_count": 55,
   "metadata": {},
   "outputs": [],
   "source": [
    "logL = points.logL"
   ]
  },
  {
   "cell_type": "code",
   "execution_count": 56,
   "metadata": {},
   "outputs": [],
   "source": [
    "from covariance import logX_model, logPr\n",
    "def optimise_pr_cg(logL, mean, cov_inv, x0):\n",
    "    def func(theta):\n",
    "        logX = logX_model(logL, *theta)\n",
    "        return - logPr(logX, mean, cov_inv) # want to maximise probability <-> minimise negative\n",
    "    solution = minimize(func, x0, method='Nelder-Mead')\n",
    "    return solution"
   ]
  },
  {
   "cell_type": "code",
   "execution_count": 45,
   "metadata": {},
   "outputs": [
    {
     "name": "stdout",
     "output_type": "stream",
     "text": [
      "-3.53e+07\n"
     ]
    }
   ],
   "source": [
    "from covariance import logPr_params\n",
    "\n",
    "logPr_test = logPr_params(logL, mean, covinv, [-2, 8.9, 0.1])\n",
    "print(f\"{logPr_test:.2e}\")"
   ]
  },
  {
   "cell_type": "code",
   "execution_count": 57,
   "metadata": {},
   "outputs": [
    {
     "data": {
      "text/plain": [
       "[-1.6307473394785745, 8.97265352461834, 0.10176917006706997]"
      ]
     },
     "execution_count": 57,
     "metadata": {},
     "output_type": "execute_result"
    }
   ],
   "source": [
    "from lm_partial import analytic_lm_params\n",
    "analytic_lm_params(logL, mean_X, 10)"
   ]
  },
  {
   "cell_type": "code",
   "execution_count": 58,
   "metadata": {},
   "outputs": [],
   "source": [
    "params_cg = optimise_pr_cg(logL, mean_X, covinv_X, [-2, 10, 0.1]).x"
   ]
  },
  {
   "cell_type": "code",
   "execution_count": 59,
   "metadata": {},
   "outputs": [
    {
     "data": {
      "image/png": "[encoded data removed]",
      "text/plain": [
       "<Figure size 640x480 with 1 Axes>"
      ]
     },
     "metadata": {},
     "output_type": "display_data"
    }
   ],
   "source": [
    "from plotting import plot_fit_raw\n",
    "plot_fit_raw(mean_X, logL, params_cg)"
   ]
  },
  {
   "attachments": {},
   "cell_type": "markdown",
   "metadata": {},
   "source": [
    "## Contour plots"
   ]
  },
  {
   "cell_type": "code",
   "execution_count": 245,
   "metadata": {},
   "outputs": [],
   "source": [
    "logX_means = []\n",
    "for i in range(5):\n",
    "    logX1s, logX2s = generate_logXs(1000)\n",
    "    logX = np.array([logX1s, logX2s]).T\n",
    "    mean = logX.mean(axis=0)\n",
    "    logX_means.append(mean)"
   ]
  }
 ],
 "metadata": {
  "kernelspec": {
   "display_name": "Python 3.10.6 ('env')",
   "language": "python",
   "name": "python3"
  },
  "language_info": {
   "codemirror_mode": {
    "name": "ipython",
    "version": 3
   },
   "file_extension": ".py",
   "mimetype": "text/x-python",
   "name": "python",
   "nbconvert_exporter": "python",
   "pygments_lexer": "ipython3",
   "version": "3.10.6"
  },
  "orig_nbformat": 4,
  "vscode": {
   "interpreter": {
    "hash": "f04b3df41c937fb946d36e0c914ccce305e67d8dbbe371762424715e8a219369"
   }
  }
 },
 "nbformat": 4,
 "nbformat_minor": 2
}
