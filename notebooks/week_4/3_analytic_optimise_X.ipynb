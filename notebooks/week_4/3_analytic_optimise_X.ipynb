{
 "cells": [
  {
   "cell_type": "code",
   "execution_count": 2,
   "metadata": {},
   "outputs": [],
   "source": [
    "import numpy as np\n",
    "import matplotlib.pyplot as plt\n",
    "import warnings\n",
    "warnings.filterwarnings(\"ignore\", category=FutureWarning)\n",
    "warnings.filterwarnings(\"ignore\", category=UserWarning)\n",
    "from scipy.optimize import minimize\n",
    "\n",
    "from aeons.covariance import logX_mu, logX_covinv_chol, points_at_iteration, logPr\n",
    "\n",
    "# Load test samples\n",
    "from aeons.tools import pickle_in\n",
    "samples_g_1, samples_c_1, samples_w_1 = pickle_in(\"../test_samples/samples_1.pickle\")\n",
    "\n",
    "from true_distribution import generate_Xs, generate_Xsamples"
   ]
  },
  {
   "attachments": {},
   "cell_type": "markdown",
   "metadata": {},
   "source": [
    "Mean and covariance of X"
   ]
  },
  {
   "cell_type": "code",
   "execution_count": 3,
   "metadata": {},
   "outputs": [],
   "source": [
    "def mean_X(nk):\n",
    "    return np.cumprod(nk/(nk+1))\n",
    "\n",
    "def cov_X(nk):\n",
    "    t_1 = np.cumprod(nk/(nk+1)) # cumulative product of expectation of t\n",
    "    t_2 = np.cumprod(nk/(nk+2)) # cumulative product of expectation of t^2\n",
    "    iterations = len(nk)\n",
    "    cov_X = np.zeros((iterations, iterations))\n",
    "    for i in range(iterations):\n",
    "        cov_X[i][i] = t_2[i] - t_1[i]**2 \n",
    "        for j in range(i+1, iterations): # start j above i so min(i,j) automatically fulfilled\n",
    "            correlated = t_2[i] - t_1[i]**2\n",
    "            independent = t_1[j]/t_1[i] # cumulative product from i+1 to j\n",
    "            cov_X[i][j] = cov_X[j][i] = correlated * independent\n",
    "    return cov_X"
   ]
  },
  {
   "cell_type": "code",
   "execution_count": 4,
   "metadata": {},
   "outputs": [],
   "source": [
    "def data_at_iteration(samples, iteration):\n",
    "    points = points_at_iteration(samples, iteration)\n",
    "    nk = np.array(points.nlive)\n",
    "    logL = np.array(points.logL)\n",
    "    return nk, logL "
   ]
  },
  {
   "attachments": {},
   "cell_type": "markdown",
   "metadata": {},
   "source": [
    "1. Define a live point distribution, from which we get $\\mu(X_i)$, $\\mathrm{Cov}(X_i, X_j)$\n",
    "\n",
    "2. Generate a set of $\\bm{X}$ across a run using $\\Pr(t) = n t^{n-1}$\n",
    "\n",
    "3. Calculate $\\log L = -X^{2/d}$, which is the data\n",
    "\n",
    "4. Try to infer $d$ from $\\log L$ and known $\\mu$, $\\mathrm{Cov}$"
   ]
  },
  {
   "attachments": {},
   "cell_type": "markdown",
   "metadata": {},
   "source": [
    "##### Functions"
   ]
  },
  {
   "cell_type": "code",
   "execution_count": 5,
   "metadata": {},
   "outputs": [],
   "source": [
    "def logL_X(X, theta):\n",
    "    d = theta\n",
    "    return - X**(2/d)\n",
    "\n",
    "def X_logL(logL, theta):\n",
    "    d = theta\n",
    "    return np.exp(d/2 * np.log(-logL))\n",
    "\n",
    "def minimize_theta(logL, mean, cov_inv, x0):\n",
    "    def func(theta):\n",
    "        X = X_logL(logL, theta)\n",
    "        return (X - mean).T @ cov_inv @ (X - mean) # want to maximise probability <-> minimise negative\n",
    "    solution = minimize(func, x0)\n",
    "    return solution\n",
    "\n",
    "def pr_d(logL, mean, covinv, d):\n",
    "    X = X_logL(logL, d)\n",
    "    pr = - (X - mean).T @ covinv @ (X - mean)\n",
    "    return pr\n",
    "    \n",
    "def plot_pr_d(logL, mean, covinv):\n",
    "    ds = np.linspace(0, 20, 50)\n",
    "    prs = np.zeros_like(ds)\n",
    "    for i, d in enumerate(ds):\n",
    "        prs[i] = pr_d(logL, mean, covinv, d)\n",
    "    plt.plot(ds, prs, color='blue', label='X')\n",
    "    dmax = ds[np.argmax(prs)]\n",
    "    plt.axvline(x=dmax, ls='--', lw=1, color='blue')\n",
    "    print(f\"X: {dmax:.3f}\")"
   ]
  },
  {
   "cell_type": "code",
   "execution_count": 6,
   "metadata": {},
   "outputs": [],
   "source": [
    "def logL_logX(logX, theta):\n",
    "    d = theta\n",
    "    X = np.exp(logX)\n",
    "    return - X**(2/d)\n",
    "\n",
    "def logX_logL(logL, theta):\n",
    "    d = theta\n",
    "    return d/2 * np.log(-logL)\n",
    "\n",
    "def minimize_theta_logX(logL, mean, cov_inv, x0):\n",
    "    def func(theta):\n",
    "        logX = logX_logL(logL, theta)\n",
    "        return (logX - mean).T @ cov_inv @ (logX - mean) # want to maximise probability <-> minimise negative\n",
    "    solution = minimize(func, x0)\n",
    "    return solution\n",
    "\n",
    "def pr_d_logX(logL, mean, covinv, d):\n",
    "    logX = logX_logL(logL, d)\n",
    "    pr = - (logX - mean).T @ covinv @ (logX - mean)\n",
    "    return pr\n",
    "    \n",
    "def plot_pr_d_logX(logL, mean, covinv):\n",
    "    ds = np.linspace(0, 20, 50)\n",
    "    prs = np.zeros_like(ds)\n",
    "    for i, d in enumerate(ds):\n",
    "        prs[i] = pr_d_logX(logL, mean, covinv, d)\n",
    "    plt.plot(ds, prs, color='red', label='logX')\n",
    "    dmax = ds[np.argmax(prs)]\n",
    "    plt.axvline(x=dmax, ls='--', lw=1, color='red')\n",
    "    print(f\"logX: {dmax:.3f}\")"
   ]
  },
  {
   "attachments": {},
   "cell_type": "markdown",
   "metadata": {},
   "source": [
    "#### **Results**\n",
    "\n",
    "Lack of sharp maximum for Gaussian\n",
    "\n",
    "X maximum moves when number of points increases, logX maximum remains stable"
   ]
  },
  {
   "cell_type": "code",
   "execution_count": 298,
   "metadata": {},
   "outputs": [],
   "source": [
    "iteration = 2000\n",
    "nk = data_at_iteration(samples_g_1, iteration)[0][:iteration]\n",
    "\n",
    "meanX = mean_X(nk)\n",
    "covX = cov_X(nk)\n",
    "covinvX = np.linalg.inv(covX)\n",
    "\n",
    "meanlogX = logX_mu(nk)\n",
    "covinvlogX = logX_covinv_chol(nk)"
   ]
  },
  {
   "cell_type": "code",
   "execution_count": 321,
   "metadata": {},
   "outputs": [],
   "source": [
    "Xs = generate_Xs(nk)\n",
    "d_true = 10\n",
    "logL = logL_X(Xs, d_true)"
   ]
  },
  {
   "cell_type": "code",
   "execution_count": 322,
   "metadata": {},
   "outputs": [
    {
     "name": "stdout",
     "output_type": "stream",
     "text": [
      "X: 15.510\n",
      "logX: 4.898\n"
     ]
    },
    {
     "data": {
      "image/png": "[encoded data removed]",
      "text/plain": [
       "<Figure size 640x480 with 1 Axes>"
      ]
     },
     "metadata": {},
     "output_type": "display_data"
    }
   ],
   "source": [
    "plot_pr_d(logL, meanX, covinvX)\n",
    "plot_pr_d_logX(logL, meanlogX, covinvlogX)\n",
    "plt.ylim(-50000,10000)\n",
    "plt.title('Gaussian')\n",
    "plt.legend();"
   ]
  },
  {
   "cell_type": "code",
   "execution_count": 326,
   "metadata": {},
   "outputs": [
    {
     "name": "stdout",
     "output_type": "stream",
     "text": [
      "X: 9.796\n",
      "logX: 9.796\n"
     ]
    },
    {
     "data": {
      "image/png": "[encoded data removed]",
      "text/plain": [
       "<Figure size 640x480 with 1 Axes>"
      ]
     },
     "metadata": {},
     "output_type": "display_data"
    }
   ],
   "source": [
    "plot_pr_d(logL, meanX, np.eye(len(meanX)))\n",
    "plot_pr_d_logX(logL, meanlogX, np.eye(len(meanlogX)))\n",
    "plt.ylim(-1000, 200)\n",
    "plt.title('Least squares')\n",
    "plt.legend();"
   ]
  },
  {
   "attachments": {},
   "cell_type": "markdown",
   "metadata": {},
   "source": [
    "#### Slider"
   ]
  },
  {
   "cell_type": "code",
   "execution_count": 7,
   "metadata": {},
   "outputs": [],
   "source": [
    "from ipywidgets import interact\n",
    "import ipywidgets as widgets"
   ]
  },
  {
   "cell_type": "code",
   "execution_count": 9,
   "metadata": {},
   "outputs": [
    {
     "name": "stdout",
     "output_type": "stream",
     "text": [
      "Using matplotlib backend: TkAgg\n"
     ]
    }
   ],
   "source": [
    "%matplotlib"
   ]
  },
  {
   "cell_type": "code",
   "execution_count": 10,
   "metadata": {},
   "outputs": [
    {
     "data": {
      "application/vnd.jupyter.widget-view+json": {
       "model_id": "262d6fb24aa24905846b45fedf3c5108",
       "version_major": 2,
       "version_minor": 0
      },
      "text/plain": [
       "interactive(children=(IntSlider(value=100, description='iterations', max=1500, min=100, step=100), Output()), …"
      ]
     },
     "metadata": {},
     "output_type": "display_data"
    }
   ],
   "source": [
    "@interact(iterations=widgets.IntSlider(min=100, max=1500, step=100))\n",
    "def nk_sliders(iterations):\n",
    "        plt.clf()\n",
    "        nk = 500 * np.ones(iterations)\n",
    "        meanX = mean_X(nk)\n",
    "        covX = cov_X(nk)\n",
    "        covinvX = np.linalg.inv(covX)\n",
    "\n",
    "        meanlogX = logX_mu(nk)\n",
    "        covinvlogX = logX_covinv_chol(nk)\n",
    "\n",
    "        Xs = generate_Xs(nk)\n",
    "        d_true = 10\n",
    "        logL = logL_X(Xs, d_true)\n",
    "\n",
    "        plot_pr_d(logL, meanX, covinvX)\n",
    "        plot_pr_d_logX(logL, meanlogX, covinvlogX)\n",
    "        plt.ylim(-50000,10000)\n",
    "        plt.title('Gaussian')\n",
    "        plt.legend();"
   ]
  },
  {
   "cell_type": "code",
   "execution_count": null,
   "metadata": {},
   "outputs": [],
   "source": []
  }
 ],
 "metadata": {
  "kernelspec": {
   "display_name": "Python 3.10.6 ('env')",
   "language": "python",
   "name": "python3"
  },
  "language_info": {
   "codemirror_mode": {
    "name": "ipython",
    "version": 3
   },
   "file_extension": ".py",
   "mimetype": "text/x-python",
   "name": "python",
   "nbconvert_exporter": "python",
   "pygments_lexer": "ipython3",
   "version": "3.10.6"
  },
  "orig_nbformat": 4,
  "vscode": {
   "interpreter": {
    "hash": "f04b3df41c937fb946d36e0c914ccce305e67d8dbbe371762424715e8a219369"
   }
  }
 },
 "nbformat": 4,
 "nbformat_minor": 2
}
