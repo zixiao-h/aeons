{
 "cells": [
  {
   "attachments": {},
   "cell_type": "markdown",
   "metadata": {},
   "source": [
    "Maximise $P(\\bm{X}|\\log L)$"
   ]
  },
  {
   "cell_type": "code",
   "execution_count": 2,
   "metadata": {},
   "outputs": [],
   "source": [
    "import numpy as np\n",
    "import numba as nb\n",
    "import matplotlib.pyplot as plt\n",
    "import warnings\n",
    "warnings.filterwarnings(\"ignore\", category=FutureWarning)\n",
    "warnings.filterwarnings(\"ignore\", category=UserWarning)\n",
    "from scipy.optimize import minimize, least_squares\n",
    "\n",
    "# Load test samples\n",
    "from aeons.tools import pickle_in\n",
    "samples_g_1, samples_c_1, samples_w_1 = pickle_in(\"../test_samples/samples_1.pickle\")\n",
    "\n",
    "from aeons.covariance import logX_mu, logX_covinv_chol, points_at_iteration, X_mu, X_Sigma, X_Sigmainv, data_at_iteration\n",
    "from aeons.true_distribution import generate_Xs\n",
    "from aeons.lm_partial import analytic_lm_params\n",
    "from aeons.bayes import logPr_bayes, logPr_laplace, logPr_gaussian, minimise_ls, minimise_bayes, minimise_gaussian\n",
    "from aeons.likelihoods import likelihood, linear_like, quad_like, log_like, simple_like, middle_like, full_like\n",
    "linear, quad, log = linear_like(), quad_like(), log_like()\n",
    "simple, middle, full = simple_like(), middle_like(), full_like()"
   ]
  },
  {
   "cell_type": "code",
   "execution_count": 3,
   "metadata": {},
   "outputs": [],
   "source": [
    "nk = 500 * np.ones(2)\n",
    "X_true = generate_Xs(nk)\n",
    "mean_X = X_mu(nk)\n",
    "covinv_X = X_Sigmainv(nk)"
   ]
  },
  {
   "cell_type": "code",
   "execution_count": 4,
   "metadata": {},
   "outputs": [],
   "source": [
    "theta_true = 10\n",
    "y = simple.func(X_true, 10)"
   ]
  },
  {
   "cell_type": "code",
   "execution_count": 5,
   "metadata": {},
   "outputs": [],
   "source": [
    "def logPr_X_logL(X, mean, covinv):\n",
    "    regularization = np.sum(np.log(X))\n",
    "    gaussian = 1/2 * (X - mean).T @ covinv @ (X - mean)\n",
    "    return - regularization - gaussian\n",
    "\n",
    "def logPr_X(X, mean, covinv):\n",
    "    return -1/2 * (X - mean).T @ covinv @ (X - mean)"
   ]
  },
  {
   "cell_type": "code",
   "execution_count": 6,
   "metadata": {},
   "outputs": [],
   "source": [
    "X1 = np.linspace(0.99, 1, 100)\n",
    "X2 = np.linspace(0.99, 1, 100)"
   ]
  },
  {
   "cell_type": "code",
   "execution_count": 7,
   "metadata": {},
   "outputs": [
    {
     "data": {
      "text/plain": [
       "0.997979797979798"
      ]
     },
     "execution_count": 7,
     "metadata": {},
     "output_type": "execute_result"
    },
    {
     "data": {
      "image/png": "[encoded data removed]",
      "text/plain": [
       "<Figure size 640x480 with 1 Axes>"
      ]
     },
     "metadata": {},
     "output_type": "display_data"
    }
   ],
   "source": [
    "X_poss = np.linspace(0.995, 1, 100)\n",
    "logprs_X = np.zeros_like(X_poss)\n",
    "logprs_gauss = np.zeros_like(X_poss)\n",
    "for i, X in enumerate(X_poss):\n",
    "    logprs_X[i] = logPr_X_logL(X, mean_X, covinv_X)\n",
    "    logprs_gauss[i] = logPr_X(X, mean_X, covinv_X)\n",
    "plt.plot(X_poss, logprs_X)\n",
    "plt.plot(X_poss, logprs_gauss)\n",
    "X_poss[np.argmax(logprs_X)]"
   ]
  },
  {
   "cell_type": "code",
   "execution_count": 8,
   "metadata": {},
   "outputs": [],
   "source": [
    "def minimise_X(mean, covinv):\n",
    "    def func(X):\n",
    "        return logPr_X_logL(X, mean, covinv)\n",
    "    solution = minimize(func, mean, method='Nelder-Mead', bounds=((0,1), (0,1)))\n",
    "    return solution"
   ]
  },
  {
   "cell_type": "code",
   "execution_count": 9,
   "metadata": {},
   "outputs": [
    {
     "name": "stderr",
     "output_type": "stream",
     "text": [
      "/tmp/ipykernel_14361/120403029.py:2: RuntimeWarning: divide by zero encountered in log\n",
      "  regularization = np.sum(np.log(X))\n"
     ]
    },
    {
     "data": {
      "text/plain": [
       "       message: Optimization terminated successfully.\n",
       "       success: True\n",
       "        status: 0\n",
       "           fun: -251992.38156295256\n",
       "             x: [ 2.010e-06  1.000e+00]\n",
       "           nit: 59\n",
       "          nfev: 99\n",
       " final_simplex: (array([[ 2.010e-06,  1.000e+00],\n",
       "                       [ 1.949e-06,  1.000e+00],\n",
       "                       [ 1.949e-06,  1.000e+00]]), array([-2.520e+05, -2.520e+05, -2.520e+05]))"
      ]
     },
     "execution_count": 9,
     "metadata": {},
     "output_type": "execute_result"
    }
   ],
   "source": [
    "minimise_X(mean_X, covinv_X)"
   ]
  },
  {
   "cell_type": "code",
   "execution_count": null,
   "metadata": {},
   "outputs": [],
   "source": []
  }
 ],
 "metadata": {
  "kernelspec": {
   "display_name": "Python 3.10.6 ('env')",
   "language": "python",
   "name": "python3"
  },
  "language_info": {
   "codemirror_mode": {
    "name": "ipython",
    "version": 3
   },
   "file_extension": ".py",
   "mimetype": "text/x-python",
   "name": "python",
   "nbconvert_exporter": "python",
   "pygments_lexer": "ipython3",
   "version": "3.10.6"
  },
  "orig_nbformat": 4,
  "vscode": {
   "interpreter": {
    "hash": "f04b3df41c937fb946d36e0c914ccce305e67d8dbbe371762424715e8a219369"
   }
  }
 },
 "nbformat": 4,
 "nbformat_minor": 2
}
