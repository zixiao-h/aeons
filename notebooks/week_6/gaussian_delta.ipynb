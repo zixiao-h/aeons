{
 "cells": [
  {
   "cell_type": "code",
   "execution_count": 1,
   "metadata": {},
   "outputs": [],
   "source": [
    "import sympy as sp\n",
    "import numpy as np"
   ]
  },
  {
   "cell_type": "code",
   "execution_count": 4,
   "metadata": {},
   "outputs": [],
   "source": [
    "logLmax, d, sigma = logLmax, d, sigma = sp.symbols('\\log{L_\\mathrm{max}} d \\sigma')\n",
    "X_i, logL_i, logL_j = sp.symbols('X_i \\log{L_i} \\log{L_j}')\n",
    "b = sp.symbols('b')"
   ]
  },
  {
   "cell_type": "code",
   "execution_count": 5,
   "metadata": {},
   "outputs": [],
   "source": [
    "def G(logLmax, d, sigma, logL_i, X_i):\n",
    "    return (2*sigma**2 * (logLmax - logL_i))**(d/2) - X_i\n",
    "\n",
    "def integrand(b, logLmax, d, sigma, logL_i, X_i):\n",
    "    G_ = G(logLmax, d, sigma, logL_i, X_i)\n",
    "    return sp.exp(-G_**2/(2*b**2))"
   ]
  },
  {
   "cell_type": "code",
   "execution_count": 6,
   "metadata": {},
   "outputs": [
    {
     "data": {
      "text/latex": [
       "$\\displaystyle e^{- \\frac{X_{i}^{2}}{2 b^{2}}} \\iint \\int e^{- \\frac{\\left(2 \\log{L_\\mathrm{max}} \\sigma^{2} - 2 \\log{L_i} \\sigma^{2}\\right)^{d}}{2 b^{2}}} e^{\\frac{X_{i} \\left(2 \\log{L_\\mathrm{max}} \\sigma^{2} - 2 \\log{L_i} \\sigma^{2}\\right)^{\\frac{d}{2}}}{b^{2}}}\\, dd\\, d\\sigma\\, d\\log{L_\\mathrm{max}}$"
      ],
      "text/plain": [
       "exp(-X_i**2/(2*b**2))*Integral(Integral(exp(-(2*\\log{L_\\mathrm{max}}*\\sigma**2 - 2*\\log{L_i}*\\sigma**2)**d/(2*b**2))*exp(X_i*(2*\\log{L_\\mathrm{max}}*\\sigma**2 - 2*\\log{L_i}*\\sigma**2)**(d/2)/b**2), d), \\sigma, \\log{L_\\mathrm{max}})"
      ]
     },
     "execution_count": 6,
     "metadata": {},
     "output_type": "execute_result"
    }
   ],
   "source": [
    "integrand_ = integrand(b, logLmax, d, sigma, logL_i, X_i)\n",
    "sp.integrate(integrand_, d, sigma, logLmax)"
   ]
  },
  {
   "cell_type": "code",
   "execution_count": null,
   "metadata": {},
   "outputs": [],
   "source": []
  }
 ],
 "metadata": {
  "kernelspec": {
   "display_name": "Python 3.10.6 ('env')",
   "language": "python",
   "name": "python3"
  },
  "language_info": {
   "codemirror_mode": {
    "name": "ipython",
    "version": 3
   },
   "file_extension": ".py",
   "mimetype": "text/x-python",
   "name": "python",
   "nbconvert_exporter": "python",
   "pygments_lexer": "ipython3",
   "version": "3.10.6"
  },
  "orig_nbformat": 4,
  "vscode": {
   "interpreter": {
    "hash": "f04b3df41c937fb946d36e0c914ccce305e67d8dbbe371762424715e8a219369"
   }
  }
 },
 "nbformat": 4,
 "nbformat_minor": 2
}
