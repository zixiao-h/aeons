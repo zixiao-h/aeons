{
 "cells": [
  {
   "cell_type": "code",
   "execution_count": 1,
   "metadata": {},
   "outputs": [],
   "source": [
    "import numpy as np\n",
    "import matplotlib.pyplot as plt\n",
    "import warnings\n",
    "warnings.filterwarnings(\"ignore\", category=FutureWarning)\n",
    "warnings.filterwarnings(\"ignore\", category=UserWarning)\n",
    "from scipy.optimize import minimize\n",
    "\n",
    "from aeons.covariance import logX_mu, logX_covinv_chol, points_at_iteration, logPr\n",
    "\n",
    "# Load test samples\n",
    "from aeons.tools import pickle_in\n",
    "samples_g_1, samples_c_1, samples_w_1 = pickle_in(\"../test_samples/samples_1.pickle\")\n",
    "\n",
    "from aeons.true_distribution import generate_Xs, generate_Xsamples"
   ]
  },
  {
   "cell_type": "code",
   "execution_count": 2,
   "metadata": {},
   "outputs": [],
   "source": [
    "def mean_X(nk):\n",
    "    return np.cumprod(nk/(nk+1))\n",
    "\n",
    "def cov_X(nk):\n",
    "    t_1 = np.cumprod(nk/(nk+1)) # cumulative product of expectation of t\n",
    "    t_2 = np.cumprod(nk/(nk+2)) # cumulative product of expectation of t^2\n",
    "    iterations = len(nk)\n",
    "    cov_X = np.zeros((iterations, iterations))\n",
    "    for i in range(iterations):\n",
    "        cov_X[i][i] = t_2[i] - t_1[i]**2 \n",
    "        for j in range(i+1, iterations): # start j above i so min(i,j) automatically fulfilled\n",
    "            correlated = t_2[i] - t_1[i]**2\n",
    "            independent = t_1[j]/t_1[i] # cumulative product from i+1 to j\n",
    "            cov_X[i][j] = cov_X[j][i] = correlated * independent\n",
    "    return cov_X"
   ]
  },
  {
   "cell_type": "code",
   "execution_count": 32,
   "metadata": {},
   "outputs": [],
   "source": [
    "def minimise_theta(inverse, logL, mean, cov_inv, x0):\n",
    "    def func(theta):\n",
    "        X = inverse(logL, theta)\n",
    "        return (X - mean).T @ cov_inv @ (X - mean) # want to maximise probability <-> minimise negative\n",
    "    solution = minimize(func, x0)\n",
    "    return solution\n",
    "\n",
    "def minimise_model(func, inverse, nk, mean, covinv, x0, dtrue=10):\n",
    "    Xs = generate_Xs(nk)\n",
    "    y = func(Xs, dtrue)\n",
    "    dbest = minimise_theta(inverse, y, mean, covinv, x0).x\n",
    "    return dbest"
   ]
  },
  {
   "cell_type": "code",
   "execution_count": 62,
   "metadata": {},
   "outputs": [],
   "source": [
    "def linear(X, theta):\n",
    "    return theta * X\n",
    "\n",
    "def linear_inverse(y, theta):\n",
    "    return y/theta\n",
    "\n",
    "def quad(X, theta):\n",
    "    return theta * X**2\n",
    "\n",
    "def quad_inverse(y, theta):\n",
    "    return (y/theta)**(1/2)\n",
    "\n",
    "def log(X, theta):\n",
    "    return theta * np.log(X)\n",
    "\n",
    "def log_inverse(y, theta):\n",
    "    return np.exp(y/theta)"
   ]
  },
  {
   "cell_type": "code",
   "execution_count": 57,
   "metadata": {},
   "outputs": [],
   "source": [
    "iteration = 100\n",
    "nk = 1000 * np.ones(iteration)\n",
    "Xmean = mean_X(nk)\n",
    "Xcovinv = np.linalg.inv(cov_X(nk))"
   ]
  },
  {
   "cell_type": "code",
   "execution_count": 61,
   "metadata": {},
   "outputs": [
    {
     "name": "stdout",
     "output_type": "stream",
     "text": [
      "10.000716104743917 0.010232970091874065\n",
      "10.000342579306022 0.06062351415398248\n"
     ]
    }
   ],
   "source": [
    "repeats = 100\n",
    "cs = np.zeros(repeats)\n",
    "ls = np.zeros(repeats)\n",
    "for i in range(repeats):\n",
    "    cs[i] = minimise_model(linear, linear_inverse, nk, Xmean, Xcovinv, 10)\n",
    "    ls[i] = minimise_model(linear, linear_inverse, nk, Xmean, np.eye(len(Xmean)), 10)\n",
    "\n",
    "print(cs.mean(), cs.std())\n",
    "print(ls.mean(), ls.std())"
   ]
  },
  {
   "cell_type": "code",
   "execution_count": 60,
   "metadata": {},
   "outputs": [
    {
     "name": "stdout",
     "output_type": "stream",
     "text": [
      "9.996928709377865 0.027062338854309406\n",
      "10.009659011927058 0.11709087047536451\n"
     ]
    }
   ],
   "source": [
    "repeats = 100\n",
    "cs = np.zeros(repeats)\n",
    "ls = np.zeros(repeats)\n",
    "for i in range(repeats):\n",
    "    cs[i] = minimise_model(quad, quad_inverse, nk, Xmean, Xcovinv, 10)\n",
    "    ls[i] = minimise_model(quad, quad_inverse, nk, Xmean, np.eye(len(Xmean)), 10)\n",
    "\n",
    "print(cs.mean(), cs.std())\n",
    "print(ls.mean(), ls.std())"
   ]
  },
  {
   "cell_type": "code",
   "execution_count": 63,
   "metadata": {},
   "outputs": [
    {
     "name": "stdout",
     "output_type": "stream",
     "text": [
      "19.573750569482264 2.5043261689101315\n",
      "10.011469704436289 1.210932094398764\n"
     ]
    }
   ],
   "source": [
    "repeats = 100\n",
    "cs = np.zeros(repeats)\n",
    "ls = np.zeros(repeats)\n",
    "for i in range(repeats):\n",
    "    cs[i] = minimise_model(log, log_inverse, nk, Xmean, Xcovinv, 10)\n",
    "    ls[i] = minimise_model(log, log_inverse, nk, Xmean, np.eye(len(Xmean)), 10)\n",
    "\n",
    "print(cs.mean(), cs.std())\n",
    "print(ls.mean(), ls.std())"
   ]
  },
  {
   "cell_type": "code",
   "execution_count": null,
   "metadata": {},
   "outputs": [],
   "source": []
  }
 ],
 "metadata": {
  "kernelspec": {
   "display_name": "Python 3.10.6 ('env')",
   "language": "python",
   "name": "python3"
  },
  "language_info": {
   "codemirror_mode": {
    "name": "ipython",
    "version": 3
   },
   "file_extension": ".py",
   "mimetype": "text/x-python",
   "name": "python",
   "nbconvert_exporter": "python",
   "pygments_lexer": "ipython3",
   "version": "3.10.6"
  },
  "orig_nbformat": 4,
  "vscode": {
   "interpreter": {
    "hash": "f04b3df41c937fb946d36e0c914ccce305e67d8dbbe371762424715e8a219369"
   }
  }
 },
 "nbformat": 4,
 "nbformat_minor": 2
}
