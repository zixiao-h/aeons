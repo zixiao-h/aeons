{
 "cells": [
  {
   "cell_type": "code",
   "execution_count": 85,
   "metadata": {},
   "outputs": [],
   "source": [
    "import numpy as np\n",
    "import matplotlib.pyplot as plt\n",
    "\n",
    "from aeons.tools import pickle_in\n",
    "samples_g_1, samples_c_1, samples_w_1 = pickle_in(\"../test_samples/samples_1.pickle\")\n",
    "import warnings\n",
    "warnings.filterwarnings(\"ignore\", category=FutureWarning)\n",
    "warnings.filterwarnings(\"ignore\", category=UserWarning)\n",
    "\n",
    "from aeons.lm_partial import analytic_lm_params, X_end_formula, analytic_lm, params_from_d\n",
    "from aeons.covariance import X_mu, X_Sigmainv, logX_mu, points_at_iteration\n",
    "from aeons.true_distribution import generate_Xs, nk_dead, nk_dead_live, nk_live\n",
    "from aeons.likelihoods import likelihood, linear_like, quad_like, log_like, simple_like, middle_like, full_like\n",
    "linear, quad, log = linear_like(), quad_like(), log_like()\n",
    "simple, middle, full = simple_like(), middle_like(), full_like()\n",
    "from aeons.models import LS, CG"
   ]
  },
  {
   "cell_type": "code",
   "execution_count": 2,
   "metadata": {},
   "outputs": [],
   "source": [
    "format = {\n",
    "    # Use LaTeX to write all text\n",
    "    \"text.usetex\": True,\n",
    "    \"font.family\": \"serif\",\n",
    "    # Use 11pt font in plots, to match 11pt font in document\n",
    "    \"axes.labelsize\": 11,\n",
    "    \"font.size\": 11,\n",
    "    # Make the legend/label fonts a little smaller\n",
    "    \"legend.fontsize\": 8,\n",
    "    \"xtick.labelsize\": 8,\n",
    "    \"ytick.labelsize\": 8,\n",
    "    'axes.linewidth': 0.5,\n",
    "    'axes.spines.top': False,\n",
    "    'axes.spines.right': False,\n",
    "    'patch.linewidth': 0.5,\n",
    "    'legend.fancybox': False,\n",
    "    'legend.shadow': False\n",
    "}\n",
    "plt.rcParams.update(format)"
   ]
  },
  {
   "attachments": {},
   "cell_type": "markdown",
   "metadata": {},
   "source": [
    "When nk large, enough points so that least squares fit pretty much balances out with stochastic mean on each side.\n",
    "\n",
    "So mean vs least squares become basically equivalent for high nk\n",
    "\n",
    "Much better for low nk"
   ]
  },
  {
   "cell_type": "code",
   "execution_count": 3,
   "metadata": {},
   "outputs": [],
   "source": [
    "def plot_points(L, X, ndead):\n",
    "    plt.plot(X[:ndead], L[:ndead], 'x', ms=1)\n",
    "    plt.plot(X[ndead:], L[ndead:], 'x', ms=1)\n",
    "\n",
    "def Z(L, X):\n",
    "    return -np.trapz(L, X)"
   ]
  },
  {
   "attachments": {},
   "cell_type": "markdown",
   "metadata": {},
   "source": [
    "#### **Endpoint prediction for global gaussian**"
   ]
  },
  {
   "cell_type": "code",
   "execution_count": 5,
   "metadata": {},
   "outputs": [
    {
     "data": {
      "text/plain": [
       "10840.18928167041"
      ]
     },
     "execution_count": 5,
     "metadata": {},
     "output_type": "execute_result"
    }
   ],
   "source": [
    "samples = samples_g_1\n",
    "nlive = 500\n",
    "epsilon = 1e-3\n",
    "X_end_true = X_end_formula(10, 0.1, epsilon)\n",
    "endpoint_true = np.log(X_end_true) * (-nlive)\n",
    "endpoint_true"
   ]
  },
  {
   "attachments": {},
   "cell_type": "markdown",
   "metadata": {},
   "source": [
    "##### Smoothed using live points only"
   ]
  },
  {
   "cell_type": "code",
   "execution_count": 6,
   "metadata": {},
   "outputs": [],
   "source": [
    "iterations = np.arange(500, 10800, 200)\n",
    "endpoint_predictions = []\n",
    "for i, iteration in enumerate(iterations):\n",
    "    points = points_at_iteration(samples, iteration)\n",
    "    logL = np.array(points.logL)[iteration:]\n",
    "    logX_mean = np.array(points.logX())[iteration:]\n",
    "    X_mean = np.exp(logX_mean)\n",
    "    _, d, sigma = analytic_lm_params(logL, np.exp(logX_mean), 10)\n",
    "    X_end = X_end_formula(d, sigma, 0.001)\n",
    "    logX_end = np.log(X_end)\n",
    "    endpoint = logX_end * (-nlive)\n",
    "    endpoint_predictions.append(endpoint)"
   ]
  },
  {
   "cell_type": "code",
   "execution_count": 7,
   "metadata": {},
   "outputs": [
    {
     "data": {
      "image/png": "[encoded data removed]",
      "text/plain": [
       "<Figure size 325x200 with 1 Axes>"
      ]
     },
     "metadata": {},
     "output_type": "display_data"
    }
   ],
   "source": [
    "plt.figure(figsize=(3.25,2))\n",
    "plt.plot(iterations, endpoint_predictions)\n",
    "plt.axhline(y=endpoint_true, ls='--', lw=1)\n",
    "plt.ylim(0, 14000)\n",
    "plt.xlabel('Iteration')\n",
    "plt.ylabel('End prediction')\n",
    "plt.savefig('../../../report/figures/endpoints_live.pdf', format='pdf', bbox_inches='tight')"
   ]
  },
  {
   "attachments": {},
   "cell_type": "markdown",
   "metadata": {},
   "source": [
    "##### Smoothed using bandwith selection"
   ]
  },
  {
   "cell_type": "code",
   "execution_count": 8,
   "metadata": {},
   "outputs": [
    {
     "name": "stdout",
     "output_type": "stream",
     "text": [
      "200 0.9500000000000001 [0.20627071485496629, 9.363551619929876, 0.09989374870752736]\n",
      "600 0.9500000000000001 [-1.7667675265540197, 9.046216844351676, 0.10199683028501598]\n",
      "1000 0.9500000000000001 [-1.8728714326113263, 9.193239022524905, 0.10225663850013528]\n",
      "1400 0.9500000000000001 [-0.3398675469844932, 9.630074151446856, 0.10076579271912572]\n",
      "1800 0.9500000000000001 [-0.26103783541896064, 9.710513411013906, 0.1007596452504444]\n",
      "2200 0.9500000000000001 [0.33343650526058966, 9.921870490706326, 0.10024967013891514]\n",
      "2600 0.9500000000000001 [0.17748906972569856, 9.869441035546489, 0.10039676441235902]\n",
      "3000 0.9500000000000001 [-0.2898680635769715, 9.714737616116873, 0.10082294249304466]\n",
      "3400 0.9500000000000001 [-0.36090711674907894, 9.696609173812869, 0.10090181257407552]\n",
      "3800 0.9500000000000001 [-0.22219031744402784, 9.75522782012064, 0.10080398958516014]\n",
      "4200 0.9500000000000001 [-0.5119120053320145, 9.645056231333731, 0.10104313537087382]\n",
      "4600 0.9500000000000001 [-0.5373533708248743, 9.642242510112252, 0.101082929954126]\n",
      "5000 0.9500000000000001 [-0.5169246793992563, 9.652529135924379, 0.10107481674531513]\n",
      "5400 0.9500000000000001 [-0.498564617676692, 9.66121471983695, 0.10106477417565221]\n",
      "5800 0.9500000000000001 [-0.39198396394086643, 9.714715821164129, 0.10101097628040688]\n",
      "6200 0.9500000000000001 [-0.3442165263917545, 9.740081464078404, 0.10099129771816576]\n",
      "6600 0.9500000000000001 [-0.32741101599657263, 9.749441560345646, 0.10098642796713618]\n",
      "7000 0.9500000000000001 [-0.3010791423759116, 9.764639106893092, 0.10097954241670394]\n",
      "7400 0.9500000000000001 [-0.2760261923031546, 9.780410258366146, 0.10097821442532655]\n",
      "7800 0.9500000000000001 [-0.25125767637340246, 9.796399404803294, 0.10097739111886345]\n",
      "8200 0.9500000000000001 [-0.23197951090550717, 9.809694689986209, 0.1009803502596995]\n",
      "8600 0.9500000000000001 [-0.20882770421019536, 9.826380184654425, 0.10098659618695403]\n",
      "9000 0.9500000000000001 [-0.19632923223216814, 9.835794102049695, 0.10099185521982405]\n",
      "9400 0.9500000000000001 [-0.1769372004149794, 9.8497793034552, 0.10099579732428174]\n",
      "9800 0.9500000000000001 [-0.15919271978164495, 9.863160697745087, 0.10100189363798938]\n",
      "10200 0.9500000000000001 [-0.14569365112602384, 9.873310129262778, 0.10100576897595302]\n",
      "10600 0.9500000000000001 [-0.13319970116694257, 9.882926619700351, 0.10101003265555644]\n"
     ]
    }
   ],
   "source": [
    "iterations = np.arange(200, 10800, 400)\n",
    "alphas = np.arange(0, 1, 0.05)\n",
    "endpoint_predictions = []\n",
    "for i, iteration in enumerate(iterations):\n",
    "    points = points_at_iteration(samples, iteration)\n",
    "    logL = np.array(points.logL)\n",
    "    X_mean = np.exp(np.array(points.logX()))\n",
    "    theta_best = None\n",
    "    logZi = -np.inf\n",
    "    alpha_best = 0\n",
    "    for alpha in alphas:\n",
    "        startf = int(iteration * (1 - alpha))\n",
    "        logLf = logL[startf:]\n",
    "        X_meanf = X_mean[startf:]\n",
    "        lsf = LS(logLf, full, X_meanf)\n",
    "        thetaf = analytic_lm_params(logLf, X_meanf, 10)\n",
    "        penalty = startf * np.log(startf) - startf if startf != 0 else 0\n",
    "        logZf = lsf.logZ(thetaf) - penalty\n",
    "        if logZf > logZi:\n",
    "            theta_best = thetaf\n",
    "            alpha_best = alpha\n",
    "    print(iteration, alpha_best, theta_best)\n",
    "    _, d, sigma = theta_best\n",
    "    X_end = X_end_formula(d, sigma, 0.001)\n",
    "    logX_end = np.log(X_end)\n",
    "    endpoint = logX_end * (-nlive)\n",
    "    endpoint_predictions.append(endpoint)"
   ]
  },
  {
   "cell_type": "code",
   "execution_count": 9,
   "metadata": {},
   "outputs": [
    {
     "data": {
      "image/png": "[encoded data removed]",
      "text/plain": [
       "<Figure size 325x200 with 1 Axes>"
      ]
     },
     "metadata": {},
     "output_type": "display_data"
    }
   ],
   "source": [
    "plt.figure(figsize=(3.25,2))\n",
    "plt.plot(iterations, endpoint_predictions)\n",
    "plt.axhline(y=endpoint_true, ls='--', lw=1)\n",
    "plt.ylim(0, 14000)\n",
    "plt.xlabel('Iteration')\n",
    "plt.ylabel('End prediction');\n",
    "plt.savefig('../../../report/figures/endpoints_bandwidth.pdf', format='pdf', bbox_inches='tight')"
   ]
  }
 ],
 "metadata": {
  "kernelspec": {
   "display_name": "env",
   "language": "python",
   "name": "python3"
  },
  "language_info": {
   "codemirror_mode": {
    "name": "ipython",
    "version": 3
   },
   "file_extension": ".py",
   "mimetype": "text/x-python",
   "name": "python",
   "nbconvert_exporter": "python",
   "pygments_lexer": "ipython3",
   "version": "3.10.6"
  },
  "orig_nbformat": 4
 },
 "nbformat": 4,
 "nbformat_minor": 2
}
