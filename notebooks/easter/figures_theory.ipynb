{
 "cells": [
  {
   "cell_type": "code",
   "execution_count": 1,
   "metadata": {},
   "outputs": [],
   "source": [
    "import numpy as np\n",
    "import matplotlib.pyplot as plt\n",
    "\n",
    "from aeons.tools import pickle_in\n",
    "samples_g_1, samples_c_1, samples_w_1 = pickle_in(\"../test_samples/samples_1.pickle\")\n",
    "\n",
    "from aeons.lm_partial import analytic_lm_params, X_end_formula\n",
    "from aeons.covariance import X_mu, X_Sigmainv, logX_mu\n",
    "from aeons.true_distribution import generate_Xs, nk_dead, nk_dead_live, nk_live\n",
    "from aeons.likelihoods import likelihood, linear_like, quad_like, log_like, simple_like, middle_like, full_like\n",
    "linear, quad, log = linear_like(), quad_like(), log_like()\n",
    "simple, middle, full = simple_like(), middle_like(), full_like()\n",
    "from aeons.models import LS, CG"
   ]
  },
  {
   "cell_type": "code",
   "execution_count": 2,
   "metadata": {},
   "outputs": [],
   "source": [
    "format = {\n",
    "    # Use LaTeX to write all text\n",
    "    \"text.usetex\": True,\n",
    "    \"font.family\": \"serif\",\n",
    "    # Use 9pt font in plots, to match 9pt font in document\n",
    "    \"axes.labelsize\": 9,\n",
    "    \"font.size\": 9,\n",
    "    # Make the legend/label fonts a little smaller\n",
    "    \"legend.fontsize\": 7,\n",
    "    \"xtick.labelsize\": 7,\n",
    "    \"ytick.labelsize\": 7,\n",
    "    'axes.linewidth': 0.5,\n",
    "    'axes.spines.top': False,\n",
    "    'axes.spines.right': False,\n",
    "    'patch.linewidth': 0.5,\n",
    "    'legend.fancybox': False,\n",
    "    'legend.shadow': False\n",
    "}\n",
    "plt.rcParams.update(format)"
   ]
  },
  {
   "cell_type": "code",
   "execution_count": 3,
   "metadata": {},
   "outputs": [],
   "source": [
    "def minimise_bandwidth(logL, X_mean, ndead, alphas):\n",
    "    theta_best = None\n",
    "    logZi = -np.inf\n",
    "    for alpha in alphas:\n",
    "        startf = int(ndead * (1 - alpha))\n",
    "        Nex = startf\n",
    "        penalty = Nex * np.log(Nex) - Nex if Nex != 0 else 0\n",
    "        logLf = logL[startf:]\n",
    "        X_meanf = X_mean[startf:]\n",
    "        ls = LS(logL, full, X_mean)\n",
    "        theta = analytic_lm_params(logLf, X_meanf, 10)\n",
    "        logZf = ls.logZ(theta)\n",
    "        if logZf > logZi:\n",
    "            theta_best = theta\n",
    "    return theta_best"
   ]
  },
  {
   "cell_type": "code",
   "execution_count": 4,
   "metadata": {},
   "outputs": [],
   "source": [
    "def gaussian_L(X, theta):\n",
    "    d, sigma = theta\n",
    "    return np.exp(-X**(2/d)/(2*sigma**2))"
   ]
  },
  {
   "attachments": {},
   "cell_type": "markdown",
   "metadata": {},
   "source": [
    "#### **L(X)X plot**"
   ]
  },
  {
   "cell_type": "code",
   "execution_count": 134,
   "metadata": {},
   "outputs": [],
   "source": [
    "nk = nk_dead_live(nlive=100, ndead=4000)\n",
    "logX_mean = logX_mu(nk)"
   ]
  },
  {
   "cell_type": "code",
   "execution_count": 135,
   "metadata": {},
   "outputs": [],
   "source": [
    "logXarray = np.linspace(-70, 0, 1000)\n",
    "Xarray = np.exp(logXarray)\n",
    "theta = [10, 0.01]\n",
    "logL = middle.func(Xarray, theta)\n",
    "L = np.exp(logL)"
   ]
  },
  {
   "cell_type": "code",
   "execution_count": 136,
   "metadata": {},
   "outputs": [
    {
     "name": "stderr",
     "output_type": "stream",
     "text": [
      "/tmp/ipykernel_9860/342145044.py:2: RuntimeWarning: divide by zero encountered in log\n",
      "  LlogL = np.nan_to_num(L/Ztrue * np.log(L/Ztrue))\n",
      "/tmp/ipykernel_9860/342145044.py:2: RuntimeWarning: invalid value encountered in multiply\n",
      "  LlogL = np.nan_to_num(L/Ztrue * np.log(L/Ztrue))\n"
     ]
    },
    {
     "data": {
      "text/plain": [
       "32.79765604572788"
      ]
     },
     "execution_count": 136,
     "metadata": {},
     "output_type": "execute_result"
    }
   ],
   "source": [
    "Ztrue = np.trapz(L, Xarray)\n",
    "LlogL = np.nan_to_num(L/Ztrue * np.log(L/Ztrue))\n",
    "H = np.trapz(LlogL, Xarray)\n",
    "H"
   ]
  },
  {
   "cell_type": "code",
   "execution_count": 137,
   "metadata": {},
   "outputs": [
    {
     "data": {
      "image/png": "[encoded data removed]",
      "text/plain": [
       "<Figure size 337x150 with 2 Axes>"
      ]
     },
     "metadata": {},
     "output_type": "display_data"
    }
   ],
   "source": [
    "fig, ax1 = plt.subplots(figsize=(3.37, 1.5))\n",
    "ax2 = ax1.twinx()\n",
    "ax1.plot(logXarray, L, color='black', label=r\"$L(X)$\")\n",
    "ax2.fill(logXarray, L*Xarray, lw=1, color='black', alpha=0.2, label=r\"$L(X)X$\")\n",
    "ax2.axvline(-H, ls='--', lw=0.5, color='black')\n",
    "for ax in ax1, ax2:\n",
    "    ax.set_yticks([])\n",
    "    ax.set_xticks([-H], [f'$-D_\\mathrm{{KL}}$'])\n",
    "    ax.margins(x=0, y=0)\n",
    "ax1.set_xlabel(r'$\\log X$');\n",
    "fig.legend(loc=\"upper right\", bbox_to_anchor=(1,1), bbox_transform=ax.transAxes)\n",
    "plt.savefig('../../../report/figures/LX.pdf', format='pdf', bbox_inches='tight')"
   ]
  },
  {
   "attachments": {},
   "cell_type": "markdown",
   "metadata": {},
   "source": [
    "#### **Plots of mean vs true X for Gaussian likelihood**"
   ]
  },
  {
   "cell_type": "code",
   "execution_count": 229,
   "metadata": {},
   "outputs": [],
   "source": [
    "ndead = 5000\n",
    "nlive = 500\n",
    "nk = nk_dead_live(nlive=500, ndead=5000)\n",
    "logX_mean = logX_mu(nk)\n",
    "X_mean = X_mu(nk)"
   ]
  },
  {
   "cell_type": "code",
   "execution_count": 239,
   "metadata": {},
   "outputs": [],
   "source": [
    "theta = [0, 4, 0.01]\n",
    "logXarray = np.linspace(-30, 0, 1000)\n",
    "Xarray = np.exp(logXarray)\n",
    "logLarray = full.func(Xarray, theta)\n",
    "Larray = np.exp(logLarray)\n",
    "\n",
    "X = generate_Xs(nk)\n",
    "logX = np.log(X)\n",
    "logL = full.func(X, theta)\n",
    "L = np.exp(logL)"
   ]
  },
  {
   "cell_type": "code",
   "execution_count": 241,
   "metadata": {},
   "outputs": [
    {
     "data": {
      "image/png": "[encoded data removed]",
      "text/plain": [
       "<Figure size 330x150 with 2 Axes>"
      ]
     },
     "metadata": {},
     "output_type": "display_data"
    }
   ],
   "source": [
    "fig, ax = plt.subplots(figsize=(3.3, 1.5))\n",
    "ax1 = plt.twinx(ax)\n",
    "ax.plot(logXarray, Larray, lw=1, color='black')\n",
    "for _ in range(10):\n",
    "    X = generate_Xs(nk)\n",
    "    ax.plot(np.log(X), L, color='red', lw=.3)\n",
    "ax1.fill(logXarray, Larray*Xarray, lw=1, color='black', alpha=.2)\n",
    "ax.axvline(logX_mean[-1], ls='--', lw=.5, color='black')\n",
    "ax.axvline(logX_mean[ndead], ls='--', lw=.5, color='black')\n",
    "ax.margins(0)\n",
    "ax1.margins(0)\n",
    "ax.set_yticks([])\n",
    "ax1.set_yticks([])\n",
    "ax.set_xticks([])\n",
    "ax.set_xlabel('$\\log X$')\n",
    "ax.set_ylabel('$\\mathcal{{L}}(X)$')\n",
    "ax.text(-28, 0.5, 'Unsampled region', fontsize=6)\n",
    "ax.text(-16.4, 0.5, 'Live region', fontsize=6)\n",
    "ax.text(-8.5, 0.5, 'Dead region', fontsize=6)\n",
    "plt.savefig('../../../report/figures/regions.pdf', format='pdf', bbox_inches='tight')"
   ]
  },
  {
   "cell_type": "code",
   "execution_count": 8,
   "metadata": {},
   "outputs": [
    {
     "data": {
      "image/png": "[encoded data removed]",
      "text/plain": [
       "<Figure size 330x150 with 1 Axes>"
      ]
     },
     "metadata": {},
     "output_type": "display_data"
    }
   ],
   "source": [
    "\n",
    "plt.plot(logX, L, 'x', ms=3, label='True', color='black')\n",
    "plt.plot(logX_mean, L, 'x', ms=3, label='Mean', color='orange')\n",
    "plt.yticks([])\n",
    "plt.ylabel(r'$L(X)$')\n",
    "plt.xlabel(r'$\\log X$')\n",
    "plt.margins(x=0, y=0.01)\n",
    "plt.legend();\n",
    "plt.savefig('mean_vs_true.pdf', format='pdf', bbox_inches='tight')"
   ]
  },
  {
   "attachments": {},
   "cell_type": "markdown",
   "metadata": {},
   "source": [
    "#### **Plot of live points at end of run**"
   ]
  },
  {
   "cell_type": "code",
   "execution_count": 1,
   "metadata": {},
   "outputs": [
    {
     "ename": "NameError",
     "evalue": "name 'nk_dead_live' is not defined",
     "output_type": "error",
     "traceback": [
      "\u001b[0;31m---------------------------------------------------------------------------\u001b[0m",
      "\u001b[0;31mNameError\u001b[0m                                 Traceback (most recent call last)",
      "Cell \u001b[0;32mIn[1], line 1\u001b[0m\n\u001b[0;32m----> 1\u001b[0m nk \u001b[39m=\u001b[39m nk_dead_live(\u001b[39m500\u001b[39m, \u001b[39m1000\u001b[39m)\n\u001b[1;32m      2\u001b[0m plt\u001b[39m.\u001b[39mfigure(figsize\u001b[39m=\u001b[39m(\u001b[39m6.7\u001b[39m, \u001b[39m2\u001b[39m))\n\u001b[1;32m      3\u001b[0m plt\u001b[39m.\u001b[39mplot(nk)\n",
      "\u001b[0;31mNameError\u001b[0m: name 'nk_dead_live' is not defined"
     ]
    }
   ],
   "source": [
    "nk = nk_dead_live(500, 1000)\n",
    "plt.figure(figsize=(6.7, 2))\n",
    "plt.plot(nk)\n",
    "plt.ylim(0, 550)\n",
    "plt.xlim(0, 1600)\n",
    "plt.xticks([])\n",
    "plt.xlabel(\"Iterations\")\n",
    "plt.yticks([])\n",
    "plt.ylabel(\"$n_\\mathrm{live}$\")\n",
    "plt.margins(x=0, y=0.01)\n",
    "plt.savefig('../../../report/figures/nk_dead_live.pdf', format='pdf', bbox_inches='tight')"
   ]
  },
  {
   "attachments": {},
   "cell_type": "markdown",
   "metadata": {},
   "source": [
    "#### **Variation in live points**"
   ]
  },
  {
   "cell_type": "code",
   "execution_count": 157,
   "metadata": {},
   "outputs": [],
   "source": [
    "ndead = 1600\n",
    "nk = nk_dead_live(nlive=100, ndead=ndead)\n",
    "X = generate_Xs(nk)\n",
    "theta_true = [10, 0.1]\n",
    "logL = middle.func(X, theta_true)\n",
    "L = np.exp(logL)"
   ]
  },
  {
   "cell_type": "code",
   "execution_count": 158,
   "metadata": {},
   "outputs": [],
   "source": [
    "nk1 = nk_dead(nlive=100, ndead=2000)\n",
    "X1 = generate_Xs(nk1)\n",
    "theta_true = [10, 0.1]\n",
    "logL1 = middle.func(X1, theta_true)\n",
    "L1 = np.exp(logL1)"
   ]
  },
  {
   "cell_type": "code",
   "execution_count": 197,
   "metadata": {},
   "outputs": [
    {
     "data": {
      "image/png": "[encoded data removed]",
      "text/plain": [
       "<Figure size 670x250 with 2 Axes>"
      ]
     },
     "metadata": {},
     "output_type": "display_data"
    }
   ],
   "source": [
    "logXarray = np.linspace(-30, 0, 1000)\n",
    "Xarray = np.exp(logXarray)\n",
    "\n",
    "fig, (ax1, ax2) = plt.subplots(1,2, figsize=(6.7,2.5))\n",
    "for _ in range(4):\n",
    "    X = generate_Xs(nk)\n",
    "    logX = np.log(X)\n",
    "    ax1.plot(logX, L, lw=1, color='red')\n",
    "    X1 = generate_Xs(nk1)\n",
    "    logX1 = np.log(X1)\n",
    "    ax2.plot(logX1, L1, lw=1, color='blue')\n",
    "    \n",
    "for ax in fig.axes:\n",
    "    ax.set_xlabel('$\\log X$')\n",
    "    ax.set_yticks([])\n",
    "    ax.plot(logXarray, gaussian_L(Xarray, [10, 0.1]), color='black', lw=2, label='True likelihood')\n",
    "\n",
    "ax1.set_ylabel(f\"$L(X)$\")\n",
    "plt.savefig('../../../report/figures/Xlive_variance.pdf', format='pdf', bbox_inches='tight')"
   ]
  },
  {
   "attachments": {},
   "cell_type": "markdown",
   "metadata": {},
   "source": [
    "#### **Live points outside posterior bulk**"
   ]
  },
  {
   "cell_type": "code",
   "execution_count": 5,
   "metadata": {},
   "outputs": [],
   "source": [
    "logXarray = np.linspace(-100, 0, 1000)\n",
    "Xarray = np.exp(logXarray)\n",
    "theta = [10, 0.001]\n",
    "logLarray = middle.func(Xarray, theta)\n",
    "Larray = np.exp(logLarray)"
   ]
  },
  {
   "cell_type": "code",
   "execution_count": 6,
   "metadata": {},
   "outputs": [],
   "source": [
    "nlive = 100\n",
    "ndead = 5000\n",
    "nk = nk_dead_live(nlive, ndead)\n",
    "X_mean = X_mu(nk)\n",
    "logX_mean = np.log(X_mean)\n",
    "alphas = np.arange(0, 1.1, 0.1)"
   ]
  },
  {
   "cell_type": "code",
   "execution_count": 9,
   "metadata": {},
   "outputs": [],
   "source": [
    "Xsample = generate_Xs(nk)\n",
    "logLsample = middle.func(Xsample, theta)\n",
    "Lsample = np.exp(logLsample)"
   ]
  },
  {
   "cell_type": "code",
   "execution_count": 10,
   "metadata": {},
   "outputs": [
    {
     "name": "stderr",
     "output_type": "stream",
     "text": [
      "/home/zixiao/Documents/III/project/aeons/aeons/likelihoods.py:109: RuntimeWarning: invalid value encountered in power\n",
      "  return (2*sigma**2 * (logLmax - logL))**(d/2)\n",
      "/home/zixiao/Documents/III/project/env/lib/python3.10/site-packages/numpy/linalg/linalg.py:2154: RuntimeWarning: invalid value encountered in det\n",
      "  r = _umath_linalg.det(a, signature=signature)\n"
     ]
    },
    {
     "data": {
      "text/plain": [
       "[<matplotlib.patches.Polygon at 0x7fc4af5b1d50>]"
      ]
     },
     "execution_count": 10,
     "metadata": {},
     "output_type": "execute_result"
    },
    {
     "data": {
      "image/png": "[encoded data removed]",
      "text/plain": [
       "<Figure size 640x480 with 2 Axes>"
      ]
     },
     "metadata": {},
     "output_type": "display_data"
    }
   ],
   "source": [
    "theta_l = minimise_bandwidth(logLsample, X_mean, ndead, alphas)\n",
    "fig, ax1 = plt.subplots()\n",
    "ax2 = plt.twinx(ax1)\n",
    "ax2.plot(logXarray, Larray, lw=1, color='black')\n",
    "ax2.plot(logX_mean, Lsample, 'x', color='orange', ms=2)\n",
    "ax2.plot(logXarray, np.exp(full.func(Xarray, theta_l)), color='orange')\n",
    "ax1.fill(logXarray, Larray*Xarray, lw=1, color='gray', alpha=0.5);\n",
    "ax1.fill(logXarray, np.exp(full.func(Xarray, theta_l))*Xarray, color='orange', alpha=0.5)"
   ]
  },
  {
   "cell_type": "code",
   "execution_count": null,
   "metadata": {},
   "outputs": [],
   "source": []
  }
 ],
 "metadata": {
  "kernelspec": {
   "display_name": "env",
   "language": "python",
   "name": "python3"
  },
  "language_info": {
   "codemirror_mode": {
    "name": "ipython",
    "version": 3
   },
   "file_extension": ".py",
   "mimetype": "text/x-python",
   "name": "python",
   "nbconvert_exporter": "python",
   "pygments_lexer": "ipython3",
   "version": "3.10.6"
  },
  "orig_nbformat": 4
 },
 "nbformat": 4,
 "nbformat_minor": 2
}
