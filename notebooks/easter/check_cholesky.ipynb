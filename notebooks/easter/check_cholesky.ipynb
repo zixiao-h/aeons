{
 "cells": [
  {
   "cell_type": "code",
   "execution_count": 111,
   "metadata": {},
   "outputs": [],
   "source": [
    "import torch\n",
    "from torch.autograd.functional import hessian\n",
    "import numpy as np\n",
    "import matplotlib.pyplot as plt\n",
    "import warnings\n",
    "warnings.filterwarnings(\"ignore\", category=FutureWarning)\n",
    "warnings.filterwarnings(\"ignore\", category=UserWarning)\n",
    "from scipy.optimize import minimize\n",
    "\n",
    "# Load test samples\n",
    "from aeons.tools import pickle_in\n",
    "samples_g_1, samples_c_1, samples_w_1 = pickle_in(\"../test_samples/samples_1.pickle\")\n",
    "\n",
    "from aeons.covariance import logX_mu, logX_Sigmainv, points_at_iteration, X_mu, X_Sigma, X_Sigmainv, data_at_iteration\n",
    "from aeons.true_distribution import generate_Xs, nk_dead, nk_dead_live, nk_live\n",
    "from aeons.bayes import logPr_bayes, logPr_laplace, logPr_gaussian, minimise_ls, minimise_bayes, minimise_gaussian\n",
    "from aeons.likelihoods import likelihood, linear_like, quad_like, log_like, simple_like, middle_like, full_like\n",
    "linear, quad, log = linear_like(), quad_like(), log_like()\n",
    "simple, middle, full = simple_like(), middle_like(), full_like()\n",
    "from aeons.models import LS, CG, CG_naive, freq_std"
   ]
  },
  {
   "cell_type": "code",
   "execution_count": 294,
   "metadata": {},
   "outputs": [],
   "source": [
    "def linear_loglike():\n",
    "    def func(logx, theta):\n",
    "        x = np.exp(logx)\n",
    "        return theta*x\n",
    "    def inverse(y, theta, torched=False):\n",
    "        x = y/theta\n",
    "        if torched:\n",
    "            return torch.log(x)\n",
    "        return np.log(x)\n",
    "    def prime(logx, theta, torched=False):\n",
    "        x = torch.exp(logx) if torched else np.exp(logx)\n",
    "        return theta * x\n",
    "    return likelihood(func, inverse, prime)\n",
    "\n",
    "def simple_loglike():\n",
    "    def func(logx, theta):\n",
    "        x = np.exp(logx)\n",
    "        return -x**(2/theta)\n",
    "    def inverse(y, theta, torched=False):\n",
    "        x = (-y)**(theta/2)\n",
    "        if torched:\n",
    "            return torch.log(x)\n",
    "        return np.log(x)\n",
    "    def prime(logx, theta, torched=False):\n",
    "        x = torch.exp(logx) if torched else np.exp(logx)\n",
    "        return -2/theta * x**(2/theta)\n",
    "    return likelihood(func, inverse, prime)\n",
    "linear_log, simple_log = linear_loglike(), simple_loglike()"
   ]
  },
  {
   "cell_type": "code",
   "execution_count": 163,
   "metadata": {},
   "outputs": [],
   "source": [
    "def upper_Linv(nk):\n",
    "    ndead = len(nk)\n",
    "    Linv = np.zeros((ndead, ndead))\n",
    "    for j in range(ndead - 1):\n",
    "        Linv[j][j] = nk[j]\n",
    "        Linv[j+1][j] = - nk[j+1]\n",
    "    Linv[ndead - 1][ndead - 1] = nk[ndead - 1]\n",
    "    return Linv\n",
    "\n",
    "def logPr(y, likelihood, mean, covinv, theta):\n",
    "    logX = likelihood.inverse(y, theta)\n",
    "    return - (logX - mean).T @ covinv @ (logX - mean)\n",
    "\n",
    "def minimise(y, likelihood, mean, covinv, x0):\n",
    "    def func(theta):\n",
    "        return - logPr(y, likelihood, mean, covinv, theta)\n",
    "    solution = minimize(func, x0)\n",
    "    return solution"
   ]
  },
  {
   "attachments": {},
   "cell_type": "markdown",
   "metadata": {},
   "source": [
    "### **Comparing distribution of $L (\\log X - \\mu)$ for the two decompositions**\n",
    "\n",
    "(at the $\\log X$ which maximises $\\log \\Pr$). \n",
    "\n",
    "$L'(\\log X - \\mu)$ is roughly Gaussian centred at 0 with mean 1, while $L^{-1}(\\log X - \\mu)$ is very much not - looks more like $\\log t$ distribution, which is unexpected\n",
    "\n",
    "Next, try to minimise the decomposed vectors individually and observe distribution again"
   ]
  },
  {
   "cell_type": "code",
   "execution_count": 164,
   "metadata": {},
   "outputs": [],
   "source": [
    "nk = nk_dead(nlive=500, ndead=500)\n",
    "mean_logX = logX_mu(nk)\n",
    "covinv_logX = logX_Sigmainv(nk)\n",
    "cov_logX = np.linalg.inv(covinv_logX)\n",
    "Lprime = np.linalg.cholesky(covinv_logX)\n",
    "Linv = upper_Linv(nk)"
   ]
  },
  {
   "cell_type": "code",
   "execution_count": 197,
   "metadata": {},
   "outputs": [],
   "source": [
    "X = generate_Xs(nk)\n",
    "logX = np.log(X)\n",
    "like = simple_log\n",
    "theta_true = 10\n",
    "y = simple_log.func(logX, theta_true)\n",
    "theta_min = minimise(y, like, mean_logX, covinv_logX, theta_true).x\n",
    "logX_min = like.inverse(y, theta_min)\n",
    "# plt.plot(X, y, 'x', ms=2)\n",
    "# plt.plot(np.exp(logX_min), y, label=f'corr, {np.round(theta_min, 2)}')\n",
    "# plt.legend();"
   ]
  },
  {
   "cell_type": "code",
   "execution_count": 198,
   "metadata": {},
   "outputs": [
    {
     "data": {
      "image/png": "[encoded data removed]",
      "text/plain": [
       "<Figure size 640x480 with 1 Axes>"
      ]
     },
     "metadata": {},
     "output_type": "display_data"
    }
   ],
   "source": [
    "dev = (logX_min - mean_logX)\n",
    "plt.hist(Lprime.T @ dev, bins=50, alpha=0.5, label='lower')\n",
    "plt.hist(Linv @ dev, bins=50, alpha=0.5, label='t');\n",
    "#plt.hist(Linv @ (logX - mean_logX), bins=50, alpha=0.5, label='true')\n",
    "plt.xlim(-4, 4)\n",
    "plt.legend();"
   ]
  },
  {
   "attachments": {},
   "cell_type": "markdown",
   "metadata": {},
   "source": [
    "### **Minimise rotated vectors directly**"
   ]
  },
  {
   "cell_type": "code",
   "execution_count": 206,
   "metadata": {},
   "outputs": [],
   "source": [
    "def log_shrinkage(logX):\n",
    "    shifted = np.roll(logX, 1)\n",
    "    shifted[0] = 0\n",
    "    return logX - shifted\n",
    "\n",
    "def logPr_logt(y, likelihood, mean, theta):\n",
    "    logX = likelihood.inverse(y, theta)\n",
    "    logt = log_shrinkage(logX)\n",
    "    return - np.sum((logt - mean)**2)\n",
    "\n",
    "def minimise_logt(y, likelihood, mean, x0):\n",
    "    def func(theta):\n",
    "        return - logPr_logt(y, likelihood, mean, theta)\n",
    "    solution = minimize(func, x0)\n",
    "    return solution"
   ]
  },
  {
   "cell_type": "code",
   "execution_count": 262,
   "metadata": {},
   "outputs": [],
   "source": [
    "nk = nk_dead(nlive=500, ndead=500)\n",
    "mean_logX = logX_mu(nk)\n",
    "covinv_logX = logX_Sigmainv(nk)\n",
    "mean_logt = log_shrinkage(mean_logX)\n",
    "Lprime = np.linalg.cholesky(covinv_logX)\n",
    "Linv = upper_Linv(nk)"
   ]
  },
  {
   "cell_type": "code",
   "execution_count": 299,
   "metadata": {},
   "outputs": [
    {
     "data": {
      "text/plain": [
       "array([5.02034416])"
      ]
     },
     "execution_count": 299,
     "metadata": {},
     "output_type": "execute_result"
    }
   ],
   "source": [
    "X = generate_Xs(nk)\n",
    "logX = np.log(X)\n",
    "logt = log_shrinkage(logX)\n",
    "like = simple_log\n",
    "theta_true = 10\n",
    "y = like.func(logX, theta_true)\n",
    "theta_min = minimise(y, like, mean_logX, covinv_logX, theta_true).x\n",
    "logX_min = like.inverse(y, theta_min)\n",
    "theta_min"
   ]
  },
  {
   "cell_type": "code",
   "execution_count": 300,
   "metadata": {},
   "outputs": [
    {
     "data": {
      "image/png": "[encoded data removed]",
      "text/plain": [
       "<Figure size 640x480 with 1 Axes>"
      ]
     },
     "metadata": {},
     "output_type": "display_data"
    }
   ],
   "source": [
    "theta_t = minimise_logt(y, like, mean_logt, theta_true).x\n",
    "logt_min = log_shrinkage(like.inverse(y, theta_t))\n",
    "plt.hist(logt_min, bins=20, density=True, label='inferred');\n",
    "plt.hist(logt, bins=20, histtype='step', density=True, lw=2, label='true');\n",
    "plt.legend();"
   ]
  },
  {
   "attachments": {},
   "cell_type": "markdown",
   "metadata": {},
   "source": [
    "Don't expect Gaussian errors, since $\\log t$ cannot be greater than 0. If Gaussian, would have mean $-1/n$ and standard deviation $1/n$\n",
    "\n",
    "Shape of $\\log L$ forces errors to follow a certain form - what is it?"
   ]
  },
  {
   "cell_type": "code",
   "execution_count": null,
   "metadata": {},
   "outputs": [],
   "source": []
  }
 ],
 "metadata": {
  "kernelspec": {
   "display_name": "Python 3.10.6 ('env')",
   "language": "python",
   "name": "python3"
  },
  "language_info": {
   "codemirror_mode": {
    "name": "ipython",
    "version": 3
   },
   "file_extension": ".py",
   "mimetype": "text/x-python",
   "name": "python",
   "nbconvert_exporter": "python",
   "pygments_lexer": "ipython3",
   "version": "3.10.6"
  },
  "orig_nbformat": 4,
  "vscode": {
   "interpreter": {
    "hash": "f04b3df41c937fb946d36e0c914ccce305e67d8dbbe371762424715e8a219369"
   }
  }
 },
 "nbformat": 4,
 "nbformat_minor": 2
}
