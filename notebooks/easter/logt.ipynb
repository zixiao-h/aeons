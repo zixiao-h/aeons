{
 "cells": [
  {
   "attachments": {},
   "cell_type": "markdown",
   "metadata": {},
   "source": [
    "Live points are flat, works better for dead points\n",
    "\n",
    "Minimising Gaussian t still leads to a misfit. High nk fixes this, why?"
   ]
  },
  {
   "cell_type": "code",
   "execution_count": 1,
   "metadata": {},
   "outputs": [],
   "source": [
    "import numpy as np\n",
    "import matplotlib.pyplot as plt\n",
    "from scipy.optimize import minimize\n",
    "\n",
    "from aeons.true_distribution import generate_Xs, nk_dead, nk_dead_live, nk_live\n",
    "from aeons.likelihoods import linear, quad, simple, middle, full"
   ]
  },
  {
   "cell_type": "code",
   "execution_count": 34,
   "metadata": {},
   "outputs": [],
   "source": [
    "def log_shrinkage(logX):\n",
    "    shifted = np.roll(logX, 1)\n",
    "    shifted[0] = 0\n",
    "    return logX - shifted\n",
    "\n",
    "def logPr_logt(logt, nk):\n",
    "     logPr_k = np.log(nk) + (nk-1) * logt\n",
    "     return np.sum(logPr_k)\n",
    "\n",
    "def logPr_theta(y, likelihood, nk, theta):\n",
    "    Xest = likelihood.inverse(y, theta)\n",
    "    logXest = np.log(Xest)\n",
    "    logtest = log_shrinkage(logXest)\n",
    "    return logPr_logt(nk, logtest)\n",
    "\n",
    "def logPr_X(X, nk):\n",
    "    logt = log_shrinkage(np.log(X))\n",
    "    return logPr_logt(logt, nk)"
   ]
  },
  {
   "cell_type": "code",
   "execution_count": 75,
   "metadata": {},
   "outputs": [],
   "source": [
    "nk = nk_dead(nlive=500, ndead=1000)\n",
    "X = generate_Xs(nk)\n",
    "logt = log_shrinkage(np.log(X))\n",
    "theta_true = 10\n",
    "like = simple\n",
    "y = like.func(X, theta_true)"
   ]
  },
  {
   "attachments": {},
   "cell_type": "markdown",
   "metadata": {},
   "source": [
    "### **Include regularisation term**"
   ]
  },
  {
   "cell_type": "code",
   "execution_count": 76,
   "metadata": {},
   "outputs": [],
   "source": [
    "def logPr_true(y, likelihood, nk, theta):\n",
    "    Xstar = likelihood.inverse(y, theta)\n",
    "    logabsfprimes = np.log(abs(likelihood.prime(Xstar, theta)))\n",
    "    return logPr_X(Xstar, nk) - np.sum(logabsfprimes) "
   ]
  },
  {
   "cell_type": "code",
   "execution_count": 77,
   "metadata": {},
   "outputs": [
    {
     "data": {
      "text/plain": [
       "4.845691382765532"
      ]
     },
     "execution_count": 77,
     "metadata": {},
     "output_type": "execute_result"
    }
   ],
   "source": [
    "ds = np.linspace(1, 20, 500)\n",
    "logprs = np.zeros_like(ds)\n",
    "for i, d in enumerate(ds):\n",
    "    logprs[i] = logPr_true(y, like, nk, d)\n",
    "# plt.plot(ds, logprs)\n",
    "dmax = ds[np.argmax(logprs)]\n",
    "dmax"
   ]
  },
  {
   "cell_type": "code",
   "execution_count": 78,
   "metadata": {},
   "outputs": [],
   "source": [
    "Xmax = like.inverse(y, dmax)\n",
    "logtmax = log_shrinkage(np.log(Xmax))"
   ]
  },
  {
   "cell_type": "code",
   "execution_count": 83,
   "metadata": {},
   "outputs": [
    {
     "data": {
      "image/png": "[encoded data removed]",
      "text/plain": [
       "<Figure size 640x480 with 1 Axes>"
      ]
     },
     "metadata": {},
     "output_type": "display_data"
    }
   ],
   "source": [
    "plt.hist(logtmax, bins=20, label='inferred');\n",
    "plt.hist(logt, bins=20, alpha=0.2, label='true');\n",
    "plt.legend();"
   ]
  },
  {
   "cell_type": "code",
   "execution_count": null,
   "metadata": {},
   "outputs": [],
   "source": []
  }
 ],
 "metadata": {
  "kernelspec": {
   "display_name": "Python 3.10.6 ('env')",
   "language": "python",
   "name": "python3"
  },
  "language_info": {
   "codemirror_mode": {
    "name": "ipython",
    "version": 3
   },
   "file_extension": ".py",
   "mimetype": "text/x-python",
   "name": "python",
   "nbconvert_exporter": "python",
   "pygments_lexer": "ipython3",
   "version": "3.10.6"
  },
  "orig_nbformat": 4,
  "vscode": {
   "interpreter": {
    "hash": "f04b3df41c937fb946d36e0c914ccce305e67d8dbbe371762424715e8a219369"
   }
  }
 },
 "nbformat": 4,
 "nbformat_minor": 2
}
