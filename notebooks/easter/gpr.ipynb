{
 "cells": [
  {
   "cell_type": "code",
   "execution_count": 5,
   "metadata": {},
   "outputs": [],
   "source": [
    "from sklearn.datasets import make_friedman2\n",
    "from sklearn.gaussian_process import GaussianProcessRegressor\n",
    "from sklearn.gaussian_process.kernels import DotProduct, WhiteKernel\n",
    "import matplotlib.pyplot as plt"
   ]
  },
  {
   "cell_type": "code",
   "execution_count": 51,
   "metadata": {},
   "outputs": [],
   "source": [
    "X, y = make_friedman2(n_samples=50, noise=0)#, random_state=0)"
   ]
  },
  {
   "cell_type": "code",
   "execution_count": 52,
   "metadata": {},
   "outputs": [],
   "source": [
    "kernel = DotProduct() + WhiteKernel()"
   ]
  },
  {
   "cell_type": "code",
   "execution_count": 53,
   "metadata": {},
   "outputs": [
    {
     "name": "stderr",
     "output_type": "stream",
     "text": [
      "/home/zixiao/Documents/III/project/env/lib/python3.10/site-packages/sklearn/gaussian_process/kernels.py:430: ConvergenceWarning: The optimal value found for dimension 0 of parameter k2__noise_level is close to the specified upper bound 100000.0. Increasing the bound and calling fit again may find a better value.\n",
      "  warnings.warn(\n"
     ]
    },
    {
     "data": {
      "text/plain": [
       "0.2767412309458388"
      ]
     },
     "execution_count": 53,
     "metadata": {},
     "output_type": "execute_result"
    }
   ],
   "source": [
    "gpr = GaussianProcessRegressor(kernel=kernel,\n",
    "        random_state=0).fit(X, y)\n",
    "gpr.score(X, y)"
   ]
  },
  {
   "cell_type": "code",
   "execution_count": 54,
   "metadata": {},
   "outputs": [
    {
     "data": {
      "text/plain": [
       "(array([752.14085717, 719.70503876]), array([321.88201142, 324.34568696]))"
      ]
     },
     "execution_count": 54,
     "metadata": {},
     "output_type": "execute_result"
    }
   ],
   "source": [
    "gpr.predict(X[:2,:], return_std=True)"
   ]
  },
  {
   "cell_type": "code",
   "execution_count": 55,
   "metadata": {},
   "outputs": [
    {
     "data": {
      "text/plain": [
       "array([752.14085717, 719.70503876, 484.30365785, 454.58368353,\n",
       "       635.33009798, 330.58428371,  98.36512057, 834.00606737,\n",
       "       194.20116393, 785.31659958, 646.25069766, 435.099396  ,\n",
       "       556.06971101, 411.68276172, 594.02808836, 322.2467955 ,\n",
       "       818.13052271, 872.16595307, 468.41910113, 526.74834209,\n",
       "       597.52628804, 602.52763074, 417.75068498, 324.13983381,\n",
       "       741.97663328, 727.57406995, 653.6680251 , 169.54680049,\n",
       "       502.8410914 , 287.84300447, 368.29564293, 620.30841274,\n",
       "       776.63542686, 466.86260615, 876.73653632, 268.15198439,\n",
       "       362.34274766, 214.72057165, 781.12023656, 684.24143722,\n",
       "       873.04540421,  91.73711325, 669.33493861, 197.98189112,\n",
       "       641.1111205 , 129.48733653, 283.96934265, 397.73950332,\n",
       "       696.77087237, 446.78621828])"
      ]
     },
     "execution_count": 55,
     "metadata": {},
     "output_type": "execute_result"
    }
   ],
   "source": [
    "gpr.predict(X[:,:])"
   ]
  },
  {
   "cell_type": "code",
   "execution_count": 42,
   "metadata": {},
   "outputs": [
    {
     "data": {
      "text/plain": [
       "array([[2.74411180e+01, 1.74891596e+03, 5.54583820e-01, 3.86246421e+00],\n",
       "       [4.60141604e+01, 6.88158118e+02, 7.10747166e-01, 7.83895402e+00],\n",
       "       [1.47892926e+01, 5.91030658e+02, 3.61900743e-01, 1.29720030e+00],\n",
       "       ...,\n",
       "       [8.55650806e+01, 1.41160876e+02, 1.60487010e-01, 5.81683086e+00],\n",
       "       [3.92529238e+01, 7.65398455e+02, 9.67290615e-01, 1.07295470e+01],\n",
       "       [9.23377496e+01, 3.05321791e+02, 2.34672806e-01, 1.01991008e+01]])"
      ]
     },
     "execution_count": 42,
     "metadata": {},
     "output_type": "execute_result"
    }
   ],
   "source": [
    "X"
   ]
  },
  {
   "cell_type": "code",
   "execution_count": null,
   "metadata": {},
   "outputs": [],
   "source": []
  }
 ],
 "metadata": {
  "kernelspec": {
   "display_name": "Python 3.10.6 ('env')",
   "language": "python",
   "name": "python3"
  },
  "language_info": {
   "codemirror_mode": {
    "name": "ipython",
    "version": 3
   },
   "file_extension": ".py",
   "mimetype": "text/x-python",
   "name": "python",
   "nbconvert_exporter": "python",
   "pygments_lexer": "ipython3",
   "version": "3.10.6"
  },
  "orig_nbformat": 4,
  "vscode": {
   "interpreter": {
    "hash": "f04b3df41c937fb946d36e0c914ccce305e67d8dbbe371762424715e8a219369"
   }
  }
 },
 "nbformat": 4,
 "nbformat_minor": 2
}
