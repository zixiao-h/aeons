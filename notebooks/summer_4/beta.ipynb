{
 "cells": [
  {
   "cell_type": "code",
   "execution_count": 100,
   "metadata": {},
   "outputs": [],
   "source": [
    "import numpy as np\n",
    "import matplotlib.pyplot as plt\n",
    "from scipy.special import logsumexp\n",
    "\n",
    "from aeons.utils import *\n",
    "from aeons.endpoint import EndModel\n",
    "from anesthetic.examples.perfect_ns import planck_gaussian\n",
    "from aeons.plotting import *"
   ]
  },
  {
   "cell_type": "markdown",
   "metadata": {},
   "source": [
    "### Function to find current beta"
   ]
  },
  {
   "cell_type": "code",
   "execution_count": 128,
   "metadata": {},
   "outputs": [
    {
     "name": "stderr",
     "output_type": "stream",
     "text": [
      "/home/zixiao/Documents/III/project/env/lib/python3.10/site-packages/anesthetic/labelled_pandas.py:22: UserWarning: Boolean Series key will be reindexed to match DataFrame index.\n",
      "  results.append((f(*args), l))\n"
     ]
    }
   ],
   "source": [
    "samples = pickle_in(f\"{aeons_dir}/samples/toy/planck.pickle\")\n",
    "ndead = 10000\n",
    "points = points_at_iteration(samples, ndead)"
   ]
  },
  {
   "cell_type": "code",
   "execution_count": 126,
   "metadata": {},
   "outputs": [],
   "source": [
    "def find_betadone(points, ndead, epsilon=1e-3):\n",
    "    def func(beta):\n",
    "        points_beta = points.set_beta(beta)\n",
    "        logZdead = logsumexp(points_beta.logw().iloc[:ndead])\n",
    "        logZlive = logsumexp(points_beta.logw().iloc[ndead:])\n",
    "        return np.square(-np.log(epsilon) - np.log(1 + np.exp(logZdead - logZlive)))\n",
    "    N = 100\n",
    "    funcs = np.zeros(N)\n",
    "    logbetas = np.linspace(-15, 0, 100)\n",
    "    betas = np.exp(logbetas)\n",
    "    for i, beta in enumerate(betas):\n",
    "        funcs[i] = func(beta)\n",
    "    grad = np.gradient(funcs)\n",
    "    index = ((grad[1:] * grad[:-1]) < 0).nonzero()\n",
    "    beta_done = betas[index]\n",
    "    return beta_done\n",
    "\n",
    "def navgs(iterations, nk, nlive):\n",
    "    navgs = np.zeros_like(iterations)\n",
    "    for i, ndead in enumerate(iterations):\n",
    "        navgs[i] = np.mean(nk[int(ndead):-nlive])\n",
    "    return navgs"
   ]
  },
  {
   "cell_type": "code",
   "execution_count": 168,
   "metadata": {},
   "outputs": [
    {
     "data": {
      "text/plain": [
       "array([9.68425356e-05])"
      ]
     },
     "execution_count": 168,
     "metadata": {},
     "output_type": "execute_result"
    }
   ],
   "source": [
    "beta = find_betadone(points, ndead)\n",
    "beta"
   ]
  },
  {
   "cell_type": "code",
   "execution_count": 171,
   "metadata": {},
   "outputs": [
    {
     "data": {
      "text/plain": [
       "[<matplotlib.lines.Line2D at 0x7facf3822ad0>]"
      ]
     },
     "execution_count": 171,
     "metadata": {},
     "output_type": "execute_result"
    },
    {
     "data": {
      "image/png": "[encoded data removed]",
      "text/plain": [
       "<Figure size 400x200 with 1 Axes>"
      ]
     },
     "metadata": {},
     "output_type": "display_data"
    }
   ],
   "source": [
    "plt.figure(figsize=(4,2))\n",
    "plt.plot(samples.logX(), np.exp(samples.logL - samples.logL.max()))\n",
    "plt.plot(samples.logX(), np.exp(beta*samples.logL - beta*samples.logL.max()))"
   ]
  },
  {
   "cell_type": "code",
   "execution_count": 166,
   "metadata": {},
   "outputs": [
    {
     "data": {
      "text/plain": [
       "-16.154892080718145"
      ]
     },
     "execution_count": 166,
     "metadata": {},
     "output_type": "execute_result"
    }
   ],
   "source": [
    "points.logX().iloc[ndead]"
   ]
  },
  {
   "cell_type": "code",
   "execution_count": 167,
   "metadata": {},
   "outputs": [
    {
     "data": {
      "text/plain": [
       "-15.815183962175707"
      ]
     },
     "execution_count": 167,
     "metadata": {},
     "output_type": "execute_result"
    }
   ],
   "source": [
    "EndModel(points).true_logXf()"
   ]
  },
  {
   "cell_type": "markdown",
   "metadata": {},
   "source": [
    "### Extrapolate beta"
   ]
  },
  {
   "cell_type": "markdown",
   "metadata": {},
   "source": [
    "#### `planck_gaussian`"
   ]
  },
  {
   "cell_type": "code",
   "execution_count": 158,
   "metadata": {},
   "outputs": [],
   "source": [
    "samples = pickle_in(f\"{aeons_dir}/samples/toy/planck.pickle\")"
   ]
  },
  {
   "cell_type": "code",
   "execution_count": 160,
   "metadata": {},
   "outputs": [],
   "source": [
    "_, samples = get_samples('lcdm', 'planck')"
   ]
  },
  {
   "cell_type": "code",
   "execution_count": 161,
   "metadata": {},
   "outputs": [
    {
     "data": {
      "text/html": [
       "<div>\n",
       "<style scoped>\n",
       "    .dataframe tbody tr th:only-of-type {\n",
       "        vertical-align: middle;\n",
       "    }\n",
       "\n",
       "    .dataframe tbody tr th {\n",
       "        vertical-align: top;\n",
       "    }\n",
       "\n",
       "    .dataframe thead tr th {\n",
       "        text-align: left;\n",
       "    }\n",
       "\n",
       "    .dataframe thead tr:last-of-type th {\n",
       "        text-align: right;\n",
       "    }\n",
       "</style>\n",
       "<table border=\"1\" class=\"dataframe\">\n",
       "  <thead>\n",
       "    <tr>\n",
       "      <th></th>\n",
       "      <th></th>\n",
       "      <th>omegabh2</th>\n",
       "      <th>omegach2</th>\n",
       "      <th>theta</th>\n",
       "      <th>tau</th>\n",
       "      <th>logA</th>\n",
       "      <th>ns</th>\n",
       "      <th>calPlanck</th>\n",
       "      <th>acib217</th>\n",
       "      <th>xi</th>\n",
       "      <th>asz143</th>\n",
       "      <th>...</th>\n",
       "      <th>fsigma8z233</th>\n",
       "      <th>sigma8z233</th>\n",
       "      <th>chi2_plik</th>\n",
       "      <th>chi2_lowl</th>\n",
       "      <th>chi2_simall</th>\n",
       "      <th>chi2_prior</th>\n",
       "      <th>chi2_CMB</th>\n",
       "      <th>logL</th>\n",
       "      <th>logL_birth</th>\n",
       "      <th>nlive</th>\n",
       "    </tr>\n",
       "    <tr>\n",
       "      <th></th>\n",
       "      <th>labels</th>\n",
       "      <th>$\\Omega_b h^2$</th>\n",
       "      <th>$\\Omega_c h^2$</th>\n",
       "      <th>$100\\theta_{MC}$</th>\n",
       "      <th>$\\tau$</th>\n",
       "      <th>${\\rm{ln}}(10^{10} A_s)$</th>\n",
       "      <th>$n_s$</th>\n",
       "      <th>$y_{\\rm cal}$</th>\n",
       "      <th>$A^{CIB}_{217}$</th>\n",
       "      <th>$\\xi^{tSZ-CIB}$</th>\n",
       "      <th>$A^{tSZ}_{143}$</th>\n",
       "      <th>...</th>\n",
       "      <th>$f\\sigma_8(2.33)$</th>\n",
       "      <th>$\\sigma_8(2.33)$</th>\n",
       "      <th>$\\chi^2_{\\rm plik}$</th>\n",
       "      <th>$\\chi^2_{\\rm lowl}$</th>\n",
       "      <th>$\\chi^2_{\\rm simall}$</th>\n",
       "      <th>$\\chi^2_{\\rm prior}$</th>\n",
       "      <th>$\\chi^2_{\\rm CMB}$</th>\n",
       "      <th>$\\ln\\mathcal{L}$</th>\n",
       "      <th>$\\ln\\mathcal{L}_\\mathrm{birth}$</th>\n",
       "      <th>$n_\\mathrm{live}$</th>\n",
       "    </tr>\n",
       "    <tr>\n",
       "      <th></th>\n",
       "      <th>weights</th>\n",
       "      <th></th>\n",
       "      <th></th>\n",
       "      <th></th>\n",
       "      <th></th>\n",
       "      <th></th>\n",
       "      <th></th>\n",
       "      <th></th>\n",
       "      <th></th>\n",
       "      <th></th>\n",
       "      <th></th>\n",
       "      <th></th>\n",
       "      <th></th>\n",
       "      <th></th>\n",
       "      <th></th>\n",
       "      <th></th>\n",
       "      <th></th>\n",
       "      <th></th>\n",
       "      <th></th>\n",
       "      <th></th>\n",
       "      <th></th>\n",
       "      <th></th>\n",
       "    </tr>\n",
       "  </thead>\n",
       "  <tbody>\n",
       "    <tr>\n",
       "      <th>0</th>\n",
       "      <th>0.000000</th>\n",
       "      <td>0.019973</td>\n",
       "      <td>0.095208</td>\n",
       "      <td>1.032369</td>\n",
       "      <td>0.018819</td>\n",
       "      <td>3.656967</td>\n",
       "      <td>0.993428</td>\n",
       "      <td>0.996954</td>\n",
       "      <td>169.326408</td>\n",
       "      <td>0.414624</td>\n",
       "      <td>1.347034</td>\n",
       "      <td>...</td>\n",
       "      <td>0.384997</td>\n",
       "      <td>0.404174</td>\n",
       "      <td>1.267083e+06</td>\n",
       "      <td>198.840318</td>\n",
       "      <td>406.423748</td>\n",
       "      <td>3.291984</td>\n",
       "      <td>1.267688e+06</td>\n",
       "      <td>-633845.601582</td>\n",
       "      <td>-inf</td>\n",
       "      <td>10000</td>\n",
       "    </tr>\n",
       "    <tr>\n",
       "      <th>1</th>\n",
       "      <th>0.000000</th>\n",
       "      <td>0.021405</td>\n",
       "      <td>0.099244</td>\n",
       "      <td>1.033097</td>\n",
       "      <td>0.015206</td>\n",
       "      <td>3.666862</td>\n",
       "      <td>1.020030</td>\n",
       "      <td>0.998603</td>\n",
       "      <td>189.883616</td>\n",
       "      <td>0.987761</td>\n",
       "      <td>0.682023</td>\n",
       "      <td>...</td>\n",
       "      <td>0.393006</td>\n",
       "      <td>0.411120</td>\n",
       "      <td>1.246923e+06</td>\n",
       "      <td>167.801194</td>\n",
       "      <td>407.641676</td>\n",
       "      <td>5.997219</td>\n",
       "      <td>1.247499e+06</td>\n",
       "      <td>-623752.332835</td>\n",
       "      <td>-inf</td>\n",
       "      <td>9999</td>\n",
       "    </tr>\n",
       "    <tr>\n",
       "      <th>2</th>\n",
       "      <th>0.000000</th>\n",
       "      <td>0.021952</td>\n",
       "      <td>0.106013</td>\n",
       "      <td>1.032276</td>\n",
       "      <td>0.028494</td>\n",
       "      <td>3.692408</td>\n",
       "      <td>1.023358</td>\n",
       "      <td>1.001454</td>\n",
       "      <td>132.878046</td>\n",
       "      <td>0.132130</td>\n",
       "      <td>0.266597</td>\n",
       "      <td>...</td>\n",
       "      <td>0.402966</td>\n",
       "      <td>0.418460</td>\n",
       "      <td>1.177777e+06</td>\n",
       "      <td>156.668109</td>\n",
       "      <td>401.821152</td>\n",
       "      <td>3.849184</td>\n",
       "      <td>1.178335e+06</td>\n",
       "      <td>-589169.635191</td>\n",
       "      <td>-inf</td>\n",
       "      <td>9998</td>\n",
       "    </tr>\n",
       "    <tr>\n",
       "      <th>3</th>\n",
       "      <th>0.000000</th>\n",
       "      <td>0.024678</td>\n",
       "      <td>0.099131</td>\n",
       "      <td>1.035361</td>\n",
       "      <td>0.014369</td>\n",
       "      <td>3.660554</td>\n",
       "      <td>1.018280</td>\n",
       "      <td>1.002693</td>\n",
       "      <td>190.514011</td>\n",
       "      <td>0.995038</td>\n",
       "      <td>7.909737</td>\n",
       "      <td>...</td>\n",
       "      <td>0.387326</td>\n",
       "      <td>0.406824</td>\n",
       "      <td>1.174217e+06</td>\n",
       "      <td>170.510849</td>\n",
       "      <td>408.172061</td>\n",
       "      <td>3.574658</td>\n",
       "      <td>1.174796e+06</td>\n",
       "      <td>-587399.815381</td>\n",
       "      <td>-inf</td>\n",
       "      <td>9997</td>\n",
       "    </tr>\n",
       "    <tr>\n",
       "      <th>4</th>\n",
       "      <th>0.000000</th>\n",
       "      <td>0.024377</td>\n",
       "      <td>0.096904</td>\n",
       "      <td>1.032957</td>\n",
       "      <td>0.036216</td>\n",
       "      <td>3.692154</td>\n",
       "      <td>1.009631</td>\n",
       "      <td>0.997986</td>\n",
       "      <td>139.048176</td>\n",
       "      <td>0.786495</td>\n",
       "      <td>9.189574</td>\n",
       "      <td>...</td>\n",
       "      <td>0.387733</td>\n",
       "      <td>0.407693</td>\n",
       "      <td>1.165281e+06</td>\n",
       "      <td>185.109792</td>\n",
       "      <td>399.610628</td>\n",
       "      <td>23.298579</td>\n",
       "      <td>1.165866e+06</td>\n",
       "      <td>-582944.703314</td>\n",
       "      <td>-inf</td>\n",
       "      <td>9996</td>\n",
       "    </tr>\n",
       "    <tr>\n",
       "      <th>...</th>\n",
       "      <th>...</th>\n",
       "      <td>...</td>\n",
       "      <td>...</td>\n",
       "      <td>...</td>\n",
       "      <td>...</td>\n",
       "      <td>...</td>\n",
       "      <td>...</td>\n",
       "      <td>...</td>\n",
       "      <td>...</td>\n",
       "      <td>...</td>\n",
       "      <td>...</td>\n",
       "      <td>...</td>\n",
       "      <td>...</td>\n",
       "      <td>...</td>\n",
       "      <td>...</td>\n",
       "      <td>...</td>\n",
       "      <td>...</td>\n",
       "      <td>...</td>\n",
       "      <td>...</td>\n",
       "      <td>...</td>\n",
       "      <td>...</td>\n",
       "      <td>...</td>\n",
       "    </tr>\n",
       "    <tr>\n",
       "      <th>58370</th>\n",
       "      <th>0.018516</th>\n",
       "      <td>0.022332</td>\n",
       "      <td>0.120361</td>\n",
       "      <td>1.040718</td>\n",
       "      <td>0.056914</td>\n",
       "      <td>3.054043</td>\n",
       "      <td>0.965277</td>\n",
       "      <td>1.003165</td>\n",
       "      <td>49.034685</td>\n",
       "      <td>0.162502</td>\n",
       "      <td>5.542700</td>\n",
       "      <td>...</td>\n",
       "      <td>0.299122</td>\n",
       "      <td>0.308097</td>\n",
       "      <td>2.346985e+03</td>\n",
       "      <td>23.243352</td>\n",
       "      <td>396.695992</td>\n",
       "      <td>0.045839</td>\n",
       "      <td>2.766925e+03</td>\n",
       "      <td>-1383.485237</td>\n",
       "      <td>-1385.293552</td>\n",
       "      <td>5</td>\n",
       "    </tr>\n",
       "    <tr>\n",
       "      <th>58371</th>\n",
       "      <th>0.021465</th>\n",
       "      <td>0.022427</td>\n",
       "      <td>0.120078</td>\n",
       "      <td>1.040793</td>\n",
       "      <td>0.058397</td>\n",
       "      <td>3.052683</td>\n",
       "      <td>0.964655</td>\n",
       "      <td>1.000790</td>\n",
       "      <td>49.017806</td>\n",
       "      <td>0.434348</td>\n",
       "      <td>6.615296</td>\n",
       "      <td>...</td>\n",
       "      <td>0.298752</td>\n",
       "      <td>0.307814</td>\n",
       "      <td>2.345899e+03</td>\n",
       "      <td>23.543065</td>\n",
       "      <td>397.080219</td>\n",
       "      <td>0.152641</td>\n",
       "      <td>2.766522e+03</td>\n",
       "      <td>-1383.337470</td>\n",
       "      <td>-1384.842239</td>\n",
       "      <td>4</td>\n",
       "    </tr>\n",
       "    <tr>\n",
       "      <th>58372</th>\n",
       "      <th>0.021719</th>\n",
       "      <td>0.022518</td>\n",
       "      <td>0.118755</td>\n",
       "      <td>1.040971</td>\n",
       "      <td>0.058018</td>\n",
       "      <td>3.052217</td>\n",
       "      <td>0.968955</td>\n",
       "      <td>1.002974</td>\n",
       "      <td>47.188862</td>\n",
       "      <td>0.164703</td>\n",
       "      <td>5.940312</td>\n",
       "      <td>...</td>\n",
       "      <td>0.298791</td>\n",
       "      <td>0.308214</td>\n",
       "      <td>2.347287e+03</td>\n",
       "      <td>22.578231</td>\n",
       "      <td>396.783324</td>\n",
       "      <td>0.002635</td>\n",
       "      <td>2.766649e+03</td>\n",
       "      <td>-1383.325669</td>\n",
       "      <td>-1385.931971</td>\n",
       "      <td>3</td>\n",
       "    </tr>\n",
       "    <tr>\n",
       "      <th>58373</th>\n",
       "      <th>0.025517</th>\n",
       "      <td>0.022309</td>\n",
       "      <td>0.121180</td>\n",
       "      <td>1.040786</td>\n",
       "      <td>0.056770</td>\n",
       "      <td>3.062167</td>\n",
       "      <td>0.962729</td>\n",
       "      <td>1.005344</td>\n",
       "      <td>45.430712</td>\n",
       "      <td>0.231186</td>\n",
       "      <td>6.609876</td>\n",
       "      <td>...</td>\n",
       "      <td>0.300377</td>\n",
       "      <td>0.309203</td>\n",
       "      <td>2.344958e+03</td>\n",
       "      <td>23.994739</td>\n",
       "      <td>396.801644</td>\n",
       "      <td>0.575055</td>\n",
       "      <td>2.765754e+03</td>\n",
       "      <td>-1383.164517</td>\n",
       "      <td>-1385.092658</td>\n",
       "      <td>2</td>\n",
       "    </tr>\n",
       "    <tr>\n",
       "      <th>58374</th>\n",
       "      <th>0.026369</th>\n",
       "      <td>0.022279</td>\n",
       "      <td>0.121378</td>\n",
       "      <td>1.040725</td>\n",
       "      <td>0.048065</td>\n",
       "      <td>3.044582</td>\n",
       "      <td>0.963067</td>\n",
       "      <td>1.005378</td>\n",
       "      <td>54.147774</td>\n",
       "      <td>0.489235</td>\n",
       "      <td>6.094126</td>\n",
       "      <td>...</td>\n",
       "      <td>0.297813</td>\n",
       "      <td>0.306505</td>\n",
       "      <td>2.346913e+03</td>\n",
       "      <td>23.544992</td>\n",
       "      <td>395.744242</td>\n",
       "      <td>0.060847</td>\n",
       "      <td>2.766203e+03</td>\n",
       "      <td>-1383.131693</td>\n",
       "      <td>-1385.447628</td>\n",
       "      <td>1</td>\n",
       "    </tr>\n",
       "  </tbody>\n",
       "</table>\n",
       "<p>58375 rows × 93 columns</p>\n",
       "</div>"
      ],
      "text/plain": [
       "                     omegabh2       omegach2          theta       tau  \\\n",
       "labels         $\\Omega_b h^2$ $\\Omega_c h^2$ $100\\theta_...    $\\tau$   \n",
       "      weights                                                           \n",
       "0     0.000000       0.019973       0.095208       1.032369  0.018819   \n",
       "1     0.000000       0.021405       0.099244       1.033097  0.015206   \n",
       "2     0.000000       0.021952       0.106013       1.032276  0.028494   \n",
       "3     0.000000       0.024678       0.099131       1.035361  0.014369   \n",
       "4     0.000000       0.024377       0.096904       1.032957  0.036216   \n",
       "...                       ...            ...            ...       ...   \n",
       "58370 0.018516       0.022332       0.120361       1.040718  0.056914   \n",
       "58371 0.021465       0.022427       0.120078       1.040793  0.058397   \n",
       "58372 0.021719       0.022518       0.118755       1.040971  0.058018   \n",
       "58373 0.025517       0.022309       0.121180       1.040786  0.056770   \n",
       "58374 0.026369       0.022279       0.121378       1.040725  0.048065   \n",
       "\n",
       "                         logA        ns     calPlanck        acib217  \\\n",
       "labels         ${\\rm{ln}}(...     $n_s$ $y_{\\rm cal}$ $A^{CIB}_{2...   \n",
       "      weights                                                          \n",
       "0     0.000000       3.656967  0.993428      0.996954     169.326408   \n",
       "1     0.000000       3.666862  1.020030      0.998603     189.883616   \n",
       "2     0.000000       3.692408  1.023358      1.001454     132.878046   \n",
       "3     0.000000       3.660554  1.018280      1.002693     190.514011   \n",
       "4     0.000000       3.692154  1.009631      0.997986     139.048176   \n",
       "...                       ...       ...           ...            ...   \n",
       "58370 0.018516       3.054043  0.965277      1.003165      49.034685   \n",
       "58371 0.021465       3.052683  0.964655      1.000790      49.017806   \n",
       "58372 0.021719       3.052217  0.968955      1.002974      47.188862   \n",
       "58373 0.025517       3.062167  0.962729      1.005344      45.430712   \n",
       "58374 0.026369       3.044582  0.963067      1.005378      54.147774   \n",
       "\n",
       "                           xi         asz143  ...    fsigma8z233  \\\n",
       "labels         $\\xi^{tSZ-C... $A^{tSZ}_{1...  ... $f\\sigma_8(...   \n",
       "      weights                                 ...                  \n",
       "0     0.000000       0.414624       1.347034  ...       0.384997   \n",
       "1     0.000000       0.987761       0.682023  ...       0.393006   \n",
       "2     0.000000       0.132130       0.266597  ...       0.402966   \n",
       "3     0.000000       0.995038       7.909737  ...       0.387326   \n",
       "4     0.000000       0.786495       9.189574  ...       0.387733   \n",
       "...                       ...            ...  ...            ...   \n",
       "58370 0.018516       0.162502       5.542700  ...       0.299122   \n",
       "58371 0.021465       0.434348       6.615296  ...       0.298752   \n",
       "58372 0.021719       0.164703       5.940312  ...       0.298791   \n",
       "58373 0.025517       0.231186       6.609876  ...       0.300377   \n",
       "58374 0.026369       0.489235       6.094126  ...       0.297813   \n",
       "\n",
       "                   sigma8z233      chi2_plik      chi2_lowl    chi2_simall  \\\n",
       "labels         $\\sigma_8(2... $\\chi^2_{\\r... $\\chi^2_{\\r... $\\chi^2_{\\r...   \n",
       "      weights                                                                \n",
       "0     0.000000       0.404174   1.267083e+06     198.840318     406.423748   \n",
       "1     0.000000       0.411120   1.246923e+06     167.801194     407.641676   \n",
       "2     0.000000       0.418460   1.177777e+06     156.668109     401.821152   \n",
       "3     0.000000       0.406824   1.174217e+06     170.510849     408.172061   \n",
       "4     0.000000       0.407693   1.165281e+06     185.109792     399.610628   \n",
       "...                       ...            ...            ...            ...   \n",
       "58370 0.018516       0.308097   2.346985e+03      23.243352     396.695992   \n",
       "58371 0.021465       0.307814   2.345899e+03      23.543065     397.080219   \n",
       "58372 0.021719       0.308214   2.347287e+03      22.578231     396.783324   \n",
       "58373 0.025517       0.309203   2.344958e+03      23.994739     396.801644   \n",
       "58374 0.026369       0.306505   2.346913e+03      23.544992     395.744242   \n",
       "\n",
       "                   chi2_prior       chi2_CMB           logL     logL_birth  \\\n",
       "labels         $\\chi^2_{\\r... $\\chi^2_{\\r... $\\ln\\mathca... $\\ln\\mathca...   \n",
       "      weights                                                                \n",
       "0     0.000000       3.291984   1.267688e+06 -633845.601582           -inf   \n",
       "1     0.000000       5.997219   1.247499e+06 -623752.332835           -inf   \n",
       "2     0.000000       3.849184   1.178335e+06 -589169.635191           -inf   \n",
       "3     0.000000       3.574658   1.174796e+06 -587399.815381           -inf   \n",
       "4     0.000000      23.298579   1.165866e+06 -582944.703314           -inf   \n",
       "...                       ...            ...            ...            ...   \n",
       "58370 0.018516       0.045839   2.766925e+03   -1383.485237   -1385.293552   \n",
       "58371 0.021465       0.152641   2.766522e+03   -1383.337470   -1384.842239   \n",
       "58372 0.021719       0.002635   2.766649e+03   -1383.325669   -1385.931971   \n",
       "58373 0.025517       0.575055   2.765754e+03   -1383.164517   -1385.092658   \n",
       "58374 0.026369       0.060847   2.766203e+03   -1383.131693   -1385.447628   \n",
       "\n",
       "                        nlive  \n",
       "labels         $n_\\mathrm{...  \n",
       "      weights                  \n",
       "0     0.000000          10000  \n",
       "1     0.000000           9999  \n",
       "2     0.000000           9998  \n",
       "3     0.000000           9997  \n",
       "4     0.000000           9996  \n",
       "...                       ...  \n",
       "58370 0.018516              5  \n",
       "58371 0.021465              4  \n",
       "58372 0.021719              3  \n",
       "58373 0.025517              2  \n",
       "58374 0.026369              1  \n",
       "\n",
       "[58375 rows x 93 columns]"
      ]
     },
     "execution_count": 161,
     "metadata": {},
     "output_type": "execute_result"
    }
   ],
   "source": [
    "samples"
   ]
  },
  {
   "cell_type": "code",
   "execution_count": 162,
   "metadata": {},
   "outputs": [],
   "source": [
    "d = 26\n",
    "beta = np.logspace(-10,0,100)\n",
    "stats = samples.stats(5, beta=beta)"
   ]
  },
  {
   "cell_type": "code",
   "execution_count": 98,
   "metadata": {},
   "outputs": [
    {
     "data": {
      "image/png": "[encoded data removed]",
      "text/plain": [
       "<Figure size 600x400 with 1 Axes>"
      ]
     },
     "metadata": {},
     "output_type": "display_data"
    }
   ],
   "source": [
    "i = 20\n",
    "b = beta[i]\n",
    "plt.figure(figsize=(6,4))\n",
    "plt.plot(stats.D_KL.unstack(), beta, label='C0', alpha=0.5, color='black')\n",
    "plt.plot(stats.D_KL[b].values[None,:] + (stats.d_G[b]/2).values[None,:] * (np.log(beta[i:])-np.log(b))[:,None], beta[i:], alpha=0.5, color='deepskyblue')\n",
    "plt.plot(stats.D_KL[b].values[None,:] + ((np.ones_like(beta[i:])*d/2) * (np.log(beta[i:])-np.log(b)))[:,None], beta[i:], alpha=0.5, color='orange')\n",
    "plt.yscale('log')\n",
    "plt.xlabel(r'$D_{KL}$')\n",
    "plt.ylabel(r'$\\beta$')\n",
    "\n",
    "from scipy.interpolate import interp1d\n",
    "interp = interp1d(beta, samples.D_KL(beta=beta))\n",
    "\n",
    "plt.title(f\"logbeta = {int(np.log10(b))}, $D_{{KL}}$={interp(1):.1f}\")\n",
    "\n",
    "plt.tight_layout()"
   ]
  },
  {
   "cell_type": "markdown",
   "metadata": {},
   "source": [
    "#### `cauchy`"
   ]
  },
  {
   "cell_type": "code",
   "execution_count": 163,
   "metadata": {},
   "outputs": [],
   "source": [
    "samples = pickle_in(f\"{aeons_dir}/samples/toy/cauchy_10_0001.pickle\")\n",
    "model = EndModel(samples)\n",
    "# plot_lx(samples)\n",
    "# samples.D_KL()"
   ]
  },
  {
   "cell_type": "code",
   "execution_count": 169,
   "metadata": {},
   "outputs": [],
   "source": [
    "d = 60\n",
    "beta = np.logspace(-10,0,100)\n",
    "stats = samples.stats(5, beta=beta)"
   ]
  },
  {
   "cell_type": "code",
   "execution_count": 170,
   "metadata": {},
   "outputs": [
    {
     "name": "stderr",
     "output_type": "stream",
     "text": [
      "/tmp/ipykernel_637511/289022627.py:10: UserWarning: Attempt to set non-positive ylim on a log-scaled axis will be ignored.\n",
      "  plt.ylim(10**-3, 0)\n"
     ]
    },
    {
     "data": {
      "image/png": "[encoded data removed]",
      "text/plain": [
       "<Figure size 600x400 with 1 Axes>"
      ]
     },
     "metadata": {},
     "output_type": "display_data"
    }
   ],
   "source": [
    "i = 90\n",
    "b = beta[i]\n",
    "plt.figure(figsize=(6,4))\n",
    "plt.plot(stats.D_KL.unstack(), beta, label='C0', alpha=0.5, color='black')\n",
    "plt.plot(stats.D_KL[b].values[None,:] + (stats.d_G[b]/2).values[None,:] * (np.log(beta[i:])-np.log(b))[:,None], beta[i:], alpha=0.5, color='deepskyblue')\n",
    "plt.plot(stats.D_KL[b].values[None,:] + ((np.ones_like(beta[i:])*d/2) * (np.log(beta[i:])-np.log(b)))[:,None], beta[i:], alpha=0.5, color='orange')\n",
    "plt.yscale('log')\n",
    "plt.xlabel(r'$D_{KL}$')\n",
    "plt.ylabel(r'$\\beta$')\n",
    "plt.ylim(10**-3, 0)\n",
    "\n",
    "from scipy.interpolate import interp1d\n",
    "interp = interp1d(beta, samples.D_KL(beta=beta))\n",
    "plt.title(f\"logbeta = {int(np.log10(b))}, $D_{{KL}}$={interp(1):.1f}\")\n",
    "plt.tight_layout()"
   ]
  },
  {
   "cell_type": "markdown",
   "metadata": {},
   "source": [
    "#### `BAO`"
   ]
  },
  {
   "cell_type": "code",
   "execution_count": 116,
   "metadata": {},
   "outputs": [],
   "source": [
    "name, samples = get_samples('lcdm', 'BAO')\n",
    "model = EndModel(samples)\n",
    "true_endpoint = model.true_endpoint()\n",
    "true_logXf = model.true_logXf()\n",
    "d = 2\n",
    "beta = np.logspace(-10,0,100)\n",
    "stats = samples.stats(5, beta=beta)"
   ]
  },
  {
   "cell_type": "code",
   "execution_count": 110,
   "metadata": {},
   "outputs": [
    {
     "data": {
      "image/png": "[encoded data removed]",
      "text/plain": [
       "<Figure size 600x400 with 1 Axes>"
      ]
     },
     "metadata": {},
     "output_type": "display_data"
    }
   ],
   "source": [
    "i = 10\n",
    "b = beta[i]\n",
    "plt.figure(figsize=(6,4))\n",
    "plt.plot(stats.D_KL.unstack(), beta, label='C0', alpha=0.5, color='black')\n",
    "plt.plot(stats.D_KL[b].values[None,:] + (stats.d_G[b]/2).values[None,:] * (np.log(beta[i:])-np.log(b))[:,None], beta[i:], alpha=0.5, color='deepskyblue')\n",
    "plt.plot(stats.D_KL[b].values[None,:] + ((np.ones_like(beta[i:])*d/2) * (np.log(beta[i:])-np.log(b)))[:,None], beta[i:], alpha=0.5, color='orange')\n",
    "plt.yscale('log')\n",
    "plt.xlabel(r'$D_{KL}$')\n",
    "plt.ylabel(r'$\\beta$')\n",
    "\n",
    "from scipy.interpolate import interp1d\n",
    "interp = interp1d(beta, samples.D_KL(beta=beta))\n",
    "plt.title(f\"logbeta = {int(np.log10(b))}, $D_{{KL}}$={interp(1):.1f}\")\n",
    "plt.tight_layout()"
   ]
  },
  {
   "cell_type": "code",
   "execution_count": 155,
   "metadata": {},
   "outputs": [
    {
     "name": "stderr",
     "output_type": "stream",
     "text": [
      "/home/zixiao/Documents/III/project/env/lib/python3.10/site-packages/anesthetic/labelled_pandas.py:22: UserWarning: Boolean Series key will be reindexed to match DataFrame index.\n",
      "  results.append((f(*args), l))\n"
     ]
    },
    {
     "data": {
      "text/plain": [
       "-7.3001857554089025"
      ]
     },
     "execution_count": 155,
     "metadata": {},
     "output_type": "execute_result"
    }
   ],
   "source": [
    "ndead = 14000\n",
    "points = points_at_iteration(samples, ndead)\n",
    "points.logX().iloc[ndead]"
   ]
  },
  {
   "cell_type": "code",
   "execution_count": 156,
   "metadata": {},
   "outputs": [
    {
     "data": {
      "text/plain": [
       "array([0.00912288])"
      ]
     },
     "execution_count": 156,
     "metadata": {},
     "output_type": "execute_result"
    }
   ],
   "source": [
    "find_betadone(points, ndead)"
   ]
  },
  {
   "cell_type": "code",
   "execution_count": 151,
   "metadata": {},
   "outputs": [
    {
     "data": {
      "image/png": "[encoded data removed]",
      "text/plain": [
       "<Figure size 800x200 with 2 Axes>"
      ]
     },
     "metadata": {},
     "output_type": "display_data"
    }
   ],
   "source": [
    "fig, axs = plt.subplots(1, 2, figsize=(8, 2))\n",
    "iterations, logXfs, logXfs_std = read_from_txt('BAO/bt_full_25.txt')\n",
    "logXs = samples.logX().iloc[iterations]\n",
    "endpoints, endpoints_std = calc_endpoints(iterations, logXs, logXfs, logXfs_std, nlive=1000)\n",
    "plot_std(-logXs, endpoints, endpoints_std, true_endpoint, ylim=(true_endpoint*0.9, true_endpoint*1.01), ax=axs[0])\n",
    "plot_std(-logXs, -logXfs, logXfs_std, -true_logXf, ylim=(-true_logXf*0.8, -true_logXf*1.1), ax=axs[1])"
   ]
  },
  {
   "cell_type": "markdown",
   "metadata": {},
   "source": [
    "### Back to DKL"
   ]
  },
  {
   "cell_type": "code",
   "execution_count": 194,
   "metadata": {},
   "outputs": [
    {
     "name": "stderr",
     "output_type": "stream",
     "text": [
      "/home/zixiao/Documents/III/project/env/lib/python3.10/site-packages/anesthetic/labelled_pandas.py:22: UserWarning: Boolean Series key will be reindexed to match DataFrame index.\n",
      "  results.append((f(*args), l))\n"
     ]
    },
    {
     "data": {
      "text/plain": [
       "<Axes: xlabel='beta'>"
      ]
     },
     "execution_count": 194,
     "metadata": {},
     "output_type": "execute_result"
    },
    {
     "data": {
      "image/png": "[encoded data removed]",
      "text/plain": [
       "<Figure size 400x200 with 1 Axes>"
      ]
     },
     "metadata": {},
     "output_type": "display_data"
    }
   ],
   "source": [
    "samples = pickle_in(f\"{aeons_dir}/samples/toy/planck.pickle\")\n",
    "points = points_at_iteration(samples, ndead=2000)\n",
    "betas = np.logspace(-10, 0, 100)\n",
    "plt.figure(figsize=(4,2))\n",
    "points.D_KL(beta=betas).plot(logx=True)\n",
    "samples.D_KL(beta=betas).plot(logx=True)"
   ]
  },
  {
   "cell_type": "code",
   "execution_count": 200,
   "metadata": {},
   "outputs": [
    {
     "name": "stderr",
     "output_type": "stream",
     "text": [
      "/home/zixiao/Documents/III/project/env/lib/python3.10/site-packages/anesthetic/labelled_pandas.py:22: UserWarning: Boolean Series key will be reindexed to match DataFrame index.\n",
      "  results.append((f(*args), l))\n"
     ]
    },
    {
     "data": {
      "text/plain": [
       "<Axes: xlabel='beta'>"
      ]
     },
     "execution_count": 200,
     "metadata": {},
     "output_type": "execute_result"
    },
    {
     "data": {
      "image/png": "[encoded data removed]",
      "text/plain": [
       "<Figure size 400x200 with 1 Axes>"
      ]
     },
     "metadata": {},
     "output_type": "display_data"
    }
   ],
   "source": [
    "samples = pickle_in(f\"{aeons_dir}/samples/toy/cauchy_10_0001.pickle\")\n",
    "points = points_at_iteration(samples, ndead=10000)\n",
    "betas = np.logspace(-0.2, 0, 100)\n",
    "plt.figure(figsize=(4,2))\n",
    "samples.D_KL(beta=betas).plot(logx=True)\n",
    "points.D_KL(beta=betas).plot(logx=True)"
   ]
  }
 ],
 "metadata": {
  "kernelspec": {
   "display_name": "env",
   "language": "python",
   "name": "python3"
  },
  "language_info": {
   "codemirror_mode": {
    "name": "ipython",
    "version": 3
   },
   "file_extension": ".py",
   "mimetype": "text/x-python",
   "name": "python",
   "nbconvert_exporter": "python",
   "pygments_lexer": "ipython3",
   "version": "3.10.6"
  },
  "orig_nbformat": 4
 },
 "nbformat": 4,
 "nbformat_minor": 2
}
