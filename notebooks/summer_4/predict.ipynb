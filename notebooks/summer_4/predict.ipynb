{
 "cells": [
  {
   "cell_type": "code",
   "execution_count": 2,
   "metadata": {},
   "outputs": [],
   "source": [
    "import numpy as np\n",
    "import matplotlib.pyplot as plt\n",
    "\n",
    "from aeons.utils import *\n",
    "from aeons.endpoint import EndModel, theta_basic, theta_bandwidth, theta_bandwidth_trunc\n",
    "from aeons.plotting import *\n",
    "from aeons.regress import *"
   ]
  },
  {
   "cell_type": "markdown",
   "metadata": {},
   "source": [
    "### Planck"
   ]
  },
  {
   "cell_type": "code",
   "execution_count": null,
   "metadata": {},
   "outputs": [],
   "source": [
    "root = \"lcdm\"\n",
    "for chain in lcdm_chains:\n",
    "    name, samples = get_samples(root, chain)\n",
    "    model = EndModel(samples)\n",
    "    true_endpoint = model.true_endpoint()\n",
    "    iterations = np.linspace(0.01*true_endpoint, true_endpoint, 25, endpoint=False).astype(int)\n",
    "    logXfs, logXfs_std = model.logXfs(theta_bandwidth_trunc, iterations, Nset=25, trunc=5, splits=[1])\n",
    "    write_to_txt(f'nos/{chain}_bt_25_nos.txt', [iterations, logXfs, logXfs_std, true_endpoint])\n",
    "    print(name)"
   ]
  },
  {
   "cell_type": "markdown",
   "metadata": {},
   "source": [
    "### Toy"
   ]
  },
  {
   "cell_type": "code",
   "execution_count": 44,
   "metadata": {},
   "outputs": [
    {
     "name": "stderr",
     "output_type": "stream",
     "text": [
      "/home/zixiao/Documents/III/project/env/lib/python3.10/site-packages/anesthetic/labelled_pandas.py:22: UserWarning: Boolean Series key will be reindexed to match DataFrame index.\n",
      "  results.append((f(*args), l))\n"
     ]
    },
    {
     "name": "stdout",
     "output_type": "stream",
     "text": [
      "2 attempts\n",
      "16 attempts\n",
      "10 attempts\n",
      "2 attempts\n",
      "2 attempts\n",
      "2 attempts\n",
      "18 attempts\n",
      "2 attempts\n",
      "13 attempts\n",
      "2 attempts\n",
      "2 attempts\n",
      "2 attempts\n",
      "Iteration 506 complete, 18 samples\n",
      "2 attempts\n",
      "Iteration 2510 complete, 18 samples\n",
      "4 attempts\n",
      "3 attempts\n",
      "4 attempts\n",
      "2 attempts\n",
      "2 attempts\n",
      "3 attempts\n",
      "4 attempts\n",
      "4 attempts\n",
      "3 attempts\n",
      "13 attempts\n",
      "3 attempts\n",
      "30 attempts\n",
      "3 attempts\n",
      "4 attempts\n",
      "3 attempts\n",
      "3 attempts\n",
      "3 attempts\n",
      "Iteration 4514 complete, 17 samples\n",
      "2 attempts\n",
      "2 attempts\n",
      "2 attempts\n",
      "3 attempts\n",
      "Iteration 6518 complete, 18 samples\n",
      "2 attempts\n",
      "2 attempts\n",
      "9 attempts\n",
      "8 attempts\n",
      "2 attempts\n",
      "8 attempts\n",
      "2 attempts\n",
      "2 attempts\n",
      "6 attempts\n",
      "6 attempts\n",
      "2 attempts\n",
      "12 attempts\n",
      "10 attempts\n",
      "4 attempts\n",
      "5 attempts\n",
      "2 attempts\n",
      "6 attempts\n",
      "2 attempts\n",
      "2 attempts\n",
      "2 attempts\n",
      "2 attempts\n",
      "Iteration 8522 complete, 19 samples\n",
      "2 attempts\n",
      "2 attempts\n",
      "2 attempts\n",
      "7 attempts\n",
      "2 attempts\n",
      "3 attempts\n",
      "2 attempts\n",
      "2 attempts\n",
      "3 attempts\n",
      "2 attempts\n",
      "7 attempts\n",
      "9 attempts\n",
      "2 attempts\n",
      "2 attempts\n",
      "2 attempts\n",
      "Iteration 10526 complete, 22 samples\n",
      "4 attempts\n",
      "3 attempts\n",
      "3 attempts\n",
      "2 attempts\n",
      "5 attempts\n",
      "Iteration 12530 complete, 18 samples\n",
      "2 attempts\n",
      "2 attempts\n",
      "2 attempts\n",
      "22 attempts\n",
      "19 attempts\n",
      "7 attempts\n",
      "27 attempts\n",
      "20 attempts\n",
      "3 attempts\n",
      "2 attempts\n",
      "3 attempts\n",
      "9 attempts\n",
      "2 attempts\n",
      "2 attempts\n",
      "Iteration 14534 complete, 17 samples\n",
      "17 attempts\n",
      "2 attempts\n",
      "2 attempts\n",
      "2 attempts\n",
      "2 attempts\n",
      "2 attempts\n",
      "2 attempts\n",
      "2 attempts\n",
      "2 attempts\n",
      "2 attempts\n",
      "2 attempts\n",
      "2 attempts\n",
      "2 attempts\n",
      "2 attempts\n",
      "4 attempts\n",
      "2 attempts\n",
      "2 attempts\n",
      "2 attempts\n",
      "2 attempts\n",
      "2 attempts\n",
      "2 attempts\n",
      "2 attempts\n",
      "2 attempts\n",
      "5 attempts\n",
      "Iteration 16539 complete, 18 samples\n",
      "2 attempts\n",
      "2 attempts\n",
      "2 attempts\n",
      "2 attempts\n",
      "2 attempts\n",
      "2 attempts\n",
      "2 attempts\n",
      "Iteration 18543 complete, 19 samples\n",
      "2 attempts\n",
      "2 attempts\n",
      "2 attempts\n",
      "2 attempts\n",
      "2 attempts\n",
      "2 attempts\n",
      "2 attempts\n",
      "2 attempts\n",
      "2 attempts\n",
      "2 attempts\n",
      "2 attempts\n",
      "2 attempts\n",
      "2 attempts\n",
      "2 attempts\n",
      "2 attempts\n",
      "2 attempts\n",
      "2 attempts\n",
      "2 attempts\n",
      "Iteration 20547 complete, 20 samples\n",
      "2 attempts\n",
      "2 attempts\n",
      "2 attempts\n",
      "2 attempts\n",
      "9 attempts\n",
      "2 attempts\n",
      "2 attempts\n",
      "2 attempts\n",
      "2 attempts\n",
      "2 attempts\n",
      "2 attempts\n",
      "2 attempts\n",
      "2 attempts\n",
      "2 attempts\n",
      "2 attempts\n",
      "2 attempts\n",
      "2 attempts\n",
      "2 attempts\n",
      "Iteration 22551 complete, 22 samples\n",
      "2 attempts\n",
      "2 attempts\n",
      "2 attempts\n",
      "2 attempts\n",
      "2 attempts\n",
      "2 attempts\n",
      "2 attempts\n",
      "2 attempts\n",
      "2 attempts\n",
      "2 attempts\n",
      "2 attempts\n",
      "2 attempts\n",
      "2 attempts\n",
      "2 attempts\n",
      "2 attempts\n",
      "2 attempts\n",
      "2 attempts\n",
      "2 attempts\n",
      "2 attempts\n",
      "2 attempts\n",
      "2 attempts\n",
      "2 attempts\n",
      "2 attempts\n",
      "2 attempts\n",
      "2 attempts\n",
      "Iteration 24555 complete, 18 samples\n",
      "2 attempts\n",
      "2 attempts\n",
      "2 attempts\n",
      "2 attempts\n",
      "2 attempts\n",
      "2 attempts\n",
      "2 attempts\n",
      "2 attempts\n",
      "2 attempts\n",
      "2 attempts\n",
      "2 attempts\n",
      "2 attempts\n",
      "Iteration 26559 complete, 21 samples\n",
      "2 attempts\n",
      "2 attempts\n",
      "2 attempts\n",
      "3 attempts\n",
      "2 attempts\n",
      "2 attempts\n",
      "2 attempts\n",
      "2 attempts\n",
      "2 attempts\n",
      "2 attempts\n",
      "2 attempts\n",
      "2 attempts\n",
      "2 attempts\n",
      "Iteration 28563 complete, 19 samples\n",
      "2 attempts\n",
      "2 attempts\n",
      "2 attempts\n",
      "2 attempts\n",
      "2 attempts\n",
      "2 attempts\n",
      "2 attempts\n",
      "2 attempts\n",
      "2 attempts\n",
      "2 attempts\n",
      "2 attempts\n",
      "2 attempts\n",
      "2 attempts\n",
      "2 attempts\n",
      "2 attempts\n",
      "2 attempts\n",
      "2 attempts\n",
      "2 attempts\n",
      "2 attempts\n",
      "2 attempts\n",
      "2 attempts\n",
      "Iteration 30567 complete, 19 samples\n",
      "26 attempts\n",
      "13 attempts\n",
      "4 attempts\n",
      "21 attempts\n",
      "22 attempts\n",
      "2 attempts\n",
      "Iteration 32571 complete, 18 samples\n",
      "2 attempts\n",
      "2 attempts\n",
      "Iteration 34576 complete, 20 samples\n",
      "2 attempts\n",
      "2 attempts\n",
      "2 attempts\n",
      "2 attempts\n",
      "9 attempts\n",
      "2 attempts\n",
      "2 attempts\n",
      "3 attempts\n",
      "Iteration 36580 complete, 16 samples\n",
      "2 attempts\n",
      "2 attempts\n",
      "9 attempts\n",
      "2 attempts\n",
      "2 attempts\n",
      "29 attempts\n",
      "2 attempts\n",
      "2 attempts\n",
      "2 attempts\n",
      "21 attempts\n",
      "2 attempts\n",
      "2 attempts\n",
      "11 attempts\n",
      "3 attempts\n",
      "16 attempts\n",
      "2 attempts\n",
      "2 attempts\n",
      "Iteration 38584 complete, 22 samples\n",
      "Iteration 40588 complete, 22 samples\n",
      "2 attempts\n",
      "2 attempts\n",
      "2 attempts\n",
      "2 attempts\n",
      "2 attempts\n",
      "2 attempts\n",
      "2 attempts\n",
      "2 attempts\n",
      "2 attempts\n",
      "2 attempts\n",
      "2 attempts\n",
      "14 attempts\n",
      "2 attempts\n",
      "Iteration 42592 complete, 19 samples\n",
      "3 attempts\n",
      "4 attempts\n",
      "2 attempts\n",
      "2 attempts\n",
      "2 attempts\n",
      "2 attempts\n",
      "2 attempts\n",
      "4 attempts\n",
      "2 attempts\n",
      "3 attempts\n",
      "3 attempts\n",
      "3 attempts\n",
      "Iteration 44596 complete, 19 samples\n",
      "21 attempts\n",
      "4 attempts\n",
      "25 attempts\n",
      "5 attempts\n",
      "5 attempts\n",
      "6 attempts\n",
      "5 attempts\n",
      "5 attempts\n",
      "5 attempts\n",
      "4 attempts\n",
      "5 attempts\n",
      "4 attempts\n",
      "4 attempts\n",
      "24 attempts\n",
      "9 attempts\n",
      "4 attempts\n",
      "Iteration 46600 complete, 15 samples\n",
      "2 attempts\n",
      "Iteration 48604 complete, 22 samples\n"
     ]
    },
    {
     "name": "stderr",
     "output_type": "stream",
     "text": [
      "/home/zixiao/Documents/III/project/env/lib/python3.10/site-packages/anesthetic/labelled_pandas.py:22: UserWarning: Boolean Series key will be reindexed to match DataFrame index.\n",
      "  results.append((f(*args), l))\n"
     ]
    },
    {
     "name": "stdout",
     "output_type": "stream",
     "text": [
      "3 attempts\n",
      "5 attempts\n",
      "20 attempts\n",
      "7 attempts\n",
      "14 attempts\n",
      "9 attempts\n",
      "13 attempts\n",
      "3 attempts\n",
      "3 attempts\n",
      "2 attempts\n",
      "14 attempts\n",
      "9 attempts\n",
      "14 attempts\n",
      "9 attempts\n",
      "Iteration 479 complete, 21 samples\n",
      "2 attempts\n",
      "29 attempts\n",
      "2 attempts\n",
      "3 attempts\n",
      "3 attempts\n",
      "23 attempts\n",
      "3 attempts\n",
      "26 attempts\n",
      "8 attempts\n",
      "4 attempts\n",
      "2 attempts\n",
      "2 attempts\n",
      "Iteration 2380 complete, 20 samples\n",
      "9 attempts\n",
      "11 attempts\n",
      "8 attempts\n",
      "8 attempts\n",
      "9 attempts\n",
      "6 attempts\n",
      "9 attempts\n",
      "11 attempts\n",
      "9 attempts\n",
      "3 attempts\n",
      "7 attempts\n",
      "9 attempts\n",
      "7 attempts\n",
      "4 attempts\n",
      "7 attempts\n",
      "8 attempts\n",
      "9 attempts\n",
      "10 attempts\n",
      "27 attempts\n",
      "10 attempts\n",
      "10 attempts\n",
      "Iteration 4281 complete, 21 samples\n",
      "19 attempts\n",
      "18 attempts\n",
      "19 attempts\n",
      "18 attempts\n",
      "19 attempts\n",
      "17 attempts\n",
      "18 attempts\n",
      "3 attempts\n",
      "17 attempts\n",
      "18 attempts\n",
      "22 attempts\n",
      "19 attempts\n",
      "18 attempts\n",
      "4 attempts\n",
      "Iteration 6181 complete, 22 samples\n",
      "2 attempts\n",
      "5 attempts\n",
      "3 attempts\n",
      "5 attempts\n",
      "9 attempts\n",
      "5 attempts\n",
      "3 attempts\n",
      "8 attempts\n",
      "4 attempts\n",
      "2 attempts\n",
      "11 attempts\n",
      "4 attempts\n",
      "11 attempts\n",
      "2 attempts\n",
      "5 attempts\n",
      "5 attempts\n",
      "9 attempts\n",
      "11 attempts\n",
      "2 attempts\n",
      "5 attempts\n",
      "4 attempts\n",
      "6 attempts\n",
      "5 attempts\n",
      "6 attempts\n",
      "4 attempts\n",
      "Iteration 8082 complete, 23 samples\n",
      "7 attempts\n",
      "11 attempts\n",
      "7 attempts\n",
      "2 attempts\n",
      "7 attempts\n",
      "2 attempts\n",
      "2 attempts\n",
      "8 attempts\n",
      "19 attempts\n",
      "7 attempts\n",
      "6 attempts\n",
      "19 attempts\n",
      "7 attempts\n",
      "12 attempts\n",
      "15 attempts\n",
      "2 attempts\n",
      "7 attempts\n",
      "2 attempts\n",
      "3 attempts\n",
      "3 attempts\n",
      "6 attempts\n",
      "8 attempts\n",
      "7 attempts\n",
      "3 attempts\n",
      "15 attempts\n",
      "Iteration 9982 complete, 20 samples\n",
      "13 attempts\n",
      "2 attempts\n",
      "14 attempts\n",
      "12 attempts\n",
      "3 attempts\n",
      "5 attempts\n",
      "14 attempts\n",
      "2 attempts\n",
      "12 attempts\n",
      "4 attempts\n",
      "13 attempts\n",
      "14 attempts\n",
      "3 attempts\n",
      "12 attempts\n",
      "12 attempts\n",
      "9 attempts\n",
      "14 attempts\n",
      "Iteration 11883 complete, 18 samples\n",
      "2 attempts\n",
      "2 attempts\n",
      "2 attempts\n",
      "7 attempts\n",
      "2 attempts\n",
      "2 attempts\n",
      "10 attempts\n",
      "2 attempts\n",
      "2 attempts\n",
      "2 attempts\n",
      "13 attempts\n",
      "17 attempts\n",
      "2 attempts\n",
      "2 attempts\n",
      "2 attempts\n",
      "8 attempts\n",
      "2 attempts\n",
      "10 attempts\n",
      "2 attempts\n",
      "Iteration 13784 complete, 15 samples\n",
      "3 attempts\n",
      "2 attempts\n",
      "3 attempts\n",
      "2 attempts\n",
      "8 attempts\n",
      "2 attempts\n",
      "17 attempts\n",
      "21 attempts\n",
      "2 attempts\n",
      "2 attempts\n",
      "3 attempts\n",
      "2 attempts\n",
      "3 attempts\n",
      "3 attempts\n",
      "2 attempts\n",
      "2 attempts\n",
      "3 attempts\n",
      "Iteration 15684 complete, 17 samples\n",
      "2 attempts\n",
      "2 attempts\n",
      "8 attempts\n",
      "4 attempts\n",
      "2 attempts\n",
      "17 attempts\n",
      "3 attempts\n",
      "2 attempts\n",
      "3 attempts\n",
      "2 attempts\n",
      "2 attempts\n",
      "2 attempts\n",
      "2 attempts\n",
      "Iteration 17585 complete, 18 samples\n",
      "3 attempts\n",
      "2 attempts\n",
      "14 attempts\n",
      "3 attempts\n",
      "4 attempts\n",
      "3 attempts\n",
      "2 attempts\n",
      "2 attempts\n",
      "2 attempts\n",
      "3 attempts\n",
      "Iteration 19485 complete, 22 samples\n",
      "2 attempts\n",
      "2 attempts\n",
      "2 attempts\n",
      "2 attempts\n",
      "2 attempts\n",
      "2 attempts\n",
      "3 attempts\n",
      "22 attempts\n",
      "2 attempts\n",
      "6 attempts\n",
      "7 attempts\n",
      "Iteration 21386 complete, 18 samples\n",
      "2 attempts\n",
      "18 attempts\n",
      "2 attempts\n",
      "2 attempts\n",
      "5 attempts\n",
      "2 attempts\n",
      "4 attempts\n",
      "18 attempts\n",
      "19 attempts\n",
      "2 attempts\n",
      "6 attempts\n",
      "2 attempts\n",
      "6 attempts\n",
      "8 attempts\n",
      "18 attempts\n",
      "19 attempts\n",
      "5 attempts\n",
      "3 attempts\n",
      "2 attempts\n",
      "6 attempts\n",
      "2 attempts\n",
      "4 attempts\n",
      "6 attempts\n",
      "Iteration 23287 complete, 22 samples\n",
      "8 attempts\n",
      "5 attempts\n",
      "3 attempts\n",
      "3 attempts\n",
      "5 attempts\n",
      "6 attempts\n",
      "6 attempts\n",
      "3 attempts\n",
      "5 attempts\n",
      "5 attempts\n",
      "4 attempts\n",
      "7 attempts\n",
      "8 attempts\n",
      "11 attempts\n",
      "4 attempts\n",
      "4 attempts\n",
      "5 attempts\n",
      "5 attempts\n",
      "4 attempts\n",
      "3 attempts\n",
      "3 attempts\n",
      "3 attempts\n",
      "5 attempts\n",
      "Iteration 25187 complete, 18 samples\n",
      "10 attempts\n",
      "7 attempts\n",
      "6 attempts\n",
      "3 attempts\n",
      "2 attempts\n",
      "5 attempts\n",
      "19 attempts\n",
      "5 attempts\n",
      "7 attempts\n",
      "Iteration 27088 complete, 20 samples\n",
      "2 attempts\n",
      "17 attempts\n",
      "4 attempts\n",
      "15 attempts\n",
      "4 attempts\n",
      "5 attempts\n",
      "5 attempts\n",
      "25 attempts\n",
      "6 attempts\n",
      "5 attempts\n",
      "25 attempts\n",
      "6 attempts\n",
      "15 attempts\n",
      "3 attempts\n",
      "16 attempts\n",
      "5 attempts\n",
      "4 attempts\n",
      "5 attempts\n",
      "3 attempts\n",
      "16 attempts\n",
      "3 attempts\n",
      "21 attempts\n",
      "5 attempts\n",
      "15 attempts\n",
      "2 attempts\n",
      "Iteration 28988 complete, 21 samples\n",
      "3 attempts\n",
      "3 attempts\n",
      "2 attempts\n",
      "2 attempts\n",
      "2 attempts\n",
      "2 attempts\n",
      "9 attempts\n",
      "7 attempts\n",
      "2 attempts\n",
      "9 attempts\n",
      "2 attempts\n",
      "28 attempts\n",
      "3 attempts\n"
     ]
    },
    {
     "name": "stderr",
     "output_type": "stream",
     "text": [
      "/home/zixiao/Documents/III/project/env/lib/python3.10/site-packages/scipy/special/_logsumexp.py:111: RuntimeWarning: overflow encountered in exp\n",
      "  tmp = np.exp(a - a_max)\n",
      "/home/zixiao/Documents/III/project/aeons/aeons/utils.py:116: RuntimeWarning: invalid value encountered in scalar divide\n",
      "  xf_reg = gammaincinv(d/2, np.exp(logend)/gamma(d/2))\n"
     ]
    },
    {
     "name": "stdout",
     "output_type": "stream",
     "text": [
      "10 attempts\n",
      "2 attempts\n",
      "9 attempts\n",
      "3 attempts\n",
      "10 attempts\n",
      "4 attempts\n",
      "11 attempts\n",
      "11 attempts\n",
      "10 attempts\n",
      "Iteration 30889 complete, 20 samples\n",
      "2 attempts\n",
      "29 attempts\n",
      "2 attempts\n",
      "11 attempts\n",
      "10 attempts\n",
      "2 attempts\n",
      "2 attempts\n",
      "8 attempts\n",
      "7 attempts\n",
      "8 attempts\n",
      "4 attempts\n",
      "2 attempts\n",
      "9 attempts\n",
      "2 attempts\n",
      "8 attempts\n",
      "2 attempts\n",
      "2 attempts\n",
      "2 attempts\n",
      "2 attempts\n",
      "2 attempts\n",
      "8 attempts\n",
      "6 attempts\n",
      "Iteration 32790 complete, 22 samples\n",
      "11 attempts\n",
      "2 attempts\n",
      "8 attempts\n",
      "3 attempts\n",
      "2 attempts\n",
      "11 attempts\n",
      "7 attempts\n",
      "2 attempts\n",
      "2 attempts\n",
      "5 attempts\n",
      "3 attempts\n",
      "7 attempts\n",
      "8 attempts\n",
      "11 attempts\n",
      "4 attempts\n",
      "2 attempts\n",
      "4 attempts\n",
      "2 attempts\n",
      "2 attempts\n",
      "11 attempts\n",
      "2 attempts\n",
      "2 attempts\n",
      "5 attempts\n",
      "7 attempts\n",
      "Iteration 34690 complete, 24 samples\n",
      "2 attempts\n",
      "2 attempts\n",
      "2 attempts\n",
      "2 attempts\n",
      "3 attempts\n",
      "2 attempts\n",
      "2 attempts\n",
      "3 attempts\n",
      "2 attempts\n",
      "3 attempts\n",
      "2 attempts\n",
      "4 attempts\n",
      "18 attempts\n",
      "3 attempts\n",
      "2 attempts\n",
      "2 attempts\n",
      "2 attempts\n",
      "4 attempts\n",
      "Iteration 36591 complete, 18 samples\n",
      "9 attempts\n",
      "8 attempts\n",
      "8 attempts\n",
      "6 attempts\n",
      "11 attempts\n",
      "9 attempts\n",
      "2 attempts\n",
      "3 attempts\n",
      "9 attempts\n",
      "20 attempts\n",
      "15 attempts\n",
      "2 attempts\n",
      "11 attempts\n",
      "15 attempts\n",
      "7 attempts\n",
      "10 attempts\n",
      "2 attempts\n",
      "6 attempts\n",
      "6 attempts\n",
      "2 attempts\n",
      "6 attempts\n",
      "9 attempts\n",
      "8 attempts\n",
      "8 attempts\n",
      "2 attempts\n",
      "Iteration 38491 complete, 22 samples\n",
      "3 attempts\n",
      "2 attempts\n",
      "3 attempts\n",
      "2 attempts\n",
      "2 attempts\n",
      "3 attempts\n",
      "2 attempts\n",
      "8 attempts\n",
      "3 attempts\n",
      "8 attempts\n",
      "3 attempts\n",
      "3 attempts\n",
      "Iteration 40392 complete, 18 samples\n",
      "3 attempts\n",
      "2 attempts\n",
      "3 attempts\n",
      "3 attempts\n",
      "2 attempts\n",
      "3 attempts\n",
      "3 attempts\n",
      "3 attempts\n",
      "3 attempts\n",
      "4 attempts\n",
      "3 attempts\n",
      "4 attempts\n",
      "3 attempts\n",
      "3 attempts\n",
      "4 attempts\n",
      "3 attempts\n",
      "6 attempts\n",
      "3 attempts\n",
      "3 attempts\n",
      "3 attempts\n",
      "4 attempts\n",
      "3 attempts\n",
      "3 attempts\n",
      "Iteration 42293 complete, 22 samples\n",
      "2 attempts\n",
      "2 attempts\n",
      "8 attempts\n",
      "2 attempts\n",
      "2 attempts\n",
      "9 attempts\n",
      "2 attempts\n",
      "3 attempts\n",
      "3 attempts\n",
      "19 attempts\n",
      "Iteration 44193 complete, 22 samples\n",
      "Iteration 46094 complete, 17 samples\n"
     ]
    },
    {
     "name": "stderr",
     "output_type": "stream",
     "text": [
      "/home/zixiao/Documents/III/project/env/lib/python3.10/site-packages/anesthetic/labelled_pandas.py:22: UserWarning: Boolean Series key will be reindexed to match DataFrame index.\n",
      "  results.append((f(*args), l))\n"
     ]
    },
    {
     "name": "stdout",
     "output_type": "stream",
     "text": [
      "Iteration 274 complete, 19 samples\n"
     ]
    },
    {
     "name": "stderr",
     "output_type": "stream",
     "text": [
      "/home/zixiao/Documents/III/project/env/lib/python3.10/site-packages/anesthetic/labelled_pandas.py:22: UserWarning: Boolean Series key will be reindexed to match DataFrame index.\n",
      "  results.append((f(*args), l))\n"
     ]
    },
    {
     "name": "stdout",
     "output_type": "stream",
     "text": [
      "Iteration 1362 complete, 18 samples\n"
     ]
    },
    {
     "name": "stderr",
     "output_type": "stream",
     "text": [
      "/home/zixiao/Documents/III/project/env/lib/python3.10/site-packages/anesthetic/labelled_pandas.py:22: UserWarning: Boolean Series key will be reindexed to match DataFrame index.\n",
      "  results.append((f(*args), l))\n"
     ]
    },
    {
     "name": "stdout",
     "output_type": "stream",
     "text": [
      "Iteration 2450 complete, 22 samples\n"
     ]
    },
    {
     "name": "stderr",
     "output_type": "stream",
     "text": [
      "/home/zixiao/Documents/III/project/env/lib/python3.10/site-packages/anesthetic/labelled_pandas.py:22: UserWarning: Boolean Series key will be reindexed to match DataFrame index.\n",
      "  results.append((f(*args), l))\n"
     ]
    },
    {
     "name": "stdout",
     "output_type": "stream",
     "text": [
      "Iteration 3538 complete, 19 samples\n"
     ]
    },
    {
     "name": "stderr",
     "output_type": "stream",
     "text": [
      "/home/zixiao/Documents/III/project/env/lib/python3.10/site-packages/anesthetic/labelled_pandas.py:22: UserWarning: Boolean Series key will be reindexed to match DataFrame index.\n",
      "  results.append((f(*args), l))\n"
     ]
    },
    {
     "name": "stdout",
     "output_type": "stream",
     "text": [
      "Iteration 4626 complete, 18 samples\n"
     ]
    },
    {
     "name": "stderr",
     "output_type": "stream",
     "text": [
      "/home/zixiao/Documents/III/project/env/lib/python3.10/site-packages/anesthetic/labelled_pandas.py:22: UserWarning: Boolean Series key will be reindexed to match DataFrame index.\n",
      "  results.append((f(*args), l))\n"
     ]
    },
    {
     "name": "stdout",
     "output_type": "stream",
     "text": [
      "Iteration 5714 complete, 19 samples\n"
     ]
    },
    {
     "name": "stderr",
     "output_type": "stream",
     "text": [
      "/home/zixiao/Documents/III/project/env/lib/python3.10/site-packages/anesthetic/labelled_pandas.py:22: UserWarning: Boolean Series key will be reindexed to match DataFrame index.\n",
      "  results.append((f(*args), l))\n"
     ]
    },
    {
     "name": "stdout",
     "output_type": "stream",
     "text": [
      "2 attempts\n",
      "Iteration 6802 complete, 20 samples\n"
     ]
    },
    {
     "name": "stderr",
     "output_type": "stream",
     "text": [
      "/home/zixiao/Documents/III/project/env/lib/python3.10/site-packages/anesthetic/labelled_pandas.py:22: UserWarning: Boolean Series key will be reindexed to match DataFrame index.\n",
      "  results.append((f(*args), l))\n"
     ]
    },
    {
     "name": "stdout",
     "output_type": "stream",
     "text": [
      "Iteration 7890 complete, 19 samples\n"
     ]
    },
    {
     "name": "stderr",
     "output_type": "stream",
     "text": [
      "/home/zixiao/Documents/III/project/env/lib/python3.10/site-packages/anesthetic/labelled_pandas.py:22: UserWarning: Boolean Series key will be reindexed to match DataFrame index.\n",
      "  results.append((f(*args), l))\n"
     ]
    },
    {
     "name": "stdout",
     "output_type": "stream",
     "text": [
      "Iteration 8978 complete, 20 samples\n"
     ]
    },
    {
     "name": "stderr",
     "output_type": "stream",
     "text": [
      "/home/zixiao/Documents/III/project/env/lib/python3.10/site-packages/anesthetic/labelled_pandas.py:22: UserWarning: Boolean Series key will be reindexed to match DataFrame index.\n",
      "  results.append((f(*args), l))\n"
     ]
    },
    {
     "name": "stdout",
     "output_type": "stream",
     "text": [
      "Iteration 10066 complete, 21 samples\n",
      "2 attempts\n"
     ]
    },
    {
     "name": "stderr",
     "output_type": "stream",
     "text": [
      "/home/zixiao/Documents/III/project/env/lib/python3.10/site-packages/anesthetic/labelled_pandas.py:22: UserWarning: Boolean Series key will be reindexed to match DataFrame index.\n",
      "  results.append((f(*args), l))\n"
     ]
    },
    {
     "name": "stdout",
     "output_type": "stream",
     "text": [
      "2 attempts\n",
      "Iteration 11154 complete, 18 samples\n"
     ]
    },
    {
     "name": "stderr",
     "output_type": "stream",
     "text": [
      "/home/zixiao/Documents/III/project/env/lib/python3.10/site-packages/anesthetic/labelled_pandas.py:22: UserWarning: Boolean Series key will be reindexed to match DataFrame index.\n",
      "  results.append((f(*args), l))\n"
     ]
    },
    {
     "name": "stdout",
     "output_type": "stream",
     "text": [
      "2 attempts\n",
      "Iteration 12242 complete, 17 samples\n"
     ]
    },
    {
     "name": "stderr",
     "output_type": "stream",
     "text": [
      "/home/zixiao/Documents/III/project/env/lib/python3.10/site-packages/anesthetic/labelled_pandas.py:22: UserWarning: Boolean Series key will be reindexed to match DataFrame index.\n",
      "  results.append((f(*args), l))\n"
     ]
    },
    {
     "name": "stdout",
     "output_type": "stream",
     "text": [
      "Iteration 13330 complete, 18 samples\n"
     ]
    },
    {
     "name": "stderr",
     "output_type": "stream",
     "text": [
      "/home/zixiao/Documents/III/project/env/lib/python3.10/site-packages/anesthetic/labelled_pandas.py:22: UserWarning: Boolean Series key will be reindexed to match DataFrame index.\n",
      "  results.append((f(*args), l))\n"
     ]
    },
    {
     "name": "stdout",
     "output_type": "stream",
     "text": [
      "Iteration 14418 complete, 20 samples\n"
     ]
    },
    {
     "name": "stderr",
     "output_type": "stream",
     "text": [
      "/home/zixiao/Documents/III/project/env/lib/python3.10/site-packages/anesthetic/labelled_pandas.py:22: UserWarning: Boolean Series key will be reindexed to match DataFrame index.\n",
      "  results.append((f(*args), l))\n"
     ]
    },
    {
     "name": "stdout",
     "output_type": "stream",
     "text": [
      "Iteration 15506 complete, 19 samples\n"
     ]
    },
    {
     "name": "stderr",
     "output_type": "stream",
     "text": [
      "/home/zixiao/Documents/III/project/env/lib/python3.10/site-packages/anesthetic/labelled_pandas.py:22: UserWarning: Boolean Series key will be reindexed to match DataFrame index.\n",
      "  results.append((f(*args), l))\n"
     ]
    },
    {
     "name": "stdout",
     "output_type": "stream",
     "text": [
      "Iteration 16594 complete, 22 samples\n"
     ]
    },
    {
     "name": "stderr",
     "output_type": "stream",
     "text": [
      "/home/zixiao/Documents/III/project/env/lib/python3.10/site-packages/anesthetic/labelled_pandas.py:22: UserWarning: Boolean Series key will be reindexed to match DataFrame index.\n",
      "  results.append((f(*args), l))\n"
     ]
    },
    {
     "name": "stdout",
     "output_type": "stream",
     "text": [
      "Iteration 17682 complete, 18 samples\n"
     ]
    },
    {
     "name": "stderr",
     "output_type": "stream",
     "text": [
      "/home/zixiao/Documents/III/project/env/lib/python3.10/site-packages/anesthetic/labelled_pandas.py:22: UserWarning: Boolean Series key will be reindexed to match DataFrame index.\n",
      "  results.append((f(*args), l))\n"
     ]
    },
    {
     "name": "stdout",
     "output_type": "stream",
     "text": [
      "Iteration 18770 complete, 19 samples\n"
     ]
    },
    {
     "name": "stderr",
     "output_type": "stream",
     "text": [
      "/home/zixiao/Documents/III/project/env/lib/python3.10/site-packages/anesthetic/labelled_pandas.py:22: UserWarning: Boolean Series key will be reindexed to match DataFrame index.\n",
      "  results.append((f(*args), l))\n"
     ]
    },
    {
     "name": "stdout",
     "output_type": "stream",
     "text": [
      "Iteration 19858 complete, 23 samples\n"
     ]
    },
    {
     "name": "stderr",
     "output_type": "stream",
     "text": [
      "/home/zixiao/Documents/III/project/env/lib/python3.10/site-packages/anesthetic/labelled_pandas.py:22: UserWarning: Boolean Series key will be reindexed to match DataFrame index.\n",
      "  results.append((f(*args), l))\n"
     ]
    },
    {
     "name": "stdout",
     "output_type": "stream",
     "text": [
      "Iteration 20946 complete, 21 samples\n"
     ]
    },
    {
     "name": "stderr",
     "output_type": "stream",
     "text": [
      "/home/zixiao/Documents/III/project/env/lib/python3.10/site-packages/anesthetic/labelled_pandas.py:22: UserWarning: Boolean Series key will be reindexed to match DataFrame index.\n",
      "  results.append((f(*args), l))\n"
     ]
    },
    {
     "name": "stdout",
     "output_type": "stream",
     "text": [
      "Iteration 22034 complete, 21 samples\n"
     ]
    },
    {
     "name": "stderr",
     "output_type": "stream",
     "text": [
      "/home/zixiao/Documents/III/project/env/lib/python3.10/site-packages/anesthetic/labelled_pandas.py:22: UserWarning: Boolean Series key will be reindexed to match DataFrame index.\n",
      "  results.append((f(*args), l))\n"
     ]
    },
    {
     "name": "stdout",
     "output_type": "stream",
     "text": [
      "Iteration 23122 complete, 22 samples\n"
     ]
    },
    {
     "name": "stderr",
     "output_type": "stream",
     "text": [
      "/home/zixiao/Documents/III/project/env/lib/python3.10/site-packages/anesthetic/labelled_pandas.py:22: UserWarning: Boolean Series key will be reindexed to match DataFrame index.\n",
      "  results.append((f(*args), l))\n"
     ]
    },
    {
     "name": "stdout",
     "output_type": "stream",
     "text": [
      "Iteration 24210 complete, 20 samples\n"
     ]
    },
    {
     "name": "stderr",
     "output_type": "stream",
     "text": [
      "/home/zixiao/Documents/III/project/env/lib/python3.10/site-packages/anesthetic/labelled_pandas.py:22: UserWarning: Boolean Series key will be reindexed to match DataFrame index.\n",
      "  results.append((f(*args), l))\n"
     ]
    },
    {
     "name": "stdout",
     "output_type": "stream",
     "text": [
      "Iteration 25298 complete, 21 samples\n"
     ]
    },
    {
     "name": "stderr",
     "output_type": "stream",
     "text": [
      "/home/zixiao/Documents/III/project/env/lib/python3.10/site-packages/anesthetic/labelled_pandas.py:22: UserWarning: Boolean Series key will be reindexed to match DataFrame index.\n",
      "  results.append((f(*args), l))\n"
     ]
    },
    {
     "name": "stdout",
     "output_type": "stream",
     "text": [
      "Iteration 26386 complete, 18 samples\n"
     ]
    },
    {
     "name": "stderr",
     "output_type": "stream",
     "text": [
      "/home/zixiao/Documents/III/project/env/lib/python3.10/site-packages/anesthetic/labelled_pandas.py:22: UserWarning: Boolean Series key will be reindexed to match DataFrame index.\n",
      "  results.append((f(*args), l))\n"
     ]
    },
    {
     "name": "stdout",
     "output_type": "stream",
     "text": [
      "2 attempts\n",
      "2 attempts\n",
      "2 attempts\n",
      "Iteration 917 complete, 19 samples\n"
     ]
    },
    {
     "name": "stderr",
     "output_type": "stream",
     "text": [
      "/home/zixiao/Documents/III/project/env/lib/python3.10/site-packages/anesthetic/labelled_pandas.py:22: UserWarning: Boolean Series key will be reindexed to match DataFrame index.\n",
      "  results.append((f(*args), l))\n"
     ]
    },
    {
     "name": "stdout",
     "output_type": "stream",
     "text": [
      "2 attempts\n",
      "2 attempts\n",
      "2 attempts\n",
      "2 attempts\n",
      "2 attempts\n",
      "2 attempts\n",
      "2 attempts\n",
      "2 attempts\n",
      "Iteration 4549 complete, 22 samples\n"
     ]
    },
    {
     "name": "stderr",
     "output_type": "stream",
     "text": [
      "/home/zixiao/Documents/III/project/env/lib/python3.10/site-packages/anesthetic/labelled_pandas.py:22: UserWarning: Boolean Series key will be reindexed to match DataFrame index.\n",
      "  results.append((f(*args), l))\n"
     ]
    },
    {
     "name": "stdout",
     "output_type": "stream",
     "text": [
      "Iteration 8181 complete, 21 samples\n"
     ]
    },
    {
     "name": "stderr",
     "output_type": "stream",
     "text": [
      "/home/zixiao/Documents/III/project/env/lib/python3.10/site-packages/anesthetic/labelled_pandas.py:22: UserWarning: Boolean Series key will be reindexed to match DataFrame index.\n",
      "  results.append((f(*args), l))\n"
     ]
    },
    {
     "name": "stdout",
     "output_type": "stream",
     "text": [
      "2 attempts\n",
      "2 attempts\n",
      "2 attempts\n",
      "2 attempts\n",
      "Iteration 11813 complete, 18 samples\n"
     ]
    },
    {
     "name": "stderr",
     "output_type": "stream",
     "text": [
      "/home/zixiao/Documents/III/project/env/lib/python3.10/site-packages/anesthetic/labelled_pandas.py:22: UserWarning: Boolean Series key will be reindexed to match DataFrame index.\n",
      "  results.append((f(*args), l))\n"
     ]
    },
    {
     "name": "stdout",
     "output_type": "stream",
     "text": [
      "2 attempts\n",
      "2 attempts\n",
      "2 attempts\n",
      "2 attempts\n",
      "2 attempts\n",
      "3 attempts\n",
      "2 attempts\n",
      "2 attempts\n",
      "2 attempts\n",
      "Iteration 15445 complete, 20 samples\n"
     ]
    },
    {
     "name": "stderr",
     "output_type": "stream",
     "text": [
      "/home/zixiao/Documents/III/project/env/lib/python3.10/site-packages/anesthetic/labelled_pandas.py:22: UserWarning: Boolean Series key will be reindexed to match DataFrame index.\n",
      "  results.append((f(*args), l))\n"
     ]
    },
    {
     "name": "stdout",
     "output_type": "stream",
     "text": [
      "2 attempts\n",
      "2 attempts\n",
      "2 attempts\n",
      "2 attempts\n",
      "13 attempts\n",
      "2 attempts\n",
      "2 attempts\n",
      "2 attempts\n",
      "2 attempts\n",
      "2 attempts\n",
      "Iteration 19077 complete, 17 samples\n"
     ]
    },
    {
     "name": "stderr",
     "output_type": "stream",
     "text": [
      "/home/zixiao/Documents/III/project/env/lib/python3.10/site-packages/anesthetic/labelled_pandas.py:22: UserWarning: Boolean Series key will be reindexed to match DataFrame index.\n",
      "  results.append((f(*args), l))\n"
     ]
    },
    {
     "name": "stdout",
     "output_type": "stream",
     "text": [
      "2 attempts\n",
      "2 attempts\n",
      "2 attempts\n",
      "2 attempts\n",
      "2 attempts\n",
      "Iteration 22710 complete, 20 samples\n"
     ]
    },
    {
     "name": "stderr",
     "output_type": "stream",
     "text": [
      "/home/zixiao/Documents/III/project/env/lib/python3.10/site-packages/anesthetic/labelled_pandas.py:22: UserWarning: Boolean Series key will be reindexed to match DataFrame index.\n",
      "  results.append((f(*args), l))\n"
     ]
    },
    {
     "name": "stdout",
     "output_type": "stream",
     "text": [
      "2 attempts\n",
      "2 attempts\n",
      "2 attempts\n",
      "2 attempts\n",
      "Iteration 26342 complete, 18 samples\n"
     ]
    },
    {
     "name": "stderr",
     "output_type": "stream",
     "text": [
      "/home/zixiao/Documents/III/project/env/lib/python3.10/site-packages/anesthetic/labelled_pandas.py:22: UserWarning: Boolean Series key will be reindexed to match DataFrame index.\n",
      "  results.append((f(*args), l))\n"
     ]
    },
    {
     "name": "stdout",
     "output_type": "stream",
     "text": [
      "2 attempts\n",
      "2 attempts\n",
      "2 attempts\n",
      "10 attempts\n",
      "2 attempts\n",
      "2 attempts\n",
      "2 attempts\n",
      "2 attempts\n",
      "2 attempts\n",
      "2 attempts\n",
      "2 attempts\n",
      "2 attempts\n",
      "2 attempts\n",
      "2 attempts\n",
      "7 attempts\n",
      "4 attempts\n",
      "2 attempts\n",
      "8 attempts\n",
      "2 attempts\n",
      "2 attempts\n",
      "2 attempts\n",
      "4 attempts\n",
      "2 attempts\n",
      "Iteration 29974 complete, 20 samples\n"
     ]
    },
    {
     "name": "stderr",
     "output_type": "stream",
     "text": [
      "/home/zixiao/Documents/III/project/env/lib/python3.10/site-packages/anesthetic/labelled_pandas.py:22: UserWarning: Boolean Series key will be reindexed to match DataFrame index.\n",
      "  results.append((f(*args), l))\n"
     ]
    },
    {
     "name": "stdout",
     "output_type": "stream",
     "text": [
      "2 attempts\n",
      "2 attempts\n",
      "2 attempts\n",
      "15 attempts\n",
      "2 attempts\n",
      "2 attempts\n",
      "16 attempts\n",
      "19 attempts\n",
      "2 attempts\n",
      "5 attempts\n",
      "2 attempts\n",
      "2 attempts\n",
      "2 attempts\n",
      "2 attempts\n",
      "2 attempts\n",
      "19 attempts\n",
      "Iteration 33606 complete, 23 samples\n"
     ]
    },
    {
     "name": "stderr",
     "output_type": "stream",
     "text": [
      "/home/zixiao/Documents/III/project/env/lib/python3.10/site-packages/anesthetic/labelled_pandas.py:22: UserWarning: Boolean Series key will be reindexed to match DataFrame index.\n",
      "  results.append((f(*args), l))\n"
     ]
    },
    {
     "name": "stdout",
     "output_type": "stream",
     "text": [
      "5 attempts\n",
      "Iteration 37238 complete, 17 samples\n"
     ]
    },
    {
     "name": "stderr",
     "output_type": "stream",
     "text": [
      "/home/zixiao/Documents/III/project/env/lib/python3.10/site-packages/anesthetic/labelled_pandas.py:22: UserWarning: Boolean Series key will be reindexed to match DataFrame index.\n",
      "  results.append((f(*args), l))\n"
     ]
    },
    {
     "name": "stdout",
     "output_type": "stream",
     "text": [
      "4 attempts\n",
      "3 attempts\n",
      "2 attempts\n",
      "7 attempts\n",
      "3 attempts\n",
      "2 attempts\n",
      "2 attempts\n",
      "Iteration 40870 complete, 16 samples\n"
     ]
    },
    {
     "name": "stderr",
     "output_type": "stream",
     "text": [
      "/home/zixiao/Documents/III/project/env/lib/python3.10/site-packages/anesthetic/labelled_pandas.py:22: UserWarning: Boolean Series key will be reindexed to match DataFrame index.\n",
      "  results.append((f(*args), l))\n"
     ]
    },
    {
     "name": "stdout",
     "output_type": "stream",
     "text": [
      "23 attempts\n",
      "22 attempts\n",
      "27 attempts\n",
      "27 attempts\n",
      "2 attempts\n",
      "2 attempts\n",
      "3 attempts\n",
      "2 attempts\n",
      "6 attempts\n",
      "21 attempts\n",
      "3 attempts\n",
      "2 attempts\n",
      "2 attempts\n",
      "2 attempts\n",
      "2 attempts\n",
      "4 attempts\n",
      "2 attempts\n",
      "7 attempts\n",
      "4 attempts\n",
      "23 attempts\n",
      "2 attempts\n",
      "2 attempts\n",
      "2 attempts\n",
      "2 attempts\n",
      "Iteration 44503 complete, 19 samples\n"
     ]
    },
    {
     "name": "stderr",
     "output_type": "stream",
     "text": [
      "/home/zixiao/Documents/III/project/env/lib/python3.10/site-packages/anesthetic/labelled_pandas.py:22: UserWarning: Boolean Series key will be reindexed to match DataFrame index.\n",
      "  results.append((f(*args), l))\n"
     ]
    },
    {
     "name": "stdout",
     "output_type": "stream",
     "text": [
      "4 attempts\n",
      "22 attempts\n",
      "Iteration 48135 complete, 19 samples\n"
     ]
    },
    {
     "name": "stderr",
     "output_type": "stream",
     "text": [
      "/home/zixiao/Documents/III/project/env/lib/python3.10/site-packages/anesthetic/labelled_pandas.py:22: UserWarning: Boolean Series key will be reindexed to match DataFrame index.\n",
      "  results.append((f(*args), l))\n"
     ]
    },
    {
     "name": "stdout",
     "output_type": "stream",
     "text": [
      "3 attempts\n",
      "25 attempts\n",
      "Iteration 51767 complete, 18 samples\n"
     ]
    },
    {
     "name": "stderr",
     "output_type": "stream",
     "text": [
      "/home/zixiao/Documents/III/project/env/lib/python3.10/site-packages/anesthetic/labelled_pandas.py:22: UserWarning: Boolean Series key will be reindexed to match DataFrame index.\n",
      "  results.append((f(*args), l))\n"
     ]
    },
    {
     "name": "stdout",
     "output_type": "stream",
     "text": [
      "4 attempts\n",
      "2 attempts\n",
      "2 attempts\n",
      "3 attempts\n",
      "3 attempts\n",
      "3 attempts\n",
      "4 attempts\n",
      "4 attempts\n",
      "Iteration 55399 complete, 22 samples\n"
     ]
    },
    {
     "name": "stderr",
     "output_type": "stream",
     "text": [
      "/home/zixiao/Documents/III/project/env/lib/python3.10/site-packages/anesthetic/labelled_pandas.py:22: UserWarning: Boolean Series key will be reindexed to match DataFrame index.\n",
      "  results.append((f(*args), l))\n"
     ]
    },
    {
     "name": "stdout",
     "output_type": "stream",
     "text": [
      "2 attempts\n",
      "3 attempts\n",
      "11 attempts\n",
      "13 attempts\n",
      "2 attempts\n",
      "2 attempts\n",
      "4 attempts\n",
      "2 attempts\n",
      "2 attempts\n",
      "2 attempts\n",
      "10 attempts\n",
      "10 attempts\n",
      "2 attempts\n",
      "3 attempts\n",
      "2 attempts\n",
      "3 attempts\n",
      "4 attempts\n",
      "4 attempts\n",
      "Iteration 59031 complete, 18 samples\n"
     ]
    },
    {
     "name": "stderr",
     "output_type": "stream",
     "text": [
      "/home/zixiao/Documents/III/project/env/lib/python3.10/site-packages/anesthetic/labelled_pandas.py:22: UserWarning: Boolean Series key will be reindexed to match DataFrame index.\n",
      "  results.append((f(*args), l))\n",
      "/home/zixiao/Documents/III/project/env/lib/python3.10/site-packages/scipy/special/_logsumexp.py:111: RuntimeWarning: overflow encountered in exp\n",
      "  tmp = np.exp(a - a_max)\n",
      "/home/zixiao/Documents/III/project/aeons/aeons/utils.py:116: RuntimeWarning: invalid value encountered in scalar divide\n",
      "  xf_reg = gammaincinv(d/2, np.exp(logend)/gamma(d/2))\n"
     ]
    },
    {
     "name": "stdout",
     "output_type": "stream",
     "text": [
      "2 attempts\n",
      "2 attempts\n",
      "4 attempts\n",
      "2 attempts\n",
      "2 attempts\n",
      "2 attempts\n",
      "2 attempts\n",
      "2 attempts\n",
      "2 attempts\n",
      "2 attempts\n",
      "2 attempts\n",
      "4 attempts\n",
      "2 attempts\n",
      "Iteration 62663 complete, 20 samples\n"
     ]
    },
    {
     "name": "stderr",
     "output_type": "stream",
     "text": [
      "/home/zixiao/Documents/III/project/env/lib/python3.10/site-packages/anesthetic/labelled_pandas.py:22: UserWarning: Boolean Series key will be reindexed to match DataFrame index.\n",
      "  results.append((f(*args), l))\n"
     ]
    },
    {
     "name": "stdout",
     "output_type": "stream",
     "text": [
      "2 attempts\n",
      "2 attempts\n",
      "2 attempts\n",
      "2 attempts\n",
      "2 attempts\n",
      "3 attempts\n",
      "2 attempts\n",
      "2 attempts\n",
      "2 attempts\n",
      "2 attempts\n",
      "2 attempts\n",
      "2 attempts\n",
      "2 attempts\n",
      "2 attempts\n",
      "2 attempts\n",
      "2 attempts\n",
      "2 attempts\n",
      "2 attempts\n",
      "2 attempts\n",
      "2 attempts\n",
      "2 attempts\n",
      "2 attempts\n",
      "2 attempts\n",
      "Iteration 66295 complete, 20 samples\n"
     ]
    },
    {
     "name": "stderr",
     "output_type": "stream",
     "text": [
      "/home/zixiao/Documents/III/project/env/lib/python3.10/site-packages/anesthetic/labelled_pandas.py:22: UserWarning: Boolean Series key will be reindexed to match DataFrame index.\n",
      "  results.append((f(*args), l))\n"
     ]
    },
    {
     "name": "stdout",
     "output_type": "stream",
     "text": [
      "13 attempts\n",
      "11 attempts\n",
      "13 attempts\n",
      "12 attempts\n",
      "23 attempts\n",
      "24 attempts\n",
      "13 attempts\n",
      "12 attempts\n",
      "21 attempts\n",
      "25 attempts\n",
      "12 attempts\n",
      "10 attempts\n",
      "21 attempts\n",
      "22 attempts\n",
      "19 attempts\n"
     ]
    },
    {
     "name": "stderr",
     "output_type": "stream",
     "text": [
      "/home/zixiao/Documents/III/project/aeons/aeons/utils.py:116: RuntimeWarning: invalid value encountered in scalar divide\n",
      "  xf_reg = gammaincinv(d/2, np.exp(logend)/gamma(d/2))\n"
     ]
    },
    {
     "name": "stdout",
     "output_type": "stream",
     "text": [
      "12 attempts\n",
      "19 attempts\n",
      "28 attempts\n",
      "25 attempts\n",
      "21 attempts\n",
      "21 attempts\n",
      "18 attempts\n",
      "Iteration 69928 complete, 21 samples\n"
     ]
    },
    {
     "name": "stderr",
     "output_type": "stream",
     "text": [
      "/home/zixiao/Documents/III/project/env/lib/python3.10/site-packages/scipy/special/_logsumexp.py:111: RuntimeWarning: overflow encountered in exp\n",
      "  tmp = np.exp(a - a_max)\n",
      "/home/zixiao/Documents/III/project/env/lib/python3.10/site-packages/anesthetic/labelled_pandas.py:22: UserWarning: Boolean Series key will be reindexed to match DataFrame index.\n",
      "  results.append((f(*args), l))\n"
     ]
    },
    {
     "name": "stdout",
     "output_type": "stream",
     "text": [
      "3 attempts\n",
      "4 attempts\n",
      "3 attempts\n",
      "2 attempts\n",
      "4 attempts\n",
      "5 attempts\n",
      "4 attempts\n",
      "4 attempts\n",
      "5 attempts\n",
      "6 attempts\n",
      "4 attempts\n",
      "3 attempts\n",
      "4 attempts\n",
      "4 attempts\n",
      "Iteration 73560 complete, 21 samples\n"
     ]
    },
    {
     "name": "stderr",
     "output_type": "stream",
     "text": [
      "/home/zixiao/Documents/III/project/env/lib/python3.10/site-packages/anesthetic/labelled_pandas.py:22: UserWarning: Boolean Series key will be reindexed to match DataFrame index.\n",
      "  results.append((f(*args), l))\n"
     ]
    },
    {
     "name": "stdout",
     "output_type": "stream",
     "text": [
      "5 attempts\n",
      "Iteration 77192 complete, 21 samples\n"
     ]
    },
    {
     "name": "stderr",
     "output_type": "stream",
     "text": [
      "/home/zixiao/Documents/III/project/env/lib/python3.10/site-packages/anesthetic/labelled_pandas.py:22: UserWarning: Boolean Series key will be reindexed to match DataFrame index.\n",
      "  results.append((f(*args), l))\n"
     ]
    },
    {
     "name": "stdout",
     "output_type": "stream",
     "text": [
      "Iteration 80824 complete, 20 samples\n"
     ]
    },
    {
     "name": "stderr",
     "output_type": "stream",
     "text": [
      "/home/zixiao/Documents/III/project/env/lib/python3.10/site-packages/anesthetic/labelled_pandas.py:22: UserWarning: Boolean Series key will be reindexed to match DataFrame index.\n",
      "  results.append((f(*args), l))\n"
     ]
    },
    {
     "name": "stdout",
     "output_type": "stream",
     "text": [
      "2 attempts\n",
      "13 attempts\n",
      "Iteration 84456 complete, 21 samples\n"
     ]
    },
    {
     "name": "stderr",
     "output_type": "stream",
     "text": [
      "/home/zixiao/Documents/III/project/env/lib/python3.10/site-packages/anesthetic/labelled_pandas.py:22: UserWarning: Boolean Series key will be reindexed to match DataFrame index.\n",
      "  results.append((f(*args), l))\n"
     ]
    },
    {
     "name": "stdout",
     "output_type": "stream",
     "text": [
      "2 attempts\n",
      "2 attempts\n",
      "Iteration 88088 complete, 16 samples\n"
     ]
    }
   ],
   "source": [
    "root = \"toy\"\n",
    "for chain in [\"gauss_30_01\", \"cauchy_10_0001\", \"planck_gaussian\", \"gp\"]:\n",
    "    name, samples = get_samples(root, chain)\n",
    "    model = EndModel(samples)\n",
    "    true_endpoint = model.true_endpoint()\n",
    "    iterations = np.linspace(0.01*true_endpoint, true_endpoint, 25, endpoint=False).astype(int)\n",
    "    logXfs, logXfs_std = model.logXfs(theta_bandwidth_trunc, iterations, Nset=25, trunc=15, splits=[1])\n",
    "    write_to_txt(f'toy/nos/{chain}_bt_25_nos.txt', [iterations, logXfs, logXfs_std, true_endpoint])"
   ]
  }
 ],
 "metadata": {
  "kernelspec": {
   "display_name": "env",
   "language": "python",
   "name": "python3"
  },
  "language_info": {
   "codemirror_mode": {
    "name": "ipython",
    "version": 3
   },
   "file_extension": ".py",
   "mimetype": "text/x-python",
   "name": "python",
   "nbconvert_exporter": "python",
   "pygments_lexer": "ipython3",
   "version": "3.10.6"
  },
  "orig_nbformat": 4
 },
 "nbformat": 4,
 "nbformat_minor": 2
}
