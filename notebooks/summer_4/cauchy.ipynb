{
 "cells": [
  {
   "cell_type": "code",
   "execution_count": 4,
   "metadata": {},
   "outputs": [],
   "source": [
    "import numpy as np\n",
    "import matplotlib.pyplot as plt\n",
    "\n",
    "from aeons.utils import *\n",
    "from aeons.endpoint import EndModel, theta_basic, theta_bandwidth, theta_bandwidth_trunc\n",
    "from aeons.plotting import *\n",
    "from aeons.regress import *\n",
    "from theta_samples import call_polychord"
   ]
  },
  {
   "cell_type": "code",
   "execution_count": 5,
   "metadata": {},
   "outputs": [],
   "source": [
    "# Set default matplotlib figure size to be (4,2)\n",
    "plt.rcParams['figure.figsize'] = (4,2)"
   ]
  },
  {
   "cell_type": "code",
   "execution_count": 2,
   "metadata": {},
   "outputs": [],
   "source": [
    "class Regress:\n",
    "    def __init__(self, logL, X):\n",
    "        self.logL = np.array(logL)\n",
    "        self.X = np.array(X)\n",
    "        self.N = len(logL)\n",
    "        \n",
    "    def theta(self, minimiser, x0):\n",
    "        return minimiser(self.logL, self.X, x0)\n",
    "    \n",
    "    def L_sq(self, theta):\n",
    "        loss = self.logL - full.func(self.X, theta)\n",
    "        return np.sum(loss**2)\n",
    "    \n",
    "    def s(self, theta):\n",
    "        return np.sqrt(self.L_sq(theta)/self.N)\n",
    "    \n",
    "    def logPr(self, theta):\n",
    "        L_sq = self.L_sq(theta)\n",
    "        s = np.sqrt(L_sq/self.N)\n",
    "        return -1/2 * self.N * np.log(2*np.pi*s**2) - L_sq/(2*s**2)\n",
    "    \n",
    "    def logZ(self, theta_max=None, details=False):\n",
    "        logPr_max = self.logPr(theta_max)\n",
    "        H = self.hess(theta_max)\n",
    "        D = len(theta_max) + 1\n",
    "        return logZ_formula(logPr_max, H, D, details)\n",
    "    \n",
    "    def hess(self, theta_max=None):\n",
    "        import torch\n",
    "        from torch.autograd.functional import hessian\n",
    "        s = self.s(theta_max)\n",
    "        logL = torch.from_numpy(self.logL)\n",
    "        mean = torch.from_numpy(self.X)\n",
    "        theta_s_max = torch.tensor([*theta_max, s], requires_grad=True)\n",
    "        def func(theta_s):\n",
    "            *theta, s = theta_s\n",
    "            loss = logL - full.func(mean, theta, torched=True)\n",
    "            L_sq = torch.sum(loss**2)\n",
    "            return -1/2 * self.N * torch.log(2*torch.pi*s**2) - L_sq/(2*s**2)\n",
    "        H = hessian(func, theta_s_max)\n",
    "        return np.array(H)\n",
    "    \n",
    "    def covtheta(self, theta_max=None):\n",
    "        \"\"\"Redefine to exclude rows/columns with covariance of s\"\"\"\n",
    "        Dtheta = len(theta_max)\n",
    "        H = self.hess(theta_max)\n",
    "        return np.linalg.inv(-H[:Dtheta, :Dtheta])"
   ]
  },
  {
   "cell_type": "markdown",
   "metadata": {},
   "source": [
    "Likelihood model:\n",
    "\n",
    "$$ \\log f_c(X, \\theta) = \\log L_\\mathrm{max} - \\frac{1+d}{2} \\log \\left(1 + \\frac{X^{2/d}}{\\gamma^2}\\right) $$\n",
    "\n",
    "$$ C^2(\\theta) = \\sum_i \\left[ \\log L_i - \\log L_\\mathrm{max} + \\frac{1+d}{2} \\log \\left(1 + \\frac{X^{2/d}}{\\gamma^2}\\right) \\right]^2 $$\n",
    "\n",
    "Differentiate w.r.t. $\\log L_\\mathrm{max}$\n",
    "\n",
    "$$ 2 \\sum_i \\left[ \\log L_i - \\log L_\\mathrm{max} + \\frac{1+d}{2} \\log \\left(1 + \\frac{X^{2/d}}{\\gamma^2}\\right) \\right] = 0 $$\n",
    "\n",
    "$$ \\log L_\\mathrm{max} = \\frac{1}{N} \\sum_i \\left[ \\log L_i + \\frac{1+d}{2} \\log \\left(1 + \\frac{X^{2/d}}{\\gamma^2}\\right) \\right]$$\n",
    "\n",
    "So if we optimise w.r.t. $d$ and $\\gamma$, we can get $\\log L_\\mathrm{max}$ for free.\n",
    "\n",
    "Need to choose how we define $\\gamma$ carefully for optimization"
   ]
  },
  {
   "cell_type": "code",
   "execution_count": 6,
   "metadata": {},
   "outputs": [],
   "source": [
    "# Functions for cauchy regression\n",
    "def logcauchy(X, theta, torched=False):\n",
    "    logLmax, c, gamma = theta\n",
    "    if torched:\n",
    "        import torch\n",
    "        return logLmax - (1 + c)/2 * torch.log( 1 + X**(2/c)/(gamma**2) )\n",
    "    return logLmax - (1 + c)/2 * np.log( 1 + X**(2/c)/gamma**2 )\n",
    "\n",
    "def logLmax_cauchy(logLi, Xi, c, gamma):\n",
    "    N = len(logLi)\n",
    "    summand = logLi + (1 + c)/2 * np.log( 1 + Xi**(2/c)/gamma**2 )\n",
    "    return np.sum(summand)/N\n",
    "\n",
    "# Direct method\n",
    "def minimise_cauchy(logL, X, x0):\n",
    "    Xd = X/X[0]\n",
    "    def func(theta):\n",
    "        return np.sum((logL - logcauchy(Xd, theta))**2)\n",
    "    from scipy.optimize import minimize\n",
    "    theta = minimize(func, x0, bounds=((None, None), (0, np.inf), (0, np.inf))).x\n",
    "    theta[2] *= X[0]\n",
    "    return theta\n",
    "\n",
    "# Analytic method\n",
    "def minimise_cauchy_analytic(logL, X, x0):\n",
    "    def func(theta):\n",
    "        c, gamma = theta\n",
    "        logLmax = logLmax_cauchy(logL, X, c, gamma)\n",
    "        return np.sum((logL - logcauchy(X, [logLmax, c, gamma]))**2)\n",
    "    from scipy.optimize import minimize\n",
    "    theta = minimize(func, x0, bounds=((0, np.inf), (0, np.inf))).x\n",
    "    logLmax = logLmax_cauchy(logL, X, *theta)\n",
    "    theta = np.array([logLmax, *theta])\n",
    "    return theta\n",
    "\n",
    "def minimise_brute(logLlive, Xlive, cs=None, gammas=None):\n",
    "    if cs is None:\n",
    "        cs = np.exp(np.linspace(-10, 5, 200))\n",
    "    if gammas is None:\n",
    "        gammas = np.exp(np.linspace(-40, -2, 200))\n",
    "    # Calculate loss for each c, gamma\n",
    "    loss = np.zeros((len(cs), len(gammas)))\n",
    "    for i, c in enumerate(cs):\n",
    "        for j, gamma in enumerate(gammas):\n",
    "            logLmax = logLmax_cauchy(logLlive, Xlive, c, gamma)\n",
    "            loss[i, j] = np.sum((logLlive - logcauchy(Xlive, [logLmax, c, gamma]))**2)\n",
    "        # Print i every 20% of the way\n",
    "        if i % (len(cs)//5) == 0:\n",
    "            print(f\"{i/len(cs)*100:.0f}%\", end='| ')\n",
    "    return loss, cs, gammas\n",
    "\n",
    "from scipy.optimize import shgo\n",
    "def minimise_cauchy_shgo(logL, X, **kwargs):\n",
    "    def func(theta):\n",
    "        c, gamma = theta\n",
    "        logLmax = logLmax_cauchy(logL, X, c, gamma)\n",
    "        return np.sum((logL - logcauchy(X, [logLmax, c, gamma]))**2)\n",
    "    bounds = kwargs.pop('bounds', ((0, 1e3), (0, 10)))\n",
    "    return shgo(func, bounds, **kwargs)\n",
    "\n",
    "def cauchy_logXf(theta, logZdead, logX0):\n",
    "    # Do likelihood prediction with theta\n",
    "    logX_pred = np.linspace(logX0, -200, 2000)\n",
    "    X_pred = np.exp(logX_pred)\n",
    "    logL_pred = logcauchy(X_pred, theta)\n",
    "    dlogX = abs(np.diff(logX_pred)[0])\n",
    "    logsummands_pred = logL_pred + logX_pred + np.log(dlogX)\n",
    "    logZ_deads_pred = np.logaddexp(logZdead, np.logaddexp.accumulate(logsummands_pred))\n",
    "    logZ_tot_pred = logZ_deads_pred[-1]\n",
    "    log_differences = logZ_deads_pred - logZ_tot_pred\n",
    "    logZ_fracs_pred = np.log(1 - np.exp(log_differences), where=log_differences != 0)\n",
    "    return logX_pred[np.argmin(np.abs(logZ_fracs_pred - np.log(1e-3)))]"
   ]
  },
  {
   "cell_type": "markdown",
   "metadata": {},
   "source": [
    "### Regression"
   ]
  },
  {
   "cell_type": "markdown",
   "metadata": {},
   "source": [
    "#### Regression method"
   ]
  },
  {
   "cell_type": "markdown",
   "metadata": {},
   "source": [
    "#### Get data"
   ]
  },
  {
   "cell_type": "code",
   "execution_count": 64,
   "metadata": {},
   "outputs": [],
   "source": [
    "name, samples = get_samples(\"toy\", \"cauchy_10_0001\")\n",
    "model = EndModel(samples)\n",
    "true_endpoint = model.true_endpoint()\n",
    "true_logXf = samples.logX().iloc[true_endpoint]\n",
    "theta_true = [0, 10, 1e-4]"
   ]
  },
  {
   "cell_type": "code",
   "execution_count": 186,
   "metadata": {},
   "outputs": [
    {
     "name": "stderr",
     "output_type": "stream",
     "text": [
      "/home/zixiao/Documents/III/project/env/lib/python3.10/site-packages/anesthetic/labelled_pandas.py:22: UserWarning: Boolean Series key will be reindexed to match DataFrame index.\n",
      "  results.append((f(*args), l))\n"
     ]
    }
   ],
   "source": [
    "ndead = 30000\n",
    "logLall, Xall, nk, logZdead = model.data(ndead, live=False)\n",
    "logLall, Xall = np.array(logLall), np.array(Xall)\n",
    "Xd = generate_Xs(nk)\n",
    "\n",
    "window = np.arange(ndead - 5000, len(logLall))\n",
    "logLd, Xd = logLall[window], Xall[window]"
   ]
  },
  {
   "cell_type": "code",
   "execution_count": 187,
   "metadata": {},
   "outputs": [
    {
     "name": "stdout",
     "output_type": "stream",
     "text": [
      "0%| 20%| 40%| 60%| 80%| "
     ]
    },
    {
     "data": {
      "text/plain": [
       "[219.23575259663875, 7.848335786018558, 1.5991979006008278e-16]"
      ]
     },
     "execution_count": 187,
     "metadata": {},
     "output_type": "execute_result"
    }
   ],
   "source": [
    "loss, cs, gammas = minimise_brute(logLd, Xd)\n",
    "# Replace nan with inf in loss\n",
    "loss[np.isnan(loss)] = np.inf\n",
    "i, j = np.unravel_index(np.argmin(loss), loss.shape)\n",
    "theta = [logLmax_cauchy(logLd, Xd, cs[i], gammas[j]), cs[i], gammas[j]]\n",
    "theta"
   ]
  },
  {
   "cell_type": "markdown",
   "metadata": {},
   "source": [
    "#### Sensitivity checks"
   ]
  },
  {
   "cell_type": "code",
   "execution_count": 209,
   "metadata": {},
   "outputs": [
    {
     "name": "stderr",
     "output_type": "stream",
     "text": [
      "/tmp/ipykernel_910694/1131051395.py:61: RuntimeWarning: divide by zero encountered in log\n",
      "  logZ_fracs_pred = np.log(1 - np.exp(logZ_deads_pred - logZ_tot_pred))\n"
     ]
    },
    {
     "name": "stdout",
     "output_type": "stream",
     "text": [
      "0%| 20%| 40%| 60%| 80%| -199.8999499749875\n"
     ]
    },
    {
     "data": {
      "image/png": "[encoded data removed]",
      "text/plain": [
       "<Figure size 800x200 with 2 Axes>"
      ]
     },
     "metadata": {},
     "output_type": "display_data"
    }
   ],
   "source": [
    "c = theta[1]\n",
    "gammas = np.exp(np.linspace(-40, -10, 200))\n",
    "# Calculate loss for each gamma\n",
    "loss = np.zeros_like(gammas)\n",
    "logXfs = np.zeros_like(gammas)\n",
    "for i, gamma in enumerate(gammas):\n",
    "    logLmax = logLmax_cauchy(logLd, Xd, c, gamma)\n",
    "    loss[i] = np.sum((logLd - logcauchy(Xd, [logLmax, c, gamma]))**2)\n",
    "    logXfs[i] = cauchy_logXf([logLmax, c, gamma], logZdead, Xd[0])\n",
    "    # Print i every 20% of the way\n",
    "    if i % (len(gammas)//5) == 0:\n",
    "        print(f\"{i/len(gammas)*100:.0f}%\", end='| ')\n",
    "# Plot loss and logXfs for each gamma on logscale\n",
    "fig, ax = plt.subplots(1, 2, figsize=(8, 2))\n",
    "ax[0].plot(gammas, loss)\n",
    "ax[0].set_xlabel(r\"$\\gamma$\")\n",
    "ax[0].set_ylabel(\"loss\")\n",
    "ax[0].set_xscale(\"log\")\n",
    "ax[1].plot(gammas, logXfs)\n",
    "ax[1].set_xlabel(r\"$\\gamma$\")\n",
    "ax[1].set_ylabel(r\"$\\log X_f$\")\n",
    "ax[1].set_xscale(\"log\")\n",
    "print(logXfs[np.argmin(loss)])\n",
    "plt.tight_layout()"
   ]
  },
  {
   "cell_type": "code",
   "execution_count": 202,
   "metadata": {},
   "outputs": [
    {
     "data": {
      "text/plain": [
       "Text(0.5, 1.0, 'loss=44.96')"
      ]
     },
     "execution_count": 202,
     "metadata": {},
     "output_type": "execute_result"
    },
    {
     "data": {
      "image/png": "[encoded data removed]",
      "text/plain": [
       "<Figure size 400x200 with 1 Axes>"
      ]
     },
     "metadata": {},
     "output_type": "display_data"
    }
   ],
   "source": [
    "c, gamma = theta[1], 1e-5\n",
    "logLmax = logLmax_cauchy(logLd, Xd, c, gamma)\n",
    "plt.plot(Xd, logLd, 'k.', ms=1)\n",
    "plt.plot(Xd, logcauchy(Xd, [logLmax, c, gamma]), lw=2)\n",
    "plt.title(f\"loss={np.sum((logLd - logcauchy(Xd, [logLmax, c, gamma]))**2):.2f}\")"
   ]
  },
  {
   "cell_type": "code",
   "execution_count": 184,
   "metadata": {},
   "outputs": [
    {
     "name": "stderr",
     "output_type": "stream",
     "text": [
      "/tmp/ipykernel_910694/1131051395.py:61: RuntimeWarning: divide by zero encountered in log\n",
      "  logZ_fracs_pred = np.log(1 - np.exp(logZ_deads_pred - logZ_tot_pred))\n"
     ]
    },
    {
     "data": {
      "text/plain": [
       "-152.97648824412204"
      ]
     },
     "execution_count": 184,
     "metadata": {},
     "output_type": "execute_result"
    },
    {
     "data": {
      "image/png": "[encoded data removed]",
      "text/plain": [
       "<Figure size 800x300 with 2 Axes>"
      ]
     },
     "metadata": {},
     "output_type": "display_data"
    }
   ],
   "source": [
    "# Plot loss and logXf as a function of c\n",
    "gamma = 1e-8\n",
    "cs = np.exp(np.linspace(1.2, 3, 200))\n",
    "loss = np.zeros_like(cs)\n",
    "logXfs = np.zeros_like(cs)\n",
    "for i, c in enumerate(cs):\n",
    "    logLmax = logLmax_cauchy(logLd, Xd, c, gamma)\n",
    "    loss[i] = np.sum((logLd - logcauchy(Xd, [logLmax, c, gamma]))**2)\n",
    "    logXfs[i] = cauchy_logXf([logLmax, c, gamma], logZdead, Xd[0])\n",
    "\n",
    "# Plot loss and logXf as a function of c\n",
    "fig, axes = plt.subplots(1, 2, figsize=(8,3))\n",
    "axes[0].plot(cs, loss)\n",
    "axes[0].set_xlabel(r\"$c$\")\n",
    "axes[0].set_ylabel(r\"$L^2$\")\n",
    "axes[1].plot(cs, logXfs)\n",
    "axes[1].set_xlabel(r\"$c$\")\n",
    "axes[1].set_ylabel(r\"$\\log X_f$\")\n",
    "fig.tight_layout()\n",
    "logXfs[np.argmin(loss)]"
   ]
  },
  {
   "cell_type": "code",
   "execution_count": 145,
   "metadata": {},
   "outputs": [
    {
     "data": {
      "text/plain": [
       "Text(0.5, 1.0, '[0e+00, 10, 1e-04] loss=231.59')"
      ]
     },
     "execution_count": 145,
     "metadata": {},
     "output_type": "execute_result"
    },
    {
     "data": {
      "image/png": "[encoded data removed]",
      "text/plain": [
       "<Figure size 800x200 with 2 Axes>"
      ]
     },
     "metadata": {},
     "output_type": "display_data"
    }
   ],
   "source": [
    "# Plot theta and theta_true on two subplots\n",
    "fig, (ax1, ax2) = plt.subplots(1, 2, figsize=(8, 2))\n",
    "ax1.plot(Xd, logLd, 'x', ms=2)\n",
    "ax1.plot(Xd, logcauchy(Xd, theta))\n",
    "ax1.set_title(formatt(theta, 1) + f' loss={np.sum((logLd - logcauchy(Xd, theta))**2):.2f}')\n",
    "ax2.plot(Xd, logLd, 'x', ms=2)\n",
    "ax2.plot(Xd, logcauchy(Xd, theta_true))\n",
    "ax2.set_title(formatt(theta_true, 0) + f' loss={np.sum((logLd - logcauchy(Xd, theta_true))**2):.2f}')"
   ]
  },
  {
   "cell_type": "markdown",
   "metadata": {},
   "source": [
    "#### Predictions as a Higson plot"
   ]
  },
  {
   "cell_type": "code",
   "execution_count": 152,
   "metadata": {},
   "outputs": [
    {
     "name": "stderr",
     "output_type": "stream",
     "text": [
      "/tmp/ipykernel_910694/1131051395.py:61: RuntimeWarning: divide by zero encountered in log\n",
      "  logZ_fracs_pred = np.log(1 - np.exp(logZ_deads_pred - logZ_tot_pred))\n"
     ]
    },
    {
     "data": {
      "text/plain": [
       "-174.3565778123866"
      ]
     },
     "execution_count": 152,
     "metadata": {},
     "output_type": "execute_result"
    },
    {
     "data": {
      "image/png": "[encoded data removed]",
      "text/plain": [
       "<Figure size 400x200 with 2 Axes>"
      ]
     },
     "metadata": {},
     "output_type": "display_data"
    }
   ],
   "source": [
    "logX = np.linspace(-200, 1, 1000)\n",
    "Xd = np.exp(logX)\n",
    "theta_true = [0, 10, 1e-4]\n",
    "logX_pred = logX[logX < np.log(Xall[ndead])]\n",
    "logX_known = logX[logX > np.log(Xall[ndead])]\n",
    "X_pred, X_known = np.exp(logX_pred), np.exp(logX_known)\n",
    "\n",
    "logL = logcauchy(Xd, theta_true)\n",
    "logL_known = logcauchy(X_known, theta_true)\n",
    "logL_pred = logcauchy(X_pred, theta)\n",
    "logL_pred = np.concatenate([logL_pred, logL_known])\n",
    "L = np.exp(logL - logL.max())\n",
    "LX = L*Xd\n",
    "L_pred = np.exp(logL_pred - logL_pred.max())\n",
    "LX_pred = L_pred*Xd\n",
    "\n",
    "# Above plot but using plt.Subplot\n",
    "fig, ax = plt.subplots(figsize=(4,2))\n",
    "ax1 = plt.twinx(ax)\n",
    "\n",
    "ax.plot(logX, L, color='navy')\n",
    "ax1.plot(logX, LX/LX.max(), color='navy')\n",
    "\n",
    "ax.plot(logX_pred, L_pred[logX < np.log(Xall[ndead])], color='orange', lw=1, ls='--')\n",
    "ax1.plot(logX_pred, (LX_pred/LX_pred.max())[logX < np.log(Xall[ndead])], lw=1, color='orange', ls='--')\n",
    "ax1.axvspan(np.log(Xall[ndead]), np.log(Xall[-1]), color='grey', alpha=0.2)\n",
    "cauchy_logXf(theta, logZdead, np.log(Xall[ndead]))"
   ]
  },
  {
   "cell_type": "code",
   "execution_count": 19,
   "metadata": {},
   "outputs": [
    {
     "name": "stderr",
     "output_type": "stream",
     "text": [
      "/home/zixiao/Documents/III/project/env/lib/python3.10/site-packages/anesthetic/labelled_pandas.py:22: UserWarning: Boolean Series key will be reindexed to match DataFrame index.\n",
      "  results.append((f(*args), l))\n",
      "/tmp/ipykernel_910694/2363609805.py:62: RuntimeWarning: divide by zero encountered in log\n",
      "  logZ_fracs_pred = np.log(1 - np.exp(logZ_deads_pred - logZ_tot_pred))\n"
     ]
    },
    {
     "data": {
      "text/plain": [
       "(-95.74477536840402, -95.89613579769184)"
      ]
     },
     "execution_count": 19,
     "metadata": {},
     "output_type": "execute_result"
    }
   ],
   "source": [
    "cauchy_logXf(samples, ndead, theta_true), true_logXf"
   ]
  },
  {
   "cell_type": "markdown",
   "metadata": {},
   "source": [
    "### Making some predictions for a pure Cauchy"
   ]
  },
  {
   "cell_type": "code",
   "execution_count": 18,
   "metadata": {},
   "outputs": [],
   "source": [
    "name, samples = get_samples(\"toy\", \"cauchy_10_0001\")\n",
    "model = EndModel(samples)\n",
    "true_endpoint = model.true_endpoint()\n",
    "true_logXf = samples.logX().iloc[true_endpoint]"
   ]
  },
  {
   "cell_type": "code",
   "execution_count": 19,
   "metadata": {},
   "outputs": [
    {
     "name": "stderr",
     "output_type": "stream",
     "text": [
      "/home/zixiao/Documents/III/project/env/lib/python3.10/site-packages/anesthetic/labelled_pandas.py:22: UserWarning: Boolean Series key will be reindexed to match DataFrame index.\n",
      "  results.append((f(*args), l))\n"
     ]
    }
   ],
   "source": [
    "ndead = 20000\n",
    "logLall, Xall, nk, logZdead = model.data(ndead, live=False)\n",
    "logLall, Xall = np.array(logLall), np.array(Xall)\n",
    "window = np.arange(ndead, len(logLall))\n",
    "logLd, Xd = logLall[window], Xall[window]"
   ]
  },
  {
   "cell_type": "code",
   "execution_count": 11,
   "metadata": {},
   "outputs": [],
   "source": [
    "from anesthetic import read_chains\n",
    "theta_samples = read_chains(\"chains/cauchy_20000\")"
   ]
  },
  {
   "cell_type": "code",
   "execution_count": 14,
   "metadata": {},
   "outputs": [],
   "source": [
    "# Contour plot of c against gamma, gamma on log scale\n",
    "theta_samples['loggamma'] = np.log(theta_samples['gamma'])"
   ]
  },
  {
   "cell_type": "code",
   "execution_count": 22,
   "metadata": {},
   "outputs": [
    {
     "data": {
      "text/html": [
       "<div>\n",
       "<style scoped>\n",
       "    .dataframe tbody tr th:only-of-type {\n",
       "        vertical-align: middle;\n",
       "    }\n",
       "\n",
       "    .dataframe tbody tr th {\n",
       "        vertical-align: top;\n",
       "    }\n",
       "\n",
       "    .dataframe thead th {\n",
       "        text-align: right;\n",
       "    }\n",
       "</style>\n",
       "<table border=\"1\" class=\"dataframe\">\n",
       "  <thead>\n",
       "    <tr style=\"text-align: right;\">\n",
       "      <th></th>\n",
       "      <th>c</th>\n",
       "      <th>loggamma</th>\n",
       "    </tr>\n",
       "  </thead>\n",
       "  <tbody>\n",
       "    <tr>\n",
       "      <th>c</th>\n",
       "      <td>DiagonalAx...</td>\n",
       "      <td>OffDiagona...</td>\n",
       "    </tr>\n",
       "    <tr>\n",
       "      <th>loggamma</th>\n",
       "      <td>OffDiagona...</td>\n",
       "      <td>DiagonalAx...</td>\n",
       "    </tr>\n",
       "  </tbody>\n",
       "</table>\n",
       "</div>"
      ],
      "text/plain": [
       "                      c       loggamma\n",
       "c         DiagonalAx...  OffDiagona...\n",
       "loggamma  OffDiagona...  DiagonalAx..."
      ]
     },
     "execution_count": 22,
     "metadata": {},
     "output_type": "execute_result"
    },
    {
     "data": {
      "image/png": "[encoded data removed]",
      "text/plain": [
       "<Figure size 400x300 with 6 Axes>"
      ]
     },
     "metadata": {},
     "output_type": "display_data"
    }
   ],
   "source": [
    "from anesthetic import make_2d_axes\n",
    "fig, axs = make_2d_axes(['c', 'loggamma'], figsize=(4, 3))\n",
    "theta_samples.plot_2d(axes=axs)"
   ]
  },
  {
   "cell_type": "code",
   "execution_count": 31,
   "metadata": {},
   "outputs": [
    {
     "data": {
      "text/html": [
       "<div>\n",
       "<style scoped>\n",
       "    .dataframe tbody tr th:only-of-type {\n",
       "        vertical-align: middle;\n",
       "    }\n",
       "\n",
       "    .dataframe tbody tr th {\n",
       "        vertical-align: top;\n",
       "    }\n",
       "\n",
       "    .dataframe thead tr th {\n",
       "        text-align: left;\n",
       "    }\n",
       "\n",
       "    .dataframe thead tr:last-of-type th {\n",
       "        text-align: right;\n",
       "    }\n",
       "</style>\n",
       "<table border=\"1\" class=\"dataframe\">\n",
       "  <thead>\n",
       "    <tr>\n",
       "      <th></th>\n",
       "      <th></th>\n",
       "      <th>c</th>\n",
       "      <th>gamma</th>\n",
       "      <th>logL</th>\n",
       "      <th>logL_birth</th>\n",
       "      <th>nlive</th>\n",
       "      <th>loggamma</th>\n",
       "    </tr>\n",
       "    <tr>\n",
       "      <th></th>\n",
       "      <th>labels</th>\n",
       "      <th>$c$</th>\n",
       "      <th>$\\gamma$</th>\n",
       "      <th>$\\ln\\mathcal{L}$</th>\n",
       "      <th>$\\ln\\mathcal{L}_\\mathrm{birth}$</th>\n",
       "      <th>$n_\\mathrm{live}$</th>\n",
       "      <th></th>\n",
       "    </tr>\n",
       "    <tr>\n",
       "      <th></th>\n",
       "      <th>weights</th>\n",
       "      <th></th>\n",
       "      <th></th>\n",
       "      <th></th>\n",
       "      <th></th>\n",
       "      <th></th>\n",
       "      <th></th>\n",
       "    </tr>\n",
       "  </thead>\n",
       "  <tbody>\n",
       "    <tr>\n",
       "      <th>0</th>\n",
       "      <th>0.000000e+00</th>\n",
       "      <td>116.625103</td>\n",
       "      <td>9.755297e-01</td>\n",
       "      <td>-609.998518</td>\n",
       "      <td>-inf</td>\n",
       "      <td>43</td>\n",
       "      <td>-0.024775</td>\n",
       "    </tr>\n",
       "    <tr>\n",
       "      <th>1</th>\n",
       "      <th>1.955191e-191</th>\n",
       "      <td>969.559372</td>\n",
       "      <td>3.776503e-01</td>\n",
       "      <td>-170.941116</td>\n",
       "      <td>-inf</td>\n",
       "      <td>43</td>\n",
       "      <td>-0.973787</td>\n",
       "    </tr>\n",
       "    <tr>\n",
       "      <th>2</th>\n",
       "      <th>9.849591e-112</th>\n",
       "      <td>321.618028</td>\n",
       "      <td>8.702331e-02</td>\n",
       "      <td>12.614082</td>\n",
       "      <td>-inf</td>\n",
       "      <td>43</td>\n",
       "      <td>-2.441579</td>\n",
       "    </tr>\n",
       "    <tr>\n",
       "      <th>3</th>\n",
       "      <th>4.151183e-108</th>\n",
       "      <td>873.800208</td>\n",
       "      <td>4.913076e-02</td>\n",
       "      <td>21.005355</td>\n",
       "      <td>-296.364459</td>\n",
       "      <td>44</td>\n",
       "      <td>-3.013270</td>\n",
       "    </tr>\n",
       "    <tr>\n",
       "      <th>4</th>\n",
       "      <th>1.697825e-106</th>\n",
       "      <td>615.796089</td>\n",
       "      <td>2.713127e-02</td>\n",
       "      <td>24.749881</td>\n",
       "      <td>21.005355</td>\n",
       "      <td>45</td>\n",
       "      <td>-3.607068</td>\n",
       "    </tr>\n",
       "    <tr>\n",
       "      <th>...</th>\n",
       "      <th>...</th>\n",
       "      <td>...</td>\n",
       "      <td>...</td>\n",
       "      <td>...</td>\n",
       "      <td>...</td>\n",
       "      <td>...</td>\n",
       "      <td>...</td>\n",
       "    </tr>\n",
       "    <tr>\n",
       "      <th>623</th>\n",
       "      <th>2.303303e-03</th>\n",
       "      <td>5.145709</td>\n",
       "      <td>2.192688e-10</td>\n",
       "      <td>276.228923</td>\n",
       "      <td>276.228883</td>\n",
       "      <td>5</td>\n",
       "      <td>-22.240723</td>\n",
       "    </tr>\n",
       "    <tr>\n",
       "      <th>624</th>\n",
       "      <th>2.303303e-03</th>\n",
       "      <td>5.145705</td>\n",
       "      <td>9.552953e-14</td>\n",
       "      <td>276.228923</td>\n",
       "      <td>276.228921</td>\n",
       "      <td>4</td>\n",
       "      <td>-29.979341</td>\n",
       "    </tr>\n",
       "    <tr>\n",
       "      <th>625</th>\n",
       "      <th>2.303303e-03</th>\n",
       "      <td>5.145674</td>\n",
       "      <td>2.155034e-20</td>\n",
       "      <td>276.228923</td>\n",
       "      <td>276.228922</td>\n",
       "      <td>3</td>\n",
       "      <td>-45.283895</td>\n",
       "    </tr>\n",
       "    <tr>\n",
       "      <th>626</th>\n",
       "      <th>2.303303e-03</th>\n",
       "      <td>5.145678</td>\n",
       "      <td>5.657695e-16</td>\n",
       "      <td>276.228923</td>\n",
       "      <td>276.228922</td>\n",
       "      <td>2</td>\n",
       "      <td>-35.108345</td>\n",
       "    </tr>\n",
       "    <tr>\n",
       "      <th>627</th>\n",
       "      <th>2.303303e-03</th>\n",
       "      <td>5.145687</td>\n",
       "      <td>1.596974e-11</td>\n",
       "      <td>276.228923</td>\n",
       "      <td>276.228917</td>\n",
       "      <td>1</td>\n",
       "      <td>-24.860325</td>\n",
       "    </tr>\n",
       "  </tbody>\n",
       "</table>\n",
       "<p>628 rows × 6 columns</p>\n",
       "</div>"
      ],
      "text/plain": [
       "                            c         gamma           logL     logL_birth  \\\n",
       "labels                    $c$      $\\gamma$ $\\ln\\mathca... $\\ln\\mathca...   \n",
       "    weights                                                                 \n",
       "0   0.000000e+00   116.625103  9.755297e-01    -609.998518           -inf   \n",
       "1   1.955191e-191  969.559372  3.776503e-01    -170.941116           -inf   \n",
       "2   9.849591e-112  321.618028  8.702331e-02      12.614082           -inf   \n",
       "3   4.151183e-108  873.800208  4.913076e-02      21.005355    -296.364459   \n",
       "4   1.697825e-106  615.796089  2.713127e-02      24.749881      21.005355   \n",
       "...                       ...           ...            ...            ...   \n",
       "623 2.303303e-03     5.145709  2.192688e-10     276.228923     276.228883   \n",
       "624 2.303303e-03     5.145705  9.552953e-14     276.228923     276.228921   \n",
       "625 2.303303e-03     5.145674  2.155034e-20     276.228923     276.228922   \n",
       "626 2.303303e-03     5.145678  5.657695e-16     276.228923     276.228922   \n",
       "627 2.303303e-03     5.145687  1.596974e-11     276.228923     276.228917   \n",
       "\n",
       "                           nlive   loggamma  \n",
       "labels            $n_\\mathrm{...             \n",
       "    weights                                  \n",
       "0   0.000000e+00              43  -0.024775  \n",
       "1   1.955191e-191             43  -0.973787  \n",
       "2   9.849591e-112             43  -2.441579  \n",
       "3   4.151183e-108             44  -3.013270  \n",
       "4   1.697825e-106             45  -3.607068  \n",
       "...                          ...        ...  \n",
       "623 2.303303e-03               5 -22.240723  \n",
       "624 2.303303e-03               4 -29.979341  \n",
       "625 2.303303e-03               3 -45.283895  \n",
       "626 2.303303e-03               2 -35.108345  \n",
       "627 2.303303e-03               1 -24.860325  \n",
       "\n",
       "[628 rows x 6 columns]"
      ]
     },
     "execution_count": 31,
     "metadata": {},
     "output_type": "execute_result"
    }
   ],
   "source": [
    "theta_samples.iloc[::10].recompute()"
   ]
  },
  {
   "cell_type": "code",
   "execution_count": 27,
   "metadata": {},
   "outputs": [
    {
     "data": {
      "text/plain": [
       "269.5065045648075"
      ]
     },
     "execution_count": 27,
     "metadata": {},
     "output_type": "execute_result"
    }
   ],
   "source": [
    "theta_samples.iloc[::50].recompute().logZ()"
   ]
  },
  {
   "cell_type": "markdown",
   "metadata": {},
   "source": [
    "#### Fgivenx plots"
   ]
  },
  {
   "cell_type": "code",
   "execution_count": 11,
   "metadata": {},
   "outputs": [
    {
     "data": {
      "text/plain": [
       "[<matplotlib.lines.Line2D at 0x7f1c0b27e290>]"
      ]
     },
     "execution_count": 11,
     "metadata": {},
     "output_type": "execute_result"
    },
    {
     "data": {
      "image/png": "[encoded data removed]",
      "text/plain": [
       "<Figure size 600x400 with 1 Axes>"
      ]
     },
     "metadata": {},
     "output_type": "display_data"
    }
   ],
   "source": [
    "from fgivenx import plot_lines\n",
    "\n",
    "def f(X, theta):\n",
    "    c, gamma = theta\n",
    "    return logcauchy(X, [logLmax_cauchy(logLd, Xd, c, gamma), c, gamma])\n",
    "\n",
    "fig, ax = plt.subplots(figsize=(6, 4))\n",
    "params = np.array([(c, gamma) for c, gamma in zip(theta_samples.c.values, theta_samples.gamma.values)])\n",
    "plot_lines(f, Xd, params, ax, color='r')\n",
    "ax.plot(Xd, logLd, lw=1)"
   ]
  },
  {
   "cell_type": "markdown",
   "metadata": {},
   "source": [
    "#### Nested sampling"
   ]
  },
  {
   "cell_type": "code",
   "execution_count": 20,
   "metadata": {},
   "outputs": [
    {
     "ename": "",
     "evalue": "",
     "output_type": "error",
     "traceback": [
      "\u001b[1;31mCannot execute code, session has been disposed. Please try restarting the Kernel."
     ]
    },
    {
     "ename": "",
     "evalue": "",
     "output_type": "error",
     "traceback": [
      "\u001b[1;31mThe Kernel crashed while executing code in the the current cell or a previous cell. Please review the code in the cell(s) to identify a possible cause of the failure. Click <a href='https://aka.ms/vscodeJupyterKernelCrash'>here</a> for more info. View Jupyter <a href='command:jupyter.viewOutput'>log</a> for further details."
     ]
    }
   ],
   "source": [
    "samples = call_polychord(logLd, Xd, 'chains/cauchy_20000', nlive=50)"
   ]
  },
  {
   "cell_type": "code",
   "execution_count": 16,
   "metadata": {},
   "outputs": [
    {
     "name": "stdout",
     "output_type": "stream",
     "text": [
      "0%| 10%| "
     ]
    },
    {
     "ename": "KeyboardInterrupt",
     "evalue": "",
     "output_type": "error",
     "traceback": [
      "\u001b[0;31m---------------------------------------------------------------------------\u001b[0m",
      "\u001b[0;31mKeyboardInterrupt\u001b[0m                         Traceback (most recent call last)",
      "Cell \u001b[0;32mIn[16], line 12\u001b[0m\n\u001b[1;32m     10\u001b[0m theta \u001b[39m=\u001b[39m [logLmax, c, gamma]\n\u001b[1;32m     11\u001b[0m logXfs[i] \u001b[39m=\u001b[39m cauchy_logXf(theta, logZdead, Xall[ndead])\n\u001b[0;32m---> 12\u001b[0m endpoints[i] \u001b[39m=\u001b[39m calc_endpoints(ndead, samples\u001b[39m.\u001b[39;49mlogX()\u001b[39m.\u001b[39miloc[ndead], logXfs[i], \u001b[39m1e-3\u001b[39m, nlive\u001b[39m=\u001b[39m\u001b[39m500\u001b[39m)[\u001b[39m0\u001b[39m]\n\u001b[1;32m     13\u001b[0m \u001b[39m# Print every 10% of the way\u001b[39;00m\n\u001b[1;32m     14\u001b[0m \u001b[39mif\u001b[39;00m i \u001b[39m%\u001b[39m (\u001b[39mlen\u001b[39m(theta_samples)\u001b[39m/\u001b[39m\u001b[39m/\u001b[39m\u001b[39m10\u001b[39m) \u001b[39m==\u001b[39m \u001b[39m0\u001b[39m:\n",
      "File \u001b[0;32m~/Documents/III/project/env/lib/python3.10/site-packages/anesthetic/samples.py:885\u001b[0m, in \u001b[0;36mNestedSamples.logX\u001b[0;34m(self, nsamples)\u001b[0m\n\u001b[1;32m    865\u001b[0m \u001b[39m\u001b[39m\u001b[39m\"\"\"Log-Volume.\u001b[39;00m\n\u001b[1;32m    866\u001b[0m \n\u001b[1;32m    867\u001b[0m \u001b[39mThe log of the prior volume contained within each iso-likelihood\u001b[39;00m\n\u001b[0;32m   (...)\u001b[0m\n\u001b[1;32m    882\u001b[0m \u001b[39m    WeightedDataFrame like self, columns range(nsamples)\u001b[39;00m\n\u001b[1;32m    883\u001b[0m \u001b[39m\"\"\"\u001b[39;00m\n\u001b[1;32m    884\u001b[0m \u001b[39mif\u001b[39;00m nsamples \u001b[39mis\u001b[39;00m \u001b[39mNone\u001b[39;00m:\n\u001b[0;32m--> 885\u001b[0m     t \u001b[39m=\u001b[39m np\u001b[39m.\u001b[39mlog(\u001b[39mself\u001b[39m\u001b[39m.\u001b[39mnlive\u001b[39m/\u001b[39m(\u001b[39mself\u001b[39;49m\u001b[39m.\u001b[39;49mnlive\u001b[39m+\u001b[39m\u001b[39m1\u001b[39m))\n\u001b[1;32m    886\u001b[0m \u001b[39melse\u001b[39;00m:\n\u001b[1;32m    887\u001b[0m     r \u001b[39m=\u001b[39m np\u001b[39m.\u001b[39mlog(np\u001b[39m.\u001b[39mrandom\u001b[39m.\u001b[39mrand(\u001b[39mlen\u001b[39m(\u001b[39mself\u001b[39m), nsamples))\n",
      "File \u001b[0;32m~/Documents/III/project/env/lib/python3.10/site-packages/pandas/core/generic.py:5988\u001b[0m, in \u001b[0;36mNDFrame.__getattr__\u001b[0;34m(self, name)\u001b[0m\n\u001b[1;32m   5980\u001b[0m \u001b[39m# Note: obj.x will always call obj.__getattribute__('x') prior to\u001b[39;00m\n\u001b[1;32m   5981\u001b[0m \u001b[39m# calling obj.__getattr__('x').\u001b[39;00m\n\u001b[1;32m   5982\u001b[0m \u001b[39mif\u001b[39;00m (\n\u001b[1;32m   5983\u001b[0m     name \u001b[39mnot\u001b[39;00m \u001b[39min\u001b[39;00m \u001b[39mself\u001b[39m\u001b[39m.\u001b[39m_internal_names_set\n\u001b[1;32m   5984\u001b[0m     \u001b[39mand\u001b[39;00m name \u001b[39mnot\u001b[39;00m \u001b[39min\u001b[39;00m \u001b[39mself\u001b[39m\u001b[39m.\u001b[39m_metadata\n\u001b[1;32m   5985\u001b[0m     \u001b[39mand\u001b[39;00m name \u001b[39mnot\u001b[39;00m \u001b[39min\u001b[39;00m \u001b[39mself\u001b[39m\u001b[39m.\u001b[39m_accessors\n\u001b[1;32m   5986\u001b[0m     \u001b[39mand\u001b[39;00m \u001b[39mself\u001b[39m\u001b[39m.\u001b[39m_info_axis\u001b[39m.\u001b[39m_can_hold_identifiers_and_holds_name(name)\n\u001b[1;32m   5987\u001b[0m ):\n\u001b[0;32m-> 5988\u001b[0m     \u001b[39mreturn\u001b[39;00m \u001b[39mself\u001b[39;49m[name]\n\u001b[1;32m   5989\u001b[0m \u001b[39mreturn\u001b[39;00m \u001b[39mobject\u001b[39m\u001b[39m.\u001b[39m\u001b[39m__getattribute__\u001b[39m(\u001b[39mself\u001b[39m, name)\n",
      "File \u001b[0;32m~/Documents/III/project/env/lib/python3.10/site-packages/anesthetic/labelled_pandas.py:166\u001b[0m, in \u001b[0;36m_LabelledObject.__getitem__\u001b[0;34m(self, key)\u001b[0m\n\u001b[1;32m    165\u001b[0m \u001b[39mdef\u001b[39;00m \u001b[39m__getitem__\u001b[39m(\u001b[39mself\u001b[39m, key):\n\u001b[0;32m--> 166\u001b[0m     \u001b[39mreturn\u001b[39;00m ac([(\u001b[39msuper\u001b[39m(_LabelledObject, \u001b[39mself\u001b[39m\u001b[39m.\u001b[39mdrop_labels(i))\u001b[39m.\u001b[39m\u001b[39m__getitem__\u001b[39m,\n\u001b[1;32m    167\u001b[0m                 \u001b[39mself\u001b[39m\u001b[39m.\u001b[39mget_labels_map(i)) \u001b[39mfor\u001b[39;00m i \u001b[39min\u001b[39;00m \u001b[39mself\u001b[39m\u001b[39m.\u001b[39m_all_axes()], key)\n",
      "File \u001b[0;32m~/Documents/III/project/env/lib/python3.10/site-packages/anesthetic/labelled_pandas.py:167\u001b[0m, in \u001b[0;36m<listcomp>\u001b[0;34m(.0)\u001b[0m\n\u001b[1;32m    165\u001b[0m \u001b[39mdef\u001b[39;00m \u001b[39m__getitem__\u001b[39m(\u001b[39mself\u001b[39m, key):\n\u001b[1;32m    166\u001b[0m     \u001b[39mreturn\u001b[39;00m ac([(\u001b[39msuper\u001b[39m(_LabelledObject, \u001b[39mself\u001b[39m\u001b[39m.\u001b[39mdrop_labels(i))\u001b[39m.\u001b[39m\u001b[39m__getitem__\u001b[39m,\n\u001b[0;32m--> 167\u001b[0m                 \u001b[39mself\u001b[39;49m\u001b[39m.\u001b[39;49mget_labels_map(i)) \u001b[39mfor\u001b[39;00m i \u001b[39min\u001b[39;00m \u001b[39mself\u001b[39m\u001b[39m.\u001b[39m_all_axes()], key)\n",
      "File \u001b[0;32m~/Documents/III/project/env/lib/python3.10/site-packages/anesthetic/samples.py:54\u001b[0m, in \u001b[0;36mWeightedLabelledDataFrame.get_labels_map\u001b[0;34m(self, axis, fill)\u001b[0m\n\u001b[1;32m     52\u001b[0m \u001b[39mdef\u001b[39;00m \u001b[39mget_labels_map\u001b[39m(\u001b[39mself\u001b[39m, axis\u001b[39m=\u001b[39m\u001b[39m1\u001b[39m, fill\u001b[39m=\u001b[39m\u001b[39mTrue\u001b[39;00m):\n\u001b[1;32m     53\u001b[0m \u001b[39m    \u001b[39m\u001b[39m\"\"\"Retrieve mapping from paramnames to labels from an axis.\"\"\"\u001b[39;00m\n\u001b[0;32m---> 54\u001b[0m     \u001b[39mreturn\u001b[39;00m \u001b[39msuper\u001b[39;49m()\u001b[39m.\u001b[39;49mget_labels_map(axis\u001b[39m=\u001b[39;49maxis, fill\u001b[39m=\u001b[39;49mfill)\n",
      "File \u001b[0;32m~/Documents/III/project/env/lib/python3.10/site-packages/anesthetic/labelled_pandas.py:117\u001b[0m, in \u001b[0;36m_LabelledObject.get_labels_map\u001b[0;34m(self, axis, fill)\u001b[0m\n\u001b[1;32m    115\u001b[0m index \u001b[39m=\u001b[39m \u001b[39mself\u001b[39m\u001b[39m.\u001b[39m_get_axis(axis)\n\u001b[1;32m    116\u001b[0m \u001b[39mif\u001b[39;00m labs:\n\u001b[0;32m--> 117\u001b[0m     labels_map \u001b[39m=\u001b[39m index\u001b[39m.\u001b[39;49mto_frame()\u001b[39m.\u001b[39mdroplevel(labs)[labs]\n\u001b[1;32m    118\u001b[0m     \u001b[39mif\u001b[39;00m fill:\n\u001b[1;32m    119\u001b[0m         replacement \u001b[39m=\u001b[39m labels_map\u001b[39m.\u001b[39mloc[labels_map \u001b[39m==\u001b[39m \u001b[39m'\u001b[39m\u001b[39m'\u001b[39m]\u001b[39m.\u001b[39mindex\n",
      "File \u001b[0;32m~/Documents/III/project/env/lib/python3.10/site-packages/pandas/core/indexes/multi.py:1748\u001b[0m, in \u001b[0;36mMultiIndex.to_frame\u001b[0;34m(self, index, name, allow_duplicates)\u001b[0m\n\u001b[1;32m   1742\u001b[0m     \u001b[39mraise\u001b[39;00m \u001b[39mValueError\u001b[39;00m(\n\u001b[1;32m   1743\u001b[0m         \u001b[39m\"\u001b[39m\u001b[39mCannot create duplicate column labels if allow_duplicates is False\u001b[39m\u001b[39m\"\u001b[39m\n\u001b[1;32m   1744\u001b[0m     )\n\u001b[1;32m   1746\u001b[0m \u001b[39m# Guarantee resulting column order - PY36+ dict maintains insertion order\u001b[39;00m\n\u001b[1;32m   1747\u001b[0m result \u001b[39m=\u001b[39m DataFrame(\n\u001b[0;32m-> 1748\u001b[0m     {level: \u001b[39mself\u001b[39m\u001b[39m.\u001b[39m_get_level_values(level) \u001b[39mfor\u001b[39;00m level \u001b[39min\u001b[39;00m \u001b[39mrange\u001b[39m(\u001b[39mlen\u001b[39m(\u001b[39mself\u001b[39m\u001b[39m.\u001b[39mlevels))},\n\u001b[1;32m   1749\u001b[0m     copy\u001b[39m=\u001b[39m\u001b[39mFalse\u001b[39;00m,\n\u001b[1;32m   1750\u001b[0m )\n\u001b[1;32m   1751\u001b[0m result\u001b[39m.\u001b[39mcolumns \u001b[39m=\u001b[39m idx_names\n\u001b[1;32m   1753\u001b[0m \u001b[39mif\u001b[39;00m index:\n",
      "File \u001b[0;32m~/Documents/III/project/env/lib/python3.10/site-packages/pandas/core/indexes/multi.py:1748\u001b[0m, in \u001b[0;36m<dictcomp>\u001b[0;34m(.0)\u001b[0m\n\u001b[1;32m   1742\u001b[0m     \u001b[39mraise\u001b[39;00m \u001b[39mValueError\u001b[39;00m(\n\u001b[1;32m   1743\u001b[0m         \u001b[39m\"\u001b[39m\u001b[39mCannot create duplicate column labels if allow_duplicates is False\u001b[39m\u001b[39m\"\u001b[39m\n\u001b[1;32m   1744\u001b[0m     )\n\u001b[1;32m   1746\u001b[0m \u001b[39m# Guarantee resulting column order - PY36+ dict maintains insertion order\u001b[39;00m\n\u001b[1;32m   1747\u001b[0m result \u001b[39m=\u001b[39m DataFrame(\n\u001b[0;32m-> 1748\u001b[0m     {level: \u001b[39mself\u001b[39;49m\u001b[39m.\u001b[39;49m_get_level_values(level) \u001b[39mfor\u001b[39;00m level \u001b[39min\u001b[39;00m \u001b[39mrange\u001b[39m(\u001b[39mlen\u001b[39m(\u001b[39mself\u001b[39m\u001b[39m.\u001b[39mlevels))},\n\u001b[1;32m   1749\u001b[0m     copy\u001b[39m=\u001b[39m\u001b[39mFalse\u001b[39;00m,\n\u001b[1;32m   1750\u001b[0m )\n\u001b[1;32m   1751\u001b[0m result\u001b[39m.\u001b[39mcolumns \u001b[39m=\u001b[39m idx_names\n\u001b[1;32m   1753\u001b[0m \u001b[39mif\u001b[39;00m index:\n",
      "File \u001b[0;32m~/Documents/III/project/env/lib/python3.10/site-packages/pandas/core/indexes/multi.py:1605\u001b[0m, in \u001b[0;36mMultiIndex._get_level_values\u001b[0;34m(self, level, unique)\u001b[0m\n\u001b[1;32m   1603\u001b[0m     level_codes \u001b[39m=\u001b[39m algos\u001b[39m.\u001b[39munique(level_codes)\n\u001b[1;32m   1604\u001b[0m filled \u001b[39m=\u001b[39m algos\u001b[39m.\u001b[39mtake_nd(lev\u001b[39m.\u001b[39m_values, level_codes, fill_value\u001b[39m=\u001b[39mlev\u001b[39m.\u001b[39m_na_value)\n\u001b[0;32m-> 1605\u001b[0m \u001b[39mreturn\u001b[39;00m lev\u001b[39m.\u001b[39;49m_shallow_copy(filled, name\u001b[39m=\u001b[39;49mname)\n",
      "File \u001b[0;32m~/Documents/III/project/env/lib/python3.10/site-packages/pandas/core/indexes/range.py:407\u001b[0m, in \u001b[0;36mRangeIndex._shallow_copy\u001b[0;34m(self, values, name)\u001b[0m\n\u001b[1;32m    404\u001b[0m     \u001b[39mreturn\u001b[39;00m Index(values, name\u001b[39m=\u001b[39mname, dtype\u001b[39m=\u001b[39mnp\u001b[39m.\u001b[39mfloat64)\n\u001b[1;32m    405\u001b[0m \u001b[39m# GH 46675 & 43885: If values is equally spaced, return a\u001b[39;00m\n\u001b[1;32m    406\u001b[0m \u001b[39m# more memory-compact RangeIndex instead of Index with 64-bit dtype\u001b[39;00m\n\u001b[0;32m--> 407\u001b[0m unique_diffs \u001b[39m=\u001b[39m unique_deltas(values)\n\u001b[1;32m    408\u001b[0m \u001b[39mif\u001b[39;00m \u001b[39mlen\u001b[39m(unique_diffs) \u001b[39m==\u001b[39m \u001b[39m1\u001b[39m \u001b[39mand\u001b[39;00m unique_diffs[\u001b[39m0\u001b[39m] \u001b[39m!=\u001b[39m \u001b[39m0\u001b[39m:\n\u001b[1;32m    409\u001b[0m     diff \u001b[39m=\u001b[39m unique_diffs[\u001b[39m0\u001b[39m]\n",
      "File \u001b[0;32m~/Documents/III/project/env/lib/python3.10/site-packages/pandas/_libs/algos.pyx:130\u001b[0m, in \u001b[0;36mpandas._libs.algos.unique_deltas\u001b[0;34m()\u001b[0m\n",
      "File \u001b[0;32m~/Documents/III/project/env/lib/python3.10/site-packages/pandas/_libs/algos.pyx:162\u001b[0m, in \u001b[0;36mpandas._libs.algos.unique_deltas\u001b[0;34m()\u001b[0m\n",
      "\u001b[0;31mKeyboardInterrupt\u001b[0m: "
     ]
    }
   ],
   "source": [
    "from anesthetic import read_chains\n",
    "theta_samples = read_chains(\"chains/cauchy_20000\").iloc[::10].recompute()\n",
    "\n",
    "# Calculate cauchy_logXf for each c, gamma in samples\n",
    "logXfs = np.zeros(len(theta_samples))\n",
    "endpoints = np.zeros(len(theta_samples))\n",
    "for i in range(len(theta_samples)):\n",
    "    c, gamma = theta_samples.c[i], theta_samples.gamma[i]\n",
    "    logLmax = logLmax_cauchy(logLd, Xd, c, gamma)\n",
    "    theta = [logLmax, c, gamma]\n",
    "    logXfs[i] = cauchy_logXf(theta, logZdead, Xall[ndead])\n",
    "    endpoints[i] = calc_endpoints(ndead, samples.logX().iloc[ndead], logXfs[i], 1e-3, nlive=500)[0]\n",
    "    # Print every 10% of the way\n",
    "    if i % (len(theta_samples)//10) == 0:\n",
    "        print(f\"{i/len(theta_samples)*100:.0f}%\", end='| ')"
   ]
  },
  {
   "cell_type": "code",
   "execution_count": 9,
   "metadata": {},
   "outputs": [
    {
     "name": "stdout",
     "output_type": "stream",
     "text": [
      "0%| 9%| 19%| 28%| 38%| 47%| 57%| 66%| 76%| 85%| 95%| "
     ]
    }
   ],
   "source": [
    "from anesthetic import read_chains\n",
    "theta_samples = read_chains(\"chains/cauchy_40000\").iloc[::10].recompute()\n",
    "\n",
    "# Calculate cauchy_logXf for each c, gamma in samples\n",
    "logXfs = np.zeros(len(theta_samples))\n",
    "endpoints = np.zeros(len(theta_samples))\n",
    "for i in range(len(theta_samples)):\n",
    "    c, gamma = theta_samples.c[i], theta_samples.gamma[i]\n",
    "    logLmax = logLmax_cauchy(logLd, Xd, c, gamma)\n",
    "    theta = [logLmax, c, gamma]\n",
    "    logXfs[i] = cauchy_logXf(theta, logZdead, Xall[ndead])\n",
    "    endpoints[i] = calc_endpoints(ndead, samples.logX().iloc[ndead], logXfs[i], 1e-3, nlive=500)[0]\n",
    "    # Print every 10% of the way\n",
    "    if i % (len(theta_samples)//10) == 0:\n",
    "        print(f\"{i/len(theta_samples)*100:.0f}%\", end='| ')"
   ]
  },
  {
   "cell_type": "code",
   "execution_count": 10,
   "metadata": {},
   "outputs": [
    {
     "name": "stdout",
     "output_type": "stream",
     "text": [
      "-183.89339194787144 25.44530699345777\n",
      "91985.64371912916 12722.653496728883\n"
     ]
    }
   ],
   "source": [
    "theta_samples['logXfs'] = logXfs\n",
    "theta_samples['endpoints'] = endpoints\n",
    "print(theta_samples['logXfs'].mean(), theta_samples['logXfs'].std())\n",
    "print(theta_samples['endpoints'].mean(), theta_samples['endpoints'].std())"
   ]
  },
  {
   "cell_type": "code",
   "execution_count": 14,
   "metadata": {},
   "outputs": [
    {
     "data": {
      "text/plain": [
       "endpoints    Axes(0.064...\n",
       "dtype: object"
      ]
     },
     "execution_count": 14,
     "metadata": {},
     "output_type": "execute_result"
    },
    {
     "data": {
      "image/png": "[encoded data removed]",
      "text/plain": [
       "<Figure size 400x200 with 1 Axes>"
      ]
     },
     "metadata": {},
     "output_type": "display_data"
    }
   ],
   "source": [
    "theta_samples.plot_1d('endpoints')"
   ]
  },
  {
   "cell_type": "markdown",
   "metadata": {},
   "source": [
    "#### Brute force"
   ]
  },
  {
   "cell_type": "code",
   "execution_count": 312,
   "metadata": {},
   "outputs": [
    {
     "name": "stdout",
     "output_type": "stream",
     "text": [
      "0%| 20%| 40%| 60%| 80%| "
     ]
    }
   ],
   "source": [
    "loss, cs, gammas = minimise_brute(logLd, Xd, cs=np.exp(np.linspace(-10, 5, 200)), gammas=np.exp(np.linspace(-40, -2, 200)))\n",
    "i, j = np.unravel_index(np.argmin(loss), loss.shape)\n",
    "theta = [logLmax_cauchy(logLd, Xd, cs[i], gammas[j]), cs[i], gammas[j]]"
   ]
  },
  {
   "cell_type": "code",
   "execution_count": 313,
   "metadata": {},
   "outputs": [
    {
     "data": {
      "text/plain": [
       "[85.01075783667659, 3.9824991435102035, 2.8676541310366334e-17]"
      ]
     },
     "execution_count": 313,
     "metadata": {},
     "output_type": "execute_result"
    }
   ],
   "source": [
    "theta"
   ]
  },
  {
   "cell_type": "markdown",
   "metadata": {},
   "source": [
    "#### SHGO"
   ]
  },
  {
   "cell_type": "code",
   "execution_count": 64,
   "metadata": {},
   "outputs": [],
   "source": [
    "from scipy.optimize import shgo\n",
    "def minimise_cauchy_shgo(logL, X, **kwargs):\n",
    "    def func(theta):\n",
    "        c, gamma = theta\n",
    "        logLmax = logLmax_cauchy(logL, X, c, gamma)\n",
    "        return np.sum((logL - logcauchy(X, [logLmax, c, gamma]))**2)\n",
    "    bounds = kwargs.pop('bounds', ((0, 1e3), (0, 10)))\n",
    "    return shgo(func, bounds, **kwargs)"
   ]
  },
  {
   "cell_type": "code",
   "execution_count": 69,
   "metadata": {},
   "outputs": [
    {
     "name": "stderr",
     "output_type": "stream",
     "text": [
      "/home/zixiao/Documents/III/project/env/lib/python3.10/site-packages/anesthetic/labelled_pandas.py:22: UserWarning: Boolean Series key will be reindexed to match DataFrame index.\n",
      "  results.append((f(*args), l))\n"
     ]
    }
   ],
   "source": [
    "ndead = 10000\n",
    "logLall, Xall, nk, logZdead = model.data(ndead, live=False)\n",
    "logLall, Xall = np.array(logLall), np.array(Xall)\n",
    "window = np.arange(ndead, len(logLall))\n",
    "logLd, Xd = logLall[window], Xall[window]"
   ]
  },
  {
   "cell_type": "code",
   "execution_count": 70,
   "metadata": {},
   "outputs": [
    {
     "name": "stderr",
     "output_type": "stream",
     "text": [
      "/tmp/ipykernel_946076/594790154.py:11: RuntimeWarning: divide by zero encountered in scalar divide\n",
      "  summand = logLi + (1 + c)/2 * np.log( 1 + Xi**(2/c)/gamma**2 )\n",
      "/tmp/ipykernel_946076/594790154.py:11: RuntimeWarning: invalid value encountered in divide\n",
      "  summand = logLi + (1 + c)/2 * np.log( 1 + Xi**(2/c)/gamma**2 )\n",
      "/tmp/ipykernel_946076/594790154.py:7: RuntimeWarning: divide by zero encountered in scalar divide\n",
      "  return logLmax - (1 + c)/2 * np.log( 1 + X**(2/c)/gamma**2 )\n",
      "/tmp/ipykernel_946076/594790154.py:7: RuntimeWarning: invalid value encountered in divide\n",
      "  return logLmax - (1 + c)/2 * np.log( 1 + X**(2/c)/gamma**2 )\n",
      "/tmp/ipykernel_946076/594790154.py:11: RuntimeWarning: divide by zero encountered in divide\n",
      "  summand = logLi + (1 + c)/2 * np.log( 1 + Xi**(2/c)/gamma**2 )\n",
      "/tmp/ipykernel_946076/594790154.py:7: RuntimeWarning: divide by zero encountered in divide\n",
      "  return logLmax - (1 + c)/2 * np.log( 1 + X**(2/c)/gamma**2 )\n",
      "/tmp/ipykernel_946076/594790154.py:7: RuntimeWarning: invalid value encountered in subtract\n",
      "  return logLmax - (1 + c)/2 * np.log( 1 + X**(2/c)/gamma**2 )\n"
     ]
    },
    {
     "data": {
      "text/plain": [
       "[94.17448481679789, 3.99516721393608, 5.0606866192585996e-18]"
      ]
     },
     "execution_count": 70,
     "metadata": {},
     "output_type": "execute_result"
    }
   ],
   "source": [
    "solution = minimise_cauchy_shgo(logLd, Xd, n=64, iters=3, sampling_method='sobol')\n",
    "c, gamma = solution.x\n",
    "theta = [logLmax_cauchy(logLd, Xd, c, gamma), c, gamma]\n",
    "theta"
   ]
  },
  {
   "cell_type": "code",
   "execution_count": 66,
   "metadata": {},
   "outputs": [
    {
     "data": {
      "text/plain": [
       "[<matplotlib.lines.Line2D at 0x7f0b72f932b0>]"
      ]
     },
     "execution_count": 66,
     "metadata": {},
     "output_type": "execute_result"
    },
    {
     "data": {
      "image/png": "[encoded data removed]",
      "text/plain": [
       "<Figure size 400x200 with 1 Axes>"
      ]
     },
     "metadata": {},
     "output_type": "display_data"
    }
   ],
   "source": [
    "# Plot theta\n",
    "fig, ax = plt.subplots(figsize=(4,2))\n",
    "ax.plot(Xd, logLd, 'x', ms=2)\n",
    "ax.plot(Xd, logcauchy(Xd, theta))"
   ]
  },
  {
   "cell_type": "code",
   "execution_count": 71,
   "metadata": {},
   "outputs": [
    {
     "data": {
      "text/plain": [
       "(-164.87893349258718, -95.89613579769184, (82448.45642362462, 0.5))"
      ]
     },
     "execution_count": 71,
     "metadata": {},
     "output_type": "execute_result"
    }
   ],
   "source": [
    "logXf = cauchy_logXf(theta, logZdead, np.log(Xall[ndead]))\n",
    "logXf, true_logXf, calc_endpoints(ndead, np.log(Xall[ndead]), logXf, 1e-3, nlive=500)"
   ]
  },
  {
   "cell_type": "code",
   "execution_count": 92,
   "metadata": {},
   "outputs": [
    {
     "name": "stderr",
     "output_type": "stream",
     "text": [
      "/home/zixiao/Documents/III/project/env/lib/python3.10/site-packages/anesthetic/labelled_pandas.py:22: UserWarning: Boolean Series key will be reindexed to match DataFrame index.\n",
      "  results.append((f(*args), l))\n"
     ]
    }
   ],
   "source": [
    "ndead = 40000\n",
    "logLall, Xall, nk, logZdead = model.data(ndead, live=False)\n",
    "logLall, Xall = np.array(logLall), np.array(Xall)\n",
    "window = np.arange(ndead, len(logLall))\n",
    "logLd, Xd = logLall[window], Xall[window]"
   ]
  },
  {
   "cell_type": "code",
   "execution_count": 93,
   "metadata": {},
   "outputs": [
    {
     "name": "stderr",
     "output_type": "stream",
     "text": [
      "/tmp/ipykernel_946076/594790154.py:11: RuntimeWarning: divide by zero encountered in scalar divide\n",
      "  summand = logLi + (1 + c)/2 * np.log( 1 + Xi**(2/c)/gamma**2 )\n",
      "/tmp/ipykernel_946076/594790154.py:11: RuntimeWarning: invalid value encountered in divide\n",
      "  summand = logLi + (1 + c)/2 * np.log( 1 + Xi**(2/c)/gamma**2 )\n",
      "/tmp/ipykernel_946076/594790154.py:7: RuntimeWarning: divide by zero encountered in scalar divide\n",
      "  return logLmax - (1 + c)/2 * np.log( 1 + X**(2/c)/gamma**2 )\n",
      "/tmp/ipykernel_946076/594790154.py:7: RuntimeWarning: invalid value encountered in divide\n",
      "  return logLmax - (1 + c)/2 * np.log( 1 + X**(2/c)/gamma**2 )\n",
      "/tmp/ipykernel_946076/594790154.py:11: RuntimeWarning: divide by zero encountered in divide\n",
      "  summand = logLi + (1 + c)/2 * np.log( 1 + Xi**(2/c)/gamma**2 )\n",
      "/tmp/ipykernel_946076/594790154.py:7: RuntimeWarning: divide by zero encountered in divide\n",
      "  return logLmax - (1 + c)/2 * np.log( 1 + X**(2/c)/gamma**2 )\n",
      "/tmp/ipykernel_946076/594790154.py:7: RuntimeWarning: invalid value encountered in subtract\n",
      "  return logLmax - (1 + c)/2 * np.log( 1 + X**(2/c)/gamma**2 )\n"
     ]
    },
    {
     "name": "stdout",
     "output_type": "stream",
     "text": [
      "0%| 8%| 16%| 24%| 32%| 40%| 48%| 56%| 64%| 72%| 80%| 88%| 96%| "
     ]
    }
   ],
   "source": [
    "Nset = 25\n",
    "logXfs = np.zeros(Nset)\n",
    "for i in range(Nset):\n",
    "    X = generate_Xs(nk)[window]\n",
    "    c, gamma = minimise_cauchy_shgo(logLd, X, n=64, iters=3, sampling_method='sobol').x\n",
    "    theta = [logLmax_cauchy(logLd, X, c, gamma), c, gamma]\n",
    "    logXfs[i] = cauchy_logXf(theta, logZdead, np.log(X[0]))\n",
    "    # Print every 10% of the way\n",
    "    if i % (Nset//10) == 0:\n",
    "        print(f\"{i/Nset*100:.0f}%\", end='| ')"
   ]
  },
  {
   "cell_type": "code",
   "execution_count": 94,
   "metadata": {},
   "outputs": [
    {
     "data": {
      "text/plain": [
       "(94504.31316485099, 13475.866352067795)"
      ]
     },
     "execution_count": 94,
     "metadata": {},
     "output_type": "execute_result"
    }
   ],
   "source": [
    "endpoints, endpoints_std = calc_endpoints(ndead, np.log(Xall[ndead]), logXfs.mean(), logXfs.std(), nlive=500)\n",
    "endpoints, endpoints_std"
   ]
  },
  {
   "cell_type": "markdown",
   "metadata": {},
   "source": [
    "### Predictions for GP samples"
   ]
  },
  {
   "cell_type": "code",
   "execution_count": 352,
   "metadata": {},
   "outputs": [],
   "source": [
    "name, samples = get_samples(\"toy\", \"gp\")\n",
    "model = EndModel(samples)\n",
    "true_endpoint = model.true_endpoint()\n",
    "true_logXf = samples.logX().iloc[true_endpoint]"
   ]
  },
  {
   "cell_type": "code",
   "execution_count": 384,
   "metadata": {},
   "outputs": [
    {
     "name": "stderr",
     "output_type": "stream",
     "text": [
      "/home/zixiao/Documents/III/project/env/lib/python3.10/site-packages/anesthetic/labelled_pandas.py:22: UserWarning: Boolean Series key will be reindexed to match DataFrame index.\n",
      "  results.append((f(*args), l))\n"
     ]
    }
   ],
   "source": [
    "ndead = 30000\n",
    "logLall, Xall, nk, logZdead = model.data(ndead, live=False)\n",
    "logLall, Xall = np.array(logLall), np.array(Xall)\n",
    "window = np.arange(ndead, len(logLall))\n",
    "logLd, Xd = logLall[window], Xall[window]"
   ]
  },
  {
   "cell_type": "code",
   "execution_count": 385,
   "metadata": {},
   "outputs": [
    {
     "name": "stderr",
     "output_type": "stream",
     "text": [
      "/tmp/ipykernel_910694/594790154.py:11: RuntimeWarning: divide by zero encountered in scalar divide\n",
      "  summand = logLi + (1 + c)/2 * np.log( 1 + Xi**(2/c)/gamma**2 )\n",
      "/tmp/ipykernel_910694/594790154.py:11: RuntimeWarning: invalid value encountered in divide\n",
      "  summand = logLi + (1 + c)/2 * np.log( 1 + Xi**(2/c)/gamma**2 )\n",
      "/tmp/ipykernel_910694/594790154.py:7: RuntimeWarning: divide by zero encountered in scalar divide\n",
      "  return logLmax - (1 + c)/2 * np.log( 1 + X**(2/c)/gamma**2 )\n",
      "/tmp/ipykernel_910694/594790154.py:7: RuntimeWarning: invalid value encountered in divide\n",
      "  return logLmax - (1 + c)/2 * np.log( 1 + X**(2/c)/gamma**2 )\n",
      "/tmp/ipykernel_910694/594790154.py:11: RuntimeWarning: divide by zero encountered in divide\n",
      "  summand = logLi + (1 + c)/2 * np.log( 1 + Xi**(2/c)/gamma**2 )\n",
      "/tmp/ipykernel_910694/594790154.py:7: RuntimeWarning: divide by zero encountered in divide\n",
      "  return logLmax - (1 + c)/2 * np.log( 1 + X**(2/c)/gamma**2 )\n",
      "/tmp/ipykernel_910694/594790154.py:7: RuntimeWarning: invalid value encountered in subtract\n",
      "  return logLmax - (1 + c)/2 * np.log( 1 + X**(2/c)/gamma**2 )\n"
     ]
    },
    {
     "data": {
      "text/plain": [
       "Text(0.5, 1.0, '[8.4e+03, 3.3, 1.3e-08] loss=9475.54')"
      ]
     },
     "execution_count": 385,
     "metadata": {},
     "output_type": "execute_result"
    },
    {
     "data": {
      "image/png": "[encoded data removed]",
      "text/plain": [
       "<Figure size 400x200 with 1 Axes>"
      ]
     },
     "metadata": {},
     "output_type": "display_data"
    }
   ],
   "source": [
    "sol = minimise_cauchy_shgo(logLd, Xd, n=128, iters=5, sampling_method='sobol', bounds=((0, 1e3), (0, 1e1)))\n",
    "c, gamma = sol.x\n",
    "theta = [logLmax_cauchy(logLd, Xd, c, gamma), c, gamma]\n",
    "\n",
    "# Plot theta\n",
    "fig, ax = plt.subplots(figsize=(4,2))\n",
    "ax.plot(Xd, logLd, 'x', ms=2)\n",
    "ax.plot(Xd, logcauchy(Xd, theta))\n",
    "ax.set_title(f\"{formatt(theta, 1)} loss={sol.fun:.2f}\")"
   ]
  },
  {
   "cell_type": "markdown",
   "metadata": {},
   "source": [
    "### Demonstration of lack of support"
   ]
  },
  {
   "cell_type": "code",
   "execution_count": 1,
   "metadata": {},
   "outputs": [
    {
     "ename": "NameError",
     "evalue": "name 'get_samples' is not defined",
     "output_type": "error",
     "traceback": [
      "\u001b[0;31m---------------------------------------------------------------------------\u001b[0m",
      "\u001b[0;31mNameError\u001b[0m                                 Traceback (most recent call last)",
      "Cell \u001b[0;32mIn[1], line 1\u001b[0m\n\u001b[0;32m----> 1\u001b[0m name, samples \u001b[39m=\u001b[39m get_samples(\u001b[39m\"\u001b[39m\u001b[39mlcdm\u001b[39m\u001b[39m\"\u001b[39m, \u001b[39m\"\u001b[39m\u001b[39mSH0ES\u001b[39m\u001b[39m\"\u001b[39m)\n\u001b[1;32m      2\u001b[0m model \u001b[39m=\u001b[39m EndModel(samples)\n\u001b[1;32m      3\u001b[0m true_endpoint \u001b[39m=\u001b[39m model\u001b[39m.\u001b[39mtrue_endpoint()\n",
      "\u001b[0;31mNameError\u001b[0m: name 'get_samples' is not defined"
     ]
    }
   ],
   "source": [
    "name, samples = get_samples(\"lcdm\", \"SH0ES\")\n",
    "model = EndModel(samples)\n",
    "true_endpoint = model.true_endpoint()\n",
    "true_logXf = samples.logX().iloc[true_endpoint]"
   ]
  },
  {
   "cell_type": "code",
   "execution_count": 147,
   "metadata": {},
   "outputs": [
    {
     "name": "stderr",
     "output_type": "stream",
     "text": [
      "/home/zixiao/Documents/III/project/env/lib/python3.10/site-packages/anesthetic/labelled_pandas.py:22: UserWarning: Boolean Series key will be reindexed to match DataFrame index.\n",
      "  results.append((f(*args), l))\n"
     ]
    }
   ],
   "source": [
    "ndead = 14000\n",
    "logLall, Xall, nk, logZdead = model.data(ndead, live=False)\n",
    "logLall, Xall = np.array(logLall), np.array(Xall)\n",
    "window = np.arange(ndead, len(logLall))\n",
    "logLd, Xd = logLall[window], Xall[window]"
   ]
  },
  {
   "cell_type": "code",
   "execution_count": 148,
   "metadata": {},
   "outputs": [
    {
     "data": {
      "text/plain": [
       "-7.3001867534123965"
      ]
     },
     "execution_count": 148,
     "metadata": {},
     "output_type": "execute_result"
    }
   ],
   "source": [
    "samples.logX().iloc[ndead]"
   ]
  },
  {
   "cell_type": "code",
   "execution_count": 151,
   "metadata": {},
   "outputs": [
    {
     "name": "stderr",
     "output_type": "stream",
     "text": [
      "/tmp/ipykernel_946076/594790154.py:11: RuntimeWarning: divide by zero encountered in scalar divide\n",
      "  summand = logLi + (1 + c)/2 * np.log( 1 + Xi**(2/c)/gamma**2 )\n",
      "/tmp/ipykernel_946076/594790154.py:11: RuntimeWarning: invalid value encountered in divide\n",
      "  summand = logLi + (1 + c)/2 * np.log( 1 + Xi**(2/c)/gamma**2 )\n",
      "/tmp/ipykernel_946076/594790154.py:7: RuntimeWarning: divide by zero encountered in scalar divide\n",
      "  return logLmax - (1 + c)/2 * np.log( 1 + X**(2/c)/gamma**2 )\n",
      "/tmp/ipykernel_946076/594790154.py:7: RuntimeWarning: invalid value encountered in divide\n",
      "  return logLmax - (1 + c)/2 * np.log( 1 + X**(2/c)/gamma**2 )\n",
      "/tmp/ipykernel_946076/594790154.py:11: RuntimeWarning: divide by zero encountered in divide\n",
      "  summand = logLi + (1 + c)/2 * np.log( 1 + Xi**(2/c)/gamma**2 )\n",
      "/tmp/ipykernel_946076/594790154.py:7: RuntimeWarning: divide by zero encountered in divide\n",
      "  return logLmax - (1 + c)/2 * np.log( 1 + X**(2/c)/gamma**2 )\n",
      "/tmp/ipykernel_946076/594790154.py:7: RuntimeWarning: invalid value encountered in subtract\n",
      "  return logLmax - (1 + c)/2 * np.log( 1 + X**(2/c)/gamma**2 )\n"
     ]
    },
    {
     "data": {
      "text/plain": [
       "Text(0.5, 1.0, '[-3.9e+00, 3.3, 1.4e-01] loss=0.05')"
      ]
     },
     "execution_count": 151,
     "metadata": {},
     "output_type": "execute_result"
    },
    {
     "data": {
      "image/png": "[encoded data removed]",
      "text/plain": [
       "<Figure size 400x200 with 1 Axes>"
      ]
     },
     "metadata": {},
     "output_type": "display_data"
    }
   ],
   "source": [
    "c, gamma = minimise_cauchy_shgo(logLd, Xd, n=64, iters=5, sampling_method='sobol').x\n",
    "theta = [logLmax_cauchy(logLd, Xd, c, gamma), c, gamma]\n",
    "plt.plot(Xd, logLd, 'x', ms=2)\n",
    "plt.plot(Xd, logcauchy(Xd, theta))\n",
    "plt.title(f\"{formatt(theta, 1)} loss={np.sum((logLd - logcauchy(Xd, theta))**2):.2f}\")"
   ]
  },
  {
   "cell_type": "code",
   "execution_count": 152,
   "metadata": {},
   "outputs": [
    {
     "name": "stdout",
     "output_type": "stream",
     "text": [
      "estimate: 20555.071219926074, true: 20672\n",
      "-13.855256975334562 -13.968852975746193\n"
     ]
    }
   ],
   "source": [
    "logXf = cauchy_logXf(theta, logZdead, np.log(Xall[ndead]))\n",
    "endpoint = calc_endpoints(ndead, np.log(Xall[ndead]), logXf, 1e-3, nlive=1000)[0]\n",
    "print(f\"estimate: {endpoint}, true: {true_endpoint}\")\n",
    "print(logXf, true_logXf)"
   ]
  }
 ],
 "metadata": {
  "kernelspec": {
   "display_name": "env",
   "language": "python",
   "name": "python3"
  },
  "language_info": {
   "codemirror_mode": {
    "name": "ipython",
    "version": 3
   },
   "file_extension": ".py",
   "mimetype": "text/x-python",
   "name": "python",
   "nbconvert_exporter": "python",
   "pygments_lexer": "ipython3",
   "version": "3.10.6"
  },
  "orig_nbformat": 4
 },
 "nbformat": 4,
 "nbformat_minor": 2
}
