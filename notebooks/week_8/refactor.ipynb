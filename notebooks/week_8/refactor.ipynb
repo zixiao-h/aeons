{
 "cells": [
  {
   "cell_type": "code",
   "execution_count": 1,
   "metadata": {},
   "outputs": [],
   "source": [
    "import torch\n",
    "import numpy as np\n",
    "import matplotlib.pyplot as plt\n",
    "import warnings\n",
    "warnings.filterwarnings(\"ignore\", category=FutureWarning)\n",
    "warnings.filterwarnings(\"ignore\", category=UserWarning)\n",
    "from scipy.optimize import minimize, least_squares\n",
    "from torch.autograd.functional import hessian\n",
    "\n",
    "# Load test samples\n",
    "from aeons.tools import pickle_in\n",
    "samples_g_1, samples_c_1, samples_w_1 = pickle_in(\"../test_samples/samples_1.pickle\")\n",
    "\n",
    "from aeons.covariance import logX_mu, logX_Sigmainv, points_at_iteration, X_mu, X_Sigma, X_Sigmainv, data_at_iteration\n",
    "from aeons.true_distribution import generate_Xs\n",
    "from aeons.lm_partial import analytic_lm_params\n",
    "from aeons.bayes import logPr_bayes, logPr_laplace, logPr_gaussian, minimise_ls, minimise_bayes, minimise_gaussian\n",
    "from aeons.likelihoods import likelihood, linear_like, quad_like, log_like, simple_like, middle_like, full_like\n",
    "linear, quad, log = linear_like(), quad_like(), log_like()\n",
    "simple, middle, full = simple_like(), middle_like(), full_like()\n",
    "from aeons.hessian import hess_autograd"
   ]
  },
  {
   "cell_type": "code",
   "execution_count": 2,
   "metadata": {},
   "outputs": [],
   "source": [
    "def logZ(logPmax, H, D, details=False):\n",
    "    if details:\n",
    "        print(f\"logPr_max: {logPmax}, Hessian: {- 1/2 * np.log(abs(np.linalg.det(H)))}\")\n",
    "    return logPmax - 1/2 * np.log(abs(np.linalg.det(H))) + D/2 * np.log(2*np.pi)"
   ]
  },
  {
   "cell_type": "code",
   "execution_count": 18,
   "metadata": {},
   "outputs": [],
   "source": [
    "class Model:\n",
    "    def __init__(self, y, likelihood, mean):\n",
    "        self.y = y\n",
    "        self.likelihood = likelihood\n",
    "        self.mean = mean\n",
    "        self.N = len(y)\n",
    "\n",
    "    def minimise(self, x0, full_solution=False):\n",
    "        def func(theta):\n",
    "            return - self.logPr(theta)\n",
    "        solution = minimize(func, x0)\n",
    "        if full_solution:\n",
    "            return solution\n",
    "        else:\n",
    "            return solution.x\n",
    "    \n",
    "    def logZ(self, theta_max, details=False):\n",
    "        logPr_max = self.logPr(theta_max)\n",
    "        H = self.hess(theta_max)\n",
    "        D = len(theta_max) + 1\n",
    "        return logZ(logPr_max, H, D, details)\n",
    "    \n",
    "class LS(Model):\n",
    "    def __init__(self, y, likelihood, mean):\n",
    "        super().__init__(y, likelihood, mean)\n",
    "    \n",
    "    def L_sq(self, theta):\n",
    "        loss = self.mean - self.likelihood.inverse(self.y, theta)\n",
    "        return np.sum(loss**2)\n",
    "    \n",
    "    def s(self, theta):\n",
    "        return np.sqrt(self.L_sq(theta)/self.N)\n",
    "\n",
    "    def logPr(self, theta):\n",
    "        L_sq = self.L_sq(theta)\n",
    "        s = np.sqrt(L_sq/self.N)\n",
    "        return -1/2 * self.N * np.log(2*np.pi*s**2) - L_sq/(2*s**2)\n",
    "    \n",
    "    def hess(self, theta_max):\n",
    "        s = self.s(theta_max)\n",
    "        y = torch.from_numpy(self.y)\n",
    "        mean = torch.from_numpy(self.mean)\n",
    "        theta_s_max = torch.tensor([*theta_max, s], requires_grad=True)\n",
    "        def func(theta_s):\n",
    "            if len(theta_s) == 2:\n",
    "                theta, s = theta_s\n",
    "            else:\n",
    "                *theta, s = theta_s\n",
    "            loss = mean - self.likelihood.inverse(y, theta, torch=True)\n",
    "            L_sq = torch.sum(loss**2)\n",
    "            return -1/2 * self.N * torch.log(2*torch.pi*s**2) - L_sq/(2*s**2)\n",
    "        H = hessian(func, theta_s_max)\n",
    "        return np.array(H)\n",
    "    \n",
    "class Corr(Model):\n",
    "    def __init__(self, y, likelihood, mean, covinv):\n",
    "        super().__init__(y, likelihood, mean)\n",
    "        self.covinv = covinv\n",
    "        self.logdet_inv = np.linalg.slogdet(covinv)[1]\n",
    "    \n",
    "    def logPr(self, theta):\n",
    "        Xstar = self.likelihood.inverse(self.y, theta)\n",
    "        log_abs_fprimes = np.log(abs(self.likelihood.prime(Xstar, theta)))\n",
    "        return 1/2 * self.logdet_inv - np.sum(log_abs_fprimes) - 1/2 * (Xstar - self.mean).T @ self.covinv @ (Xstar - self.mean)\n",
    "    \n",
    "    def hess(self, theta_max):\n",
    "        y = torch.from_numpy(self.y)\n",
    "        mean = torch.from_numpy(self.mean)\n",
    "        covinv = torch.from_numpy(self.covinv)\n",
    "        theta_max = torch.tensor(theta_max, requires_grad=True)\n",
    "        def func(theta):\n",
    "            Xstar = self.likelihood.inverse(y, theta, torch=True)\n",
    "            log_abs_fprimes = torch.log(abs(self.likelihood.prime(Xstar, theta, torch=True)))\n",
    "            return - torch.sum(log_abs_fprimes) - 1/2 * (Xstar - mean).T @ covinv @ (Xstar - mean)\n",
    "        H = hessian(func, theta_max)\n",
    "        return np.array(H)"
   ]
  },
  {
   "cell_type": "code",
   "execution_count": 13,
   "metadata": {},
   "outputs": [],
   "source": [
    "points = 500\n",
    "nk = 500 * np.ones(points)\n",
    "mean_X = X_mu(nk)\n",
    "covinv_X = X_Sigmainv(nk)\n",
    "X = generate_Xs(nk)\n",
    "theta_true = 10\n",
    "y = simple.func(X, theta_true)"
   ]
  },
  {
   "cell_type": "code",
   "execution_count": 14,
   "metadata": {},
   "outputs": [],
   "source": [
    "ls = LS(y, simple, mean_X)\n",
    "corr = Corr(y, simple, mean_X, covinv_X)"
   ]
  },
  {
   "cell_type": "code",
   "execution_count": 15,
   "metadata": {},
   "outputs": [
    {
     "data": {
      "text/plain": [
       "1701.199936512684"
      ]
     },
     "execution_count": 15,
     "metadata": {},
     "output_type": "execute_result"
    }
   ],
   "source": [
    "theta_l = ls.minimise(theta_true)\n",
    "ls.logZ(theta_l)"
   ]
  },
  {
   "cell_type": "code",
   "execution_count": 17,
   "metadata": {},
   "outputs": [
    {
     "data": {
      "text/plain": [
       "3730.0450916052373"
      ]
     },
     "execution_count": 17,
     "metadata": {},
     "output_type": "execute_result"
    }
   ],
   "source": [
    "theta_c = corr.minimise(theta_true)\n",
    "corr.logZ(theta_c)"
   ]
  },
  {
   "attachments": {},
   "cell_type": "markdown",
   "metadata": {},
   "source": [
    "### **Cauchy evidence**"
   ]
  },
  {
   "cell_type": "code",
   "execution_count": null,
   "metadata": {},
   "outputs": [],
   "source": [
    "def log_cauchy(X, theta=1):\n",
    "    return np.log(theta/(theta**2 + X**2))"
   ]
  }
 ],
 "metadata": {
  "kernelspec": {
   "display_name": "Python 3.10.6 ('env')",
   "language": "python",
   "name": "python3"
  },
  "language_info": {
   "codemirror_mode": {
    "name": "ipython",
    "version": 3
   },
   "file_extension": ".py",
   "mimetype": "text/x-python",
   "name": "python",
   "nbconvert_exporter": "python",
   "pygments_lexer": "ipython3",
   "version": "3.10.6"
  },
  "orig_nbformat": 4,
  "vscode": {
   "interpreter": {
    "hash": "f04b3df41c937fb946d36e0c914ccce305e67d8dbbe371762424715e8a219369"
   }
  }
 },
 "nbformat": 4,
 "nbformat_minor": 2
}
