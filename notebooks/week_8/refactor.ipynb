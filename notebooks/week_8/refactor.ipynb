{
 "cells": [
  {
   "cell_type": "code",
   "execution_count": 3,
   "metadata": {},
   "outputs": [],
   "source": [
    "import torch\n",
    "import numpy as np\n",
    "import matplotlib.pyplot as plt\n",
    "import warnings\n",
    "warnings.filterwarnings(\"ignore\", category=FutureWarning)\n",
    "warnings.filterwarnings(\"ignore\", category=UserWarning)\n",
    "\n",
    "# Load test samples\n",
    "from aeons.tools import pickle_in\n",
    "samples_g_1, samples_c_1, samples_w_1 = pickle_in(\"../test_samples/samples_1.pickle\")\n",
    "\n",
    "from aeons.covariance import logX_mu, logX_Sigmainv, points_at_iteration, X_mu, X_Sigma, X_Sigmainv, data_at_iteration\n",
    "from aeons.true_distribution import generate_Xs, nk_dead, nk_dead_live, nk_live\n",
    "from aeons.bayes import logPr_bayes, logPr_laplace, logPr_gaussian, minimise_ls, minimise_bayes, minimise_gaussian\n",
    "from aeons.likelihoods import likelihood, linear_like, quad_like, log_like, simple_like, middle_like, full_like\n",
    "linear, quad, log = linear_like(), quad_like(), log_like()\n",
    "simple, middle, full = simple_like(), middle_like(), full_like()\n",
    "from models import LS, CG"
   ]
  },
  {
   "cell_type": "code",
   "execution_count": 4,
   "metadata": {},
   "outputs": [],
   "source": [
    "nk = nk_dead(500, 500)\n",
    "mean_X = X_mu(nk)\n",
    "covinv_X = X_Sigmainv(nk)\n",
    "X = generate_Xs(nk)\n",
    "theta_true = 10\n",
    "y = simple.func(X, theta_true)"
   ]
  },
  {
   "cell_type": "code",
   "execution_count": 5,
   "metadata": {},
   "outputs": [],
   "source": [
    "ls = LS(y, simple, mean_X)\n",
    "cg = CG(y, simple, mean_X, covinv_X)"
   ]
  },
  {
   "cell_type": "code",
   "execution_count": 8,
   "metadata": {},
   "outputs": [],
   "source": [
    "theta_c = cg.minimise(theta_true)\n",
    "logPr_max_c = cg.logPr(theta_c)\n",
    "H_c = cg.hess(theta_c)\n",
    "ds = np.linspace(1, 20, 500)\n",
    "logprs_c = np.zeros_like(ds)\n",
    "logprs_cl = np.zeros_like(ds)\n",
    "for i, d in enumerate(ds):\n",
    "    logprs_c[i] = cg.logPr(d)\n",
    "    logprs_cl[i] = logPr_laplace(d, logPr_max_c, theta_c, H_c)\n",
    "plt.plot(ds, np.exp(logprs_c-logprs_c.max()))\n",
    "plt.plot(ds, np.exp(logprs_cl-logprs_cl.max()))"
   ]
  },
  {
   "cell_type": "code",
   "execution_count": 14,
   "metadata": {},
   "outputs": [
    {
     "data": {
      "text/plain": [
       "[<matplotlib.lines.Line2D at 0x7f9fe7790430>]"
      ]
     },
     "execution_count": 14,
     "metadata": {},
     "output_type": "execute_result"
    },
    {
     "data": {
      "image/png": "[encoded data removed]",
      "text/plain": [
       "<Figure size 640x480 with 1 Axes>"
      ]
     },
     "metadata": {},
     "output_type": "display_data"
    }
   ],
   "source": [
    "theta_l = ls.minimise(theta_true)\n",
    "logPr_max_l = ls.logPr(theta_l)\n",
    "H_l = ls.hess(theta_l)\n",
    "ds = np.linspace(9, 11, 500)\n",
    "logprs_l = np.zeros_like(ds)\n",
    "logprs_ll = np.zeros_like(ds)\n",
    "for i, d in enumerate(ds):\n",
    "    logprs_l[i] = ls.logPr(d)\n",
    "    logprs_ll[i] = logPr_laplace(d, logPr_max_l, theta_l, H_l[0][0])\n",
    "plt.plot(ds, np.exp(logprs_l-logprs_l.max()))\n",
    "plt.plot(ds, np.exp(logprs_ll-logprs_ll.max()))"
   ]
  },
  {
   "cell_type": "code",
   "execution_count": 1,
   "metadata": {},
   "outputs": [
    {
     "ename": "NameError",
     "evalue": "name 'nk_dead' is not defined",
     "output_type": "error",
     "traceback": [
      "\u001b[0;31m---------------------------------------------------------------------------\u001b[0m",
      "\u001b[0;31mNameError\u001b[0m                                 Traceback (most recent call last)",
      "Cell \u001b[0;32mIn[1], line 1\u001b[0m\n\u001b[0;32m----> 1\u001b[0m nk \u001b[39m=\u001b[39m nk_dead(\u001b[39m500\u001b[39m, \u001b[39m500\u001b[39m)\n\u001b[1;32m      2\u001b[0m mean_X \u001b[39m=\u001b[39m X_mu(nk)\n\u001b[1;32m      3\u001b[0m covinv_X \u001b[39m=\u001b[39m X_Sigmainv(nk)\n",
      "\u001b[0;31mNameError\u001b[0m: name 'nk_dead' is not defined"
     ]
    }
   ],
   "source": []
  },
  {
   "cell_type": "code",
   "execution_count": null,
   "metadata": {},
   "outputs": [],
   "source": []
  }
 ],
 "metadata": {
  "kernelspec": {
   "display_name": "Python 3.10.6 ('env')",
   "language": "python",
   "name": "python3"
  },
  "language_info": {
   "codemirror_mode": {
    "name": "ipython",
    "version": 3
   },
   "file_extension": ".py",
   "mimetype": "text/x-python",
   "name": "python",
   "nbconvert_exporter": "python",
   "pygments_lexer": "ipython3",
   "version": "3.10.6"
  },
  "orig_nbformat": 4,
  "vscode": {
   "interpreter": {
    "hash": "f04b3df41c937fb946d36e0c914ccce305e67d8dbbe371762424715e8a219369"
   }
  }
 },
 "nbformat": 4,
 "nbformat_minor": 2
}
