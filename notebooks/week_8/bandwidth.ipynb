{
 "cells": [
  {
   "cell_type": "code",
   "execution_count": 4,
   "metadata": {},
   "outputs": [],
   "source": [
    "import numpy as np\n",
    "import matplotlib.pyplot as plt\n",
    "\n",
    "from aeons.covariance import X_mu, X_Sigmainv\n",
    "from aeons.true_distribution import generate_Xs, nk_dead, nk_dead_live, nk_live\n",
    "from aeons.likelihoods import linear, simple, middle, full\n",
    "from models import LS, CG"
   ]
  },
  {
   "cell_type": "code",
   "execution_count": 7,
   "metadata": {},
   "outputs": [],
   "source": [
    "nk = nk_dead_live(nlive=500, ndead=500)\n",
    "mean = X_mu(nk)\n",
    "covinv = X_Sigmainv(nk)"
   ]
  },
  {
   "cell_type": "code",
   "execution_count": 133,
   "metadata": {},
   "outputs": [],
   "source": [
    "X = generate_Xs(nk)\n",
    "theta_true = 10\n",
    "like = simple\n",
    "y = like.func(X, theta_true)\n",
    "ls = LS(y, like, mean)\n",
    "ls_f = LS(y[2:7], like, mean[2:7])"
   ]
  },
  {
   "cell_type": "code",
   "execution_count": 134,
   "metadata": {},
   "outputs": [
    {
     "data": {
      "text/plain": [
       "(array([10.50427246]), array([9.51702881]))"
      ]
     },
     "execution_count": 134,
     "metadata": {},
     "output_type": "execute_result"
    }
   ],
   "source": [
    "theta_l = ls.minimise(theta_true)\n",
    "theta_lf = ls_f.minimise(theta_true)\n",
    "theta_l, theta_lf"
   ]
  },
  {
   "cell_type": "code",
   "execution_count": 136,
   "metadata": {},
   "outputs": [
    {
     "data": {
      "text/plain": [
       "(2720.000063337731, 20.099156328162156)"
      ]
     },
     "execution_count": 136,
     "metadata": {},
     "output_type": "execute_result"
    }
   ],
   "source": [
    "ls.logZ(theta_l), ls_f.logZ(theta_lf)"
   ]
  },
  {
   "cell_type": "code",
   "execution_count": 153,
   "metadata": {},
   "outputs": [],
   "source": [
    "def logPr_ls_flagged(y, likelihood, mean, theta, width):\n",
    "    N = len(y)\n",
    "    start = np.random.randint(0, N-width)\n",
    "    y_f = y[start:start+width]\n",
    "    mean_f = mean[start:start+width]\n",
    "ls.logPr(theta_l), ls_f.logPr(theta_lf)\n",
    "    loss = mean_f - likelihood.inverse(y_f, theta)\n",
    "    L_sq = np.sum(loss**2)"
   ]
  }
 ],
 "metadata": {
  "kernelspec": {
   "display_name": "Python 3.10.6 ('env')",
   "language": "python",
   "name": "python3"
  },
  "language_info": {
   "codemirror_mode": {
    "name": "ipython",
    "version": 3
   },
   "file_extension": ".py",
   "mimetype": "text/x-python",
   "name": "python",
   "nbconvert_exporter": "python",
   "pygments_lexer": "ipython3",
   "version": "3.10.6"
  },
  "orig_nbformat": 4,
  "vscode": {
   "interpreter": {
    "hash": "f04b3df41c937fb946d36e0c914ccce305e67d8dbbe371762424715e8a219369"
   }
  }
 },
 "nbformat": 4,
 "nbformat_minor": 2
}
